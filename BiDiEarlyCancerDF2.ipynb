{
  "nbformat": 4,
  "nbformat_minor": 0,
  "metadata": {
    "colab": {
      "name": "BiDiEarlyCancerDF2.ipynb",
      "provenance": [],
      "collapsed_sections": []
    },
    "kernelspec": {
      "name": "python3",
      "display_name": "Python 3"
    }
  },
  "cells": [
    {
      "cell_type": "code",
      "metadata": {
        "id": "vBc3i2f46MKb"
      },
      "source": [
        "import numpy as np\n",
        "import pandas as pd\n",
        "import matplotlib.pyplot as plt\n",
        "from itertools import cycle\n",
        "from sklearn import svm, datasets\n",
        "from sklearn.metrics import roc_curve, auc\n",
        "from sklearn.model_selection import train_test_split\n",
        "from sklearn.preprocessing import label_binarize\n",
        "from sklearn.multiclass import OneVsRestClassifier\n",
        "from scipy import interp\n",
        "from sklearn.metrics import roc_auc_score\n",
        "from sklearn.svm import SVC\n",
        "from sklearn.ensemble import BaggingClassifier\n",
        "%matplotlib inline\n",
        "import IPython.core.display         \n",
        "# setup output image format (Chrome works best)\n",
        "IPython.core.display.set_matplotlib_formats(\"svg\")\n",
        "import matplotlib.pyplot as plt\n",
        "import matplotlib\n",
        "from numpy import *\n",
        "from sklearn import *\n",
        "from scipy import stats\n",
        "import csv\n",
        "random.seed(100)\n",
        "import warnings\n",
        "warnings.filterwarnings('ignore')\n"
      ],
      "execution_count": null,
      "outputs": []
    },
    {
      "cell_type": "code",
      "metadata": {
        "id": "RA9azWAWkxsP"
      },
      "source": [
        "from numpy import loadtxt\n",
        "from numpy import sort\n",
        "from xgboost import XGBClassifier\n",
        "from sklearn.model_selection import train_test_split\n",
        "from sklearn.metrics import accuracy_score\n",
        "from sklearn.feature_selection import SelectFromModel\n",
        "from sklearn.ensemble.forest import RandomForestClassifier"
      ],
      "execution_count": null,
      "outputs": []
    },
    {
      "cell_type": "code",
      "metadata": {
        "id": "blXDGB-X7o2A"
      },
      "source": [
        "import numpy as np\n",
        "import matplotlib.pyplot as plt\n",
        "from itertools import cycle\n",
        "\n",
        "from sklearn import svm, datasets\n",
        "from sklearn.metrics import roc_curve, auc\n",
        "from sklearn.model_selection import train_test_split\n",
        "from sklearn.preprocessing import label_binarize\n",
        "from sklearn.multiclass import OneVsRestClassifier\n",
        "from scipy import interp\n",
        "from sklearn.metrics import roc_auc_score"
      ],
      "execution_count": null,
      "outputs": []
    },
    {
      "cell_type": "code",
      "metadata": {
        "id": "RCAqR--H09qs"
      },
      "source": [
        "import numpy as np\n",
        "from sklearn.multiclass import OneVsRestClassifier\n",
        "from sklearn.svm import SVC\n",
        "from sklearn import datasets, linear_model\n",
        "from sklearn.model_selection import cross_val_score\n",
        "#import scikitplot as skplt\n",
        "from sklearn.metrics import classification_report\n",
        "from sklearn.metrics import confusion_matrix\n",
        "from sklearn.model_selection import cross_val_predict"
      ],
      "execution_count": null,
      "outputs": []
    },
    {
      "cell_type": "code",
      "metadata": {
        "id": "qxm1FMrd_oUF"
      },
      "source": [
        "import numpy as np\n",
        "import matplotlib.pyplot as plt\n",
        "from sklearn import svm, datasets\n",
        "from sklearn.model_selection import train_test_split\n",
        "from sklearn.metrics import plot_confusion_matrix"
      ],
      "execution_count": null,
      "outputs": []
    },
    {
      "cell_type": "code",
      "metadata": {
        "id": "HZfGLWzwxU4g"
      },
      "source": [
        "def model_evaluation(model,x,y):\n",
        "  pre=cross_val_predict(model, x, y, cv=10)\n",
        "  acc = metrics.accuracy_score(y, pre)\n",
        "  print(\"test accuracy = \" + str(acc))\n",
        "  classReport=classification_report(y, pre)\n",
        "  print(classReport)\n",
        "  cm=confusion_matrix(y, pre)\n",
        "  print(cm)\n",
        "  #proba = cross_val_predict(model, x, y, cv=10, method='predict_proba')\n",
        "  fpr, tpr, _ = roc_curve(y,proba[:,0], pos_label='Cancer')\n",
        "  roc_auc= auc(fpr, tpr)\n",
        "  return acc,fpr,tpr,roc_auc\n",
        "\n"
      ],
      "execution_count": null,
      "outputs": []
    },
    {
      "cell_type": "code",
      "metadata": {
        "id": "P5WYUnN1e58z",
        "colab": {
          "base_uri": "https://localhost:8080/"
        },
        "outputId": "defcbfd6-ff76-4662-d0c0-09f574e3627b"
      },
      "source": [
        "pip install javabridge"
      ],
      "execution_count": null,
      "outputs": [
        {
          "output_type": "stream",
          "text": [
            "Requirement already satisfied: javabridge in /usr/local/lib/python3.7/dist-packages (1.0.19)\n",
            "Requirement already satisfied: numpy in /usr/local/lib/python3.7/dist-packages (from javabridge) (1.19.5)\n"
          ],
          "name": "stdout"
        }
      ]
    },
    {
      "cell_type": "code",
      "metadata": {
        "id": "J1ZRSGeVfOf4",
        "colab": {
          "base_uri": "https://localhost:8080/"
        },
        "outputId": "13e70b57-ae5b-4365-c91b-8bca124fa290"
      },
      "source": [
        "pip install weka"
      ],
      "execution_count": null,
      "outputs": [
        {
          "output_type": "stream",
          "text": [
            "Requirement already satisfied: weka in /usr/local/lib/python3.7/dist-packages (1.0.6)\n",
            "Requirement already satisfied: six>=1.11.0 in /usr/local/lib/python3.7/dist-packages (from weka) (1.15.0)\n",
            "Requirement already satisfied: python-dateutil>=2.6.1 in /usr/local/lib/python3.7/dist-packages (from weka) (2.8.1)\n"
          ],
          "name": "stdout"
        }
      ]
    },
    {
      "cell_type": "code",
      "metadata": {
        "id": "8avPSX_9gjtu",
        "colab": {
          "base_uri": "https://localhost:8080/"
        },
        "outputId": "9feef7e4-bd70-4e24-92ee-2c17d3aa06eb"
      },
      "source": [
        "pip install python-weka-wrapper3"
      ],
      "execution_count": null,
      "outputs": [
        {
          "output_type": "stream",
          "text": [
            "Requirement already satisfied: python-weka-wrapper3 in /usr/local/lib/python3.7/dist-packages (0.2.3)\n",
            "Requirement already satisfied: numpy in /usr/local/lib/python3.7/dist-packages (from python-weka-wrapper3) (1.19.5)\n",
            "Requirement already satisfied: javabridge>=1.0.14 in /usr/local/lib/python3.7/dist-packages (from python-weka-wrapper3) (1.0.19)\n"
          ],
          "name": "stdout"
        }
      ]
    },
    {
      "cell_type": "markdown",
      "metadata": {
        "id": "M5reUiIIebiB"
      },
      "source": [
        "Classifiers in pythonwekawrapper package:"
      ]
    },
    {
      "cell_type": "code",
      "metadata": {
        "id": "KlzeD4ZHf2Sd",
        "colab": {
          "base_uri": "https://localhost:8080/"
        },
        "outputId": "e404ac5b-d961-4824-fa72-03cd72ed525d"
      },
      "source": [
        "import os\n",
        "import sys\n",
        "sys.path\n",
        "sys.path.append(\"/usr/lib/jvm/java-11-openjdk-amd64/bin/\")\n",
        "os.environ[\"JAVA_HOME\"] = \"/usr/lib/jvm/java-11-openjdk-amd64/\"\n",
        "!apt-get install build-essential python3-dev\n",
        "!apt-get install python3-pil python3-pygraphviz\n",
        "!apt install openjdk-11-jdk\n",
        "!pip3 install javabridge --no-cache-dir\n",
        "!pip3 install python-weka-wrapper3 --no-cache-dir\n",
        "!pip3 install weka\n",
        "\n",
        "import weka.core.jvm as jvm\n",
        "#jvm.start()\n",
        "#jvm.stop()\n",
        "jvm.start(packages=True)"
      ],
      "execution_count": null,
      "outputs": [
        {
          "output_type": "stream",
          "text": [
            "Reading package lists... Done\n",
            "Building dependency tree       \n",
            "Reading state information... Done\n",
            "build-essential is already the newest version (12.4ubuntu1).\n",
            "python3-dev is already the newest version (3.6.7-1~18.04).\n",
            "0 upgraded, 0 newly installed, 0 to remove and 40 not upgraded.\n",
            "Reading package lists... Done\n",
            "Building dependency tree       \n",
            "Reading state information... Done\n",
            "python3-pil is already the newest version (5.1.0-1ubuntu0.6).\n",
            "python3-pygraphviz is already the newest version (1.4~rc1-1build2.1).\n",
            "0 upgraded, 0 newly installed, 0 to remove and 40 not upgraded.\n",
            "Reading package lists... Done\n",
            "Building dependency tree       \n",
            "Reading state information... Done\n",
            "openjdk-11-jdk is already the newest version (11.0.11+9-0ubuntu2~18.04).\n",
            "0 upgraded, 0 newly installed, 0 to remove and 40 not upgraded.\n",
            "Requirement already satisfied: javabridge in /usr/local/lib/python3.7/dist-packages (1.0.19)\n",
            "Requirement already satisfied: numpy in /usr/local/lib/python3.7/dist-packages (from javabridge) (1.19.5)\n",
            "Requirement already satisfied: python-weka-wrapper3 in /usr/local/lib/python3.7/dist-packages (0.2.3)\n",
            "Requirement already satisfied: javabridge>=1.0.14 in /usr/local/lib/python3.7/dist-packages (from python-weka-wrapper3) (1.0.19)\n",
            "Requirement already satisfied: numpy in /usr/local/lib/python3.7/dist-packages (from python-weka-wrapper3) (1.19.5)\n",
            "Requirement already satisfied: weka in /usr/local/lib/python3.7/dist-packages (1.0.6)\n",
            "Requirement already satisfied: python-dateutil>=2.6.1 in /usr/local/lib/python3.7/dist-packages (from weka) (2.8.1)\n",
            "Requirement already satisfied: six>=1.11.0 in /usr/local/lib/python3.7/dist-packages (from weka) (1.15.0)\n"
          ],
          "name": "stdout"
        },
        {
          "output_type": "stream",
          "text": [
            "DEBUG:weka.core.jvm:Adding bundled jars\n",
            "DEBUG:weka.core.jvm:Classpath=['/usr/local/lib/python3.7/dist-packages/javabridge/jars/rhino-1.7R4.jar', '/usr/local/lib/python3.7/dist-packages/javabridge/jars/runnablequeue.jar', '/usr/local/lib/python3.7/dist-packages/javabridge/jars/cpython.jar', '/usr/local/lib/python3.7/dist-packages/weka/lib/weka.jar', '/usr/local/lib/python3.7/dist-packages/weka/lib/python-weka-wrapper.jar']\n",
            "DEBUG:weka.core.jvm:MaxHeapSize=default\n",
            "DEBUG:weka.core.jvm:Package support enabled\n"
          ],
          "name": "stderr"
        }
      ]
    },
    {
      "cell_type": "code",
      "metadata": {
        "id": "hurrc0DrzTwr",
        "colab": {
          "base_uri": "https://localhost:8080/"
        },
        "outputId": "0065160d-0ccc-48b4-9360-2fda9a7d07b0"
      },
      "source": [
        "import sys\n",
        "import weka.core.jvm as jvm\n",
        "import weka.core.packages as packages\n",
        "from weka.core.classes import complete_classname\n",
        "jvm.start(packages=True)\n",
        "pkg = \"DTNB\"\n",
        "\n",
        "# install package if necessary\n",
        "if not packages.is_installed(pkg):\n",
        "    print(\"Installing %s...\" % pkg)\n",
        "    packages.install_package(pkg)\n",
        "    print(\"Installed %s, please re-run script!\" % pkg)\n",
        "    jvm.stop()\n",
        "    sys.exit(0)\n",
        "\n",
        "# testing classname completion\n",
        "print(complete_classname(\".J48\"))\n",
        "print(complete_classname(\".DTNB\"))"
      ],
      "execution_count": null,
      "outputs": [
        {
          "output_type": "stream",
          "text": [
            "INFO:weka.core.jvm:JVM already running, call jvm.stop() first\n"
          ],
          "name": "stderr"
        },
        {
          "output_type": "stream",
          "text": [
            "weka.classifiers.trees.J48\n",
            "weka.classifiers.rules.DTNB\n"
          ],
          "name": "stdout"
        }
      ]
    },
    {
      "cell_type": "code",
      "metadata": {
        "id": "G84-hwqVdtiC",
        "colab": {
          "base_uri": "https://localhost:8080/",
          "height": 483
        },
        "outputId": "d5bbbff5-cda1-4cb7-dd27-7ae70a5032c1"
      },
      "source": [
        "# This program is free software: you can redistribute it and/or modify\n",
        "# it under the terms of the GNU General Public License as published by\n",
        "# the Free Software Foundation, either version 3 of the License, or\n",
        "# (at your option) any later version.\n",
        "#\n",
        "# This program is distributed in the hope that it will be useful,\n",
        "# but WITHOUT ANY WARRANTY; without even the implied warranty of\n",
        "# MERCHANTABILITY or FITNESS FOR A PARTICULAR PURPOSE.  See the\n",
        "# GNU General Public License for more details.\n",
        "#\n",
        "# You should have received a copy of the GNU General Public License\n",
        "# along with this program.  If not, see <http://www.gnu.org/licenses/>.\n",
        "\n",
        "# classifiers.py\n",
        "# Copyright (C) 2014-2019 Fracpete (pythonwekawrapper at gmail dot com)\n",
        "\n",
        "import javabridge\n",
        "import logging\n",
        "import weka.plot as plot\n",
        "if plot.matplotlib_available:\n",
        "      import matplotlib.pyplot as plt\n",
        "from weka.core.classes import JavaObject, join_options\n",
        "from weka.core.dataset import Instances\n",
        "from weka.classifiers import Classifier, Evaluation, NumericPrediction, NominalPrediction\n",
        "\n",
        "# logging setup\n",
        "logger = logging.getLogger(__name__)\n",
        "\n",
        "\n",
        "def plot_classifier_errors(predictions, absolute=True, max_relative_size=50, absolute_size=50, title=None,\n",
        "                           outfile=None, wait=True, key_loc=\"lower center\"):\n",
        "    \"\"\"\n",
        "    Plots the classifers for the given list of predictions.\n",
        "    TODO: click events http://matplotlib.org/examples/event_handling/data_browser.html\n",
        "    :param predictions: the predictions to plot, use a dict to plot predictions of multiple classifiers\n",
        "                        (keys are used as prefixes for plots)\n",
        "    :type predictions: list or dict\n",
        "    :param absolute: whether to use absolute errors as size or relative ones\n",
        "    :type absolute: bool\n",
        "    :param max_relative_size: the maximum size in point in case of relative mode\n",
        "    :type max_relative_size: int\n",
        "    :param absolute_size: the size in point in case of absolute mode\n",
        "    :type absolute_size: int\n",
        "    :param title: an optional title\n",
        "    :type title: str\n",
        "    :param outfile: the output file, ignored if None\n",
        "    :type outfile: str\n",
        "    :param wait: whether to wait for the user to close the plot\n",
        "    :type wait: bool\n",
        "    :param key_loc: the location string for the key\n",
        "    :type key_loc: str\n",
        "    \"\"\"\n",
        "    if not plot.matplotlib_available:\n",
        "        logger.error(\"Matplotlib is not installed, plotting unavailable!\")\n",
        "        return\n",
        "\n",
        "    if isinstance(predictions, list):\n",
        "        multiple = {\"\": predictions}\n",
        "    else:\n",
        "        multiple = predictions\n",
        "\n",
        "    actual = []\n",
        "    predicted = []\n",
        "    error = None\n",
        "    cls = None\n",
        "    ax = None\n",
        "    for prefix in multiple:\n",
        "        predictions = multiple[prefix]\n",
        "        if prefix == \"\":\n",
        "            prefix = None\n",
        "        for pred in predictions:\n",
        "            actual.append(pred.actual)\n",
        "            predicted.append(pred.predicted)\n",
        "            if isinstance(pred, NumericPrediction):\n",
        "                if error is None:\n",
        "                    error = []\n",
        "                error.append(abs(pred.error))\n",
        "            elif isinstance(pred, NominalPrediction):\n",
        "                if cls is None:\n",
        "                    cls = []\n",
        "                if pred.actual != pred.predicted:\n",
        "                    cls.append(1)\n",
        "                else:\n",
        "                    cls.append(0)\n",
        "        if ax is None:\n",
        "            fig, ax = plt.subplots()\n",
        "            ax.set_xlabel(\"actual\")\n",
        "            ax.set_ylabel(\"predicted\")\n",
        "            if title is None:\n",
        "                title = \"Classifier errors\"\n",
        "            ax.set_title(title)\n",
        "            ax.plot(ax.get_xlim(), ax.get_ylim(), ls=\"--\", c=\"0.3\")\n",
        "            ax.grid(True)\n",
        "            fig.canvas.set_window_title(title)\n",
        "        if error is None and cls is None:\n",
        "            ax.scatter(actual, predicted, s=absolute_size, alpha=0.5, label=prefix)\n",
        "        elif cls is not None:\n",
        "            ax.scatter(actual, predicted, c=cls, s=absolute_size, alpha=0.5, label=prefix)\n",
        "        elif error is not None:\n",
        "            if not absolute:\n",
        "                min_err = min(error)\n",
        "                max_err = max(error)\n",
        "                factor = (max_err - min_err) / max_relative_size\n",
        "                for i in range(len(error)):\n",
        "                    error[i] = error[i] / factor * max_relative_size\n",
        "            ax.scatter(actual, predicted, s=error, alpha=0.5, label=prefix)\n",
        "    plt.draw()\n",
        "    if len(multiple) > 1:\n",
        "        plt.legend(loc=key_loc, shadow=True)\n",
        "    if outfile is not None:\n",
        "        plt.savefig(outfile)\n",
        "    if wait:\n",
        "        plt.show()\n",
        "\n",
        "\n",
        "def generate_thresholdcurve_data(evaluation, class_index):\n",
        "    \"\"\"\n",
        "    Generates the threshold curve data from the evaluation object's predictions.\n",
        "    :param evaluation: the evaluation to obtain the predictions from\n",
        "    :type evaluation: Evaluation\n",
        "    :param class_index: the 0-based index of the class-label to create the plot for\n",
        "    :type class_index: int\n",
        "    :return: the generated threshold curve data\n",
        "    :rtype: Instances\n",
        "    \"\"\"\n",
        "    jtc = JavaObject.new_instance(\"weka.classifiers.evaluation.ThresholdCurve\")\n",
        "    pred = javabridge.call(evaluation.jobject, \"predictions\", \"()Ljava/util/ArrayList;\")\n",
        "    result = Instances(\n",
        "        javabridge.call(jtc, \"getCurve\", \"(Ljava/util/ArrayList;I)Lweka/core/Instances;\", pred, class_index))\n",
        "    return result\n",
        "\n",
        "\n",
        "def get_thresholdcurve_data(data, xname, yname):\n",
        "    \"\"\"\n",
        "    Retrieves x and y columns from  of the data generated by the weka.classifiers.evaluation.ThresholdCurve\n",
        "    class.\n",
        "    :param data: the threshold curve data\n",
        "    :type data: Instances\n",
        "    :param xname: the name of the X column\n",
        "    :type xname: str\n",
        "    :param yname: the name of the Y column\n",
        "    :type yname: str\n",
        "    :return: tuple of x and y arrays\n",
        "    :rtype: tuple\n",
        "    \"\"\"\n",
        "    xi = data.attribute_by_name(xname).index\n",
        "    yi = data.attribute_by_name(yname).index\n",
        "    x = []\n",
        "    y = []\n",
        "    for i in xrange(data.num_instances):\n",
        "        inst = data.get_instance(i)\n",
        "        x.append(inst.get_value(xi))\n",
        "        y.append(inst.get_value(yi))\n",
        "    return x, y\n",
        "\n",
        "\n",
        "def get_auc(data):\n",
        "    \"\"\"\n",
        "    Calculates the area under the ROC curve (AUC).\n",
        "    :param data: the threshold curve data\n",
        "    :type data: Instances\n",
        "    :return: the area\n",
        "    :rtype: float\n",
        "    \"\"\"\n",
        "    return javabridge.static_call(\n",
        "        \"weka/classifiers/evaluation/ThresholdCurve\", \"getROCArea\", \"(Lweka/core/Instances;)D\", data.jobject)\n",
        "\n",
        "\n",
        "def get_prc(data):\n",
        "    \"\"\"\n",
        "    Calculates the area under the precision recall curve (PRC).\n",
        "    :param data: the threshold curve data\n",
        "    :type data: Instances\n",
        "    :return: the area\n",
        "    :rtype: float\n",
        "    \"\"\"\n",
        "    return javabridge.static_call(\n",
        "        \"weka/classifiers/evaluation/ThresholdCurve\", \"getPRCArea\", \"(Lweka/core/Instances;)D\", data.jobject)\n",
        "\n",
        "\n",
        "def plot_roc(evaluation, class_index=None, title=None, key_loc=\"lower right\", outfile=None, wait=True):\n",
        "    \"\"\"\n",
        "    Plots the ROC (receiver operator characteristics) curve for the given predictions.\n",
        "    TODO: click events http://matplotlib.org/examples/event_handling/data_browser.html\n",
        "    :param evaluation: the evaluation to obtain the predictions from\n",
        "    :type evaluation: Evaluation\n",
        "    :param class_index: the list of 0-based indices of the class-labels to create the plot for\n",
        "    :type class_index: list\n",
        "    :param title: an optional title\n",
        "    :type title: str\n",
        "    :param key_loc: the position string for the key\n",
        "    :type key_loc: str\n",
        "    :param outfile: the output file, ignored if None\n",
        "    :type outfile: str\n",
        "    :param wait: whether to wait for the user to close the plot\n",
        "    :type wait: bool\n",
        "    \"\"\"\n",
        "    if not plot.matplotlib_available:\n",
        "        logger.error(\"Matplotlib is not installed, plotting unavailable!\")\n",
        "        return\n",
        "    if class_index is None:\n",
        "        class_index = [0]\n",
        "    ax = None\n",
        "    for cindex in class_index:\n",
        "        data = generate_thresholdcurve_data(evaluation, cindex)\n",
        "        head = evaluation.header\n",
        "        area = get_auc(data)\n",
        "        x, y = get_thresholdcurve_data(data, \"False Positive Rate\", \"True Positive Rate\")\n",
        "        if ax is None:\n",
        "            fig, ax = plt.subplots()\n",
        "            ax.set_xlabel(\"False Positive Rate\")\n",
        "            ax.set_ylabel(\"True Positive Rate\")\n",
        "            if title is None:\n",
        "                title = \"ROC\"\n",
        "            ax.set_title(title)\n",
        "            ax.grid(True)\n",
        "            fig.canvas.set_window_title(title)\n",
        "            plt.xlim([-0.05, 1.05])\n",
        "            plt.ylim([-0.05, 1.05])\n",
        "        plot_label = head.class_attribute.value(cindex) + \" (AUC: %0.4f)\" % area\n",
        "        ax.plot(x, y, label=plot_label)\n",
        "        ax.plot(ax.get_xlim(), ax.get_ylim(), ls=\"--\", c=\"0.3\")\n",
        "    plt.draw()\n",
        "    plt.legend(loc=key_loc, shadow=True)\n",
        "    if outfile is not None:\n",
        "        plt.savefig(outfile)\n",
        "    if wait:\n",
        "        plt.show()\n",
        "\n",
        "\n",
        "def plot_rocs(evaluations, class_index=0, title=None, key_loc=\"lower right\", outfile=None, wait=True):\n",
        "    \"\"\"\n",
        "    Plots the ROC (receiver operator characteristics) curve for the predictions of multiple classifiers\n",
        "    on the same dataset.\n",
        "    TODO: click events http://matplotlib.org/examples/event_handling/data_browser.html\n",
        "    :param evaluations: the dictionary of Evaluation objects to obtain the predictions from, the key is used\n",
        "                        in the plot key as prefix\n",
        "    :type evaluations: dict\n",
        "    :param class_index: the 0-based index of the class-label to create the plot for\n",
        "    :type class_index: int\n",
        "    :param title: an optional title\n",
        "    :type title: str\n",
        "    :param key_loc: the position string for the key\n",
        "    :type key_loc: str\n",
        "    :param outfile: the output file, ignored if None\n",
        "    :type outfile: str\n",
        "    :param wait: whether to wait for the user to close the plot\n",
        "    :type wait: bool\n",
        "    \"\"\"\n",
        "    if not plot.matplotlib_available:\n",
        "        logger.error(\"Matplotlib is not installed, plotting unavailable!\")\n",
        "        return\n",
        "\n",
        "    if len(evaluations) < 1:\n",
        "        raise Exception(\"At least one Evaluation object required!\")\n",
        "\n",
        "    # check if datasets compatible\n",
        "    if len(evaluations) > 1:\n",
        "        evaluation = None\n",
        "        eval_key = None\n",
        "        for key in evaluations:\n",
        "            if evaluation is None:\n",
        "                eval_key = key\n",
        "                evaluation = evaluations[key]\n",
        "            else:\n",
        "                msg = evaluation.header.equal_headers(evaluations[key].header)\n",
        "                if msg is not None:\n",
        "                    raise Exception(\"Evaluation '%s' and '%s' are not compatible: %s\" % (eval_key, key, msg))\n",
        "\n",
        "    ax = None\n",
        "    for prefix in evaluations:\n",
        "        evaluation = evaluations[prefix]\n",
        "        data = generate_thresholdcurve_data(evaluation, class_index)\n",
        "        head = evaluation.header\n",
        "        area = get_auc(data)\n",
        "        x, y = get_thresholdcurve_data(data, \"False Positive Rate\", \"True Positive Rate\")\n",
        "        if ax is None:\n",
        "            fig, ax = plt.subplots()\n",
        "            ax.set_xlabel(\"False Positive Rate\")\n",
        "            ax.set_ylabel(\"True Positive Rate\")\n",
        "            if title is None:\n",
        "                title = \"ROC\"\n",
        "            ax.set_title(title)\n",
        "            ax.grid(True)\n",
        "            fig.canvas.set_window_title(title)\n",
        "            plt.xlim([-0.05, 1.05])\n",
        "            plt.ylim([-0.05, 1.05])\n",
        "        plot_label = prefix + \" \" + head.class_attribute.value(class_index) + \" (AUC: %0.4f)\" % area\n",
        "        ax.plot(x, y, label=plot_label)\n",
        "        ax.plot(ax.get_xlim(), ax.get_ylim(), ls=\"--\", c=\"0.3\")\n",
        "    plt.draw()\n",
        "    plt.legend(loc=key_loc, shadow=True)\n",
        "    if outfile is not None:\n",
        "        plt.savefig(outfile)\n",
        "    if wait:\n",
        "        plt.show()\n",
        "\n",
        "\n",
        "def plot_prc(evaluation, class_index=None, title=None, key_loc=\"lower center\", outfile=None, wait=True):\n",
        "    \"\"\"\n",
        "    Plots the PRC (precision recall) curve for the given predictions.\n",
        "    TODO: click events http://matplotlib.org/examples/event_handling/data_browser.html\n",
        "    :param evaluation: the evaluation to obtain the predictions from\n",
        "    :type evaluation: Evaluation\n",
        "    :param class_index: the list of 0-based indices of the class-labels to create the plot for\n",
        "    :type class_index: list\n",
        "    :param title: an optional title\n",
        "    :type title: str\n",
        "    :param key_loc: the location string for the key\n",
        "    :type key_loc: str\n",
        "    :param outfile: the output file, ignored if None\n",
        "    :type outfile: str\n",
        "    :param wait: whether to wait for the user to close the plot\n",
        "    :type wait: bool\n",
        "    \"\"\"\n",
        "    if not plot.matplotlib_available:\n",
        "        logger.error(\"Matplotlib is not installed, plotting unavailable!\")\n",
        "        return\n",
        "    if class_index is None:\n",
        "        class_index = [0]\n",
        "    ax = None\n",
        "    for cindex in class_index:\n",
        "        data = generate_thresholdcurve_data(evaluation, cindex)\n",
        "        head = evaluation.header\n",
        "        area = get_prc(data)\n",
        "        x, y = get_thresholdcurve_data(data, \"Recall\", \"Precision\")\n",
        "        if ax is None:\n",
        "            fig, ax = plt.subplots()\n",
        "            ax.set_xlabel(\"Recall\")\n",
        "            ax.set_ylabel(\"Precision\")\n",
        "            if title is None:\n",
        "                title = \"PRC\"\n",
        "            ax.set_title(title)\n",
        "            fig.canvas.set_window_title(title)\n",
        "            plt.xlim([-0.05, 1.05])\n",
        "            plt.ylim([-0.05, 1.05])\n",
        "            ax.grid(True)\n",
        "        plot_label = head.class_attribute.value(cindex) + \" (PRC: %0.4f)\" % area\n",
        "        ax.plot(x, y, label=plot_label)\n",
        "        ax.plot(ax.get_xlim(), ax.get_ylim(), ls=\"--\", c=\"0.3\")\n",
        "    plt.draw()\n",
        "    plt.legend(loc=key_loc, shadow=True)\n",
        "    if outfile is not None:\n",
        "        plt.savefig(outfile)\n",
        "    if wait:\n",
        "        plt.show()\n",
        "\n",
        "\n",
        "def plot_prcs(evaluations, class_index=0, title=None, key_loc=\"lower center\", outfile=None, wait=True):\n",
        "    \"\"\"\n",
        "    Plots the PRC (precision recall) curve for the predictions of multiple classifiers\n",
        "    on the same dataset.\n",
        "    TODO: click events http://matplotlib.org/examples/event_handling/data_browser.html\n",
        "    :param evaluations: the dictionary of Evaluation objects to obtain the predictions from, the key is used\n",
        "                        in the plot key as prefix\n",
        "    :type evaluations: dict\n",
        "    :param class_index: the 0-based index of the class-label to create the plot for\n",
        "    :type class_index: int\n",
        "    :param title: an optional title\n",
        "    :type title: str\n",
        "    :param key_loc: the location string for the key\n",
        "    :type key_loc: str\n",
        "    :param outfile: the output file, ignored if None\n",
        "    :type outfile: str\n",
        "    :param wait: whether to wait for the user to close the plot\n",
        "    :type wait: bool\n",
        "    \"\"\"\n",
        "    if not plot.matplotlib_available:\n",
        "        logger.error(\"Matplotlib is not installed, plotting unavailable!\")\n",
        "        return\n",
        "\n",
        "    if len(evaluations) < 1:\n",
        "        raise Exception(\"At least one Evaluation object required!\")\n",
        "\n",
        "    # check if datasets compatible\n",
        "    if len(evaluations) > 1:\n",
        "        evaluation = None\n",
        "        eval_key = None\n",
        "        for key in evaluations:\n",
        "            if evaluation is None:\n",
        "                eval_key = key\n",
        "                evaluation = evaluations[key]\n",
        "            else:\n",
        "                msg = evaluation.header.equal_headers(evaluations[key].header)\n",
        "                if msg is not None:\n",
        "                    raise Exception(\"Evaluation '%s' and '%s' are not compatible: %s\" % (eval_key, key, msg))\n",
        "\n",
        "    ax = None\n",
        "    for prefix in evaluations:\n",
        "        evaluation = evaluations[prefix]\n",
        "        data = generate_thresholdcurve_data(evaluation, class_index)\n",
        "        head = evaluation.header\n",
        "        area = get_prc(data)\n",
        "        x, y = get_thresholdcurve_data(data, \"Recall\", \"Precision\")\n",
        "        if ax is None:\n",
        "            fig, ax = plt.subplots()\n",
        "            ax.set_xlabel(\"Recall\")\n",
        "            ax.set_ylabel(\"Precision\")\n",
        "            if title is None:\n",
        "                title = \"PRC\"\n",
        "            ax.set_title(title)\n",
        "            fig.canvas.set_window_title(title)\n",
        "            plt.xlim([-0.05, 1.05])\n",
        "            plt.ylim([-0.05, 1.05])\n",
        "            ax.grid(True)\n",
        "        plot_label = prefix + \" \" + head.class_attribute.value(class_index) + \" (PRC: %0.4f)\" % area\n",
        "        ax.plot(x, y, label=plot_label)\n",
        "        ax.plot(ax.get_xlim(), ax.get_ylim(), ls=\"--\", c=\"0.3\")\n",
        "    plt.draw()\n",
        "    plt.legend(loc=key_loc, shadow=True)\n",
        "    if outfile is not None:\n",
        "        plt.savefig(outfile)\n",
        "    if wait:\n",
        "        plt.show()\n",
        "\n",
        "\n",
        "def plot_learning_curve(classifiers, train, test=None, increments=100, metric=\"percent_correct\",\n",
        "                        title=\"Learning curve\", label_template=\"[#] @ $\", key_loc=\"lower right\",\n",
        "                        outfile=None, wait=True):\n",
        "    \"\"\"\n",
        "    Plots a learning curve.\n",
        "    :param classifiers: list of Classifier template objects\n",
        "    :type classifiers: list of Classifier\n",
        "    :param train: dataset to use for the building the classifier, used for evaluating it test set None\n",
        "    :type train: Instances\n",
        "    :param test: optional dataset (or list of datasets) to use for the testing the built classifiers\n",
        "    :type test: list or Instances\n",
        "    :param increments: the increments (>= 1: # of instances, <1: percentage of dataset)\n",
        "    :type increments: float\n",
        "    :param metric: the name of the numeric metric to plot (Evaluation.<metric>)\n",
        "    :type metric: str\n",
        "    :param title: the title for the plot\n",
        "    :type title: str\n",
        "    :param label_template: the template for the label in the plot\n",
        "                           (#: 1-based index of classifier, @: full classname, !: simple classname,\n",
        "                           $: options, *: 1-based index of test set)\n",
        "    :type label_template: str\n",
        "    :param key_loc: the location string for the key\n",
        "    :type key_loc: str\n",
        "    :param outfile: the output file, ignored if None\n",
        "    :type outfile: str\n",
        "    :param wait: whether to wait for the user to close the plot\n",
        "    :type wait: bool\n",
        "    \"\"\"\n",
        "\n",
        "    if not plot.matplotlib_available:\n",
        "        logger.error(\"Matplotlib is not installed, plotting unavailable!\")\n",
        "        return\n",
        "    if not train.has_class():\n",
        "        logger.error(\"Training set has no class attribute set!\")\n",
        "        return\n",
        "\n",
        "    if increments >= 1:\n",
        "        inc = increments\n",
        "    else:\n",
        "        inc = round(train.num_instances * increments)\n",
        "\n",
        "    if test is None:\n",
        "        tst = [train]\n",
        "    elif isinstance(test, list):\n",
        "        tst = test\n",
        "    elif isinstance(test, Instances):\n",
        "        tst = [test]\n",
        "    else:\n",
        "        logger.error(\"Expected list or Instances object, instead: \" + type(test))\n",
        "        return\n",
        "    for t in tst:\n",
        "        if train.equal_headers(t) is not None:\n",
        "            logger.error(\"Training and test set are not compatible: \" + train.equal_headers(t))\n",
        "            return\n",
        "\n",
        "    steps = []\n",
        "    cls = []\n",
        "    evls = {}\n",
        "    for classifier in classifiers:\n",
        "        cl = Classifier.make_copy(classifier)\n",
        "        cls.append(cl)\n",
        "        evls[cl] = {}\n",
        "        for t in tst:\n",
        "            evls[cl][t] = []\n",
        "\n",
        "    for i in xrange(train.num_instances):\n",
        "        if (i > 0) and (i % inc == 0):\n",
        "            steps.append(i+1)\n",
        "        for cl in cls:\n",
        "            # train\n",
        "            if cl.is_updateable:\n",
        "                if i == 0:\n",
        "                    tr = Instances.copy_instances(train, 0, 1)\n",
        "                    cl.build_classifier(tr)\n",
        "                else:\n",
        "                    cl.update_classifier(train.get_instance(i))\n",
        "            else:\n",
        "                if (i > 0) and (i % inc == 0):\n",
        "                    tr = Instances.copy_instances(train, 0, i + 1)\n",
        "                    cl.build_classifier(tr)\n",
        "            # evaluate\n",
        "            if (i > 0) and (i % inc == 0):\n",
        "                for t in tst:\n",
        "                    evl = Evaluation(t)\n",
        "                    evl.test_model(cl, t)\n",
        "                    evls[cl][t].append(getattr(evl, metric))\n",
        "\n",
        "    fig, ax = plt.subplots()\n",
        "    ax.set_xlabel(\"# of instances\")\n",
        "    ax.set_ylabel(metric)\n",
        "    ax.set_title(title)\n",
        "    fig.canvas.set_window_title(title)\n",
        "    ax.grid(True)\n",
        "    i = 0\n",
        "    for cl in cls:\n",
        "        evlpertest = evls[cl]\n",
        "        i += 1\n",
        "        n = 0\n",
        "        for t in tst:\n",
        "            evl = evlpertest[t]\n",
        "            n += 1\n",
        "            plot_label = label_template.\\\n",
        "                replace(\"#\", str(i)).\\\n",
        "                replace(\"*\", str(n)).\\\n",
        "                replace(\"@\", cl.classname).\\\n",
        "                replace(\"!\", cl.classname[cl.classname.rfind(\".\") + 1:]).\\\n",
        "                replace(\"$\", join_options(cl.config))\n",
        "            ax.plot(steps, evl, label=plot_label)\n",
        "    plt.draw()\n",
        "    plt.legend(loc=key_loc, shadow=True)\n",
        "    if outfile is not None:\n",
        "        plt.savefig(outfile)\n",
        "    if wait:\n",
        "        plt.show()"
      ],
      "execution_count": null,
      "outputs": [
        {
          "output_type": "error",
          "ename": "AssertionError",
          "evalue": "ignored",
          "traceback": [
            "\u001b[0;31m---------------------------------------------------------------------------\u001b[0m",
            "\u001b[0;31mAssertionError\u001b[0m                            Traceback (most recent call last)",
            "\u001b[0;32m<ipython-input-13-051323e7178b>\u001b[0m in \u001b[0;36m<module>\u001b[0;34m()\u001b[0m\n\u001b[1;32m     22\u001b[0m \u001b[0;32mfrom\u001b[0m \u001b[0mweka\u001b[0m\u001b[0;34m.\u001b[0m\u001b[0mcore\u001b[0m\u001b[0;34m.\u001b[0m\u001b[0mclasses\u001b[0m \u001b[0;32mimport\u001b[0m \u001b[0mJavaObject\u001b[0m\u001b[0;34m,\u001b[0m \u001b[0mjoin_options\u001b[0m\u001b[0;34m\u001b[0m\u001b[0;34m\u001b[0m\u001b[0m\n\u001b[1;32m     23\u001b[0m \u001b[0;32mfrom\u001b[0m \u001b[0mweka\u001b[0m\u001b[0;34m.\u001b[0m\u001b[0mcore\u001b[0m\u001b[0;34m.\u001b[0m\u001b[0mdataset\u001b[0m \u001b[0;32mimport\u001b[0m \u001b[0mInstances\u001b[0m\u001b[0;34m\u001b[0m\u001b[0;34m\u001b[0m\u001b[0m\n\u001b[0;32m---> 24\u001b[0;31m \u001b[0;32mfrom\u001b[0m \u001b[0mweka\u001b[0m\u001b[0;34m.\u001b[0m\u001b[0mclassifiers\u001b[0m \u001b[0;32mimport\u001b[0m \u001b[0mClassifier\u001b[0m\u001b[0;34m,\u001b[0m \u001b[0mEvaluation\u001b[0m\u001b[0;34m,\u001b[0m \u001b[0mNumericPrediction\u001b[0m\u001b[0;34m,\u001b[0m \u001b[0mNominalPrediction\u001b[0m\u001b[0;34m\u001b[0m\u001b[0;34m\u001b[0m\u001b[0m\n\u001b[0m\u001b[1;32m     25\u001b[0m \u001b[0;34m\u001b[0m\u001b[0m\n\u001b[1;32m     26\u001b[0m \u001b[0;31m# logging setup\u001b[0m\u001b[0;34m\u001b[0m\u001b[0;34m\u001b[0m\u001b[0;34m\u001b[0m\u001b[0m\n",
            "\u001b[0;32m/usr/local/lib/python3.7/dist-packages/weka/classifiers.py\u001b[0m in \u001b[0;36m<module>\u001b[0;34m()\u001b[0m\n\u001b[1;32m     41\u001b[0m     assert os.path.isfile(_cp), (\"Weka JAR file %s not found. Ensure the \" + \\\n\u001b[1;32m     42\u001b[0m         \u001b[0;34m\"file is installed or update your environment's WEKA_JAR_PATH to \"\u001b[0m \u001b[0;34m+\u001b[0m\u001b[0;31m \u001b[0m\u001b[0;31m\\\u001b[0m\u001b[0;34m\u001b[0m\u001b[0;34m\u001b[0m\u001b[0m\n\u001b[0;32m---> 43\u001b[0;31m         \"only include valid locations.\") % (_cp,)\n\u001b[0m\u001b[1;32m     44\u001b[0m \u001b[0;34m\u001b[0m\u001b[0m\n\u001b[1;32m     45\u001b[0m \u001b[0;31m# http://weka.sourceforge.net/doc.dev/weka/classifiers/Classifier.html\u001b[0m\u001b[0;34m\u001b[0m\u001b[0;34m\u001b[0m\u001b[0;34m\u001b[0m\u001b[0m\n",
            "\u001b[0;31mAssertionError\u001b[0m: Weka JAR file /usr/share/java/weka.jar not found. Ensure the file is installed or update your environment's WEKA_JAR_PATH to only include valid locations."
          ]
        }
      ]
    },
    {
      "cell_type": "code",
      "metadata": {
        "id": "oJkAyOKVgRP3"
      },
      "source": [
        "import os\n",
        "import traceback\n",
        "import weka.core.jvm as jvm\n",
        "#import wekaexamples.helper as helper\n",
        "from weka.core.converters import Loader\n",
        "from weka.classifiers import Classifier, SingleClassifierEnhancer, MultipleClassifiersCombiner, FilteredClassifier, \\\n",
        "    PredictionOutput, Kernel, KernelClassifier\n",
        "from weka.classifiers import Evaluation\n",
        "from weka.filters import Filter\n",
        "from weka.core.classes import Random, from_commandline\n",
        "import weka.plot.classifiers as plot_cls\n",
        "import weka.plot.graph as plot_graph\n",
        "import weka.core.types as types"
      ],
      "execution_count": null,
      "outputs": []
    },
    {
      "cell_type": "code",
      "metadata": {
        "id": "2lpgHqCFg53V"
      },
      "source": [
        "loader = Loader(\"weka.core.converters.CSVLoader\")\n",
        "data = loader.load_file(\"SD4.csv\")\n",
        "data.class_is_last()"
      ],
      "execution_count": null,
      "outputs": []
    },
    {
      "cell_type": "code",
      "metadata": {
        "id": "B9JR7mLXjKje"
      },
      "source": [
        ""
      ],
      "execution_count": null,
      "outputs": []
    },
    {
      "cell_type": "code",
      "metadata": {
        "id": "GCygCNDmgE0a"
      },
      "source": [
        "data.class_is_first()\n",
        "from weka.filters import Filter\n",
        "remove = Filter(classname=\"weka.filters.unsupervised.attribute.Remove\", options=[\"-R\", \"1-3\"])\n",
        "\n",
        "cls = Classifier(classname=\"weka.classifiers.rules.DTNB\")\n",
        "\n",
        "from weka.classifiers import FilteredClassifier\n",
        "fc = FilteredClassifier()\n",
        "fc.filter = remove\n",
        "fc.classifier = cls\n",
        "\n",
        "from weka.classifiers import Evaluation\n",
        "from weka.core.classes import Random\n",
        "evl = Evaluation(data)\n",
        "evl.crossvalidate_model(fc, data, 10, Random(1))\n",
        "\n",
        "print(evl.percent_correct)\n",
        "print(evl.summary())\n",
        "print(evl.class_details())\n",
        "\n",
        "import weka.plot.classifiers as plcls  # NB: matplotlib is required\n",
        "plcls.plot_roc(evl, class_index=[0, 1], wait=True)"
      ],
      "execution_count": null,
      "outputs": []
    },
    {
      "cell_type": "code",
      "metadata": {
        "id": "BGw90dPjikR_"
      },
      "source": [
        "from weka.classifiers import GridSearch\n",
        "grid = GridSearch(options=[\"-sample-size\", \"100.0\", \"-traversal\", \"ROW-WISE\", \"-num-slots\", \"1\", \"-S\", \"1\"])\n",
        "grid.evaluation = \"CC\"\n",
        "grid.y = {\"property\": \"kernel.gamma\", \"min\": -3.0, \"max\": 3.0, \"step\": 1.0, \"base\": 10.0, \"expression\": \"pow(BASE,I)\"}\n",
        "grid.x = {\"property\": \"C\", \"min\": -3.0, \"max\": 3.0, \"step\": 1.0, \"base\": 10.0, \"expression\": \"pow(BASE,I)\"}\n",
        "cls = Classifier(\n",
        "    classname=\"weka.classifiers.functions.SMOreg\",\n",
        "    options=[\"-K\", \"weka.classifiers.functions.supportVector.RBFKernel\"])\n",
        "grid.classifier = cls\n",
        "grid.build_classifier(data)\n",
        "print(\"Model:\\n\" + str(grid))\n",
        "print(\"\\nBest setup:\\n\" + grid.best.to_commandline())"
      ],
      "execution_count": null,
      "outputs": []
    },
    {
      "cell_type": "markdown",
      "metadata": {
        "id": "zbadqhpeca5r"
      },
      "source": [
        "**SMOTE:**"
      ]
    },
    {
      "cell_type": "code",
      "metadata": {
        "id": "YWL0DlZacpDJ"
      },
      "source": [
        "from collections import Counter\n",
        "from sklearn.datasets import make_classification\n",
        "from imblearn.over_sampling import SMOTE\n",
        "from matplotlib import pyplot\n",
        "from numpy import where"
      ],
      "execution_count": null,
      "outputs": []
    },
    {
      "cell_type": "code",
      "metadata": {
        "id": "6Ti2KSvvdE1k"
      },
      "source": [
        "d = pd.read_csv('CamcerTypeDataset19FeatureBeforeOversampling.csv')\n",
        "d"
      ],
      "execution_count": null,
      "outputs": []
    },
    {
      "cell_type": "code",
      "metadata": {
        "id": "zQ9NRdrcdvM3"
      },
      "source": [
        "d.columns=['OmegaScore', 'AFP', 'CA-125', 'CA 15-3',\n",
        "       'CA19-9', 'CD44', 'CEA', 'GDF15',\n",
        "       'HGF', 'IL-8', 'Leptin', 'NSE',\n",
        "       'Prolactin', 'sFas',\n",
        "       'sHER2/sEGFR2/sErbB2', 'TGFa',\n",
        "       'Thrombospondin-2', 'TIMP-2', 'Sex',\n",
        "       'Tumor type']"
      ],
      "execution_count": null,
      "outputs": []
    },
    {
      "cell_type": "code",
      "metadata": {
        "id": "2q8WUjw6eYFi"
      },
      "source": [
        "X = d.iloc[:626,:19].values\n",
        "y = d.iloc[:626,-1].values\n",
        "X"
      ],
      "execution_count": null,
      "outputs": []
    },
    {
      "cell_type": "code",
      "metadata": {
        "id": "G1uFTmRreeSD"
      },
      "source": [
        "counter = Counter(y)\n",
        "counter"
      ],
      "execution_count": null,
      "outputs": []
    },
    {
      "cell_type": "code",
      "metadata": {
        "id": "vOrUzXllZta1"
      },
      "source": [
        "from collections import Counter\n",
        "from sklearn.linear_model import LogisticRegression\n",
        "\n",
        "from imblearn.pipeline import make_pipeline\n",
        "from imblearn.under_sampling import (ClusterCentroids, RandomUnderSampler,\n",
        "                                     NearMiss,\n",
        "                                     InstanceHardnessThreshold,\n",
        "                                     CondensedNearestNeighbour,\n",
        "                                     EditedNearestNeighbours,\n",
        "                                     RepeatedEditedNearestNeighbours,\n",
        "                                     AllKNN,\n",
        "                                     NeighbourhoodCleaningRule,\n",
        "                                     OneSidedSelection)"
      ],
      "execution_count": null,
      "outputs": []
    },
    {
      "cell_type": "code",
      "metadata": {
        "id": "0ST-IUkLZvvI"
      },
      "source": [
        "from imblearn.over_sampling import ADASYN\n",
        "from imblearn.over_sampling import (SMOTE, BorderlineSMOTE, SVMSMOTE, SMOTENC)\n",
        "from imblearn.over_sampling import RandomOverSampler\n",
        "from imblearn.base import BaseSampler"
      ],
      "execution_count": null,
      "outputs": []
    },
    {
      "cell_type": "code",
      "metadata": {
        "id": "WjjnpHAT6lWl"
      },
      "source": [
        "d = pd.read_csv('CamcerTypeDataset19FeatureBeforeOversampling.csv')"
      ],
      "execution_count": null,
      "outputs": []
    },
    {
      "cell_type": "code",
      "metadata": {
        "id": "1izcrTmZOYiS"
      },
      "source": [
        "d = pd.read_csv('CamcerTypeDataset19FeatureBeforeOversampling.csv')\n",
        "d.columns=['OmegaScore', 'AFP', 'CA-125', 'CA 15-3',\n",
        "       'CA19-9', 'CD44', 'CEA', 'GDF15',\n",
        "       'HGF', 'IL-8', 'Leptin', 'NSE',\n",
        "       'Prolactin', 'sFas',\n",
        "       'sHER2/sEGFR2/sErbB2', 'TGFa',\n",
        "       'Thrombospondin-2', 'TIMP-2', 'Sex',\n",
        "       'Tumor type']"
      ],
      "execution_count": null,
      "outputs": []
    },
    {
      "cell_type": "code",
      "metadata": {
        "id": "2IuByO59Onzi"
      },
      "source": [
        "x = d.iloc[:626,:19].values\n",
        "y = d.iloc[:626,-1].values"
      ],
      "execution_count": null,
      "outputs": []
    },
    {
      "cell_type": "code",
      "metadata": {
        "id": "boJCNAgc_bH4"
      },
      "source": [
        "X_train, X_test, y_train, y_test = train_test_split(x, y, test_size=0.3, random_state=7)\n",
        "print('Shape of Feature Matrix:', X_train.shape)\n",
        "print('Shape of Target Vector:', X_test.shape)"
      ],
      "execution_count": null,
      "outputs": []
    },
    {
      "cell_type": "code",
      "metadata": {
        "id": "vtn6C0PK_jl6"
      },
      "source": [
        "df = pd.DataFrame (X_test)\n",
        "df['class'] = y_test\n",
        "df.columns=['OmegaScore', 'AFP', 'CA-125', 'CA 15-3',\n",
        "       'CA19-9', 'CD44', 'CEA', 'GDF15',\n",
        "       'HGF', 'IL-8', 'Leptin', 'NSE',\n",
        "       'Prolactin', 'sFas',\n",
        "       'sHER2/sEGFR2/sErbB2', 'TGFa',\n",
        "       'Thrombospondin-2', 'TIMP-2', 'Sex',\n",
        "       'Tumor type']\n",
        "df.to_csv (r'30%Testdata_Type_feature19Dataset.csv', index = False, header=True)"
      ],
      "execution_count": null,
      "outputs": []
    },
    {
      "cell_type": "code",
      "metadata": {
        "id": "9JuFr6ZTAe4l"
      },
      "source": [
        ""
      ],
      "execution_count": null,
      "outputs": []
    },
    {
      "cell_type": "code",
      "metadata": {
        "id": "rpdJkllQEPFR"
      },
      "source": [
        "from numpy import mean\n",
        "from sklearn.datasets import make_classification\n",
        "from sklearn.model_selection import cross_val_score\n",
        "from sklearn.model_selection import RepeatedStratifiedKFold\n",
        "from sklearn.tree import DecisionTreeClassifier\n",
        "from imblearn.pipeline import Pipeline\n",
        "from imblearn.over_sampling import RandomOverSampler\n",
        "from imblearn.under_sampling import RandomUnderSampler\n",
        "\n",
        "# define pipeline\n",
        "over = SMOTE()\n",
        "under = InstanceHardnessThreshold()\n",
        "steps = [('u', under),('o', over)]\n",
        "pipeline = Pipeline(steps=steps)\n",
        "# evaluate pipeline\n",
        "cv = RepeatedStratifiedKFold(n_splits=10, n_repeats=3, random_state=1)\n",
        "scores = cross_val_score(pipeline, x, y, scoring='accuracy', cv=cv, n_jobs=-1)\n",
        "score = mean(scores)\n",
        "print('F1 Score: %.3f' % score)"
      ],
      "execution_count": null,
      "outputs": []
    },
    {
      "cell_type": "markdown",
      "metadata": {
        "id": "TkJofFapnmUB"
      },
      "source": [
        "Class Imbalance: **ADASYN**"
      ]
    },
    {
      "cell_type": "code",
      "metadata": {
        "id": "yhpKuWLpny7s"
      },
      "source": [
        "import pandas as pd\n",
        "import numpy as np\n",
        "import matplotlib.pyplot as plt\n",
        "import seaborn as sns\n",
        "from imblearn.over_sampling import ADASYN\n",
        "%matplotlib inline"
      ],
      "execution_count": null,
      "outputs": []
    },
    {
      "cell_type": "code",
      "metadata": {
        "id": "R3Wk6-bFGr0w"
      },
      "source": [
        "bd = pd.read_csv('BinaryRFfeature19Dataset.csv')\n",
        "bd"
      ],
      "execution_count": null,
      "outputs": []
    },
    {
      "cell_type": "code",
      "metadata": {
        "id": "mggqU0o8Lwgb"
      },
      "source": [
        "bd['Class'].value_counts()"
      ],
      "execution_count": null,
      "outputs": []
    },
    {
      "cell_type": "code",
      "metadata": {
        "id": "np5X0bwFL86P"
      },
      "source": [
        "m = bd.iloc[:1817,:19].values\n",
        "n = bd.iloc[:1817,-1].values\n",
        "n"
      ],
      "execution_count": null,
      "outputs": []
    },
    {
      "cell_type": "code",
      "metadata": {
        "id": "15jSD3nfMP5s"
      },
      "source": [
        "ada = ADASYN(sampling_strategy='minority', random_state= 420 , n_neighbors = 5)"
      ],
      "execution_count": null,
      "outputs": []
    },
    {
      "cell_type": "code",
      "metadata": {
        "id": "-Sqm8RSnNwTH"
      },
      "source": [
        "solutions = np.argwhere(m == '?')\n",
        "print(solutions)"
      ],
      "execution_count": null,
      "outputs": []
    },
    {
      "cell_type": "code",
      "metadata": {
        "id": "LclIP9VIMYih"
      },
      "source": [
        "m_res, n_res = ada.fit_resample(m,n)\n",
        "print('Oversampled Target Variable Distribution:', Counter(n_res))"
      ],
      "execution_count": null,
      "outputs": []
    },
    {
      "cell_type": "code",
      "metadata": {
        "id": "fDl6aYBvMYrb"
      },
      "source": [
        "df = pd.DataFrame (m_res)\n",
        "df['class'] = n_res\n",
        "df\n",
        "df.to_csv (r'ADASYNBinaryRFfeature19Dataset.csv', index = False, header=True)"
      ],
      "execution_count": null,
      "outputs": []
    },
    {
      "cell_type": "code",
      "metadata": {
        "id": "2_7xnST1FJh3"
      },
      "source": [
        "X = data.iloc[:626,:21].values\n",
        "y = data.iloc[:626,-1].values\n",
        "X"
      ],
      "execution_count": null,
      "outputs": []
    },
    {
      "cell_type": "code",
      "metadata": {
        "id": "3mZ96MrKFT2l"
      },
      "source": [
        "print('Shape of Feature Matrix:', X.shape)\n",
        "print('Shape of Target Vector:', y.shape)"
      ],
      "execution_count": null,
      "outputs": []
    },
    {
      "cell_type": "code",
      "metadata": {
        "id": "z5fJ3LUiFaA5"
      },
      "source": [
        "from collections import Counter\n",
        "print('Original Target Variable Distribution:', Counter(y))"
      ],
      "execution_count": null,
      "outputs": []
    },
    {
      "cell_type": "code",
      "metadata": {
        "id": "2yDXPFInau1f"
      },
      "source": [
        "smt=SMOTE()\n",
        "X_res, y_res = smt.fit_resample(X,y)\n",
        "print('Oversampled Target Variable Distribution:', Counter(y_res))"
      ],
      "execution_count": null,
      "outputs": []
    },
    {
      "cell_type": "code",
      "metadata": {
        "id": "NAJD2AY6Fh0X"
      },
      "source": [
        "ada = ADASYN(sampling_strategy='minority', random_state= 420 , n_neighbors = 5)"
      ],
      "execution_count": null,
      "outputs": []
    },
    {
      "cell_type": "code",
      "metadata": {
        "id": "KXAElnmZFn-P"
      },
      "source": [
        "X_res, y_res = ada.fit_resample(X,y)\n",
        "print('Oversampled Target Variable Distribution:', Counter(y_res))"
      ],
      "execution_count": null,
      "outputs": []
    },
    {
      "cell_type": "code",
      "metadata": {
        "id": "yrCLIe8rL8ZV"
      },
      "source": [
        "X_res, y_res = ada.fit_resample(x_under,y_under)\n",
        "print('Oversampled Target Variable Distribution:', Counter(y_res))"
      ],
      "execution_count": null,
      "outputs": []
    },
    {
      "cell_type": "code",
      "metadata": {
        "id": "y6XAG7BpGxa9"
      },
      "source": [
        "for i in range(1):\n",
        "  X_res, y_res = ada.fit_resample(X_res, y_res)\n",
        "  print('Oversampled Target Variable Distribution:', Counter(y_res))"
      ],
      "execution_count": null,
      "outputs": []
    },
    {
      "cell_type": "code",
      "metadata": {
        "id": "nS4Ok3sLq-GY"
      },
      "source": [
        "Counter(y_res)"
      ],
      "execution_count": null,
      "outputs": []
    },
    {
      "cell_type": "code",
      "metadata": {
        "id": "dYzOZlb0Ha2N"
      },
      "source": [
        "df = pd.DataFrame (X_res)\n",
        "df['class'] = y_res\n",
        "df.columns=['OmegaScore', 'AFP', 'CA-125', 'CA 15-3',\n",
        "       'CA19-9', 'CD44', 'CEA', 'GDF15',\n",
        "       'HGF','IL-6', 'IL-8', 'Leptin','Midkine', 'NSE',\n",
        "       'Prolactin', 'sFas',\n",
        "       'sHER2/sEGFR2/sErbB2', 'TGFa',\n",
        "       'Thrombospondin-2', 'TIMP-2', 'Sex',\n",
        "       'Tumor type']\n",
        "df.to_csv (r'SMOTEdataset19Features.csv', index = False, header=True)"
      ],
      "execution_count": null,
      "outputs": []
    },
    {
      "cell_type": "markdown",
      "metadata": {
        "id": "c5g46IrcWINk"
      },
      "source": [
        "#**Deep Learning:**"
      ]
    },
    {
      "cell_type": "code",
      "metadata": {
        "id": "UOxzlmwT0gWW"
      },
      "source": [
        "# use TensorFlow backend\n",
        "%env KERAS_BACKEND=tensorflow     \n",
        "import keras\n",
        "import tensorflow\n",
        "from keras.models import Sequential\n",
        "from keras.layers import Dense, Activation, Dropout, Conv2D, Flatten, Input\n",
        "from keras.preprocessing.image import ImageDataGenerator\n",
        "from keras import backend as K\n",
        "import struct\n",
        "\n",
        "%env KERAS_BACKEND=tensorflow     \n",
        "import keras\n",
        "import tensorflow\n",
        "from keras.models import Sequential\n",
        "from keras.layers import Dense, Activation, Flatten\n",
        "from keras.preprocessing.image import ImageDataGenerator\n",
        "from keras import backend as K\n",
        "import struct\n",
        "\n",
        "# use keras backend (K) to force channels-first ordering\n",
        "K.set_image_data_format('channels_first')"
      ],
      "execution_count": null,
      "outputs": []
    },
    {
      "cell_type": "code",
      "metadata": {
        "id": "IBBn37NZaesO"
      },
      "source": [
        "import tensorflow as tf\n",
        "import keras.backend.tensorflow_backend as tfback\n",
        "print(\"tf.__version__ is\", tf.__version__)\n",
        "print(\"tf.keras.__version__ is:\", tf.keras.__version__)\n",
        "\n",
        "def _get_available_gpus():\n",
        "    \"\"\"Get a list of available gpu devices (formatted as strings).\n",
        "\n",
        "    # Returns\n",
        "        A list ofaavailable GPU devices.#\n",
        "    \"\"\"\n",
        "    #global _LOCAL_DEVICES\n",
        "    if tfback._LOCAL_DEVICES is None:\n",
        "        devices = tf.config.list_logical_devices()\n",
        "        tfback._LOCAL_DEVICES = [x.name for x in devices]\n",
        "    return [x for x in tfback._LOCAL_DEVICES if 'device:gpu' in x.lower()]\n",
        "\n",
        "tfback._get_available_gpus = _get_available_gpus"
      ],
      "execution_count": null,
      "outputs": []
    },
    {
      "cell_type": "code",
      "metadata": {
        "id": "LbZ8MjQdPb8E"
      },
      "source": [
        "pip install tensorflow"
      ],
      "execution_count": null,
      "outputs": []
    },
    {
      "cell_type": "code",
      "metadata": {
        "id": "EKXDYEIFWPYy"
      },
      "source": [
        "sd1 = pd.read_csv('FullDataset.csv')\n",
        "x=sd1.iloc[:,4:44]\n",
        "x\n",
        "y=sd1.iloc[:,47]\n",
        "x.shape\n",
        "z=np.array(x)\n",
        "z=z.reshape(1817,1,8,5)\n",
        "z.shape"
      ],
      "execution_count": null,
      "outputs": []
    },
    {
      "cell_type": "code",
      "metadata": {
        "id": "yEVMVcNTzpLl"
      },
      "source": [
        "# generate fixed validation set of 10% of the training set\n",
        "vtrainI, validI, vtrainYb, validYb = \\\n",
        "  model_selection.train_test_split(z, y, \n",
        "  train_size=0.9, test_size=0.1, random_state=4488)\n",
        "\n",
        "# make validation data\n",
        "validsetI = (validI, validYb)\n",
        "\n",
        "print(vtrainI.shape)\n",
        "print(validI.shape)"
      ],
      "execution_count": null,
      "outputs": []
    },
    {
      "cell_type": "code",
      "metadata": {
        "id": "UXdYZ65lz6Wp"
      },
      "source": [
        "def plot_history(history): \n",
        "    fig, ax1 = plt.subplots()\n",
        "    \n",
        "    ax1.plot(history.history['loss'], 'r', label=\"training loss ({:.6f})\".format(history.history['loss'][-1]))\n",
        "    ax1.plot(history.history['val_loss'], 'r--', label=\"validation loss ({:.6f})\".format(history.history['val_loss'][-1]))\n",
        "    ax1.grid(True)\n",
        "    ax1.set_xlabel('iteration')\n",
        "    ax1.legend(loc=\"best\", fontsize=9)    \n",
        "    ax1.set_ylabel('loss', color='r')\n",
        "    ax1.tick_params('y', colors='r')\n",
        "\n",
        "    if 'acc' in history.history:\n",
        "        ax2 = ax1.twinx()\n",
        "\n",
        "        ax2.plot(history.history['acc'], 'b', label=\"training acc ({:.4f})\".format(history.history['acc'][-1]))\n",
        "        ax2.plot(history.history['val_acc'], 'b--', label=\"validation acc ({:.4f})\".format(history.history['val_acc'][-1]))\n",
        "\n",
        "        ax2.legend(loc=\"best\", fontsize=9)\n",
        "        ax2.set_ylabel('acc', color='b')        \n",
        "        ax2.tick_params('y', colors='b')"
      ],
      "execution_count": null,
      "outputs": []
    },
    {
      "cell_type": "code",
      "metadata": {
        "id": "tOIKFoEZRPhk"
      },
      "source": [
        "pip install --ignore-installed --upgrade \"https://github.com/lakshayg/tensorflow-build\""
      ],
      "execution_count": null,
      "outputs": []
    },
    {
      "cell_type": "code",
      "metadata": {
        "id": "LB7fIZkB0M98"
      },
      "source": [
        "from keras.models import Sequential\n",
        "random.seed(4487); \n",
        "tf.random.set_seed(4487)\n",
        "\n",
        "# build the network\n",
        "nn = Sequential()\n",
        "nn.add(Conv2D(10, (5,5),        # channel, kernel size\n",
        "              strides=(2,2),    # stride\n",
        "              activation='relu',\n",
        "              padding='same',   # convolution padding\n",
        "              input_shape=(1,8,5)\n",
        "              ))\n",
        "nn.add(Flatten())   # flatten the feature map into a vector to apply Dense layers\n",
        "nn.add(Dense(units=10, activation='relu'))\n",
        "nn.add(Dense(units=10, activation='relu'))\n",
        "nn.add(Dense(units=2, activation='softmax'))\n",
        "\n",
        "\n",
        "# setup early stopping callback function\n",
        "earlystop = keras.callbacks.EarlyStopping(\n",
        "    monitor='val_loss',     # look at the validation loss\n",
        "    min_delta=0.0001,       # threshold to consider as no change\n",
        "    patience=5,             # stop if 5 epochs with no change\n",
        "    verbose=1, mode='auto'\n",
        ")\n",
        "callbacks_list = [earlystop]\n",
        "\n",
        "# compile and fit the network\n",
        "nn.compile(loss=keras.losses.categorical_crossentropy,\n",
        "           optimizer=keras.optimizers.SGD(lr=0.02, momentum=0.9, nesterov=True), \n",
        "          metrics=['accuracy'])\n",
        "history = nn.fit(vtrainI, vtrainYb, epochs=100, batch_size=50, \n",
        "                 callbacks=callbacks_list, \n",
        "                 validation_data=validsetI, verbose=True)\n",
        "\n",
        "plot_history(history)\n",
        "predY = nn.predict_classes(testI, verbose=False)\n",
        "acc = metrics.accuracy_score(testY, predY)\n",
        "print(\"test accuracy:\", acc)"
      ],
      "execution_count": null,
      "outputs": []
    },
    {
      "cell_type": "code",
      "metadata": {
        "id": "MulYhp5FR7Pq"
      },
      "source": [
        "x_train, x_test, y_train, y_test = train_test_split(x, y, \n",
        "                                                    train_size=0.7, \n",
        "                                                    random_state=42)\n",
        "print(x_train.shape)\n",
        "print('Original dataset shape %s' % Counter(y_train))\n",
        "cn=x_test.columns\n",
        "cn"
      ],
      "execution_count": null,
      "outputs": []
    },
    {
      "cell_type": "markdown",
      "metadata": {
        "id": "uFnO7DqtDP8i"
      },
      "source": [
        "##AUC Heatmap colors"
      ]
    },
    {
      "cell_type": "code",
      "metadata": {
        "colab": {
          "base_uri": "https://localhost:8080/",
          "height": 255
        },
        "id": "3V3aP9xdDYns",
        "outputId": "2746b97f-321f-4089-c4f7-75aae6471c70"
      },
      "source": [
        "# libraries\n",
        "import seaborn as sb\n",
        "import pandas as pd\n",
        "import numpy as np\n",
        "import matplotlib.cm as cm\n",
        " \n",
        "df = pd.read_csv('AUC-binary.csv')\n",
        "data=x=df.iloc[0:6,0:5]\n",
        "data.set_index(\"methods\", inplace = True)\n",
        "x"
      ],
      "execution_count": null,
      "outputs": [
        {
          "output_type": "execute_result",
          "data": {
            "text/html": [
              "<div>\n",
              "<style scoped>\n",
              "    .dataframe tbody tr th:only-of-type {\n",
              "        vertical-align: middle;\n",
              "    }\n",
              "\n",
              "    .dataframe tbody tr th {\n",
              "        vertical-align: top;\n",
              "    }\n",
              "\n",
              "    .dataframe thead th {\n",
              "        text-align: right;\n",
              "    }\n",
              "</style>\n",
              "<table border=\"1\" class=\"dataframe\">\n",
              "  <thead>\n",
              "    <tr style=\"text-align: right;\">\n",
              "      <th></th>\n",
              "      <th>First study\\n (10-folds CV)</th>\n",
              "      <th>First study\\n (30% inde-pendent test data)</th>\n",
              "      <th>Second study\\n(10-folds CV)</th>\n",
              "      <th>Second study\\n(30% inde-pendent test data)</th>\n",
              "    </tr>\n",
              "    <tr>\n",
              "      <th>methods</th>\n",
              "      <th></th>\n",
              "      <th></th>\n",
              "      <th></th>\n",
              "      <th></th>\n",
              "    </tr>\n",
              "  </thead>\n",
              "  <tbody>\n",
              "    <tr>\n",
              "      <th>DELFI</th>\n",
              "      <td>0.909</td>\n",
              "      <td>0.920</td>\n",
              "      <td>0.967</td>\n",
              "      <td>0.960</td>\n",
              "    </tr>\n",
              "    <tr>\n",
              "      <th>CancerSEEK</th>\n",
              "      <td>0.888</td>\n",
              "      <td>0.884</td>\n",
              "      <td>0.950</td>\n",
              "      <td>0.941</td>\n",
              "    </tr>\n",
              "    <tr>\n",
              "      <th>ASVM</th>\n",
              "      <td>0.938</td>\n",
              "      <td>0.936</td>\n",
              "      <td>0.894</td>\n",
              "      <td>0.885</td>\n",
              "    </tr>\n",
              "    <tr>\n",
              "      <th>CancerEMC</th>\n",
              "      <td>0.914</td>\n",
              "      <td>0.917</td>\n",
              "      <td>0.998</td>\n",
              "      <td>0.998</td>\n",
              "    </tr>\n",
              "    <tr>\n",
              "      <th>BiDiEarlyCancerDF</th>\n",
              "      <td>0.941</td>\n",
              "      <td>0.957</td>\n",
              "      <td>0.999</td>\n",
              "      <td>0.999</td>\n",
              "    </tr>\n",
              "  </tbody>\n",
              "</table>\n",
              "</div>"
            ],
            "text/plain": [
              "                   First study\\n (10-folds CV)  ...  Second study\\n(30% inde-pendent test data)\n",
              "methods                                         ...                                            \n",
              "DELFI                                    0.909  ...                                       0.960\n",
              "CancerSEEK                               0.888  ...                                       0.941\n",
              "ASVM                                     0.938  ...                                       0.885\n",
              "CancerEMC                                0.914  ...                                       0.998\n",
              "BiDiEarlyCancerDF                        0.941  ...                                       0.999\n",
              "\n",
              "[5 rows x 4 columns]"
            ]
          },
          "metadata": {},
          "execution_count": 30
        }
      ]
    },
    {
      "cell_type": "code",
      "metadata": {
        "colab": {
          "base_uri": "https://localhost:8080/",
          "height": 528
        },
        "id": "AfHii_zDExYT",
        "outputId": "0c430678-0fd7-4ae4-acf9-88eefcd60453"
      },
      "source": [
        "plt.figure(figsize=(4,4))\n",
        "color_map = cm.get_cmap('RdYlGn', 1000)\n",
        "m = plt.cm.ScalarMappable(cmap=color_map)\n",
        "m.set_clim(0.884, 0.999)\n",
        "plt.colorbar(m, boundaries=np.linspace(0.884, 0.999, 1000))\n",
        "\n",
        "heatmap = sb.heatmap(data, cmap='RdYlGn', cbar=False, annot=True, fmt='.3g', xticklabels=True, yticklabels=True, vmin=0.884, vmax=0.999) \n",
        "col=['First study\\n(10-folds CV)','First study\\n(30% independent test)','Second study\\n(10-folds CV)',\n",
        "     'Second study\\n(30% independent test)']\n",
        "heatmap.set_xticklabels(col, rotation=45) \n",
        "heatmap.set_yticklabels(heatmap.get_yticklabels(), rotation=30) \n",
        "heatmap.set_title(\"AUC of ROC curve for\\nBinary ECD\",fontweight='bold', fontsize=12)\n",
        "plt.xlabel(\"Experiments\")\n",
        "plt.ylabel(\"Methods\")\n",
        "plt.savefig(\"AUCbHM.png\", bbox_inches='tight', dpi=300)"
      ],
      "execution_count": null,
      "outputs": [
        {
          "output_type": "display_data",
          "data": {
            "text/plain": [
              "<Figure size 288x288 with 2 Axes>"
            ],
            "image/svg+xml": "<?xml version=\"1.0\" encoding=\"utf-8\" standalone=\"no\"?>\n<!DOCTYPE svg PUBLIC \"-//W3C//DTD SVG 1.1//EN\"\n  \"http://www.w3.org/Graphics/SVG/1.1/DTD/svg11.dtd\">\n<!-- Created with matplotlib (https://matplotlib.org/) -->\n<svg height=\"379.842742pt\" version=\"1.1\" viewBox=\"0 0 363.93597 379.842742\" width=\"363.93597pt\" xmlns=\"http://www.w3.org/2000/svg\" xmlns:xlink=\"http://www.w3.org/1999/xlink\">\n <defs>\n  <style type=\"text/css\">\n*{stroke-linecap:butt;stroke-linejoin:round;}\n  </style>\n </defs>\n <g id=\"figure_1\">\n  <g id=\"patch_1\">\n   <path d=\"M 0 379.842742 \nL 363.93597 379.842742 \nL 363.93597 0 \nL 0 0 \nz\n\" style=\"fill:none;\"/>\n  </g>\n  <g id=\"axes_1\">\n   <g id=\"patch_2\">\n    <path d=\"M 114.153345 253.1955 \nL 292.713345 253.1955 \nL 292.713345 35.7555 \nL 114.153345 35.7555 \nz\n\" style=\"fill:#ffffff;\"/>\n   </g>\n   <g id=\"QuadMesh_1\">\n    <path clip-path=\"url(#p9b9c479e4d)\" d=\"M 114.153345 35.7555 \nL 158.793345 35.7555 \nL 158.793345 79.2435 \nL 114.153345 79.2435 \nL 114.153345 35.7555 \n\" style=\"fill:#f57748;\"/>\n    <path clip-path=\"url(#p9b9c479e4d)\" d=\"M 158.793345 35.7555 \nL 203.433345 35.7555 \nL 203.433345 79.2435 \nL 158.793345 79.2435 \nL 158.793345 35.7555 \n\" style=\"fill:#fdb567;\"/>\n    <path clip-path=\"url(#p9b9c479e4d)\" d=\"M 203.433345 35.7555 \nL 248.073345 35.7555 \nL 248.073345 79.2435 \nL 203.433345 79.2435 \nL 203.433345 35.7555 \n\" style=\"fill:#98d368;\"/>\n    <path clip-path=\"url(#p9b9c479e4d)\" d=\"M 248.073345 35.7555 \nL 292.713345 35.7555 \nL 292.713345 79.2435 \nL 248.073345 79.2435 \nL 248.073345 35.7555 \n\" style=\"fill:#b9e176;\"/>\n    <path clip-path=\"url(#p9b9c479e4d)\" d=\"M 114.153345 79.2435 \nL 158.793345 79.2435 \nL 158.793345 122.7315 \nL 114.153345 122.7315 \nL 114.153345 79.2435 \n\" style=\"fill:#b50f26;\"/>\n    <path clip-path=\"url(#p9b9c479e4d)\" d=\"M 158.793345 79.2435 \nL 203.433345 79.2435 \nL 203.433345 122.7315 \nL 158.793345 122.7315 \nL 158.793345 79.2435 \n\" style=\"fill:#a50026;\"/>\n    <path clip-path=\"url(#p9b9c479e4d)\" d=\"M 203.433345 79.2435 \nL 248.073345 79.2435 \nL 248.073345 122.7315 \nL 203.433345 122.7315 \nL 203.433345 79.2435 \n\" style=\"fill:#e3f399;\"/>\n    <path clip-path=\"url(#p9b9c479e4d)\" d=\"M 248.073345 79.2435 \nL 292.713345 79.2435 \nL 292.713345 122.7315 \nL 248.073345 122.7315 \nL 248.073345 79.2435 \n\" style=\"fill:#fffdbc;\"/>\n    <path clip-path=\"url(#p9b9c479e4d)\" d=\"M 114.153345 122.7315 \nL 158.793345 122.7315 \nL 158.793345 166.2195 \nL 114.153345 166.2195 \nL 114.153345 122.7315 \n\" style=\"fill:#fff6b0;\"/>\n    <path clip-path=\"url(#p9b9c479e4d)\" d=\"M 158.793345 122.7315 \nL 203.433345 122.7315 \nL 203.433345 166.2195 \nL 158.793345 166.2195 \nL 158.793345 122.7315 \n\" style=\"fill:#fff0a6;\"/>\n    <path clip-path=\"url(#p9b9c479e4d)\" d=\"M 203.433345 122.7315 \nL 248.073345 122.7315 \nL 248.073345 166.2195 \nL 203.433345 166.2195 \nL 203.433345 122.7315 \n\" style=\"fill:#d02927;\"/>\n    <path clip-path=\"url(#p9b9c479e4d)\" d=\"M 248.073345 122.7315 \nL 292.713345 122.7315 \nL 292.713345 166.2195 \nL 248.073345 166.2195 \nL 248.073345 122.7315 \n\" style=\"fill:#a90426;\"/>\n    <path clip-path=\"url(#p9b9c479e4d)\" d=\"M 114.153345 166.2195 \nL 158.793345 166.2195 \nL 158.793345 209.7075 \nL 114.153345 209.7075 \nL 114.153345 166.2195 \n\" style=\"fill:#f99355;\"/>\n    <path clip-path=\"url(#p9b9c479e4d)\" d=\"M 158.793345 166.2195 \nL 203.433345 166.2195 \nL 203.433345 209.7075 \nL 158.793345 209.7075 \nL 158.793345 166.2195 \n\" style=\"fill:#fca55d;\"/>\n    <path clip-path=\"url(#p9b9c479e4d)\" d=\"M 203.433345 166.2195 \nL 248.073345 166.2195 \nL 248.073345 209.7075 \nL 203.433345 209.7075 \nL 203.433345 166.2195 \n\" style=\"fill:#026c39;\"/>\n    <path clip-path=\"url(#p9b9c479e4d)\" d=\"M 248.073345 166.2195 \nL 292.713345 166.2195 \nL 292.713345 209.7075 \nL 248.073345 209.7075 \nL 248.073345 166.2195 \n\" style=\"fill:#026c39;\"/>\n    <path clip-path=\"url(#p9b9c479e4d)\" d=\"M 114.153345 209.7075 \nL 158.793345 209.7075 \nL 158.793345 253.1955 \nL 114.153345 253.1955 \nL 114.153345 209.7075 \n\" style=\"fill:#fffdbc;\"/>\n    <path clip-path=\"url(#p9b9c479e4d)\" d=\"M 158.793345 209.7075 \nL 203.433345 209.7075 \nL 203.433345 253.1955 \nL 158.793345 253.1955 \nL 158.793345 209.7075 \n\" style=\"fill:#c7e77f;\"/>\n    <path clip-path=\"url(#p9b9c479e4d)\" d=\"M 203.433345 209.7075 \nL 248.073345 209.7075 \nL 248.073345 253.1955 \nL 203.433345 253.1955 \nL 203.433345 209.7075 \n\" style=\"fill:#006837;\"/>\n    <path clip-path=\"url(#p9b9c479e4d)\" d=\"M 248.073345 209.7075 \nL 292.713345 209.7075 \nL 292.713345 253.1955 \nL 248.073345 253.1955 \nL 248.073345 209.7075 \n\" style=\"fill:#006837;\"/>\n   </g>\n   <g id=\"matplotlib.axis_1\">\n    <g id=\"xtick_1\">\n     <g id=\"line2d_1\">\n      <defs>\n       <path d=\"M 0 0 \nL 0 3.5 \n\" id=\"m5ad0be8e2b\" style=\"stroke:#000000;stroke-width:0.8;\"/>\n      </defs>\n      <g>\n       <use style=\"stroke:#000000;stroke-width:0.8;\" x=\"136.473345\" xlink:href=\"#m5ad0be8e2b\" y=\"253.1955\"/>\n      </g>\n     </g>\n     <g id=\"text_1\">\n      <!-- First study -->\n      <defs>\n       <path d=\"M 9.8125 72.90625 \nL 51.703125 72.90625 \nL 51.703125 64.59375 \nL 19.671875 64.59375 \nL 19.671875 43.109375 \nL 48.578125 43.109375 \nL 48.578125 34.8125 \nL 19.671875 34.8125 \nL 19.671875 0 \nL 9.8125 0 \nz\n\" id=\"DejaVuSans-70\"/>\n       <path d=\"M 9.421875 54.6875 \nL 18.40625 54.6875 \nL 18.40625 0 \nL 9.421875 0 \nz\nM 9.421875 75.984375 \nL 18.40625 75.984375 \nL 18.40625 64.59375 \nL 9.421875 64.59375 \nz\n\" id=\"DejaVuSans-105\"/>\n       <path d=\"M 41.109375 46.296875 \nQ 39.59375 47.171875 37.8125 47.578125 \nQ 36.03125 48 33.890625 48 \nQ 26.265625 48 22.1875 43.046875 \nQ 18.109375 38.09375 18.109375 28.8125 \nL 18.109375 0 \nL 9.078125 0 \nL 9.078125 54.6875 \nL 18.109375 54.6875 \nL 18.109375 46.1875 \nQ 20.953125 51.171875 25.484375 53.578125 \nQ 30.03125 56 36.53125 56 \nQ 37.453125 56 38.578125 55.875 \nQ 39.703125 55.765625 41.0625 55.515625 \nz\n\" id=\"DejaVuSans-114\"/>\n       <path d=\"M 44.28125 53.078125 \nL 44.28125 44.578125 \nQ 40.484375 46.53125 36.375 47.5 \nQ 32.28125 48.484375 27.875 48.484375 \nQ 21.1875 48.484375 17.84375 46.4375 \nQ 14.5 44.390625 14.5 40.28125 \nQ 14.5 37.15625 16.890625 35.375 \nQ 19.28125 33.59375 26.515625 31.984375 \nL 29.59375 31.296875 \nQ 39.15625 29.25 43.1875 25.515625 \nQ 47.21875 21.78125 47.21875 15.09375 \nQ 47.21875 7.46875 41.1875 3.015625 \nQ 35.15625 -1.421875 24.609375 -1.421875 \nQ 20.21875 -1.421875 15.453125 -0.5625 \nQ 10.6875 0.296875 5.421875 2 \nL 5.421875 11.28125 \nQ 10.40625 8.6875 15.234375 7.390625 \nQ 20.0625 6.109375 24.8125 6.109375 \nQ 31.15625 6.109375 34.5625 8.28125 \nQ 37.984375 10.453125 37.984375 14.40625 \nQ 37.984375 18.0625 35.515625 20.015625 \nQ 33.0625 21.96875 24.703125 23.78125 \nL 21.578125 24.515625 \nQ 13.234375 26.265625 9.515625 29.90625 \nQ 5.8125 33.546875 5.8125 39.890625 \nQ 5.8125 47.609375 11.28125 51.796875 \nQ 16.75 56 26.8125 56 \nQ 31.78125 56 36.171875 55.265625 \nQ 40.578125 54.546875 44.28125 53.078125 \nz\n\" id=\"DejaVuSans-115\"/>\n       <path d=\"M 18.3125 70.21875 \nL 18.3125 54.6875 \nL 36.8125 54.6875 \nL 36.8125 47.703125 \nL 18.3125 47.703125 \nL 18.3125 18.015625 \nQ 18.3125 11.328125 20.140625 9.421875 \nQ 21.96875 7.515625 27.59375 7.515625 \nL 36.8125 7.515625 \nL 36.8125 0 \nL 27.59375 0 \nQ 17.1875 0 13.234375 3.875 \nQ 9.28125 7.765625 9.28125 18.015625 \nL 9.28125 47.703125 \nL 2.6875 47.703125 \nL 2.6875 54.6875 \nL 9.28125 54.6875 \nL 9.28125 70.21875 \nz\n\" id=\"DejaVuSans-116\"/>\n       <path id=\"DejaVuSans-32\"/>\n       <path d=\"M 8.5 21.578125 \nL 8.5 54.6875 \nL 17.484375 54.6875 \nL 17.484375 21.921875 \nQ 17.484375 14.15625 20.5 10.265625 \nQ 23.53125 6.390625 29.59375 6.390625 \nQ 36.859375 6.390625 41.078125 11.03125 \nQ 45.3125 15.671875 45.3125 23.6875 \nL 45.3125 54.6875 \nL 54.296875 54.6875 \nL 54.296875 0 \nL 45.3125 0 \nL 45.3125 8.40625 \nQ 42.046875 3.421875 37.71875 1 \nQ 33.40625 -1.421875 27.6875 -1.421875 \nQ 18.265625 -1.421875 13.375 4.4375 \nQ 8.5 10.296875 8.5 21.578125 \nz\nM 31.109375 56 \nz\n\" id=\"DejaVuSans-117\"/>\n       <path d=\"M 45.40625 46.390625 \nL 45.40625 75.984375 \nL 54.390625 75.984375 \nL 54.390625 0 \nL 45.40625 0 \nL 45.40625 8.203125 \nQ 42.578125 3.328125 38.25 0.953125 \nQ 33.9375 -1.421875 27.875 -1.421875 \nQ 17.96875 -1.421875 11.734375 6.484375 \nQ 5.515625 14.40625 5.515625 27.296875 \nQ 5.515625 40.1875 11.734375 48.09375 \nQ 17.96875 56 27.875 56 \nQ 33.9375 56 38.25 53.625 \nQ 42.578125 51.265625 45.40625 46.390625 \nz\nM 14.796875 27.296875 \nQ 14.796875 17.390625 18.875 11.75 \nQ 22.953125 6.109375 30.078125 6.109375 \nQ 37.203125 6.109375 41.296875 11.75 \nQ 45.40625 17.390625 45.40625 27.296875 \nQ 45.40625 37.203125 41.296875 42.84375 \nQ 37.203125 48.484375 30.078125 48.484375 \nQ 22.953125 48.484375 18.875 42.84375 \nQ 14.796875 37.203125 14.796875 27.296875 \nz\n\" id=\"DejaVuSans-100\"/>\n       <path d=\"M 32.171875 -5.078125 \nQ 28.375 -14.84375 24.75 -17.8125 \nQ 21.140625 -20.796875 15.09375 -20.796875 \nL 7.90625 -20.796875 \nL 7.90625 -13.28125 \nL 13.1875 -13.28125 \nQ 16.890625 -13.28125 18.9375 -11.515625 \nQ 21 -9.765625 23.484375 -3.21875 \nL 25.09375 0.875 \nL 2.984375 54.6875 \nL 12.5 54.6875 \nL 29.59375 11.921875 \nL 46.6875 54.6875 \nL 56.203125 54.6875 \nz\n\" id=\"DejaVuSans-121\"/>\n      </defs>\n      <g transform=\"translate(116.095632 306.959013)rotate(-45)scale(0.1 -0.1)\">\n       <use xlink:href=\"#DejaVuSans-70\"/>\n       <use x=\"50.269531\" xlink:href=\"#DejaVuSans-105\"/>\n       <use x=\"78.052734\" xlink:href=\"#DejaVuSans-114\"/>\n       <use x=\"119.166016\" xlink:href=\"#DejaVuSans-115\"/>\n       <use x=\"171.265625\" xlink:href=\"#DejaVuSans-116\"/>\n       <use x=\"210.474609\" xlink:href=\"#DejaVuSans-32\"/>\n       <use x=\"242.261719\" xlink:href=\"#DejaVuSans-115\"/>\n       <use x=\"294.361328\" xlink:href=\"#DejaVuSans-116\"/>\n       <use x=\"333.570312\" xlink:href=\"#DejaVuSans-117\"/>\n       <use x=\"396.949219\" xlink:href=\"#DejaVuSans-100\"/>\n       <use x=\"460.425781\" xlink:href=\"#DejaVuSans-121\"/>\n      </g>\n      <!-- (10-folds CV) -->\n      <defs>\n       <path d=\"M 31 75.875 \nQ 24.46875 64.65625 21.28125 53.65625 \nQ 18.109375 42.671875 18.109375 31.390625 \nQ 18.109375 20.125 21.3125 9.0625 \nQ 24.515625 -2 31 -13.1875 \nL 23.1875 -13.1875 \nQ 15.875 -1.703125 12.234375 9.375 \nQ 8.59375 20.453125 8.59375 31.390625 \nQ 8.59375 42.28125 12.203125 53.3125 \nQ 15.828125 64.359375 23.1875 75.875 \nz\n\" id=\"DejaVuSans-40\"/>\n       <path d=\"M 12.40625 8.296875 \nL 28.515625 8.296875 \nL 28.515625 63.921875 \nL 10.984375 60.40625 \nL 10.984375 69.390625 \nL 28.421875 72.90625 \nL 38.28125 72.90625 \nL 38.28125 8.296875 \nL 54.390625 8.296875 \nL 54.390625 0 \nL 12.40625 0 \nz\n\" id=\"DejaVuSans-49\"/>\n       <path d=\"M 31.78125 66.40625 \nQ 24.171875 66.40625 20.328125 58.90625 \nQ 16.5 51.421875 16.5 36.375 \nQ 16.5 21.390625 20.328125 13.890625 \nQ 24.171875 6.390625 31.78125 6.390625 \nQ 39.453125 6.390625 43.28125 13.890625 \nQ 47.125 21.390625 47.125 36.375 \nQ 47.125 51.421875 43.28125 58.90625 \nQ 39.453125 66.40625 31.78125 66.40625 \nz\nM 31.78125 74.21875 \nQ 44.046875 74.21875 50.515625 64.515625 \nQ 56.984375 54.828125 56.984375 36.375 \nQ 56.984375 17.96875 50.515625 8.265625 \nQ 44.046875 -1.421875 31.78125 -1.421875 \nQ 19.53125 -1.421875 13.0625 8.265625 \nQ 6.59375 17.96875 6.59375 36.375 \nQ 6.59375 54.828125 13.0625 64.515625 \nQ 19.53125 74.21875 31.78125 74.21875 \nz\n\" id=\"DejaVuSans-48\"/>\n       <path d=\"M 4.890625 31.390625 \nL 31.203125 31.390625 \nL 31.203125 23.390625 \nL 4.890625 23.390625 \nz\n\" id=\"DejaVuSans-45\"/>\n       <path d=\"M 37.109375 75.984375 \nL 37.109375 68.5 \nL 28.515625 68.5 \nQ 23.6875 68.5 21.796875 66.546875 \nQ 19.921875 64.59375 19.921875 59.515625 \nL 19.921875 54.6875 \nL 34.71875 54.6875 \nL 34.71875 47.703125 \nL 19.921875 47.703125 \nL 19.921875 0 \nL 10.890625 0 \nL 10.890625 47.703125 \nL 2.296875 47.703125 \nL 2.296875 54.6875 \nL 10.890625 54.6875 \nL 10.890625 58.5 \nQ 10.890625 67.625 15.140625 71.796875 \nQ 19.390625 75.984375 28.609375 75.984375 \nz\n\" id=\"DejaVuSans-102\"/>\n       <path d=\"M 30.609375 48.390625 \nQ 23.390625 48.390625 19.1875 42.75 \nQ 14.984375 37.109375 14.984375 27.296875 \nQ 14.984375 17.484375 19.15625 11.84375 \nQ 23.34375 6.203125 30.609375 6.203125 \nQ 37.796875 6.203125 41.984375 11.859375 \nQ 46.1875 17.53125 46.1875 27.296875 \nQ 46.1875 37.015625 41.984375 42.703125 \nQ 37.796875 48.390625 30.609375 48.390625 \nz\nM 30.609375 56 \nQ 42.328125 56 49.015625 48.375 \nQ 55.71875 40.765625 55.71875 27.296875 \nQ 55.71875 13.875 49.015625 6.21875 \nQ 42.328125 -1.421875 30.609375 -1.421875 \nQ 18.84375 -1.421875 12.171875 6.21875 \nQ 5.515625 13.875 5.515625 27.296875 \nQ 5.515625 40.765625 12.171875 48.375 \nQ 18.84375 56 30.609375 56 \nz\n\" id=\"DejaVuSans-111\"/>\n       <path d=\"M 9.421875 75.984375 \nL 18.40625 75.984375 \nL 18.40625 0 \nL 9.421875 0 \nz\n\" id=\"DejaVuSans-108\"/>\n       <path d=\"M 64.40625 67.28125 \nL 64.40625 56.890625 \nQ 59.421875 61.53125 53.78125 63.8125 \nQ 48.140625 66.109375 41.796875 66.109375 \nQ 29.296875 66.109375 22.65625 58.46875 \nQ 16.015625 50.828125 16.015625 36.375 \nQ 16.015625 21.96875 22.65625 14.328125 \nQ 29.296875 6.6875 41.796875 6.6875 \nQ 48.140625 6.6875 53.78125 8.984375 \nQ 59.421875 11.28125 64.40625 15.921875 \nL 64.40625 5.609375 \nQ 59.234375 2.09375 53.4375 0.328125 \nQ 47.65625 -1.421875 41.21875 -1.421875 \nQ 24.65625 -1.421875 15.125 8.703125 \nQ 5.609375 18.84375 5.609375 36.375 \nQ 5.609375 53.953125 15.125 64.078125 \nQ 24.65625 74.21875 41.21875 74.21875 \nQ 47.75 74.21875 53.53125 72.484375 \nQ 59.328125 70.75 64.40625 67.28125 \nz\n\" id=\"DejaVuSans-67\"/>\n       <path d=\"M 28.609375 0 \nL 0.78125 72.90625 \nL 11.078125 72.90625 \nL 34.1875 11.53125 \nL 57.328125 72.90625 \nL 67.578125 72.90625 \nL 39.796875 0 \nz\n\" id=\"DejaVuSans-86\"/>\n       <path d=\"M 8.015625 75.875 \nL 15.828125 75.875 \nQ 23.140625 64.359375 26.78125 53.3125 \nQ 30.421875 42.28125 30.421875 31.390625 \nQ 30.421875 20.453125 26.78125 9.375 \nQ 23.140625 -1.703125 15.828125 -13.1875 \nL 8.015625 -13.1875 \nQ 14.5 -2 17.703125 9.0625 \nQ 20.90625 20.125 20.90625 31.390625 \nQ 20.90625 42.671875 17.703125 53.65625 \nQ 14.5 64.65625 8.015625 75.875 \nz\n\" id=\"DejaVuSans-41\"/>\n      </defs>\n      <g transform=\"translate(119.362797 319.527946)rotate(-45)scale(0.1 -0.1)\">\n       <use xlink:href=\"#DejaVuSans-40\"/>\n       <use x=\"39.013672\" xlink:href=\"#DejaVuSans-49\"/>\n       <use x=\"102.636719\" xlink:href=\"#DejaVuSans-48\"/>\n       <use x=\"166.259766\" xlink:href=\"#DejaVuSans-45\"/>\n       <use x=\"202.34375\" xlink:href=\"#DejaVuSans-102\"/>\n       <use x=\"237.548828\" xlink:href=\"#DejaVuSans-111\"/>\n       <use x=\"298.730469\" xlink:href=\"#DejaVuSans-108\"/>\n       <use x=\"326.513672\" xlink:href=\"#DejaVuSans-100\"/>\n       <use x=\"389.990234\" xlink:href=\"#DejaVuSans-115\"/>\n       <use x=\"442.089844\" xlink:href=\"#DejaVuSans-32\"/>\n       <use x=\"473.876953\" xlink:href=\"#DejaVuSans-67\"/>\n       <use x=\"543.701172\" xlink:href=\"#DejaVuSans-86\"/>\n       <use x=\"612.109375\" xlink:href=\"#DejaVuSans-41\"/>\n      </g>\n     </g>\n    </g>\n    <g id=\"xtick_2\">\n     <g id=\"line2d_2\">\n      <g>\n       <use style=\"stroke:#000000;stroke-width:0.8;\" x=\"181.113345\" xlink:href=\"#m5ad0be8e2b\" y=\"253.1955\"/>\n      </g>\n     </g>\n     <g id=\"text_2\">\n      <!-- First study -->\n      <g transform=\"translate(160.735632 325.942068)rotate(-45)scale(0.1 -0.1)\">\n       <use xlink:href=\"#DejaVuSans-70\"/>\n       <use x=\"50.269531\" xlink:href=\"#DejaVuSans-105\"/>\n       <use x=\"78.052734\" xlink:href=\"#DejaVuSans-114\"/>\n       <use x=\"119.166016\" xlink:href=\"#DejaVuSans-115\"/>\n       <use x=\"171.265625\" xlink:href=\"#DejaVuSans-116\"/>\n       <use x=\"210.474609\" xlink:href=\"#DejaVuSans-32\"/>\n       <use x=\"242.261719\" xlink:href=\"#DejaVuSans-115\"/>\n       <use x=\"294.361328\" xlink:href=\"#DejaVuSans-116\"/>\n       <use x=\"333.570312\" xlink:href=\"#DejaVuSans-117\"/>\n       <use x=\"396.949219\" xlink:href=\"#DejaVuSans-100\"/>\n       <use x=\"460.425781\" xlink:href=\"#DejaVuSans-121\"/>\n      </g>\n      <!-- (30% independent test) -->\n      <defs>\n       <path d=\"M 40.578125 39.3125 \nQ 47.65625 37.796875 51.625 33 \nQ 55.609375 28.21875 55.609375 21.1875 \nQ 55.609375 10.40625 48.1875 4.484375 \nQ 40.765625 -1.421875 27.09375 -1.421875 \nQ 22.515625 -1.421875 17.65625 -0.515625 \nQ 12.796875 0.390625 7.625 2.203125 \nL 7.625 11.71875 \nQ 11.71875 9.328125 16.59375 8.109375 \nQ 21.484375 6.890625 26.8125 6.890625 \nQ 36.078125 6.890625 40.9375 10.546875 \nQ 45.796875 14.203125 45.796875 21.1875 \nQ 45.796875 27.640625 41.28125 31.265625 \nQ 36.765625 34.90625 28.71875 34.90625 \nL 20.21875 34.90625 \nL 20.21875 43.015625 \nL 29.109375 43.015625 \nQ 36.375 43.015625 40.234375 45.921875 \nQ 44.09375 48.828125 44.09375 54.296875 \nQ 44.09375 59.90625 40.109375 62.90625 \nQ 36.140625 65.921875 28.71875 65.921875 \nQ 24.65625 65.921875 20.015625 65.03125 \nQ 15.375 64.15625 9.8125 62.3125 \nL 9.8125 71.09375 \nQ 15.4375 72.65625 20.34375 73.4375 \nQ 25.25 74.21875 29.59375 74.21875 \nQ 40.828125 74.21875 47.359375 69.109375 \nQ 53.90625 64.015625 53.90625 55.328125 \nQ 53.90625 49.265625 50.4375 45.09375 \nQ 46.96875 40.921875 40.578125 39.3125 \nz\n\" id=\"DejaVuSans-51\"/>\n       <path d=\"M 72.703125 32.078125 \nQ 68.453125 32.078125 66.03125 28.46875 \nQ 63.625 24.859375 63.625 18.40625 \nQ 63.625 12.0625 66.03125 8.421875 \nQ 68.453125 4.78125 72.703125 4.78125 \nQ 76.859375 4.78125 79.265625 8.421875 \nQ 81.6875 12.0625 81.6875 18.40625 \nQ 81.6875 24.8125 79.265625 28.4375 \nQ 76.859375 32.078125 72.703125 32.078125 \nz\nM 72.703125 38.28125 \nQ 80.421875 38.28125 84.953125 32.90625 \nQ 89.5 27.546875 89.5 18.40625 \nQ 89.5 9.28125 84.9375 3.921875 \nQ 80.375 -1.421875 72.703125 -1.421875 \nQ 64.890625 -1.421875 60.34375 3.921875 \nQ 55.8125 9.28125 55.8125 18.40625 \nQ 55.8125 27.59375 60.375 32.9375 \nQ 64.9375 38.28125 72.703125 38.28125 \nz\nM 22.3125 68.015625 \nQ 18.109375 68.015625 15.6875 64.375 \nQ 13.28125 60.75 13.28125 54.390625 \nQ 13.28125 47.953125 15.671875 44.328125 \nQ 18.0625 40.71875 22.3125 40.71875 \nQ 26.5625 40.71875 28.96875 44.328125 \nQ 31.390625 47.953125 31.390625 54.390625 \nQ 31.390625 60.6875 28.953125 64.34375 \nQ 26.515625 68.015625 22.3125 68.015625 \nz\nM 66.40625 74.21875 \nL 74.21875 74.21875 \nL 28.609375 -1.421875 \nL 20.796875 -1.421875 \nz\nM 22.3125 74.21875 \nQ 30.03125 74.21875 34.609375 68.875 \nQ 39.203125 63.53125 39.203125 54.390625 \nQ 39.203125 45.171875 34.640625 39.84375 \nQ 30.078125 34.515625 22.3125 34.515625 \nQ 14.546875 34.515625 10.03125 39.859375 \nQ 5.515625 45.21875 5.515625 54.390625 \nQ 5.515625 63.484375 10.046875 68.84375 \nQ 14.59375 74.21875 22.3125 74.21875 \nz\n\" id=\"DejaVuSans-37\"/>\n       <path d=\"M 54.890625 33.015625 \nL 54.890625 0 \nL 45.90625 0 \nL 45.90625 32.71875 \nQ 45.90625 40.484375 42.875 44.328125 \nQ 39.84375 48.1875 33.796875 48.1875 \nQ 26.515625 48.1875 22.3125 43.546875 \nQ 18.109375 38.921875 18.109375 30.90625 \nL 18.109375 0 \nL 9.078125 0 \nL 9.078125 54.6875 \nL 18.109375 54.6875 \nL 18.109375 46.1875 \nQ 21.34375 51.125 25.703125 53.5625 \nQ 30.078125 56 35.796875 56 \nQ 45.21875 56 50.046875 50.171875 \nQ 54.890625 44.34375 54.890625 33.015625 \nz\n\" id=\"DejaVuSans-110\"/>\n       <path d=\"M 56.203125 29.59375 \nL 56.203125 25.203125 \nL 14.890625 25.203125 \nQ 15.484375 15.921875 20.484375 11.0625 \nQ 25.484375 6.203125 34.421875 6.203125 \nQ 39.59375 6.203125 44.453125 7.46875 \nQ 49.3125 8.734375 54.109375 11.28125 \nL 54.109375 2.78125 \nQ 49.265625 0.734375 44.1875 -0.34375 \nQ 39.109375 -1.421875 33.890625 -1.421875 \nQ 20.796875 -1.421875 13.15625 6.1875 \nQ 5.515625 13.8125 5.515625 26.8125 \nQ 5.515625 40.234375 12.765625 48.109375 \nQ 20.015625 56 32.328125 56 \nQ 43.359375 56 49.78125 48.890625 \nQ 56.203125 41.796875 56.203125 29.59375 \nz\nM 47.21875 32.234375 \nQ 47.125 39.59375 43.09375 43.984375 \nQ 39.0625 48.390625 32.421875 48.390625 \nQ 24.90625 48.390625 20.390625 44.140625 \nQ 15.875 39.890625 15.1875 32.171875 \nz\n\" id=\"DejaVuSans-101\"/>\n       <path d=\"M 18.109375 8.203125 \nL 18.109375 -20.796875 \nL 9.078125 -20.796875 \nL 9.078125 54.6875 \nL 18.109375 54.6875 \nL 18.109375 46.390625 \nQ 20.953125 51.265625 25.265625 53.625 \nQ 29.59375 56 35.59375 56 \nQ 45.5625 56 51.78125 48.09375 \nQ 58.015625 40.1875 58.015625 27.296875 \nQ 58.015625 14.40625 51.78125 6.484375 \nQ 45.5625 -1.421875 35.59375 -1.421875 \nQ 29.59375 -1.421875 25.265625 0.953125 \nQ 20.953125 3.328125 18.109375 8.203125 \nz\nM 48.6875 27.296875 \nQ 48.6875 37.203125 44.609375 42.84375 \nQ 40.53125 48.484375 33.40625 48.484375 \nQ 26.265625 48.484375 22.1875 42.84375 \nQ 18.109375 37.203125 18.109375 27.296875 \nQ 18.109375 17.390625 22.1875 11.75 \nQ 26.265625 6.109375 33.40625 6.109375 \nQ 40.53125 6.109375 44.609375 11.75 \nQ 48.6875 17.390625 48.6875 27.296875 \nz\n\" id=\"DejaVuSans-112\"/>\n      </defs>\n      <g transform=\"translate(145.019742 357.494056)rotate(-45)scale(0.1 -0.1)\">\n       <use xlink:href=\"#DejaVuSans-40\"/>\n       <use x=\"39.013672\" xlink:href=\"#DejaVuSans-51\"/>\n       <use x=\"102.636719\" xlink:href=\"#DejaVuSans-48\"/>\n       <use x=\"166.259766\" xlink:href=\"#DejaVuSans-37\"/>\n       <use x=\"261.279297\" xlink:href=\"#DejaVuSans-32\"/>\n       <use x=\"293.066406\" xlink:href=\"#DejaVuSans-105\"/>\n       <use x=\"320.849609\" xlink:href=\"#DejaVuSans-110\"/>\n       <use x=\"384.228516\" xlink:href=\"#DejaVuSans-100\"/>\n       <use x=\"447.705078\" xlink:href=\"#DejaVuSans-101\"/>\n       <use x=\"509.228516\" xlink:href=\"#DejaVuSans-112\"/>\n       <use x=\"572.705078\" xlink:href=\"#DejaVuSans-101\"/>\n       <use x=\"634.228516\" xlink:href=\"#DejaVuSans-110\"/>\n       <use x=\"697.607422\" xlink:href=\"#DejaVuSans-100\"/>\n       <use x=\"761.083984\" xlink:href=\"#DejaVuSans-101\"/>\n       <use x=\"822.607422\" xlink:href=\"#DejaVuSans-110\"/>\n       <use x=\"885.986328\" xlink:href=\"#DejaVuSans-116\"/>\n       <use x=\"925.195312\" xlink:href=\"#DejaVuSans-32\"/>\n       <use x=\"956.982422\" xlink:href=\"#DejaVuSans-116\"/>\n       <use x=\"996.191406\" xlink:href=\"#DejaVuSans-101\"/>\n       <use x=\"1057.714844\" xlink:href=\"#DejaVuSans-115\"/>\n       <use x=\"1109.814453\" xlink:href=\"#DejaVuSans-116\"/>\n       <use x=\"1149.023438\" xlink:href=\"#DejaVuSans-41\"/>\n      </g>\n     </g>\n    </g>\n    <g id=\"xtick_3\">\n     <g id=\"line2d_3\">\n      <g>\n       <use style=\"stroke:#000000;stroke-width:0.8;\" x=\"225.753345\" xlink:href=\"#m5ad0be8e2b\" y=\"253.1955\"/>\n      </g>\n     </g>\n     <g id=\"text_3\">\n      <!-- Second study -->\n      <defs>\n       <path d=\"M 53.515625 70.515625 \nL 53.515625 60.890625 \nQ 47.90625 63.578125 42.921875 64.890625 \nQ 37.9375 66.21875 33.296875 66.21875 \nQ 25.25 66.21875 20.875 63.09375 \nQ 16.5 59.96875 16.5 54.203125 \nQ 16.5 49.359375 19.40625 46.890625 \nQ 22.3125 44.4375 30.421875 42.921875 \nL 36.375 41.703125 \nQ 47.40625 39.59375 52.65625 34.296875 \nQ 57.90625 29 57.90625 20.125 \nQ 57.90625 9.515625 50.796875 4.046875 \nQ 43.703125 -1.421875 29.984375 -1.421875 \nQ 24.8125 -1.421875 18.96875 -0.25 \nQ 13.140625 0.921875 6.890625 3.21875 \nL 6.890625 13.375 \nQ 12.890625 10.015625 18.65625 8.296875 \nQ 24.421875 6.59375 29.984375 6.59375 \nQ 38.421875 6.59375 43.015625 9.90625 \nQ 47.609375 13.234375 47.609375 19.390625 \nQ 47.609375 24.75 44.3125 27.78125 \nQ 41.015625 30.8125 33.5 32.328125 \nL 27.484375 33.5 \nQ 16.453125 35.6875 11.515625 40.375 \nQ 6.59375 45.0625 6.59375 53.421875 \nQ 6.59375 63.09375 13.40625 68.65625 \nQ 20.21875 74.21875 32.171875 74.21875 \nQ 37.3125 74.21875 42.625 73.28125 \nQ 47.953125 72.359375 53.515625 70.515625 \nz\n\" id=\"DejaVuSans-83\"/>\n       <path d=\"M 48.78125 52.59375 \nL 48.78125 44.1875 \nQ 44.96875 46.296875 41.140625 47.34375 \nQ 37.3125 48.390625 33.40625 48.390625 \nQ 24.65625 48.390625 19.8125 42.84375 \nQ 14.984375 37.3125 14.984375 27.296875 \nQ 14.984375 17.28125 19.8125 11.734375 \nQ 24.65625 6.203125 33.40625 6.203125 \nQ 37.3125 6.203125 41.140625 7.25 \nQ 44.96875 8.296875 48.78125 10.40625 \nL 48.78125 2.09375 \nQ 45.015625 0.34375 40.984375 -0.53125 \nQ 36.96875 -1.421875 32.421875 -1.421875 \nQ 20.0625 -1.421875 12.78125 6.34375 \nQ 5.515625 14.109375 5.515625 27.296875 \nQ 5.515625 40.671875 12.859375 48.328125 \nQ 20.21875 56 33.015625 56 \nQ 37.15625 56 41.109375 55.140625 \nQ 45.0625 54.296875 48.78125 52.59375 \nz\n\" id=\"DejaVuSans-99\"/>\n      </defs>\n      <g transform=\"translate(199.803852 313.451689)rotate(-45)scale(0.1 -0.1)\">\n       <use xlink:href=\"#DejaVuSans-83\"/>\n       <use x=\"63.476562\" xlink:href=\"#DejaVuSans-101\"/>\n       <use x=\"125\" xlink:href=\"#DejaVuSans-99\"/>\n       <use x=\"179.980469\" xlink:href=\"#DejaVuSans-111\"/>\n       <use x=\"241.162109\" xlink:href=\"#DejaVuSans-110\"/>\n       <use x=\"304.541016\" xlink:href=\"#DejaVuSans-100\"/>\n       <use x=\"368.017578\" xlink:href=\"#DejaVuSans-32\"/>\n       <use x=\"399.804688\" xlink:href=\"#DejaVuSans-115\"/>\n       <use x=\"451.904297\" xlink:href=\"#DejaVuSans-116\"/>\n       <use x=\"491.113281\" xlink:href=\"#DejaVuSans-117\"/>\n       <use x=\"554.492188\" xlink:href=\"#DejaVuSans-100\"/>\n       <use x=\"617.96875\" xlink:href=\"#DejaVuSans-121\"/>\n      </g>\n      <!-- (10-folds CV) -->\n      <g transform=\"translate(208.642797 320.448842)rotate(-45)scale(0.1 -0.1)\">\n       <use xlink:href=\"#DejaVuSans-40\"/>\n       <use x=\"39.013672\" xlink:href=\"#DejaVuSans-49\"/>\n       <use x=\"102.636719\" xlink:href=\"#DejaVuSans-48\"/>\n       <use x=\"166.259766\" xlink:href=\"#DejaVuSans-45\"/>\n       <use x=\"202.34375\" xlink:href=\"#DejaVuSans-102\"/>\n       <use x=\"237.548828\" xlink:href=\"#DejaVuSans-111\"/>\n       <use x=\"298.730469\" xlink:href=\"#DejaVuSans-108\"/>\n       <use x=\"326.513672\" xlink:href=\"#DejaVuSans-100\"/>\n       <use x=\"389.990234\" xlink:href=\"#DejaVuSans-115\"/>\n       <use x=\"442.089844\" xlink:href=\"#DejaVuSans-32\"/>\n       <use x=\"473.876953\" xlink:href=\"#DejaVuSans-67\"/>\n       <use x=\"543.701172\" xlink:href=\"#DejaVuSans-86\"/>\n       <use x=\"612.109375\" xlink:href=\"#DejaVuSans-41\"/>\n      </g>\n     </g>\n    </g>\n    <g id=\"xtick_4\">\n     <g id=\"line2d_4\">\n      <g>\n       <use style=\"stroke:#000000;stroke-width:0.8;\" x=\"270.393345\" xlink:href=\"#m5ad0be8e2b\" y=\"253.1955\"/>\n      </g>\n     </g>\n     <g id=\"text_4\">\n      <!-- Second study -->\n      <g transform=\"translate(244.443852 331.513848)rotate(-45)scale(0.1 -0.1)\">\n       <use xlink:href=\"#DejaVuSans-83\"/>\n       <use x=\"63.476562\" xlink:href=\"#DejaVuSans-101\"/>\n       <use x=\"125\" xlink:href=\"#DejaVuSans-99\"/>\n       <use x=\"179.980469\" xlink:href=\"#DejaVuSans-111\"/>\n       <use x=\"241.162109\" xlink:href=\"#DejaVuSans-110\"/>\n       <use x=\"304.541016\" xlink:href=\"#DejaVuSans-100\"/>\n       <use x=\"368.017578\" xlink:href=\"#DejaVuSans-32\"/>\n       <use x=\"399.804688\" xlink:href=\"#DejaVuSans-115\"/>\n       <use x=\"451.904297\" xlink:href=\"#DejaVuSans-116\"/>\n       <use x=\"491.113281\" xlink:href=\"#DejaVuSans-117\"/>\n       <use x=\"554.492188\" xlink:href=\"#DejaVuSans-100\"/>\n       <use x=\"617.96875\" xlink:href=\"#DejaVuSans-121\"/>\n      </g>\n      <!-- (30% independent test) -->\n      <g transform=\"translate(234.299742 357.494056)rotate(-45)scale(0.1 -0.1)\">\n       <use xlink:href=\"#DejaVuSans-40\"/>\n       <use x=\"39.013672\" xlink:href=\"#DejaVuSans-51\"/>\n       <use x=\"102.636719\" xlink:href=\"#DejaVuSans-48\"/>\n       <use x=\"166.259766\" xlink:href=\"#DejaVuSans-37\"/>\n       <use x=\"261.279297\" xlink:href=\"#DejaVuSans-32\"/>\n       <use x=\"293.066406\" xlink:href=\"#DejaVuSans-105\"/>\n       <use x=\"320.849609\" xlink:href=\"#DejaVuSans-110\"/>\n       <use x=\"384.228516\" xlink:href=\"#DejaVuSans-100\"/>\n       <use x=\"447.705078\" xlink:href=\"#DejaVuSans-101\"/>\n       <use x=\"509.228516\" xlink:href=\"#DejaVuSans-112\"/>\n       <use x=\"572.705078\" xlink:href=\"#DejaVuSans-101\"/>\n       <use x=\"634.228516\" xlink:href=\"#DejaVuSans-110\"/>\n       <use x=\"697.607422\" xlink:href=\"#DejaVuSans-100\"/>\n       <use x=\"761.083984\" xlink:href=\"#DejaVuSans-101\"/>\n       <use x=\"822.607422\" xlink:href=\"#DejaVuSans-110\"/>\n       <use x=\"885.986328\" xlink:href=\"#DejaVuSans-116\"/>\n       <use x=\"925.195312\" xlink:href=\"#DejaVuSans-32\"/>\n       <use x=\"956.982422\" xlink:href=\"#DejaVuSans-116\"/>\n       <use x=\"996.191406\" xlink:href=\"#DejaVuSans-101\"/>\n       <use x=\"1057.714844\" xlink:href=\"#DejaVuSans-115\"/>\n       <use x=\"1109.814453\" xlink:href=\"#DejaVuSans-116\"/>\n       <use x=\"1149.023438\" xlink:href=\"#DejaVuSans-41\"/>\n      </g>\n     </g>\n    </g>\n    <g id=\"text_5\">\n     <!-- Experiments -->\n     <defs>\n      <path d=\"M 9.8125 72.90625 \nL 55.90625 72.90625 \nL 55.90625 64.59375 \nL 19.671875 64.59375 \nL 19.671875 43.015625 \nL 54.390625 43.015625 \nL 54.390625 34.71875 \nL 19.671875 34.71875 \nL 19.671875 8.296875 \nL 56.78125 8.296875 \nL 56.78125 0 \nL 9.8125 0 \nz\n\" id=\"DejaVuSans-69\"/>\n      <path d=\"M 54.890625 54.6875 \nL 35.109375 28.078125 \nL 55.90625 0 \nL 45.3125 0 \nL 29.390625 21.484375 \nL 13.484375 0 \nL 2.875 0 \nL 24.125 28.609375 \nL 4.6875 54.6875 \nL 15.28125 54.6875 \nL 29.78125 35.203125 \nL 44.28125 54.6875 \nz\n\" id=\"DejaVuSans-120\"/>\n      <path d=\"M 52 44.1875 \nQ 55.375 50.25 60.0625 53.125 \nQ 64.75 56 71.09375 56 \nQ 79.640625 56 84.28125 50.015625 \nQ 88.921875 44.046875 88.921875 33.015625 \nL 88.921875 0 \nL 79.890625 0 \nL 79.890625 32.71875 \nQ 79.890625 40.578125 77.09375 44.375 \nQ 74.3125 48.1875 68.609375 48.1875 \nQ 61.625 48.1875 57.5625 43.546875 \nQ 53.515625 38.921875 53.515625 30.90625 \nL 53.515625 0 \nL 44.484375 0 \nL 44.484375 32.71875 \nQ 44.484375 40.625 41.703125 44.40625 \nQ 38.921875 48.1875 33.109375 48.1875 \nQ 26.21875 48.1875 22.15625 43.53125 \nQ 18.109375 38.875 18.109375 30.90625 \nL 18.109375 0 \nL 9.078125 0 \nL 9.078125 54.6875 \nL 18.109375 54.6875 \nL 18.109375 46.1875 \nQ 21.1875 51.21875 25.484375 53.609375 \nQ 29.78125 56 35.6875 56 \nQ 41.65625 56 45.828125 52.96875 \nQ 50 49.953125 52 44.1875 \nz\n\" id=\"DejaVuSans-109\"/>\n     </defs>\n     <g transform=\"translate(171.938814 370.563055)scale(0.1 -0.1)\">\n      <use xlink:href=\"#DejaVuSans-69\"/>\n      <use x=\"63.183594\" xlink:href=\"#DejaVuSans-120\"/>\n      <use x=\"122.363281\" xlink:href=\"#DejaVuSans-112\"/>\n      <use x=\"185.839844\" xlink:href=\"#DejaVuSans-101\"/>\n      <use x=\"247.363281\" xlink:href=\"#DejaVuSans-114\"/>\n      <use x=\"288.476562\" xlink:href=\"#DejaVuSans-105\"/>\n      <use x=\"316.259766\" xlink:href=\"#DejaVuSans-109\"/>\n      <use x=\"413.671875\" xlink:href=\"#DejaVuSans-101\"/>\n      <use x=\"475.195312\" xlink:href=\"#DejaVuSans-110\"/>\n      <use x=\"538.574219\" xlink:href=\"#DejaVuSans-116\"/>\n      <use x=\"577.783203\" xlink:href=\"#DejaVuSans-115\"/>\n     </g>\n    </g>\n   </g>\n   <g id=\"matplotlib.axis_2\">\n    <g id=\"ytick_1\">\n     <g id=\"line2d_5\">\n      <defs>\n       <path d=\"M 0 0 \nL -3.5 0 \n\" id=\"m1e0bb55c3a\" style=\"stroke:#000000;stroke-width:0.8;\"/>\n      </defs>\n      <g>\n       <use style=\"stroke:#000000;stroke-width:0.8;\" x=\"114.153345\" xlink:href=\"#m1e0bb55c3a\" y=\"57.4995\"/>\n      </g>\n     </g>\n     <g id=\"text_6\">\n      <!-- DELFI -->\n      <defs>\n       <path d=\"M 19.671875 64.796875 \nL 19.671875 8.109375 \nL 31.59375 8.109375 \nQ 46.6875 8.109375 53.6875 14.9375 \nQ 60.6875 21.78125 60.6875 36.53125 \nQ 60.6875 51.171875 53.6875 57.984375 \nQ 46.6875 64.796875 31.59375 64.796875 \nz\nM 9.8125 72.90625 \nL 30.078125 72.90625 \nQ 51.265625 72.90625 61.171875 64.09375 \nQ 71.09375 55.28125 71.09375 36.53125 \nQ 71.09375 17.671875 61.125 8.828125 \nQ 51.171875 0 30.078125 0 \nL 9.8125 0 \nz\n\" id=\"DejaVuSans-68\"/>\n       <path d=\"M 9.8125 72.90625 \nL 19.671875 72.90625 \nL 19.671875 8.296875 \nL 55.171875 8.296875 \nL 55.171875 0 \nL 9.8125 0 \nz\n\" id=\"DejaVuSans-76\"/>\n       <path d=\"M 9.8125 72.90625 \nL 19.671875 72.90625 \nL 19.671875 0 \nL 9.8125 0 \nz\n\" id=\"DejaVuSans-73\"/>\n      </defs>\n      <g transform=\"translate(81.611748 66.962236)rotate(-30)scale(0.1 -0.1)\">\n       <use xlink:href=\"#DejaVuSans-68\"/>\n       <use x=\"77.001953\" xlink:href=\"#DejaVuSans-69\"/>\n       <use x=\"140.185547\" xlink:href=\"#DejaVuSans-76\"/>\n       <use x=\"195.898438\" xlink:href=\"#DejaVuSans-70\"/>\n       <use x=\"253.417969\" xlink:href=\"#DejaVuSans-73\"/>\n      </g>\n     </g>\n    </g>\n    <g id=\"ytick_2\">\n     <g id=\"line2d_6\">\n      <g>\n       <use style=\"stroke:#000000;stroke-width:0.8;\" x=\"114.153345\" xlink:href=\"#m1e0bb55c3a\" y=\"100.9875\"/>\n      </g>\n     </g>\n     <g id=\"text_7\">\n      <!-- CancerSEEK -->\n      <defs>\n       <path d=\"M 34.28125 27.484375 \nQ 23.390625 27.484375 19.1875 25 \nQ 14.984375 22.515625 14.984375 16.5 \nQ 14.984375 11.71875 18.140625 8.90625 \nQ 21.296875 6.109375 26.703125 6.109375 \nQ 34.1875 6.109375 38.703125 11.40625 \nQ 43.21875 16.703125 43.21875 25.484375 \nL 43.21875 27.484375 \nz\nM 52.203125 31.203125 \nL 52.203125 0 \nL 43.21875 0 \nL 43.21875 8.296875 \nQ 40.140625 3.328125 35.546875 0.953125 \nQ 30.953125 -1.421875 24.3125 -1.421875 \nQ 15.921875 -1.421875 10.953125 3.296875 \nQ 6 8.015625 6 15.921875 \nQ 6 25.140625 12.171875 29.828125 \nQ 18.359375 34.515625 30.609375 34.515625 \nL 43.21875 34.515625 \nL 43.21875 35.40625 \nQ 43.21875 41.609375 39.140625 45 \nQ 35.0625 48.390625 27.6875 48.390625 \nQ 23 48.390625 18.546875 47.265625 \nQ 14.109375 46.140625 10.015625 43.890625 \nL 10.015625 52.203125 \nQ 14.9375 54.109375 19.578125 55.046875 \nQ 24.21875 56 28.609375 56 \nQ 40.484375 56 46.34375 49.84375 \nQ 52.203125 43.703125 52.203125 31.203125 \nz\n\" id=\"DejaVuSans-97\"/>\n       <path d=\"M 9.8125 72.90625 \nL 19.671875 72.90625 \nL 19.671875 42.09375 \nL 52.390625 72.90625 \nL 65.09375 72.90625 \nL 28.90625 38.921875 \nL 67.671875 0 \nL 54.6875 0 \nL 19.671875 35.109375 \nL 19.671875 0 \nL 9.8125 0 \nz\n\" id=\"DejaVuSans-75\"/>\n      </defs>\n      <g transform=\"translate(53.498399 118.565861)rotate(-30)scale(0.1 -0.1)\">\n       <use xlink:href=\"#DejaVuSans-67\"/>\n       <use x=\"69.824219\" xlink:href=\"#DejaVuSans-97\"/>\n       <use x=\"131.103516\" xlink:href=\"#DejaVuSans-110\"/>\n       <use x=\"194.482422\" xlink:href=\"#DejaVuSans-99\"/>\n       <use x=\"249.462891\" xlink:href=\"#DejaVuSans-101\"/>\n       <use x=\"310.986328\" xlink:href=\"#DejaVuSans-114\"/>\n       <use x=\"352.099609\" xlink:href=\"#DejaVuSans-83\"/>\n       <use x=\"415.576172\" xlink:href=\"#DejaVuSans-69\"/>\n       <use x=\"478.759766\" xlink:href=\"#DejaVuSans-69\"/>\n       <use x=\"541.943359\" xlink:href=\"#DejaVuSans-75\"/>\n      </g>\n     </g>\n    </g>\n    <g id=\"ytick_3\">\n     <g id=\"line2d_7\">\n      <g>\n       <use style=\"stroke:#000000;stroke-width:0.8;\" x=\"114.153345\" xlink:href=\"#m1e0bb55c3a\" y=\"144.4755\"/>\n      </g>\n     </g>\n     <g id=\"text_8\">\n      <!-- ASVM -->\n      <defs>\n       <path d=\"M 34.1875 63.1875 \nL 20.796875 26.90625 \nL 47.609375 26.90625 \nz\nM 28.609375 72.90625 \nL 39.796875 72.90625 \nL 67.578125 0 \nL 57.328125 0 \nL 50.6875 18.703125 \nL 17.828125 18.703125 \nL 11.1875 0 \nL 0.78125 0 \nz\n\" id=\"DejaVuSans-65\"/>\n       <path d=\"M 9.8125 72.90625 \nL 24.515625 72.90625 \nL 43.109375 23.296875 \nL 61.8125 72.90625 \nL 76.515625 72.90625 \nL 76.515625 0 \nL 66.890625 0 \nL 66.890625 64.015625 \nL 48.09375 14.015625 \nL 38.1875 14.015625 \nL 19.390625 64.015625 \nL 19.390625 0 \nL 9.8125 0 \nz\n\" id=\"DejaVuSans-77\"/>\n      </defs>\n      <g transform=\"translate(81.295108 154.029642)rotate(-30)scale(0.1 -0.1)\">\n       <use xlink:href=\"#DejaVuSans-65\"/>\n       <use x=\"68.408203\" xlink:href=\"#DejaVuSans-83\"/>\n       <use x=\"131.884766\" xlink:href=\"#DejaVuSans-86\"/>\n       <use x=\"200.292969\" xlink:href=\"#DejaVuSans-77\"/>\n      </g>\n     </g>\n    </g>\n    <g id=\"ytick_4\">\n     <g id=\"line2d_8\">\n      <g>\n       <use style=\"stroke:#000000;stroke-width:0.8;\" x=\"114.153345\" xlink:href=\"#m1e0bb55c3a\" y=\"187.9635\"/>\n      </g>\n     </g>\n     <g id=\"text_9\">\n      <!-- CancerEMC -->\n      <g transform=\"translate(56.628268 204.638345)rotate(-30)scale(0.1 -0.1)\">\n       <use xlink:href=\"#DejaVuSans-67\"/>\n       <use x=\"69.824219\" xlink:href=\"#DejaVuSans-97\"/>\n       <use x=\"131.103516\" xlink:href=\"#DejaVuSans-110\"/>\n       <use x=\"194.482422\" xlink:href=\"#DejaVuSans-99\"/>\n       <use x=\"249.462891\" xlink:href=\"#DejaVuSans-101\"/>\n       <use x=\"310.986328\" xlink:href=\"#DejaVuSans-114\"/>\n       <use x=\"352.099609\" xlink:href=\"#DejaVuSans-69\"/>\n       <use x=\"415.283203\" xlink:href=\"#DejaVuSans-77\"/>\n       <use x=\"501.5625\" xlink:href=\"#DejaVuSans-67\"/>\n      </g>\n     </g>\n    </g>\n    <g id=\"ytick_5\">\n     <g id=\"line2d_9\">\n      <g>\n       <use style=\"stroke:#000000;stroke-width:0.8;\" x=\"114.153345\" xlink:href=\"#m1e0bb55c3a\" y=\"231.4515\"/>\n      </g>\n     </g>\n     <g id=\"text_10\">\n      <!-- BiDiEarlyCancerDF -->\n      <defs>\n       <path d=\"M 19.671875 34.8125 \nL 19.671875 8.109375 \nL 35.5 8.109375 \nQ 43.453125 8.109375 47.28125 11.40625 \nQ 51.125 14.703125 51.125 21.484375 \nQ 51.125 28.328125 47.28125 31.5625 \nQ 43.453125 34.8125 35.5 34.8125 \nz\nM 19.671875 64.796875 \nL 19.671875 42.828125 \nL 34.28125 42.828125 \nQ 41.5 42.828125 45.03125 45.53125 \nQ 48.578125 48.25 48.578125 53.8125 \nQ 48.578125 59.328125 45.03125 62.0625 \nQ 41.5 64.796875 34.28125 64.796875 \nz\nM 9.8125 72.90625 \nL 35.015625 72.90625 \nQ 46.296875 72.90625 52.390625 68.21875 \nQ 58.5 63.53125 58.5 54.890625 \nQ 58.5 48.1875 55.375 44.234375 \nQ 52.25 40.28125 46.1875 39.3125 \nQ 53.46875 37.75 57.5 32.78125 \nQ 61.53125 27.828125 61.53125 20.40625 \nQ 61.53125 10.640625 54.890625 5.3125 \nQ 48.25 0 35.984375 0 \nL 9.8125 0 \nz\n\" id=\"DejaVuSans-66\"/>\n      </defs>\n      <g transform=\"translate(24.677344 257.349783)rotate(-30)scale(0.1 -0.1)\">\n       <use xlink:href=\"#DejaVuSans-66\"/>\n       <use x=\"68.603516\" xlink:href=\"#DejaVuSans-105\"/>\n       <use x=\"96.386719\" xlink:href=\"#DejaVuSans-68\"/>\n       <use x=\"173.388672\" xlink:href=\"#DejaVuSans-105\"/>\n       <use x=\"201.171875\" xlink:href=\"#DejaVuSans-69\"/>\n       <use x=\"264.355469\" xlink:href=\"#DejaVuSans-97\"/>\n       <use x=\"325.634766\" xlink:href=\"#DejaVuSans-114\"/>\n       <use x=\"366.748047\" xlink:href=\"#DejaVuSans-108\"/>\n       <use x=\"394.53125\" xlink:href=\"#DejaVuSans-121\"/>\n       <use x=\"453.710938\" xlink:href=\"#DejaVuSans-67\"/>\n       <use x=\"523.535156\" xlink:href=\"#DejaVuSans-97\"/>\n       <use x=\"584.814453\" xlink:href=\"#DejaVuSans-110\"/>\n       <use x=\"648.193359\" xlink:href=\"#DejaVuSans-99\"/>\n       <use x=\"703.173828\" xlink:href=\"#DejaVuSans-101\"/>\n       <use x=\"764.697266\" xlink:href=\"#DejaVuSans-114\"/>\n       <use x=\"805.810547\" xlink:href=\"#DejaVuSans-68\"/>\n       <use x=\"882.8125\" xlink:href=\"#DejaVuSans-70\"/>\n      </g>\n     </g>\n    </g>\n    <g id=\"text_11\">\n     <!-- Methods -->\n     <defs>\n      <path d=\"M 54.890625 33.015625 \nL 54.890625 0 \nL 45.90625 0 \nL 45.90625 32.71875 \nQ 45.90625 40.484375 42.875 44.328125 \nQ 39.84375 48.1875 33.796875 48.1875 \nQ 26.515625 48.1875 22.3125 43.546875 \nQ 18.109375 38.921875 18.109375 30.90625 \nL 18.109375 0 \nL 9.078125 0 \nL 9.078125 75.984375 \nL 18.109375 75.984375 \nL 18.109375 46.1875 \nQ 21.34375 51.125 25.703125 53.5625 \nQ 30.078125 56 35.796875 56 \nQ 45.21875 56 50.046875 50.171875 \nQ 54.890625 44.34375 54.890625 33.015625 \nz\n\" id=\"DejaVuSans-104\"/>\n     </defs>\n     <g transform=\"translate(14.798438 165.833312)rotate(-90)scale(0.1 -0.1)\">\n      <use xlink:href=\"#DejaVuSans-77\"/>\n      <use x=\"86.279297\" xlink:href=\"#DejaVuSans-101\"/>\n      <use x=\"147.802734\" xlink:href=\"#DejaVuSans-116\"/>\n      <use x=\"187.011719\" xlink:href=\"#DejaVuSans-104\"/>\n      <use x=\"250.390625\" xlink:href=\"#DejaVuSans-111\"/>\n      <use x=\"311.572266\" xlink:href=\"#DejaVuSans-100\"/>\n      <use x=\"375.048828\" xlink:href=\"#DejaVuSans-115\"/>\n     </g>\n    </g>\n   </g>\n   <g id=\"text_12\">\n    <!-- 0.909 -->\n    <defs>\n     <path d=\"M 10.6875 12.40625 \nL 21 12.40625 \nL 21 0 \nL 10.6875 0 \nz\n\" id=\"DejaVuSans-46\"/>\n     <path d=\"M 10.984375 1.515625 \nL 10.984375 10.5 \nQ 14.703125 8.734375 18.5 7.8125 \nQ 22.3125 6.890625 25.984375 6.890625 \nQ 35.75 6.890625 40.890625 13.453125 \nQ 46.046875 20.015625 46.78125 33.40625 \nQ 43.953125 29.203125 39.59375 26.953125 \nQ 35.25 24.703125 29.984375 24.703125 \nQ 19.046875 24.703125 12.671875 31.3125 \nQ 6.296875 37.9375 6.296875 49.421875 \nQ 6.296875 60.640625 12.9375 67.421875 \nQ 19.578125 74.21875 30.609375 74.21875 \nQ 43.265625 74.21875 49.921875 64.515625 \nQ 56.59375 54.828125 56.59375 36.375 \nQ 56.59375 19.140625 48.40625 8.859375 \nQ 40.234375 -1.421875 26.421875 -1.421875 \nQ 22.703125 -1.421875 18.890625 -0.6875 \nQ 15.09375 0.046875 10.984375 1.515625 \nz\nM 30.609375 32.421875 \nQ 37.25 32.421875 41.125 36.953125 \nQ 45.015625 41.5 45.015625 49.421875 \nQ 45.015625 57.28125 41.125 61.84375 \nQ 37.25 66.40625 30.609375 66.40625 \nQ 23.96875 66.40625 20.09375 61.84375 \nQ 16.21875 57.28125 16.21875 49.421875 \nQ 16.21875 41.5 20.09375 36.953125 \nQ 23.96875 32.421875 30.609375 32.421875 \nz\n\" id=\"DejaVuSans-57\"/>\n    </defs>\n    <g style=\"fill:#ffffff;\" transform=\"translate(122.159283 60.258875)scale(0.1 -0.1)\">\n     <use xlink:href=\"#DejaVuSans-48\"/>\n     <use x=\"63.623047\" xlink:href=\"#DejaVuSans-46\"/>\n     <use x=\"95.410156\" xlink:href=\"#DejaVuSans-57\"/>\n     <use x=\"159.033203\" xlink:href=\"#DejaVuSans-48\"/>\n     <use x=\"222.65625\" xlink:href=\"#DejaVuSans-57\"/>\n    </g>\n   </g>\n   <g id=\"text_13\">\n    <!-- 0.92 -->\n    <defs>\n     <path d=\"M 19.1875 8.296875 \nL 53.609375 8.296875 \nL 53.609375 0 \nL 7.328125 0 \nL 7.328125 8.296875 \nQ 12.9375 14.109375 22.625 23.890625 \nQ 32.328125 33.6875 34.8125 36.53125 \nQ 39.546875 41.84375 41.421875 45.53125 \nQ 43.3125 49.21875 43.3125 52.78125 \nQ 43.3125 58.59375 39.234375 62.25 \nQ 35.15625 65.921875 28.609375 65.921875 \nQ 23.96875 65.921875 18.8125 64.3125 \nQ 13.671875 62.703125 7.8125 59.421875 \nL 7.8125 69.390625 \nQ 13.765625 71.78125 18.9375 73 \nQ 24.125 74.21875 28.421875 74.21875 \nQ 39.75 74.21875 46.484375 68.546875 \nQ 53.21875 62.890625 53.21875 53.421875 \nQ 53.21875 48.921875 51.53125 44.890625 \nQ 49.859375 40.875 45.40625 35.40625 \nQ 44.1875 33.984375 37.640625 27.21875 \nQ 31.109375 20.453125 19.1875 8.296875 \nz\n\" id=\"DejaVuSans-50\"/>\n    </defs>\n    <g style=\"fill:#262626;\" transform=\"translate(169.980533 60.258875)scale(0.1 -0.1)\">\n     <use xlink:href=\"#DejaVuSans-48\"/>\n     <use x=\"63.623047\" xlink:href=\"#DejaVuSans-46\"/>\n     <use x=\"95.410156\" xlink:href=\"#DejaVuSans-57\"/>\n     <use x=\"159.033203\" xlink:href=\"#DejaVuSans-50\"/>\n    </g>\n   </g>\n   <g id=\"text_14\">\n    <!-- 0.967 -->\n    <defs>\n     <path d=\"M 33.015625 40.375 \nQ 26.375 40.375 22.484375 35.828125 \nQ 18.609375 31.296875 18.609375 23.390625 \nQ 18.609375 15.53125 22.484375 10.953125 \nQ 26.375 6.390625 33.015625 6.390625 \nQ 39.65625 6.390625 43.53125 10.953125 \nQ 47.40625 15.53125 47.40625 23.390625 \nQ 47.40625 31.296875 43.53125 35.828125 \nQ 39.65625 40.375 33.015625 40.375 \nz\nM 52.59375 71.296875 \nL 52.59375 62.3125 \nQ 48.875 64.0625 45.09375 64.984375 \nQ 41.3125 65.921875 37.59375 65.921875 \nQ 27.828125 65.921875 22.671875 59.328125 \nQ 17.53125 52.734375 16.796875 39.40625 \nQ 19.671875 43.65625 24.015625 45.921875 \nQ 28.375 48.1875 33.59375 48.1875 \nQ 44.578125 48.1875 50.953125 41.515625 \nQ 57.328125 34.859375 57.328125 23.390625 \nQ 57.328125 12.15625 50.6875 5.359375 \nQ 44.046875 -1.421875 33.015625 -1.421875 \nQ 20.359375 -1.421875 13.671875 8.265625 \nQ 6.984375 17.96875 6.984375 36.375 \nQ 6.984375 53.65625 15.1875 63.9375 \nQ 23.390625 74.21875 37.203125 74.21875 \nQ 40.921875 74.21875 44.703125 73.484375 \nQ 48.484375 72.75 52.59375 71.296875 \nz\n\" id=\"DejaVuSans-54\"/>\n     <path d=\"M 8.203125 72.90625 \nL 55.078125 72.90625 \nL 55.078125 68.703125 \nL 28.609375 0 \nL 18.3125 0 \nL 43.21875 64.59375 \nL 8.203125 64.59375 \nz\n\" id=\"DejaVuSans-55\"/>\n    </defs>\n    <g style=\"fill:#262626;\" transform=\"translate(211.439283 60.258875)scale(0.1 -0.1)\">\n     <use xlink:href=\"#DejaVuSans-48\"/>\n     <use x=\"63.623047\" xlink:href=\"#DejaVuSans-46\"/>\n     <use x=\"95.410156\" xlink:href=\"#DejaVuSans-57\"/>\n     <use x=\"159.033203\" xlink:href=\"#DejaVuSans-54\"/>\n     <use x=\"222.65625\" xlink:href=\"#DejaVuSans-55\"/>\n    </g>\n   </g>\n   <g id=\"text_15\">\n    <!-- 0.96 -->\n    <g style=\"fill:#262626;\" transform=\"translate(259.260533 60.258875)scale(0.1 -0.1)\">\n     <use xlink:href=\"#DejaVuSans-48\"/>\n     <use x=\"63.623047\" xlink:href=\"#DejaVuSans-46\"/>\n     <use x=\"95.410156\" xlink:href=\"#DejaVuSans-57\"/>\n     <use x=\"159.033203\" xlink:href=\"#DejaVuSans-54\"/>\n    </g>\n   </g>\n   <g id=\"text_16\">\n    <!-- 0.888 -->\n    <defs>\n     <path d=\"M 31.78125 34.625 \nQ 24.75 34.625 20.71875 30.859375 \nQ 16.703125 27.09375 16.703125 20.515625 \nQ 16.703125 13.921875 20.71875 10.15625 \nQ 24.75 6.390625 31.78125 6.390625 \nQ 38.8125 6.390625 42.859375 10.171875 \nQ 46.921875 13.96875 46.921875 20.515625 \nQ 46.921875 27.09375 42.890625 30.859375 \nQ 38.875 34.625 31.78125 34.625 \nz\nM 21.921875 38.8125 \nQ 15.578125 40.375 12.03125 44.71875 \nQ 8.5 49.078125 8.5 55.328125 \nQ 8.5 64.0625 14.71875 69.140625 \nQ 20.953125 74.21875 31.78125 74.21875 \nQ 42.671875 74.21875 48.875 69.140625 \nQ 55.078125 64.0625 55.078125 55.328125 \nQ 55.078125 49.078125 51.53125 44.71875 \nQ 48 40.375 41.703125 38.8125 \nQ 48.828125 37.15625 52.796875 32.3125 \nQ 56.78125 27.484375 56.78125 20.515625 \nQ 56.78125 9.90625 50.3125 4.234375 \nQ 43.84375 -1.421875 31.78125 -1.421875 \nQ 19.734375 -1.421875 13.25 4.234375 \nQ 6.78125 9.90625 6.78125 20.515625 \nQ 6.78125 27.484375 10.78125 32.3125 \nQ 14.796875 37.15625 21.921875 38.8125 \nz\nM 18.3125 54.390625 \nQ 18.3125 48.734375 21.84375 45.5625 \nQ 25.390625 42.390625 31.78125 42.390625 \nQ 38.140625 42.390625 41.71875 45.5625 \nQ 45.3125 48.734375 45.3125 54.390625 \nQ 45.3125 60.0625 41.71875 63.234375 \nQ 38.140625 66.40625 31.78125 66.40625 \nQ 25.390625 66.40625 21.84375 63.234375 \nQ 18.3125 60.0625 18.3125 54.390625 \nz\n\" id=\"DejaVuSans-56\"/>\n    </defs>\n    <g style=\"fill:#ffffff;\" transform=\"translate(122.159283 103.746875)scale(0.1 -0.1)\">\n     <use xlink:href=\"#DejaVuSans-48\"/>\n     <use x=\"63.623047\" xlink:href=\"#DejaVuSans-46\"/>\n     <use x=\"95.410156\" xlink:href=\"#DejaVuSans-56\"/>\n     <use x=\"159.033203\" xlink:href=\"#DejaVuSans-56\"/>\n     <use x=\"222.65625\" xlink:href=\"#DejaVuSans-56\"/>\n    </g>\n   </g>\n   <g id=\"text_17\">\n    <!-- 0.884 -->\n    <defs>\n     <path d=\"M 37.796875 64.3125 \nL 12.890625 25.390625 \nL 37.796875 25.390625 \nz\nM 35.203125 72.90625 \nL 47.609375 72.90625 \nL 47.609375 25.390625 \nL 58.015625 25.390625 \nL 58.015625 17.1875 \nL 47.609375 17.1875 \nL 47.609375 0 \nL 37.796875 0 \nL 37.796875 17.1875 \nL 4.890625 17.1875 \nL 4.890625 26.703125 \nz\n\" id=\"DejaVuSans-52\"/>\n    </defs>\n    <g style=\"fill:#ffffff;\" transform=\"translate(166.799283 103.746875)scale(0.1 -0.1)\">\n     <use xlink:href=\"#DejaVuSans-48\"/>\n     <use x=\"63.623047\" xlink:href=\"#DejaVuSans-46\"/>\n     <use x=\"95.410156\" xlink:href=\"#DejaVuSans-56\"/>\n     <use x=\"159.033203\" xlink:href=\"#DejaVuSans-56\"/>\n     <use x=\"222.65625\" xlink:href=\"#DejaVuSans-52\"/>\n    </g>\n   </g>\n   <g id=\"text_18\">\n    <!-- 0.95 -->\n    <defs>\n     <path d=\"M 10.796875 72.90625 \nL 49.515625 72.90625 \nL 49.515625 64.59375 \nL 19.828125 64.59375 \nL 19.828125 46.734375 \nQ 21.96875 47.46875 24.109375 47.828125 \nQ 26.265625 48.1875 28.421875 48.1875 \nQ 40.625 48.1875 47.75 41.5 \nQ 54.890625 34.8125 54.890625 23.390625 \nQ 54.890625 11.625 47.5625 5.09375 \nQ 40.234375 -1.421875 26.90625 -1.421875 \nQ 22.3125 -1.421875 17.546875 -0.640625 \nQ 12.796875 0.140625 7.71875 1.703125 \nL 7.71875 11.625 \nQ 12.109375 9.234375 16.796875 8.0625 \nQ 21.484375 6.890625 26.703125 6.890625 \nQ 35.15625 6.890625 40.078125 11.328125 \nQ 45.015625 15.765625 45.015625 23.390625 \nQ 45.015625 31 40.078125 35.4375 \nQ 35.15625 39.890625 26.703125 39.890625 \nQ 22.75 39.890625 18.8125 39.015625 \nQ 14.890625 38.140625 10.796875 36.28125 \nz\n\" id=\"DejaVuSans-53\"/>\n    </defs>\n    <g style=\"fill:#262626;\" transform=\"translate(214.620533 103.746875)scale(0.1 -0.1)\">\n     <use xlink:href=\"#DejaVuSans-48\"/>\n     <use x=\"63.623047\" xlink:href=\"#DejaVuSans-46\"/>\n     <use x=\"95.410156\" xlink:href=\"#DejaVuSans-57\"/>\n     <use x=\"159.033203\" xlink:href=\"#DejaVuSans-53\"/>\n    </g>\n   </g>\n   <g id=\"text_19\">\n    <!-- 0.941 -->\n    <g style=\"fill:#262626;\" transform=\"translate(256.079283 103.746875)scale(0.1 -0.1)\">\n     <use xlink:href=\"#DejaVuSans-48\"/>\n     <use x=\"63.623047\" xlink:href=\"#DejaVuSans-46\"/>\n     <use x=\"95.410156\" xlink:href=\"#DejaVuSans-57\"/>\n     <use x=\"159.033203\" xlink:href=\"#DejaVuSans-52\"/>\n     <use x=\"222.65625\" xlink:href=\"#DejaVuSans-49\"/>\n    </g>\n   </g>\n   <g id=\"text_20\">\n    <!-- 0.938 -->\n    <g style=\"fill:#262626;\" transform=\"translate(122.159283 147.234875)scale(0.1 -0.1)\">\n     <use xlink:href=\"#DejaVuSans-48\"/>\n     <use x=\"63.623047\" xlink:href=\"#DejaVuSans-46\"/>\n     <use x=\"95.410156\" xlink:href=\"#DejaVuSans-57\"/>\n     <use x=\"159.033203\" xlink:href=\"#DejaVuSans-51\"/>\n     <use x=\"222.65625\" xlink:href=\"#DejaVuSans-56\"/>\n    </g>\n   </g>\n   <g id=\"text_21\">\n    <!-- 0.936 -->\n    <g style=\"fill:#262626;\" transform=\"translate(166.799283 147.234875)scale(0.1 -0.1)\">\n     <use xlink:href=\"#DejaVuSans-48\"/>\n     <use x=\"63.623047\" xlink:href=\"#DejaVuSans-46\"/>\n     <use x=\"95.410156\" xlink:href=\"#DejaVuSans-57\"/>\n     <use x=\"159.033203\" xlink:href=\"#DejaVuSans-51\"/>\n     <use x=\"222.65625\" xlink:href=\"#DejaVuSans-54\"/>\n    </g>\n   </g>\n   <g id=\"text_22\">\n    <!-- 0.894 -->\n    <g style=\"fill:#ffffff;\" transform=\"translate(211.439283 147.234875)scale(0.1 -0.1)\">\n     <use xlink:href=\"#DejaVuSans-48\"/>\n     <use x=\"63.623047\" xlink:href=\"#DejaVuSans-46\"/>\n     <use x=\"95.410156\" xlink:href=\"#DejaVuSans-56\"/>\n     <use x=\"159.033203\" xlink:href=\"#DejaVuSans-57\"/>\n     <use x=\"222.65625\" xlink:href=\"#DejaVuSans-52\"/>\n    </g>\n   </g>\n   <g id=\"text_23\">\n    <!-- 0.885 -->\n    <g style=\"fill:#ffffff;\" transform=\"translate(256.079283 147.234875)scale(0.1 -0.1)\">\n     <use xlink:href=\"#DejaVuSans-48\"/>\n     <use x=\"63.623047\" xlink:href=\"#DejaVuSans-46\"/>\n     <use x=\"95.410156\" xlink:href=\"#DejaVuSans-56\"/>\n     <use x=\"159.033203\" xlink:href=\"#DejaVuSans-56\"/>\n     <use x=\"222.65625\" xlink:href=\"#DejaVuSans-53\"/>\n    </g>\n   </g>\n   <g id=\"text_24\">\n    <!-- 0.914 -->\n    <g style=\"fill:#262626;\" transform=\"translate(122.159283 190.722875)scale(0.1 -0.1)\">\n     <use xlink:href=\"#DejaVuSans-48\"/>\n     <use x=\"63.623047\" xlink:href=\"#DejaVuSans-46\"/>\n     <use x=\"95.410156\" xlink:href=\"#DejaVuSans-57\"/>\n     <use x=\"159.033203\" xlink:href=\"#DejaVuSans-49\"/>\n     <use x=\"222.65625\" xlink:href=\"#DejaVuSans-52\"/>\n    </g>\n   </g>\n   <g id=\"text_25\">\n    <!-- 0.917 -->\n    <g style=\"fill:#262626;\" transform=\"translate(166.799283 190.722875)scale(0.1 -0.1)\">\n     <use xlink:href=\"#DejaVuSans-48\"/>\n     <use x=\"63.623047\" xlink:href=\"#DejaVuSans-46\"/>\n     <use x=\"95.410156\" xlink:href=\"#DejaVuSans-57\"/>\n     <use x=\"159.033203\" xlink:href=\"#DejaVuSans-49\"/>\n     <use x=\"222.65625\" xlink:href=\"#DejaVuSans-55\"/>\n    </g>\n   </g>\n   <g id=\"text_26\">\n    <!-- 0.998 -->\n    <g style=\"fill:#ffffff;\" transform=\"translate(211.439283 190.722875)scale(0.1 -0.1)\">\n     <use xlink:href=\"#DejaVuSans-48\"/>\n     <use x=\"63.623047\" xlink:href=\"#DejaVuSans-46\"/>\n     <use x=\"95.410156\" xlink:href=\"#DejaVuSans-57\"/>\n     <use x=\"159.033203\" xlink:href=\"#DejaVuSans-57\"/>\n     <use x=\"222.65625\" xlink:href=\"#DejaVuSans-56\"/>\n    </g>\n   </g>\n   <g id=\"text_27\">\n    <!-- 0.998 -->\n    <g style=\"fill:#ffffff;\" transform=\"translate(256.079283 190.722875)scale(0.1 -0.1)\">\n     <use xlink:href=\"#DejaVuSans-48\"/>\n     <use x=\"63.623047\" xlink:href=\"#DejaVuSans-46\"/>\n     <use x=\"95.410156\" xlink:href=\"#DejaVuSans-57\"/>\n     <use x=\"159.033203\" xlink:href=\"#DejaVuSans-57\"/>\n     <use x=\"222.65625\" xlink:href=\"#DejaVuSans-56\"/>\n    </g>\n   </g>\n   <g id=\"text_28\">\n    <!-- 0.941 -->\n    <g style=\"fill:#262626;\" transform=\"translate(122.159283 234.210875)scale(0.1 -0.1)\">\n     <use xlink:href=\"#DejaVuSans-48\"/>\n     <use x=\"63.623047\" xlink:href=\"#DejaVuSans-46\"/>\n     <use x=\"95.410156\" xlink:href=\"#DejaVuSans-57\"/>\n     <use x=\"159.033203\" xlink:href=\"#DejaVuSans-52\"/>\n     <use x=\"222.65625\" xlink:href=\"#DejaVuSans-49\"/>\n    </g>\n   </g>\n   <g id=\"text_29\">\n    <!-- 0.957 -->\n    <g style=\"fill:#262626;\" transform=\"translate(166.799283 234.210875)scale(0.1 -0.1)\">\n     <use xlink:href=\"#DejaVuSans-48\"/>\n     <use x=\"63.623047\" xlink:href=\"#DejaVuSans-46\"/>\n     <use x=\"95.410156\" xlink:href=\"#DejaVuSans-57\"/>\n     <use x=\"159.033203\" xlink:href=\"#DejaVuSans-53\"/>\n     <use x=\"222.65625\" xlink:href=\"#DejaVuSans-55\"/>\n    </g>\n   </g>\n   <g id=\"text_30\">\n    <!-- 0.999 -->\n    <g style=\"fill:#ffffff;\" transform=\"translate(211.439283 234.210875)scale(0.1 -0.1)\">\n     <use xlink:href=\"#DejaVuSans-48\"/>\n     <use x=\"63.623047\" xlink:href=\"#DejaVuSans-46\"/>\n     <use x=\"95.410156\" xlink:href=\"#DejaVuSans-57\"/>\n     <use x=\"159.033203\" xlink:href=\"#DejaVuSans-57\"/>\n     <use x=\"222.65625\" xlink:href=\"#DejaVuSans-57\"/>\n    </g>\n   </g>\n   <g id=\"text_31\">\n    <!-- 0.999 -->\n    <g style=\"fill:#ffffff;\" transform=\"translate(256.079283 234.210875)scale(0.1 -0.1)\">\n     <use xlink:href=\"#DejaVuSans-48\"/>\n     <use x=\"63.623047\" xlink:href=\"#DejaVuSans-46\"/>\n     <use x=\"95.410156\" xlink:href=\"#DejaVuSans-57\"/>\n     <use x=\"159.033203\" xlink:href=\"#DejaVuSans-57\"/>\n     <use x=\"222.65625\" xlink:href=\"#DejaVuSans-57\"/>\n    </g>\n   </g>\n   <g id=\"text_32\">\n    <!-- AUC of ROC curve for -->\n    <defs>\n     <path d=\"M 53.421875 13.28125 \nL 24.03125 13.28125 \nL 19.390625 0 \nL 0.484375 0 \nL 27.484375 72.90625 \nL 49.90625 72.90625 \nL 76.90625 0 \nL 58.015625 0 \nz\nM 28.71875 26.8125 \nL 48.6875 26.8125 \nL 38.71875 55.8125 \nz\n\" id=\"DejaVuSans-Bold-65\"/>\n     <path d=\"M 9.1875 72.90625 \nL 27.984375 72.90625 \nL 27.984375 29.203125 \nQ 27.984375 20.171875 30.9375 16.28125 \nQ 33.890625 12.40625 40.578125 12.40625 \nQ 47.3125 12.40625 50.265625 16.28125 \nQ 53.21875 20.171875 53.21875 29.203125 \nL 53.21875 72.90625 \nL 72.015625 72.90625 \nL 72.015625 29.203125 \nQ 72.015625 13.71875 64.25 6.140625 \nQ 56.5 -1.421875 40.578125 -1.421875 \nQ 24.703125 -1.421875 16.9375 6.140625 \nQ 9.1875 13.71875 9.1875 29.203125 \nz\n\" id=\"DejaVuSans-Bold-85\"/>\n     <path d=\"M 67 4 \nQ 61.8125 1.3125 56.203125 -0.046875 \nQ 50.59375 -1.421875 44.484375 -1.421875 \nQ 26.265625 -1.421875 15.625 8.765625 \nQ 4.984375 18.953125 4.984375 36.375 \nQ 4.984375 53.859375 15.625 64.03125 \nQ 26.265625 74.21875 44.484375 74.21875 \nQ 50.59375 74.21875 56.203125 72.84375 \nQ 61.8125 71.484375 67 68.796875 \nL 67 53.71875 \nQ 61.765625 57.28125 56.6875 58.9375 \nQ 51.609375 60.59375 46 60.59375 \nQ 35.9375 60.59375 30.171875 54.140625 \nQ 24.421875 47.703125 24.421875 36.375 \nQ 24.421875 25.09375 30.171875 18.640625 \nQ 35.9375 12.203125 46 12.203125 \nQ 51.609375 12.203125 56.6875 13.859375 \nQ 61.765625 15.53125 67 19.09375 \nz\n\" id=\"DejaVuSans-Bold-67\"/>\n     <path id=\"DejaVuSans-Bold-32\"/>\n     <path d=\"M 34.421875 43.5 \nQ 28.609375 43.5 25.5625 39.328125 \nQ 22.515625 35.15625 22.515625 27.296875 \nQ 22.515625 19.4375 25.5625 15.25 \nQ 28.609375 11.078125 34.421875 11.078125 \nQ 40.140625 11.078125 43.15625 15.25 \nQ 46.1875 19.4375 46.1875 27.296875 \nQ 46.1875 35.15625 43.15625 39.328125 \nQ 40.140625 43.5 34.421875 43.5 \nz\nM 34.421875 56 \nQ 48.53125 56 56.46875 48.375 \nQ 64.40625 40.765625 64.40625 27.296875 \nQ 64.40625 13.8125 56.46875 6.1875 \nQ 48.53125 -1.421875 34.421875 -1.421875 \nQ 20.265625 -1.421875 12.28125 6.1875 \nQ 4.296875 13.8125 4.296875 27.296875 \nQ 4.296875 40.765625 12.28125 48.375 \nQ 20.265625 56 34.421875 56 \nz\n\" id=\"DejaVuSans-Bold-111\"/>\n     <path d=\"M 44.390625 75.984375 \nL 44.390625 64.5 \nL 34.71875 64.5 \nQ 31 64.5 29.53125 63.15625 \nQ 28.078125 61.8125 28.078125 58.5 \nL 28.078125 54.6875 \nL 43.015625 54.6875 \nL 43.015625 42.1875 \nL 28.078125 42.1875 \nL 28.078125 0 \nL 10.59375 0 \nL 10.59375 42.1875 \nL 1.90625 42.1875 \nL 1.90625 54.6875 \nL 10.59375 54.6875 \nL 10.59375 58.5 \nQ 10.59375 67.4375 15.578125 71.703125 \nQ 20.5625 75.984375 31 75.984375 \nz\n\" id=\"DejaVuSans-Bold-102\"/>\n     <path d=\"M 35.890625 40.578125 \nQ 41.796875 40.578125 44.359375 42.765625 \nQ 46.921875 44.96875 46.921875 50 \nQ 46.921875 54.984375 44.359375 57.125 \nQ 41.796875 59.28125 35.890625 59.28125 \nL 27.984375 59.28125 \nL 27.984375 40.578125 \nz\nM 27.984375 27.59375 \nL 27.984375 0 \nL 9.1875 0 \nL 9.1875 72.90625 \nL 37.890625 72.90625 \nQ 52.296875 72.90625 59 68.0625 \nQ 65.71875 63.234375 65.71875 52.78125 \nQ 65.71875 45.5625 62.21875 40.921875 \nQ 58.734375 36.28125 51.703125 34.078125 \nQ 55.5625 33.203125 58.609375 30.09375 \nQ 61.671875 27 64.796875 20.703125 \nL 75 0 \nL 54.984375 0 \nL 46.09375 18.109375 \nQ 43.40625 23.578125 40.640625 25.578125 \nQ 37.890625 27.59375 33.296875 27.59375 \nz\n\" id=\"DejaVuSans-Bold-82\"/>\n     <path d=\"M 42.484375 60.59375 \nQ 33.890625 60.59375 29.15625 54.25 \nQ 24.421875 47.90625 24.421875 36.375 \nQ 24.421875 24.90625 29.15625 18.546875 \nQ 33.890625 12.203125 42.484375 12.203125 \nQ 51.125 12.203125 55.859375 18.546875 \nQ 60.59375 24.90625 60.59375 36.375 \nQ 60.59375 47.90625 55.859375 54.25 \nQ 51.125 60.59375 42.484375 60.59375 \nz\nM 42.484375 74.21875 \nQ 60.0625 74.21875 70.015625 64.15625 \nQ 79.984375 54.109375 79.984375 36.375 \nQ 79.984375 18.703125 70.015625 8.640625 \nQ 60.0625 -1.421875 42.484375 -1.421875 \nQ 24.953125 -1.421875 14.96875 8.640625 \nQ 4.984375 18.703125 4.984375 36.375 \nQ 4.984375 54.109375 14.96875 64.15625 \nQ 24.953125 74.21875 42.484375 74.21875 \nz\n\" id=\"DejaVuSans-Bold-79\"/>\n     <path d=\"M 52.59375 52.984375 \nL 52.59375 38.71875 \nQ 49.03125 41.15625 45.4375 42.328125 \nQ 41.84375 43.5 37.984375 43.5 \nQ 30.671875 43.5 26.59375 39.234375 \nQ 22.515625 34.96875 22.515625 27.296875 \nQ 22.515625 19.625 26.59375 15.34375 \nQ 30.671875 11.078125 37.984375 11.078125 \nQ 42.09375 11.078125 45.78125 12.296875 \nQ 49.46875 13.53125 52.59375 15.921875 \nL 52.59375 1.609375 \nQ 48.484375 0.09375 44.265625 -0.65625 \nQ 40.046875 -1.421875 35.796875 -1.421875 \nQ 21 -1.421875 12.640625 6.171875 \nQ 4.296875 13.765625 4.296875 27.296875 \nQ 4.296875 40.828125 12.640625 48.40625 \nQ 21 56 35.796875 56 \nQ 40.09375 56 44.265625 55.25 \nQ 48.4375 54.5 52.59375 52.984375 \nz\n\" id=\"DejaVuSans-Bold-99\"/>\n     <path d=\"M 7.8125 21.296875 \nL 7.8125 54.6875 \nL 25.390625 54.6875 \nL 25.390625 49.21875 \nQ 25.390625 44.78125 25.34375 38.0625 \nQ 25.296875 31.34375 25.296875 29.109375 \nQ 25.296875 22.515625 25.640625 19.609375 \nQ 25.984375 16.703125 26.8125 15.375 \nQ 27.875 13.671875 29.609375 12.734375 \nQ 31.34375 11.8125 33.59375 11.8125 \nQ 39.0625 11.8125 42.1875 16.015625 \nQ 45.3125 20.21875 45.3125 27.6875 \nL 45.3125 54.6875 \nL 62.796875 54.6875 \nL 62.796875 0 \nL 45.3125 0 \nL 45.3125 7.90625 \nQ 41.359375 3.125 36.9375 0.84375 \nQ 32.515625 -1.421875 27.203125 -1.421875 \nQ 17.71875 -1.421875 12.765625 4.390625 \nQ 7.8125 10.203125 7.8125 21.296875 \nz\n\" id=\"DejaVuSans-Bold-117\"/>\n     <path d=\"M 49.03125 39.796875 \nQ 46.734375 40.875 44.453125 41.375 \nQ 42.1875 41.890625 39.890625 41.890625 \nQ 33.15625 41.890625 29.515625 37.5625 \nQ 25.875 33.25 25.875 25.203125 \nL 25.875 0 \nL 8.40625 0 \nL 8.40625 54.6875 \nL 25.875 54.6875 \nL 25.875 45.703125 \nQ 29.25 51.078125 33.609375 53.53125 \nQ 37.984375 56 44.09375 56 \nQ 44.96875 56 45.984375 55.921875 \nQ 47.015625 55.859375 48.96875 55.609375 \nz\n\" id=\"DejaVuSans-Bold-114\"/>\n     <path d=\"M 1.515625 54.6875 \nL 19 54.6875 \nL 32.625 16.890625 \nL 46.1875 54.6875 \nL 63.71875 54.6875 \nL 42.1875 0 \nL 23 0 \nz\n\" id=\"DejaVuSans-Bold-118\"/>\n     <path d=\"M 62.984375 27.484375 \nL 62.984375 22.515625 \nL 22.125 22.515625 \nQ 22.75 16.359375 26.5625 13.28125 \nQ 30.375 10.203125 37.203125 10.203125 \nQ 42.71875 10.203125 48.5 11.84375 \nQ 54.296875 13.484375 60.40625 16.796875 \nL 60.40625 3.328125 \nQ 54.203125 0.984375 48 -0.21875 \nQ 41.796875 -1.421875 35.59375 -1.421875 \nQ 20.75 -1.421875 12.515625 6.125 \nQ 4.296875 13.671875 4.296875 27.296875 \nQ 4.296875 40.671875 12.375 48.328125 \nQ 20.453125 56 34.625 56 \nQ 47.515625 56 55.25 48.234375 \nQ 62.984375 40.484375 62.984375 27.484375 \nz\nM 45.015625 33.296875 \nQ 45.015625 38.28125 42.109375 41.328125 \nQ 39.203125 44.390625 34.515625 44.390625 \nQ 29.4375 44.390625 26.265625 41.53125 \nQ 23.09375 38.671875 22.3125 33.296875 \nz\n\" id=\"DejaVuSans-Bold-101\"/>\n    </defs>\n    <g transform=\"translate(132.03147 16.318125)scale(0.12 -0.12)\">\n     <use xlink:href=\"#DejaVuSans-Bold-65\"/>\n     <use x=\"74.267578\" xlink:href=\"#DejaVuSans-Bold-85\"/>\n     <use x=\"155.46875\" xlink:href=\"#DejaVuSans-Bold-67\"/>\n     <use x=\"228.857422\" xlink:href=\"#DejaVuSans-Bold-32\"/>\n     <use x=\"263.671875\" xlink:href=\"#DejaVuSans-Bold-111\"/>\n     <use x=\"332.373047\" xlink:href=\"#DejaVuSans-Bold-102\"/>\n     <use x=\"375.878906\" xlink:href=\"#DejaVuSans-Bold-32\"/>\n     <use x=\"410.693359\" xlink:href=\"#DejaVuSans-Bold-82\"/>\n     <use x=\"487.695312\" xlink:href=\"#DejaVuSans-Bold-79\"/>\n     <use x=\"572.705078\" xlink:href=\"#DejaVuSans-Bold-67\"/>\n     <use x=\"646.09375\" xlink:href=\"#DejaVuSans-Bold-32\"/>\n     <use x=\"680.908203\" xlink:href=\"#DejaVuSans-Bold-99\"/>\n     <use x=\"740.185547\" xlink:href=\"#DejaVuSans-Bold-117\"/>\n     <use x=\"811.376953\" xlink:href=\"#DejaVuSans-Bold-114\"/>\n     <use x=\"860.693359\" xlink:href=\"#DejaVuSans-Bold-118\"/>\n     <use x=\"925.878906\" xlink:href=\"#DejaVuSans-Bold-101\"/>\n     <use x=\"993.701172\" xlink:href=\"#DejaVuSans-Bold-32\"/>\n     <use x=\"1028.515625\" xlink:href=\"#DejaVuSans-Bold-102\"/>\n     <use x=\"1072.021484\" xlink:href=\"#DejaVuSans-Bold-111\"/>\n     <use x=\"1140.722656\" xlink:href=\"#DejaVuSans-Bold-114\"/>\n    </g>\n    <!-- Binary ECD -->\n    <defs>\n     <path d=\"M 38.375 44.671875 \nQ 42.828125 44.671875 45.109375 46.625 \nQ 47.40625 48.578125 47.40625 52.390625 \nQ 47.40625 56.15625 45.109375 58.125 \nQ 42.828125 60.109375 38.375 60.109375 \nL 27.984375 60.109375 \nL 27.984375 44.671875 \nz\nM 39.015625 12.796875 \nQ 44.671875 12.796875 47.53125 15.1875 \nQ 50.390625 17.578125 50.390625 22.40625 \nQ 50.390625 27.15625 47.5625 29.515625 \nQ 44.734375 31.890625 39.015625 31.890625 \nL 27.984375 31.890625 \nL 27.984375 12.796875 \nz\nM 56.5 39.015625 \nQ 62.546875 37.25 65.859375 32.515625 \nQ 69.1875 27.78125 69.1875 20.90625 \nQ 69.1875 10.359375 62.0625 5.171875 \nQ 54.9375 0 40.375 0 \nL 9.1875 0 \nL 9.1875 72.90625 \nL 37.40625 72.90625 \nQ 52.59375 72.90625 59.40625 68.3125 \nQ 66.21875 63.71875 66.21875 53.609375 \nQ 66.21875 48.296875 63.71875 44.5625 \nQ 61.234375 40.828125 56.5 39.015625 \nz\n\" id=\"DejaVuSans-Bold-66\"/>\n     <path d=\"M 8.40625 54.6875 \nL 25.875 54.6875 \nL 25.875 0 \nL 8.40625 0 \nz\nM 8.40625 75.984375 \nL 25.875 75.984375 \nL 25.875 61.71875 \nL 8.40625 61.71875 \nz\n\" id=\"DejaVuSans-Bold-105\"/>\n     <path d=\"M 63.375 33.296875 \nL 63.375 0 \nL 45.796875 0 \nL 45.796875 5.421875 \nL 45.796875 25.484375 \nQ 45.796875 32.5625 45.484375 35.25 \nQ 45.171875 37.9375 44.390625 39.203125 \nQ 43.359375 40.921875 41.59375 41.875 \nQ 39.84375 42.828125 37.59375 42.828125 \nQ 32.125 42.828125 29 38.59375 \nQ 25.875 34.375 25.875 26.90625 \nL 25.875 0 \nL 8.40625 0 \nL 8.40625 54.6875 \nL 25.875 54.6875 \nL 25.875 46.6875 \nQ 29.828125 51.46875 34.265625 53.734375 \nQ 38.71875 56 44.09375 56 \nQ 53.5625 56 58.46875 50.1875 \nQ 63.375 44.390625 63.375 33.296875 \nz\n\" id=\"DejaVuSans-Bold-110\"/>\n     <path d=\"M 32.90625 24.609375 \nQ 27.4375 24.609375 24.671875 22.75 \nQ 21.921875 20.90625 21.921875 17.28125 \nQ 21.921875 13.96875 24.140625 12.078125 \nQ 26.375 10.203125 30.328125 10.203125 \nQ 35.25 10.203125 38.625 13.734375 \nQ 42 17.28125 42 22.609375 \nL 42 24.609375 \nz\nM 59.625 31.203125 \nL 59.625 0 \nL 42 0 \nL 42 8.109375 \nQ 38.484375 3.125 34.078125 0.84375 \nQ 29.6875 -1.421875 23.390625 -1.421875 \nQ 14.890625 -1.421875 9.59375 3.53125 \nQ 4.296875 8.5 4.296875 16.40625 \nQ 4.296875 26.03125 10.90625 30.515625 \nQ 17.53125 35.015625 31.6875 35.015625 \nL 42 35.015625 \nL 42 36.375 \nQ 42 40.53125 38.71875 42.453125 \nQ 35.453125 44.390625 28.515625 44.390625 \nQ 22.90625 44.390625 18.0625 43.265625 \nQ 13.234375 42.140625 9.078125 39.890625 \nL 9.078125 53.21875 \nQ 14.703125 54.59375 20.359375 55.296875 \nQ 26.03125 56 31.6875 56 \nQ 46.484375 56 53.046875 50.171875 \nQ 59.625 44.34375 59.625 31.203125 \nz\n\" id=\"DejaVuSans-Bold-97\"/>\n     <path d=\"M 1.21875 54.6875 \nL 18.703125 54.6875 \nL 33.40625 17.578125 \nL 45.90625 54.6875 \nL 63.375 54.6875 \nL 40.375 -5.171875 \nQ 36.921875 -14.3125 32.296875 -17.9375 \nQ 27.6875 -21.578125 20.125 -21.578125 \nL 10.015625 -21.578125 \nL 10.015625 -10.109375 \nL 15.484375 -10.109375 \nQ 19.921875 -10.109375 21.9375 -8.6875 \nQ 23.96875 -7.28125 25.09375 -3.609375 \nL 25.59375 -2.09375 \nz\n\" id=\"DejaVuSans-Bold-121\"/>\n     <path d=\"M 9.1875 72.90625 \nL 59.90625 72.90625 \nL 59.90625 58.6875 \nL 27.984375 58.6875 \nL 27.984375 45.125 \nL 58.015625 45.125 \nL 58.015625 30.90625 \nL 27.984375 30.90625 \nL 27.984375 14.203125 \nL 60.984375 14.203125 \nL 60.984375 0 \nL 9.1875 0 \nz\n\" id=\"DejaVuSans-Bold-69\"/>\n     <path d=\"M 27.984375 58.6875 \nL 27.984375 14.203125 \nL 34.71875 14.203125 \nQ 46.234375 14.203125 52.3125 19.921875 \nQ 58.40625 25.640625 58.40625 36.53125 \nQ 58.40625 47.359375 52.34375 53.015625 \nQ 46.296875 58.6875 34.71875 58.6875 \nz\nM 9.1875 72.90625 \nL 29 72.90625 \nQ 45.609375 72.90625 53.734375 70.53125 \nQ 61.859375 68.171875 67.671875 62.5 \nQ 72.796875 57.5625 75.28125 51.109375 \nQ 77.78125 44.671875 77.78125 36.53125 \nQ 77.78125 28.265625 75.28125 21.796875 \nQ 72.796875 15.328125 67.671875 10.40625 \nQ 61.8125 4.734375 53.609375 2.359375 \nQ 45.40625 0 29 0 \nL 9.1875 0 \nz\n\" id=\"DejaVuSans-Bold-68\"/>\n    </defs>\n    <g transform=\"translate(166.041158 29.7555)scale(0.12 -0.12)\">\n     <use xlink:href=\"#DejaVuSans-Bold-66\"/>\n     <use x=\"76.220703\" xlink:href=\"#DejaVuSans-Bold-105\"/>\n     <use x=\"110.498047\" xlink:href=\"#DejaVuSans-Bold-110\"/>\n     <use x=\"181.689453\" xlink:href=\"#DejaVuSans-Bold-97\"/>\n     <use x=\"249.169922\" xlink:href=\"#DejaVuSans-Bold-114\"/>\n     <use x=\"298.486328\" xlink:href=\"#DejaVuSans-Bold-121\"/>\n     <use x=\"363.671875\" xlink:href=\"#DejaVuSans-Bold-32\"/>\n     <use x=\"398.486328\" xlink:href=\"#DejaVuSans-Bold-69\"/>\n     <use x=\"466.796875\" xlink:href=\"#DejaVuSans-Bold-67\"/>\n     <use x=\"540.185547\" xlink:href=\"#DejaVuSans-Bold-68\"/>\n    </g>\n   </g>\n  </g>\n  <g id=\"axes_2\">\n   <g id=\"patch_3\">\n    <path clip-path=\"url(#pa9d6d9dd39)\" d=\"M 303.873345 253.1955 \nL 303.873345 252.977842 \nL 303.873345 35.973158 \nL 303.873345 35.7555 \nL 314.745345 35.7555 \nL 314.745345 35.973158 \nL 314.745345 252.977842 \nL 314.745345 253.1955 \nz\n\" style=\"fill:#ffffff;stroke:#ffffff;stroke-linejoin:miter;stroke-width:0.01;\"/>\n   </g>\n   <image height=\"217\" id=\"image6b48fa6fa9\" transform=\"scale(1 -1)translate(0 -217)\" width=\"11\" x=\"304\" xlink:href=\"data:image/png;base64,\niVBORw0KGgoAAAANSUhEUgAAAAsAAADZCAYAAAD2WsoCAAAABHNCSVQICAgIfAhkiAAAATNJREFUaIHtmNENhDAMQ9O0s9zsN2RpboU+JEumB9+W9WIHCrRv/1RsXiNzVxoxOhEj5+weGDJxJwNmNhXG2+BdMWwQiUHdravECVqBGGif2YAqZobBGgTMMA0ZxhNXVMacA2CEDCNky4+cQ1b3HwyoumFNnE0whAOCkx5uHXIWYqA09l+SpBjomDi+QQ+xkFm2ogijIWaCYeJsgkGcG3NGaVgMCJ0PH7Bi+9dXjBULiOsiYuBcHhiQWYcBnAs5u+RMBmTMJhgWK3oVeRQwsQ4DOaPoVBjI2YRZWcqb803nuW+McwbOCAOWQjCIeIEJGQYUEwxW9+kYyJmtKBBPFp0qZx3GlInh1hEMthse0Xk0yB65uuiEt5UqOnSmlId4gb5HLfLB+8gBdWJVdDYD6hp02LofE5k0D5eLACQAAAAASUVORK5CYII=\" y=\"-35\"/>\n   <g id=\"matplotlib.axis_3\"/>\n   <g id=\"matplotlib.axis_4\">\n    <g id=\"ytick_6\">\n     <g id=\"line2d_10\">\n      <defs>\n       <path d=\"M 0 0 \nL 3.5 0 \n\" id=\"mf606441a94\" style=\"stroke:#000000;stroke-width:0.8;\"/>\n      </defs>\n      <g>\n       <use style=\"stroke:#000000;stroke-width:0.8;\" x=\"314.745345\" xlink:href=\"#mf606441a94\" y=\"253.1955\"/>\n      </g>\n     </g>\n     <g id=\"text_33\">\n      <!-- 0.8840 -->\n      <g transform=\"translate(321.745345 256.994719)scale(0.1 -0.1)\">\n       <use xlink:href=\"#DejaVuSans-48\"/>\n       <use x=\"63.623047\" xlink:href=\"#DejaVuSans-46\"/>\n       <use x=\"95.410156\" xlink:href=\"#DejaVuSans-56\"/>\n       <use x=\"159.033203\" xlink:href=\"#DejaVuSans-56\"/>\n       <use x=\"222.65625\" xlink:href=\"#DejaVuSans-52\"/>\n       <use x=\"286.279297\" xlink:href=\"#DejaVuSans-48\"/>\n      </g>\n     </g>\n    </g>\n    <g id=\"ytick_7\">\n     <g id=\"line2d_11\">\n      <g>\n       <use style=\"stroke:#000000;stroke-width:0.8;\" x=\"314.745345\" xlink:href=\"#mf606441a94\" y=\"231.429734\"/>\n      </g>\n     </g>\n     <g id=\"text_34\">\n      <!-- 0.8955 -->\n      <g transform=\"translate(321.745345 235.228953)scale(0.1 -0.1)\">\n       <use xlink:href=\"#DejaVuSans-48\"/>\n       <use x=\"63.623047\" xlink:href=\"#DejaVuSans-46\"/>\n       <use x=\"95.410156\" xlink:href=\"#DejaVuSans-56\"/>\n       <use x=\"159.033203\" xlink:href=\"#DejaVuSans-57\"/>\n       <use x=\"222.65625\" xlink:href=\"#DejaVuSans-53\"/>\n       <use x=\"286.279297\" xlink:href=\"#DejaVuSans-53\"/>\n      </g>\n     </g>\n    </g>\n    <g id=\"ytick_8\">\n     <g id=\"line2d_12\">\n      <g>\n       <use style=\"stroke:#000000;stroke-width:0.8;\" x=\"314.745345\" xlink:href=\"#mf606441a94\" y=\"209.663968\"/>\n      </g>\n     </g>\n     <g id=\"text_35\">\n      <!-- 0.9070 -->\n      <g transform=\"translate(321.745345 213.463187)scale(0.1 -0.1)\">\n       <use xlink:href=\"#DejaVuSans-48\"/>\n       <use x=\"63.623047\" xlink:href=\"#DejaVuSans-46\"/>\n       <use x=\"95.410156\" xlink:href=\"#DejaVuSans-57\"/>\n       <use x=\"159.033203\" xlink:href=\"#DejaVuSans-48\"/>\n       <use x=\"222.65625\" xlink:href=\"#DejaVuSans-55\"/>\n       <use x=\"286.279297\" xlink:href=\"#DejaVuSans-48\"/>\n      </g>\n     </g>\n    </g>\n    <g id=\"ytick_9\">\n     <g id=\"line2d_13\">\n      <g>\n       <use style=\"stroke:#000000;stroke-width:0.8;\" x=\"314.745345\" xlink:href=\"#mf606441a94\" y=\"187.898203\"/>\n      </g>\n     </g>\n     <g id=\"text_36\">\n      <!-- 0.9185 -->\n      <g transform=\"translate(321.745345 191.697421)scale(0.1 -0.1)\">\n       <use xlink:href=\"#DejaVuSans-48\"/>\n       <use x=\"63.623047\" xlink:href=\"#DejaVuSans-46\"/>\n       <use x=\"95.410156\" xlink:href=\"#DejaVuSans-57\"/>\n       <use x=\"159.033203\" xlink:href=\"#DejaVuSans-49\"/>\n       <use x=\"222.65625\" xlink:href=\"#DejaVuSans-56\"/>\n       <use x=\"286.279297\" xlink:href=\"#DejaVuSans-53\"/>\n      </g>\n     </g>\n    </g>\n    <g id=\"ytick_10\">\n     <g id=\"line2d_14\">\n      <g>\n       <use style=\"stroke:#000000;stroke-width:0.8;\" x=\"314.745345\" xlink:href=\"#mf606441a94\" y=\"166.132437\"/>\n      </g>\n     </g>\n     <g id=\"text_37\">\n      <!-- 0.9300 -->\n      <g transform=\"translate(321.745345 169.931656)scale(0.1 -0.1)\">\n       <use xlink:href=\"#DejaVuSans-48\"/>\n       <use x=\"63.623047\" xlink:href=\"#DejaVuSans-46\"/>\n       <use x=\"95.410156\" xlink:href=\"#DejaVuSans-57\"/>\n       <use x=\"159.033203\" xlink:href=\"#DejaVuSans-51\"/>\n       <use x=\"222.65625\" xlink:href=\"#DejaVuSans-48\"/>\n       <use x=\"286.279297\" xlink:href=\"#DejaVuSans-48\"/>\n      </g>\n     </g>\n    </g>\n    <g id=\"ytick_11\">\n     <g id=\"line2d_15\">\n      <g>\n       <use style=\"stroke:#000000;stroke-width:0.8;\" x=\"314.745345\" xlink:href=\"#mf606441a94\" y=\"144.366671\"/>\n      </g>\n     </g>\n     <g id=\"text_38\">\n      <!-- 0.9416 -->\n      <g transform=\"translate(321.745345 148.16589)scale(0.1 -0.1)\">\n       <use xlink:href=\"#DejaVuSans-48\"/>\n       <use x=\"63.623047\" xlink:href=\"#DejaVuSans-46\"/>\n       <use x=\"95.410156\" xlink:href=\"#DejaVuSans-57\"/>\n       <use x=\"159.033203\" xlink:href=\"#DejaVuSans-52\"/>\n       <use x=\"222.65625\" xlink:href=\"#DejaVuSans-49\"/>\n       <use x=\"286.279297\" xlink:href=\"#DejaVuSans-54\"/>\n      </g>\n     </g>\n    </g>\n    <g id=\"ytick_12\">\n     <g id=\"line2d_16\">\n      <g>\n       <use style=\"stroke:#000000;stroke-width:0.8;\" x=\"314.745345\" xlink:href=\"#mf606441a94\" y=\"122.600905\"/>\n      </g>\n     </g>\n     <g id=\"text_39\">\n      <!-- 0.9531 -->\n      <g transform=\"translate(321.745345 126.400124)scale(0.1 -0.1)\">\n       <use xlink:href=\"#DejaVuSans-48\"/>\n       <use x=\"63.623047\" xlink:href=\"#DejaVuSans-46\"/>\n       <use x=\"95.410156\" xlink:href=\"#DejaVuSans-57\"/>\n       <use x=\"159.033203\" xlink:href=\"#DejaVuSans-53\"/>\n       <use x=\"222.65625\" xlink:href=\"#DejaVuSans-51\"/>\n       <use x=\"286.279297\" xlink:href=\"#DejaVuSans-49\"/>\n      </g>\n     </g>\n    </g>\n    <g id=\"ytick_13\">\n     <g id=\"line2d_17\">\n      <g>\n       <use style=\"stroke:#000000;stroke-width:0.8;\" x=\"314.745345\" xlink:href=\"#mf606441a94\" y=\"100.83514\"/>\n      </g>\n     </g>\n     <g id=\"text_40\">\n      <!-- 0.9646 -->\n      <g transform=\"translate(321.745345 104.634358)scale(0.1 -0.1)\">\n       <use xlink:href=\"#DejaVuSans-48\"/>\n       <use x=\"63.623047\" xlink:href=\"#DejaVuSans-46\"/>\n       <use x=\"95.410156\" xlink:href=\"#DejaVuSans-57\"/>\n       <use x=\"159.033203\" xlink:href=\"#DejaVuSans-54\"/>\n       <use x=\"222.65625\" xlink:href=\"#DejaVuSans-52\"/>\n       <use x=\"286.279297\" xlink:href=\"#DejaVuSans-54\"/>\n      </g>\n     </g>\n    </g>\n    <g id=\"ytick_14\">\n     <g id=\"line2d_18\">\n      <g>\n       <use style=\"stroke:#000000;stroke-width:0.8;\" x=\"314.745345\" xlink:href=\"#mf606441a94\" y=\"79.069374\"/>\n      </g>\n     </g>\n     <g id=\"text_41\">\n      <!-- 0.9761 -->\n      <g transform=\"translate(321.745345 82.868593)scale(0.1 -0.1)\">\n       <use xlink:href=\"#DejaVuSans-48\"/>\n       <use x=\"63.623047\" xlink:href=\"#DejaVuSans-46\"/>\n       <use x=\"95.410156\" xlink:href=\"#DejaVuSans-57\"/>\n       <use x=\"159.033203\" xlink:href=\"#DejaVuSans-55\"/>\n       <use x=\"222.65625\" xlink:href=\"#DejaVuSans-54\"/>\n       <use x=\"286.279297\" xlink:href=\"#DejaVuSans-49\"/>\n      </g>\n     </g>\n    </g>\n    <g id=\"ytick_15\">\n     <g id=\"line2d_19\">\n      <g>\n       <use style=\"stroke:#000000;stroke-width:0.8;\" x=\"314.745345\" xlink:href=\"#mf606441a94\" y=\"57.303608\"/>\n      </g>\n     </g>\n     <g id=\"text_42\">\n      <!-- 0.9876 -->\n      <g transform=\"translate(321.745345 61.102827)scale(0.1 -0.1)\">\n       <use xlink:href=\"#DejaVuSans-48\"/>\n       <use x=\"63.623047\" xlink:href=\"#DejaVuSans-46\"/>\n       <use x=\"95.410156\" xlink:href=\"#DejaVuSans-57\"/>\n       <use x=\"159.033203\" xlink:href=\"#DejaVuSans-56\"/>\n       <use x=\"222.65625\" xlink:href=\"#DejaVuSans-55\"/>\n       <use x=\"286.279297\" xlink:href=\"#DejaVuSans-54\"/>\n      </g>\n     </g>\n    </g>\n   </g>\n   <g id=\"patch_4\">\n    <path d=\"M 303.873345 253.1955 \nL 303.873345 252.977842 \nL 303.873345 35.973158 \nL 303.873345 35.7555 \nL 314.745345 35.7555 \nL 314.745345 35.973158 \nL 314.745345 252.977842 \nL 314.745345 253.1955 \nz\n\" style=\"fill:none;stroke:#000000;stroke-linejoin:miter;stroke-width:0.8;\"/>\n   </g>\n  </g>\n </g>\n <defs>\n  <clipPath id=\"p9b9c479e4d\">\n   <rect height=\"217.44\" width=\"178.56\" x=\"114.153345\" y=\"35.7555\"/>\n  </clipPath>\n  <clipPath id=\"pa9d6d9dd39\">\n   <rect height=\"217.44\" width=\"10.872\" x=\"303.873345\" y=\"35.7555\"/>\n  </clipPath>\n </defs>\n</svg>\n"
          },
          "metadata": {
            "needs_background": "light"
          }
        }
      ]
    },
    {
      "cell_type": "code",
      "metadata": {
        "colab": {
          "base_uri": "https://localhost:8080/",
          "height": 255
        },
        "id": "iVCNxfWudyWY",
        "outputId": "b4e7406e-7221-42ab-e402-76ee47faca71"
      },
      "source": [
        "df = pd.read_csv('AUC-localize.csv')\n",
        "data=x=df.iloc[0:6,0:5]\n",
        "data.set_index(\"methods\", inplace = True)\n",
        "x"
      ],
      "execution_count": null,
      "outputs": [
        {
          "output_type": "execute_result",
          "data": {
            "text/html": [
              "<div>\n",
              "<style scoped>\n",
              "    .dataframe tbody tr th:only-of-type {\n",
              "        vertical-align: middle;\n",
              "    }\n",
              "\n",
              "    .dataframe tbody tr th {\n",
              "        vertical-align: top;\n",
              "    }\n",
              "\n",
              "    .dataframe thead th {\n",
              "        text-align: right;\n",
              "    }\n",
              "</style>\n",
              "<table border=\"1\" class=\"dataframe\">\n",
              "  <thead>\n",
              "    <tr style=\"text-align: right;\">\n",
              "      <th></th>\n",
              "      <th>First study\\n (10-folds CV)</th>\n",
              "      <th>First study\\n (30% inde-pendent test data)</th>\n",
              "      <th>Second study\\n(10-folds CV)</th>\n",
              "      <th>Second study\\n(30% inde-pendent test data)</th>\n",
              "    </tr>\n",
              "    <tr>\n",
              "      <th>methods</th>\n",
              "      <th></th>\n",
              "      <th></th>\n",
              "      <th></th>\n",
              "      <th></th>\n",
              "    </tr>\n",
              "  </thead>\n",
              "  <tbody>\n",
              "    <tr>\n",
              "      <th>DELFI</th>\n",
              "      <td>0.850</td>\n",
              "      <td>0.000</td>\n",
              "      <td>0.920</td>\n",
              "      <td>0.940</td>\n",
              "    </tr>\n",
              "    <tr>\n",
              "      <th>CancerSEEK</th>\n",
              "      <td>0.850</td>\n",
              "      <td>0.880</td>\n",
              "      <td>0.910</td>\n",
              "      <td>0.000</td>\n",
              "    </tr>\n",
              "    <tr>\n",
              "      <th>ASVM</th>\n",
              "      <td>0.791</td>\n",
              "      <td>0.791</td>\n",
              "      <td>0.906</td>\n",
              "      <td>0.907</td>\n",
              "    </tr>\n",
              "    <tr>\n",
              "      <th>CancerEMC</th>\n",
              "      <td>0.945</td>\n",
              "      <td>0.945</td>\n",
              "      <td>0.992</td>\n",
              "      <td>0.992</td>\n",
              "    </tr>\n",
              "    <tr>\n",
              "      <th>BiDiEarlyCancerDF</th>\n",
              "      <td>0.990</td>\n",
              "      <td>0.983</td>\n",
              "      <td>0.996</td>\n",
              "      <td>0.996</td>\n",
              "    </tr>\n",
              "  </tbody>\n",
              "</table>\n",
              "</div>"
            ],
            "text/plain": [
              "                   First study\\n (10-folds CV)  ...  Second study\\n(30% inde-pendent test data)\n",
              "methods                                         ...                                            \n",
              "DELFI                                    0.850  ...                                       0.940\n",
              "CancerSEEK                               0.850  ...                                       0.000\n",
              "ASVM                                     0.791  ...                                       0.907\n",
              "CancerEMC                                0.945  ...                                       0.992\n",
              "BiDiEarlyCancerDF                        0.990  ...                                       0.996\n",
              "\n",
              "[5 rows x 4 columns]"
            ]
          },
          "metadata": {},
          "execution_count": 32
        }
      ]
    },
    {
      "cell_type": "code",
      "metadata": {
        "colab": {
          "base_uri": "https://localhost:8080/",
          "height": 528
        },
        "id": "KI0V8BfKexj4",
        "outputId": "c99995c2-2960-4fb8-d3b2-081c903b5dcc"
      },
      "source": [
        "plt.figure(figsize=(4,4))\n",
        "color_map = cm.get_cmap('RdYlGn', 1000)\n",
        "m = plt.cm.ScalarMappable(cmap=color_map)\n",
        "m.set_clim(0.791, 0.996)\n",
        "plt.colorbar(m, boundaries=np.linspace(0.791, 0.996, 1000))\n",
        "\n",
        "heatmap = sb.heatmap(data, cmap='RdYlGn', cbar=False, annot=True, fmt='.3g', xticklabels=True, yticklabels=True, vmin=0.791, vmax=0.996) \n",
        "col=['First study\\n(10-folds CV)','First study\\n(30% independent test)','Second study\\n(10-folds CV)',\n",
        "     'Second study\\n(30% independent test)']\n",
        "heatmap.set_xticklabels(col, rotation=45) \n",
        "heatmap.set_yticklabels(heatmap.get_yticklabels(), rotation=30) \n",
        "heatmap.set_title(\"Median AUC of ROC curve for\\nLocalize ECD\",fontweight='bold', fontsize=12)\n",
        "plt.xlabel(\"Experiments\")\n",
        "plt.ylabel(\"Methods\")\n",
        "plt.savefig(\"AUClHM.png\", bbox_inches='tight', dpi=300)"
      ],
      "execution_count": null,
      "outputs": [
        {
          "output_type": "display_data",
          "data": {
            "text/plain": [
              "<Figure size 288x288 with 2 Axes>"
            ],
            "image/svg+xml": "<?xml version=\"1.0\" encoding=\"utf-8\" standalone=\"no\"?>\n<!DOCTYPE svg PUBLIC \"-//W3C//DTD SVG 1.1//EN\"\n  \"http://www.w3.org/Graphics/SVG/1.1/DTD/svg11.dtd\">\n<!-- Created with matplotlib (https://matplotlib.org/) -->\n<svg height=\"379.842742pt\" version=\"1.1\" viewBox=\"0 0 363.93597 379.842742\" width=\"363.93597pt\" xmlns=\"http://www.w3.org/2000/svg\" xmlns:xlink=\"http://www.w3.org/1999/xlink\">\n <defs>\n  <style type=\"text/css\">\n*{stroke-linecap:butt;stroke-linejoin:round;}\n  </style>\n </defs>\n <g id=\"figure_1\">\n  <g id=\"patch_1\">\n   <path d=\"M 0 379.842742 \nL 363.93597 379.842742 \nL 363.93597 0 \nL 0 0 \nz\n\" style=\"fill:none;\"/>\n  </g>\n  <g id=\"axes_1\">\n   <g id=\"patch_2\">\n    <path d=\"M 114.153345 253.1955 \nL 292.713345 253.1955 \nL 292.713345 35.7555 \nL 114.153345 35.7555 \nz\n\" style=\"fill:#ffffff;\"/>\n   </g>\n   <g id=\"QuadMesh_1\">\n    <path clip-path=\"url(#p89dc83f282)\" d=\"M 114.153345 35.7555 \nL 158.793345 35.7555 \nL 158.793345 79.2435 \nL 114.153345 79.2435 \nL 114.153345 35.7555 \n\" style=\"fill:#fca55d;\"/>\n    <path clip-path=\"url(#p89dc83f282)\" d=\"M 158.793345 35.7555 \nL 203.433345 35.7555 \nL 203.433345 79.2435 \nL 158.793345 79.2435 \nL 158.793345 35.7555 \n\" style=\"fill:#a50026;\"/>\n    <path clip-path=\"url(#p89dc83f282)\" d=\"M 203.433345 35.7555 \nL 248.073345 35.7555 \nL 248.073345 79.2435 \nL 203.433345 79.2435 \nL 203.433345 35.7555 \n\" style=\"fill:#c9e881;\"/>\n    <path clip-path=\"url(#p89dc83f282)\" d=\"M 248.073345 35.7555 \nL 292.713345 35.7555 \nL 292.713345 79.2435 \nL 248.073345 79.2435 \nL 248.073345 35.7555 \n\" style=\"fill:#93d168;\"/>\n    <path clip-path=\"url(#p89dc83f282)\" d=\"M 114.153345 79.2435 \nL 158.793345 79.2435 \nL 158.793345 122.7315 \nL 114.153345 122.7315 \nL 114.153345 79.2435 \n\" style=\"fill:#fca55d;\"/>\n    <path clip-path=\"url(#p89dc83f282)\" d=\"M 158.793345 79.2435 \nL 203.433345 79.2435 \nL 203.433345 122.7315 \nL 158.793345 122.7315 \nL 158.793345 79.2435 \n\" style=\"fill:#feeb9d;\"/>\n    <path clip-path=\"url(#p89dc83f282)\" d=\"M 203.433345 79.2435 \nL 248.073345 79.2435 \nL 248.073345 122.7315 \nL 203.433345 122.7315 \nL 203.433345 79.2435 \n\" style=\"fill:#e0f295;\"/>\n    <path clip-path=\"url(#p89dc83f282)\" d=\"M 248.073345 79.2435 \nL 292.713345 79.2435 \nL 292.713345 122.7315 \nL 248.073345 122.7315 \nL 248.073345 79.2435 \n\" style=\"fill:#a50026;\"/>\n    <path clip-path=\"url(#p89dc83f282)\" d=\"M 114.153345 122.7315 \nL 158.793345 122.7315 \nL 158.793345 166.2195 \nL 114.153345 166.2195 \nL 114.153345 122.7315 \n\" style=\"fill:#a50026;\"/>\n    <path clip-path=\"url(#p89dc83f282)\" d=\"M 158.793345 122.7315 \nL 203.433345 122.7315 \nL 203.433345 166.2195 \nL 158.793345 166.2195 \nL 158.793345 122.7315 \n\" style=\"fill:#a50026;\"/>\n    <path clip-path=\"url(#p89dc83f282)\" d=\"M 203.433345 122.7315 \nL 248.073345 122.7315 \nL 248.073345 166.2195 \nL 203.433345 166.2195 \nL 203.433345 122.7315 \n\" style=\"fill:#e8f59f;\"/>\n    <path clip-path=\"url(#p89dc83f282)\" d=\"M 248.073345 122.7315 \nL 292.713345 122.7315 \nL 292.713345 166.2195 \nL 248.073345 166.2195 \nL 248.073345 122.7315 \n\" style=\"fill:#e6f59d;\"/>\n    <path clip-path=\"url(#p89dc83f282)\" d=\"M 114.153345 166.2195 \nL 158.793345 166.2195 \nL 158.793345 209.7075 \nL 114.153345 209.7075 \nL 114.153345 166.2195 \n\" style=\"fill:#84ca66;\"/>\n    <path clip-path=\"url(#p89dc83f282)\" d=\"M 158.793345 166.2195 \nL 203.433345 166.2195 \nL 203.433345 209.7075 \nL 158.793345 209.7075 \nL 158.793345 166.2195 \n\" style=\"fill:#84ca66;\"/>\n    <path clip-path=\"url(#p89dc83f282)\" d=\"M 203.433345 166.2195 \nL 248.073345 166.2195 \nL 248.073345 209.7075 \nL 203.433345 209.7075 \nL 203.433345 166.2195 \n\" style=\"fill:#04703b;\"/>\n    <path clip-path=\"url(#p89dc83f282)\" d=\"M 248.073345 166.2195 \nL 292.713345 166.2195 \nL 292.713345 209.7075 \nL 248.073345 209.7075 \nL 248.073345 166.2195 \n\" style=\"fill:#04703b;\"/>\n    <path clip-path=\"url(#p89dc83f282)\" d=\"M 114.153345 209.7075 \nL 158.793345 209.7075 \nL 158.793345 253.1955 \nL 114.153345 253.1955 \nL 114.153345 209.7075 \n\" style=\"fill:#07753e;\"/>\n    <path clip-path=\"url(#p89dc83f282)\" d=\"M 158.793345 209.7075 \nL 203.433345 209.7075 \nL 203.433345 253.1955 \nL 158.793345 253.1955 \nL 158.793345 209.7075 \n\" style=\"fill:#108647;\"/>\n    <path clip-path=\"url(#p89dc83f282)\" d=\"M 203.433345 209.7075 \nL 248.073345 209.7075 \nL 248.073345 253.1955 \nL 203.433345 253.1955 \nL 203.433345 209.7075 \n\" style=\"fill:#006837;\"/>\n    <path clip-path=\"url(#p89dc83f282)\" d=\"M 248.073345 209.7075 \nL 292.713345 209.7075 \nL 292.713345 253.1955 \nL 248.073345 253.1955 \nL 248.073345 209.7075 \n\" style=\"fill:#006837;\"/>\n   </g>\n   <g id=\"matplotlib.axis_1\">\n    <g id=\"xtick_1\">\n     <g id=\"line2d_1\">\n      <defs>\n       <path d=\"M 0 0 \nL 0 3.5 \n\" id=\"m33376e4470\" style=\"stroke:#000000;stroke-width:0.8;\"/>\n      </defs>\n      <g>\n       <use style=\"stroke:#000000;stroke-width:0.8;\" x=\"136.473345\" xlink:href=\"#m33376e4470\" y=\"253.1955\"/>\n      </g>\n     </g>\n     <g id=\"text_1\">\n      <!-- First study -->\n      <defs>\n       <path d=\"M 9.8125 72.90625 \nL 51.703125 72.90625 \nL 51.703125 64.59375 \nL 19.671875 64.59375 \nL 19.671875 43.109375 \nL 48.578125 43.109375 \nL 48.578125 34.8125 \nL 19.671875 34.8125 \nL 19.671875 0 \nL 9.8125 0 \nz\n\" id=\"DejaVuSans-70\"/>\n       <path d=\"M 9.421875 54.6875 \nL 18.40625 54.6875 \nL 18.40625 0 \nL 9.421875 0 \nz\nM 9.421875 75.984375 \nL 18.40625 75.984375 \nL 18.40625 64.59375 \nL 9.421875 64.59375 \nz\n\" id=\"DejaVuSans-105\"/>\n       <path d=\"M 41.109375 46.296875 \nQ 39.59375 47.171875 37.8125 47.578125 \nQ 36.03125 48 33.890625 48 \nQ 26.265625 48 22.1875 43.046875 \nQ 18.109375 38.09375 18.109375 28.8125 \nL 18.109375 0 \nL 9.078125 0 \nL 9.078125 54.6875 \nL 18.109375 54.6875 \nL 18.109375 46.1875 \nQ 20.953125 51.171875 25.484375 53.578125 \nQ 30.03125 56 36.53125 56 \nQ 37.453125 56 38.578125 55.875 \nQ 39.703125 55.765625 41.0625 55.515625 \nz\n\" id=\"DejaVuSans-114\"/>\n       <path d=\"M 44.28125 53.078125 \nL 44.28125 44.578125 \nQ 40.484375 46.53125 36.375 47.5 \nQ 32.28125 48.484375 27.875 48.484375 \nQ 21.1875 48.484375 17.84375 46.4375 \nQ 14.5 44.390625 14.5 40.28125 \nQ 14.5 37.15625 16.890625 35.375 \nQ 19.28125 33.59375 26.515625 31.984375 \nL 29.59375 31.296875 \nQ 39.15625 29.25 43.1875 25.515625 \nQ 47.21875 21.78125 47.21875 15.09375 \nQ 47.21875 7.46875 41.1875 3.015625 \nQ 35.15625 -1.421875 24.609375 -1.421875 \nQ 20.21875 -1.421875 15.453125 -0.5625 \nQ 10.6875 0.296875 5.421875 2 \nL 5.421875 11.28125 \nQ 10.40625 8.6875 15.234375 7.390625 \nQ 20.0625 6.109375 24.8125 6.109375 \nQ 31.15625 6.109375 34.5625 8.28125 \nQ 37.984375 10.453125 37.984375 14.40625 \nQ 37.984375 18.0625 35.515625 20.015625 \nQ 33.0625 21.96875 24.703125 23.78125 \nL 21.578125 24.515625 \nQ 13.234375 26.265625 9.515625 29.90625 \nQ 5.8125 33.546875 5.8125 39.890625 \nQ 5.8125 47.609375 11.28125 51.796875 \nQ 16.75 56 26.8125 56 \nQ 31.78125 56 36.171875 55.265625 \nQ 40.578125 54.546875 44.28125 53.078125 \nz\n\" id=\"DejaVuSans-115\"/>\n       <path d=\"M 18.3125 70.21875 \nL 18.3125 54.6875 \nL 36.8125 54.6875 \nL 36.8125 47.703125 \nL 18.3125 47.703125 \nL 18.3125 18.015625 \nQ 18.3125 11.328125 20.140625 9.421875 \nQ 21.96875 7.515625 27.59375 7.515625 \nL 36.8125 7.515625 \nL 36.8125 0 \nL 27.59375 0 \nQ 17.1875 0 13.234375 3.875 \nQ 9.28125 7.765625 9.28125 18.015625 \nL 9.28125 47.703125 \nL 2.6875 47.703125 \nL 2.6875 54.6875 \nL 9.28125 54.6875 \nL 9.28125 70.21875 \nz\n\" id=\"DejaVuSans-116\"/>\n       <path id=\"DejaVuSans-32\"/>\n       <path d=\"M 8.5 21.578125 \nL 8.5 54.6875 \nL 17.484375 54.6875 \nL 17.484375 21.921875 \nQ 17.484375 14.15625 20.5 10.265625 \nQ 23.53125 6.390625 29.59375 6.390625 \nQ 36.859375 6.390625 41.078125 11.03125 \nQ 45.3125 15.671875 45.3125 23.6875 \nL 45.3125 54.6875 \nL 54.296875 54.6875 \nL 54.296875 0 \nL 45.3125 0 \nL 45.3125 8.40625 \nQ 42.046875 3.421875 37.71875 1 \nQ 33.40625 -1.421875 27.6875 -1.421875 \nQ 18.265625 -1.421875 13.375 4.4375 \nQ 8.5 10.296875 8.5 21.578125 \nz\nM 31.109375 56 \nz\n\" id=\"DejaVuSans-117\"/>\n       <path d=\"M 45.40625 46.390625 \nL 45.40625 75.984375 \nL 54.390625 75.984375 \nL 54.390625 0 \nL 45.40625 0 \nL 45.40625 8.203125 \nQ 42.578125 3.328125 38.25 0.953125 \nQ 33.9375 -1.421875 27.875 -1.421875 \nQ 17.96875 -1.421875 11.734375 6.484375 \nQ 5.515625 14.40625 5.515625 27.296875 \nQ 5.515625 40.1875 11.734375 48.09375 \nQ 17.96875 56 27.875 56 \nQ 33.9375 56 38.25 53.625 \nQ 42.578125 51.265625 45.40625 46.390625 \nz\nM 14.796875 27.296875 \nQ 14.796875 17.390625 18.875 11.75 \nQ 22.953125 6.109375 30.078125 6.109375 \nQ 37.203125 6.109375 41.296875 11.75 \nQ 45.40625 17.390625 45.40625 27.296875 \nQ 45.40625 37.203125 41.296875 42.84375 \nQ 37.203125 48.484375 30.078125 48.484375 \nQ 22.953125 48.484375 18.875 42.84375 \nQ 14.796875 37.203125 14.796875 27.296875 \nz\n\" id=\"DejaVuSans-100\"/>\n       <path d=\"M 32.171875 -5.078125 \nQ 28.375 -14.84375 24.75 -17.8125 \nQ 21.140625 -20.796875 15.09375 -20.796875 \nL 7.90625 -20.796875 \nL 7.90625 -13.28125 \nL 13.1875 -13.28125 \nQ 16.890625 -13.28125 18.9375 -11.515625 \nQ 21 -9.765625 23.484375 -3.21875 \nL 25.09375 0.875 \nL 2.984375 54.6875 \nL 12.5 54.6875 \nL 29.59375 11.921875 \nL 46.6875 54.6875 \nL 56.203125 54.6875 \nz\n\" id=\"DejaVuSans-121\"/>\n      </defs>\n      <g transform=\"translate(116.095632 306.959013)rotate(-45)scale(0.1 -0.1)\">\n       <use xlink:href=\"#DejaVuSans-70\"/>\n       <use x=\"50.269531\" xlink:href=\"#DejaVuSans-105\"/>\n       <use x=\"78.052734\" xlink:href=\"#DejaVuSans-114\"/>\n       <use x=\"119.166016\" xlink:href=\"#DejaVuSans-115\"/>\n       <use x=\"171.265625\" xlink:href=\"#DejaVuSans-116\"/>\n       <use x=\"210.474609\" xlink:href=\"#DejaVuSans-32\"/>\n       <use x=\"242.261719\" xlink:href=\"#DejaVuSans-115\"/>\n       <use x=\"294.361328\" xlink:href=\"#DejaVuSans-116\"/>\n       <use x=\"333.570312\" xlink:href=\"#DejaVuSans-117\"/>\n       <use x=\"396.949219\" xlink:href=\"#DejaVuSans-100\"/>\n       <use x=\"460.425781\" xlink:href=\"#DejaVuSans-121\"/>\n      </g>\n      <!-- (10-folds CV) -->\n      <defs>\n       <path d=\"M 31 75.875 \nQ 24.46875 64.65625 21.28125 53.65625 \nQ 18.109375 42.671875 18.109375 31.390625 \nQ 18.109375 20.125 21.3125 9.0625 \nQ 24.515625 -2 31 -13.1875 \nL 23.1875 -13.1875 \nQ 15.875 -1.703125 12.234375 9.375 \nQ 8.59375 20.453125 8.59375 31.390625 \nQ 8.59375 42.28125 12.203125 53.3125 \nQ 15.828125 64.359375 23.1875 75.875 \nz\n\" id=\"DejaVuSans-40\"/>\n       <path d=\"M 12.40625 8.296875 \nL 28.515625 8.296875 \nL 28.515625 63.921875 \nL 10.984375 60.40625 \nL 10.984375 69.390625 \nL 28.421875 72.90625 \nL 38.28125 72.90625 \nL 38.28125 8.296875 \nL 54.390625 8.296875 \nL 54.390625 0 \nL 12.40625 0 \nz\n\" id=\"DejaVuSans-49\"/>\n       <path d=\"M 31.78125 66.40625 \nQ 24.171875 66.40625 20.328125 58.90625 \nQ 16.5 51.421875 16.5 36.375 \nQ 16.5 21.390625 20.328125 13.890625 \nQ 24.171875 6.390625 31.78125 6.390625 \nQ 39.453125 6.390625 43.28125 13.890625 \nQ 47.125 21.390625 47.125 36.375 \nQ 47.125 51.421875 43.28125 58.90625 \nQ 39.453125 66.40625 31.78125 66.40625 \nz\nM 31.78125 74.21875 \nQ 44.046875 74.21875 50.515625 64.515625 \nQ 56.984375 54.828125 56.984375 36.375 \nQ 56.984375 17.96875 50.515625 8.265625 \nQ 44.046875 -1.421875 31.78125 -1.421875 \nQ 19.53125 -1.421875 13.0625 8.265625 \nQ 6.59375 17.96875 6.59375 36.375 \nQ 6.59375 54.828125 13.0625 64.515625 \nQ 19.53125 74.21875 31.78125 74.21875 \nz\n\" id=\"DejaVuSans-48\"/>\n       <path d=\"M 4.890625 31.390625 \nL 31.203125 31.390625 \nL 31.203125 23.390625 \nL 4.890625 23.390625 \nz\n\" id=\"DejaVuSans-45\"/>\n       <path d=\"M 37.109375 75.984375 \nL 37.109375 68.5 \nL 28.515625 68.5 \nQ 23.6875 68.5 21.796875 66.546875 \nQ 19.921875 64.59375 19.921875 59.515625 \nL 19.921875 54.6875 \nL 34.71875 54.6875 \nL 34.71875 47.703125 \nL 19.921875 47.703125 \nL 19.921875 0 \nL 10.890625 0 \nL 10.890625 47.703125 \nL 2.296875 47.703125 \nL 2.296875 54.6875 \nL 10.890625 54.6875 \nL 10.890625 58.5 \nQ 10.890625 67.625 15.140625 71.796875 \nQ 19.390625 75.984375 28.609375 75.984375 \nz\n\" id=\"DejaVuSans-102\"/>\n       <path d=\"M 30.609375 48.390625 \nQ 23.390625 48.390625 19.1875 42.75 \nQ 14.984375 37.109375 14.984375 27.296875 \nQ 14.984375 17.484375 19.15625 11.84375 \nQ 23.34375 6.203125 30.609375 6.203125 \nQ 37.796875 6.203125 41.984375 11.859375 \nQ 46.1875 17.53125 46.1875 27.296875 \nQ 46.1875 37.015625 41.984375 42.703125 \nQ 37.796875 48.390625 30.609375 48.390625 \nz\nM 30.609375 56 \nQ 42.328125 56 49.015625 48.375 \nQ 55.71875 40.765625 55.71875 27.296875 \nQ 55.71875 13.875 49.015625 6.21875 \nQ 42.328125 -1.421875 30.609375 -1.421875 \nQ 18.84375 -1.421875 12.171875 6.21875 \nQ 5.515625 13.875 5.515625 27.296875 \nQ 5.515625 40.765625 12.171875 48.375 \nQ 18.84375 56 30.609375 56 \nz\n\" id=\"DejaVuSans-111\"/>\n       <path d=\"M 9.421875 75.984375 \nL 18.40625 75.984375 \nL 18.40625 0 \nL 9.421875 0 \nz\n\" id=\"DejaVuSans-108\"/>\n       <path d=\"M 64.40625 67.28125 \nL 64.40625 56.890625 \nQ 59.421875 61.53125 53.78125 63.8125 \nQ 48.140625 66.109375 41.796875 66.109375 \nQ 29.296875 66.109375 22.65625 58.46875 \nQ 16.015625 50.828125 16.015625 36.375 \nQ 16.015625 21.96875 22.65625 14.328125 \nQ 29.296875 6.6875 41.796875 6.6875 \nQ 48.140625 6.6875 53.78125 8.984375 \nQ 59.421875 11.28125 64.40625 15.921875 \nL 64.40625 5.609375 \nQ 59.234375 2.09375 53.4375 0.328125 \nQ 47.65625 -1.421875 41.21875 -1.421875 \nQ 24.65625 -1.421875 15.125 8.703125 \nQ 5.609375 18.84375 5.609375 36.375 \nQ 5.609375 53.953125 15.125 64.078125 \nQ 24.65625 74.21875 41.21875 74.21875 \nQ 47.75 74.21875 53.53125 72.484375 \nQ 59.328125 70.75 64.40625 67.28125 \nz\n\" id=\"DejaVuSans-67\"/>\n       <path d=\"M 28.609375 0 \nL 0.78125 72.90625 \nL 11.078125 72.90625 \nL 34.1875 11.53125 \nL 57.328125 72.90625 \nL 67.578125 72.90625 \nL 39.796875 0 \nz\n\" id=\"DejaVuSans-86\"/>\n       <path d=\"M 8.015625 75.875 \nL 15.828125 75.875 \nQ 23.140625 64.359375 26.78125 53.3125 \nQ 30.421875 42.28125 30.421875 31.390625 \nQ 30.421875 20.453125 26.78125 9.375 \nQ 23.140625 -1.703125 15.828125 -13.1875 \nL 8.015625 -13.1875 \nQ 14.5 -2 17.703125 9.0625 \nQ 20.90625 20.125 20.90625 31.390625 \nQ 20.90625 42.671875 17.703125 53.65625 \nQ 14.5 64.65625 8.015625 75.875 \nz\n\" id=\"DejaVuSans-41\"/>\n      </defs>\n      <g transform=\"translate(119.362797 319.527946)rotate(-45)scale(0.1 -0.1)\">\n       <use xlink:href=\"#DejaVuSans-40\"/>\n       <use x=\"39.013672\" xlink:href=\"#DejaVuSans-49\"/>\n       <use x=\"102.636719\" xlink:href=\"#DejaVuSans-48\"/>\n       <use x=\"166.259766\" xlink:href=\"#DejaVuSans-45\"/>\n       <use x=\"202.34375\" xlink:href=\"#DejaVuSans-102\"/>\n       <use x=\"237.548828\" xlink:href=\"#DejaVuSans-111\"/>\n       <use x=\"298.730469\" xlink:href=\"#DejaVuSans-108\"/>\n       <use x=\"326.513672\" xlink:href=\"#DejaVuSans-100\"/>\n       <use x=\"389.990234\" xlink:href=\"#DejaVuSans-115\"/>\n       <use x=\"442.089844\" xlink:href=\"#DejaVuSans-32\"/>\n       <use x=\"473.876953\" xlink:href=\"#DejaVuSans-67\"/>\n       <use x=\"543.701172\" xlink:href=\"#DejaVuSans-86\"/>\n       <use x=\"612.109375\" xlink:href=\"#DejaVuSans-41\"/>\n      </g>\n     </g>\n    </g>\n    <g id=\"xtick_2\">\n     <g id=\"line2d_2\">\n      <g>\n       <use style=\"stroke:#000000;stroke-width:0.8;\" x=\"181.113345\" xlink:href=\"#m33376e4470\" y=\"253.1955\"/>\n      </g>\n     </g>\n     <g id=\"text_2\">\n      <!-- First study -->\n      <g transform=\"translate(160.735632 325.942068)rotate(-45)scale(0.1 -0.1)\">\n       <use xlink:href=\"#DejaVuSans-70\"/>\n       <use x=\"50.269531\" xlink:href=\"#DejaVuSans-105\"/>\n       <use x=\"78.052734\" xlink:href=\"#DejaVuSans-114\"/>\n       <use x=\"119.166016\" xlink:href=\"#DejaVuSans-115\"/>\n       <use x=\"171.265625\" xlink:href=\"#DejaVuSans-116\"/>\n       <use x=\"210.474609\" xlink:href=\"#DejaVuSans-32\"/>\n       <use x=\"242.261719\" xlink:href=\"#DejaVuSans-115\"/>\n       <use x=\"294.361328\" xlink:href=\"#DejaVuSans-116\"/>\n       <use x=\"333.570312\" xlink:href=\"#DejaVuSans-117\"/>\n       <use x=\"396.949219\" xlink:href=\"#DejaVuSans-100\"/>\n       <use x=\"460.425781\" xlink:href=\"#DejaVuSans-121\"/>\n      </g>\n      <!-- (30% independent test) -->\n      <defs>\n       <path d=\"M 40.578125 39.3125 \nQ 47.65625 37.796875 51.625 33 \nQ 55.609375 28.21875 55.609375 21.1875 \nQ 55.609375 10.40625 48.1875 4.484375 \nQ 40.765625 -1.421875 27.09375 -1.421875 \nQ 22.515625 -1.421875 17.65625 -0.515625 \nQ 12.796875 0.390625 7.625 2.203125 \nL 7.625 11.71875 \nQ 11.71875 9.328125 16.59375 8.109375 \nQ 21.484375 6.890625 26.8125 6.890625 \nQ 36.078125 6.890625 40.9375 10.546875 \nQ 45.796875 14.203125 45.796875 21.1875 \nQ 45.796875 27.640625 41.28125 31.265625 \nQ 36.765625 34.90625 28.71875 34.90625 \nL 20.21875 34.90625 \nL 20.21875 43.015625 \nL 29.109375 43.015625 \nQ 36.375 43.015625 40.234375 45.921875 \nQ 44.09375 48.828125 44.09375 54.296875 \nQ 44.09375 59.90625 40.109375 62.90625 \nQ 36.140625 65.921875 28.71875 65.921875 \nQ 24.65625 65.921875 20.015625 65.03125 \nQ 15.375 64.15625 9.8125 62.3125 \nL 9.8125 71.09375 \nQ 15.4375 72.65625 20.34375 73.4375 \nQ 25.25 74.21875 29.59375 74.21875 \nQ 40.828125 74.21875 47.359375 69.109375 \nQ 53.90625 64.015625 53.90625 55.328125 \nQ 53.90625 49.265625 50.4375 45.09375 \nQ 46.96875 40.921875 40.578125 39.3125 \nz\n\" id=\"DejaVuSans-51\"/>\n       <path d=\"M 72.703125 32.078125 \nQ 68.453125 32.078125 66.03125 28.46875 \nQ 63.625 24.859375 63.625 18.40625 \nQ 63.625 12.0625 66.03125 8.421875 \nQ 68.453125 4.78125 72.703125 4.78125 \nQ 76.859375 4.78125 79.265625 8.421875 \nQ 81.6875 12.0625 81.6875 18.40625 \nQ 81.6875 24.8125 79.265625 28.4375 \nQ 76.859375 32.078125 72.703125 32.078125 \nz\nM 72.703125 38.28125 \nQ 80.421875 38.28125 84.953125 32.90625 \nQ 89.5 27.546875 89.5 18.40625 \nQ 89.5 9.28125 84.9375 3.921875 \nQ 80.375 -1.421875 72.703125 -1.421875 \nQ 64.890625 -1.421875 60.34375 3.921875 \nQ 55.8125 9.28125 55.8125 18.40625 \nQ 55.8125 27.59375 60.375 32.9375 \nQ 64.9375 38.28125 72.703125 38.28125 \nz\nM 22.3125 68.015625 \nQ 18.109375 68.015625 15.6875 64.375 \nQ 13.28125 60.75 13.28125 54.390625 \nQ 13.28125 47.953125 15.671875 44.328125 \nQ 18.0625 40.71875 22.3125 40.71875 \nQ 26.5625 40.71875 28.96875 44.328125 \nQ 31.390625 47.953125 31.390625 54.390625 \nQ 31.390625 60.6875 28.953125 64.34375 \nQ 26.515625 68.015625 22.3125 68.015625 \nz\nM 66.40625 74.21875 \nL 74.21875 74.21875 \nL 28.609375 -1.421875 \nL 20.796875 -1.421875 \nz\nM 22.3125 74.21875 \nQ 30.03125 74.21875 34.609375 68.875 \nQ 39.203125 63.53125 39.203125 54.390625 \nQ 39.203125 45.171875 34.640625 39.84375 \nQ 30.078125 34.515625 22.3125 34.515625 \nQ 14.546875 34.515625 10.03125 39.859375 \nQ 5.515625 45.21875 5.515625 54.390625 \nQ 5.515625 63.484375 10.046875 68.84375 \nQ 14.59375 74.21875 22.3125 74.21875 \nz\n\" id=\"DejaVuSans-37\"/>\n       <path d=\"M 54.890625 33.015625 \nL 54.890625 0 \nL 45.90625 0 \nL 45.90625 32.71875 \nQ 45.90625 40.484375 42.875 44.328125 \nQ 39.84375 48.1875 33.796875 48.1875 \nQ 26.515625 48.1875 22.3125 43.546875 \nQ 18.109375 38.921875 18.109375 30.90625 \nL 18.109375 0 \nL 9.078125 0 \nL 9.078125 54.6875 \nL 18.109375 54.6875 \nL 18.109375 46.1875 \nQ 21.34375 51.125 25.703125 53.5625 \nQ 30.078125 56 35.796875 56 \nQ 45.21875 56 50.046875 50.171875 \nQ 54.890625 44.34375 54.890625 33.015625 \nz\n\" id=\"DejaVuSans-110\"/>\n       <path d=\"M 56.203125 29.59375 \nL 56.203125 25.203125 \nL 14.890625 25.203125 \nQ 15.484375 15.921875 20.484375 11.0625 \nQ 25.484375 6.203125 34.421875 6.203125 \nQ 39.59375 6.203125 44.453125 7.46875 \nQ 49.3125 8.734375 54.109375 11.28125 \nL 54.109375 2.78125 \nQ 49.265625 0.734375 44.1875 -0.34375 \nQ 39.109375 -1.421875 33.890625 -1.421875 \nQ 20.796875 -1.421875 13.15625 6.1875 \nQ 5.515625 13.8125 5.515625 26.8125 \nQ 5.515625 40.234375 12.765625 48.109375 \nQ 20.015625 56 32.328125 56 \nQ 43.359375 56 49.78125 48.890625 \nQ 56.203125 41.796875 56.203125 29.59375 \nz\nM 47.21875 32.234375 \nQ 47.125 39.59375 43.09375 43.984375 \nQ 39.0625 48.390625 32.421875 48.390625 \nQ 24.90625 48.390625 20.390625 44.140625 \nQ 15.875 39.890625 15.1875 32.171875 \nz\n\" id=\"DejaVuSans-101\"/>\n       <path d=\"M 18.109375 8.203125 \nL 18.109375 -20.796875 \nL 9.078125 -20.796875 \nL 9.078125 54.6875 \nL 18.109375 54.6875 \nL 18.109375 46.390625 \nQ 20.953125 51.265625 25.265625 53.625 \nQ 29.59375 56 35.59375 56 \nQ 45.5625 56 51.78125 48.09375 \nQ 58.015625 40.1875 58.015625 27.296875 \nQ 58.015625 14.40625 51.78125 6.484375 \nQ 45.5625 -1.421875 35.59375 -1.421875 \nQ 29.59375 -1.421875 25.265625 0.953125 \nQ 20.953125 3.328125 18.109375 8.203125 \nz\nM 48.6875 27.296875 \nQ 48.6875 37.203125 44.609375 42.84375 \nQ 40.53125 48.484375 33.40625 48.484375 \nQ 26.265625 48.484375 22.1875 42.84375 \nQ 18.109375 37.203125 18.109375 27.296875 \nQ 18.109375 17.390625 22.1875 11.75 \nQ 26.265625 6.109375 33.40625 6.109375 \nQ 40.53125 6.109375 44.609375 11.75 \nQ 48.6875 17.390625 48.6875 27.296875 \nz\n\" id=\"DejaVuSans-112\"/>\n      </defs>\n      <g transform=\"translate(145.019742 357.494056)rotate(-45)scale(0.1 -0.1)\">\n       <use xlink:href=\"#DejaVuSans-40\"/>\n       <use x=\"39.013672\" xlink:href=\"#DejaVuSans-51\"/>\n       <use x=\"102.636719\" xlink:href=\"#DejaVuSans-48\"/>\n       <use x=\"166.259766\" xlink:href=\"#DejaVuSans-37\"/>\n       <use x=\"261.279297\" xlink:href=\"#DejaVuSans-32\"/>\n       <use x=\"293.066406\" xlink:href=\"#DejaVuSans-105\"/>\n       <use x=\"320.849609\" xlink:href=\"#DejaVuSans-110\"/>\n       <use x=\"384.228516\" xlink:href=\"#DejaVuSans-100\"/>\n       <use x=\"447.705078\" xlink:href=\"#DejaVuSans-101\"/>\n       <use x=\"509.228516\" xlink:href=\"#DejaVuSans-112\"/>\n       <use x=\"572.705078\" xlink:href=\"#DejaVuSans-101\"/>\n       <use x=\"634.228516\" xlink:href=\"#DejaVuSans-110\"/>\n       <use x=\"697.607422\" xlink:href=\"#DejaVuSans-100\"/>\n       <use x=\"761.083984\" xlink:href=\"#DejaVuSans-101\"/>\n       <use x=\"822.607422\" xlink:href=\"#DejaVuSans-110\"/>\n       <use x=\"885.986328\" xlink:href=\"#DejaVuSans-116\"/>\n       <use x=\"925.195312\" xlink:href=\"#DejaVuSans-32\"/>\n       <use x=\"956.982422\" xlink:href=\"#DejaVuSans-116\"/>\n       <use x=\"996.191406\" xlink:href=\"#DejaVuSans-101\"/>\n       <use x=\"1057.714844\" xlink:href=\"#DejaVuSans-115\"/>\n       <use x=\"1109.814453\" xlink:href=\"#DejaVuSans-116\"/>\n       <use x=\"1149.023438\" xlink:href=\"#DejaVuSans-41\"/>\n      </g>\n     </g>\n    </g>\n    <g id=\"xtick_3\">\n     <g id=\"line2d_3\">\n      <g>\n       <use style=\"stroke:#000000;stroke-width:0.8;\" x=\"225.753345\" xlink:href=\"#m33376e4470\" y=\"253.1955\"/>\n      </g>\n     </g>\n     <g id=\"text_3\">\n      <!-- Second study -->\n      <defs>\n       <path d=\"M 53.515625 70.515625 \nL 53.515625 60.890625 \nQ 47.90625 63.578125 42.921875 64.890625 \nQ 37.9375 66.21875 33.296875 66.21875 \nQ 25.25 66.21875 20.875 63.09375 \nQ 16.5 59.96875 16.5 54.203125 \nQ 16.5 49.359375 19.40625 46.890625 \nQ 22.3125 44.4375 30.421875 42.921875 \nL 36.375 41.703125 \nQ 47.40625 39.59375 52.65625 34.296875 \nQ 57.90625 29 57.90625 20.125 \nQ 57.90625 9.515625 50.796875 4.046875 \nQ 43.703125 -1.421875 29.984375 -1.421875 \nQ 24.8125 -1.421875 18.96875 -0.25 \nQ 13.140625 0.921875 6.890625 3.21875 \nL 6.890625 13.375 \nQ 12.890625 10.015625 18.65625 8.296875 \nQ 24.421875 6.59375 29.984375 6.59375 \nQ 38.421875 6.59375 43.015625 9.90625 \nQ 47.609375 13.234375 47.609375 19.390625 \nQ 47.609375 24.75 44.3125 27.78125 \nQ 41.015625 30.8125 33.5 32.328125 \nL 27.484375 33.5 \nQ 16.453125 35.6875 11.515625 40.375 \nQ 6.59375 45.0625 6.59375 53.421875 \nQ 6.59375 63.09375 13.40625 68.65625 \nQ 20.21875 74.21875 32.171875 74.21875 \nQ 37.3125 74.21875 42.625 73.28125 \nQ 47.953125 72.359375 53.515625 70.515625 \nz\n\" id=\"DejaVuSans-83\"/>\n       <path d=\"M 48.78125 52.59375 \nL 48.78125 44.1875 \nQ 44.96875 46.296875 41.140625 47.34375 \nQ 37.3125 48.390625 33.40625 48.390625 \nQ 24.65625 48.390625 19.8125 42.84375 \nQ 14.984375 37.3125 14.984375 27.296875 \nQ 14.984375 17.28125 19.8125 11.734375 \nQ 24.65625 6.203125 33.40625 6.203125 \nQ 37.3125 6.203125 41.140625 7.25 \nQ 44.96875 8.296875 48.78125 10.40625 \nL 48.78125 2.09375 \nQ 45.015625 0.34375 40.984375 -0.53125 \nQ 36.96875 -1.421875 32.421875 -1.421875 \nQ 20.0625 -1.421875 12.78125 6.34375 \nQ 5.515625 14.109375 5.515625 27.296875 \nQ 5.515625 40.671875 12.859375 48.328125 \nQ 20.21875 56 33.015625 56 \nQ 37.15625 56 41.109375 55.140625 \nQ 45.0625 54.296875 48.78125 52.59375 \nz\n\" id=\"DejaVuSans-99\"/>\n      </defs>\n      <g transform=\"translate(199.803852 313.451689)rotate(-45)scale(0.1 -0.1)\">\n       <use xlink:href=\"#DejaVuSans-83\"/>\n       <use x=\"63.476562\" xlink:href=\"#DejaVuSans-101\"/>\n       <use x=\"125\" xlink:href=\"#DejaVuSans-99\"/>\n       <use x=\"179.980469\" xlink:href=\"#DejaVuSans-111\"/>\n       <use x=\"241.162109\" xlink:href=\"#DejaVuSans-110\"/>\n       <use x=\"304.541016\" xlink:href=\"#DejaVuSans-100\"/>\n       <use x=\"368.017578\" xlink:href=\"#DejaVuSans-32\"/>\n       <use x=\"399.804688\" xlink:href=\"#DejaVuSans-115\"/>\n       <use x=\"451.904297\" xlink:href=\"#DejaVuSans-116\"/>\n       <use x=\"491.113281\" xlink:href=\"#DejaVuSans-117\"/>\n       <use x=\"554.492188\" xlink:href=\"#DejaVuSans-100\"/>\n       <use x=\"617.96875\" xlink:href=\"#DejaVuSans-121\"/>\n      </g>\n      <!-- (10-folds CV) -->\n      <g transform=\"translate(208.642797 320.448842)rotate(-45)scale(0.1 -0.1)\">\n       <use xlink:href=\"#DejaVuSans-40\"/>\n       <use x=\"39.013672\" xlink:href=\"#DejaVuSans-49\"/>\n       <use x=\"102.636719\" xlink:href=\"#DejaVuSans-48\"/>\n       <use x=\"166.259766\" xlink:href=\"#DejaVuSans-45\"/>\n       <use x=\"202.34375\" xlink:href=\"#DejaVuSans-102\"/>\n       <use x=\"237.548828\" xlink:href=\"#DejaVuSans-111\"/>\n       <use x=\"298.730469\" xlink:href=\"#DejaVuSans-108\"/>\n       <use x=\"326.513672\" xlink:href=\"#DejaVuSans-100\"/>\n       <use x=\"389.990234\" xlink:href=\"#DejaVuSans-115\"/>\n       <use x=\"442.089844\" xlink:href=\"#DejaVuSans-32\"/>\n       <use x=\"473.876953\" xlink:href=\"#DejaVuSans-67\"/>\n       <use x=\"543.701172\" xlink:href=\"#DejaVuSans-86\"/>\n       <use x=\"612.109375\" xlink:href=\"#DejaVuSans-41\"/>\n      </g>\n     </g>\n    </g>\n    <g id=\"xtick_4\">\n     <g id=\"line2d_4\">\n      <g>\n       <use style=\"stroke:#000000;stroke-width:0.8;\" x=\"270.393345\" xlink:href=\"#m33376e4470\" y=\"253.1955\"/>\n      </g>\n     </g>\n     <g id=\"text_4\">\n      <!-- Second study -->\n      <g transform=\"translate(244.443852 331.513848)rotate(-45)scale(0.1 -0.1)\">\n       <use xlink:href=\"#DejaVuSans-83\"/>\n       <use x=\"63.476562\" xlink:href=\"#DejaVuSans-101\"/>\n       <use x=\"125\" xlink:href=\"#DejaVuSans-99\"/>\n       <use x=\"179.980469\" xlink:href=\"#DejaVuSans-111\"/>\n       <use x=\"241.162109\" xlink:href=\"#DejaVuSans-110\"/>\n       <use x=\"304.541016\" xlink:href=\"#DejaVuSans-100\"/>\n       <use x=\"368.017578\" xlink:href=\"#DejaVuSans-32\"/>\n       <use x=\"399.804688\" xlink:href=\"#DejaVuSans-115\"/>\n       <use x=\"451.904297\" xlink:href=\"#DejaVuSans-116\"/>\n       <use x=\"491.113281\" xlink:href=\"#DejaVuSans-117\"/>\n       <use x=\"554.492188\" xlink:href=\"#DejaVuSans-100\"/>\n       <use x=\"617.96875\" xlink:href=\"#DejaVuSans-121\"/>\n      </g>\n      <!-- (30% independent test) -->\n      <g transform=\"translate(234.299742 357.494056)rotate(-45)scale(0.1 -0.1)\">\n       <use xlink:href=\"#DejaVuSans-40\"/>\n       <use x=\"39.013672\" xlink:href=\"#DejaVuSans-51\"/>\n       <use x=\"102.636719\" xlink:href=\"#DejaVuSans-48\"/>\n       <use x=\"166.259766\" xlink:href=\"#DejaVuSans-37\"/>\n       <use x=\"261.279297\" xlink:href=\"#DejaVuSans-32\"/>\n       <use x=\"293.066406\" xlink:href=\"#DejaVuSans-105\"/>\n       <use x=\"320.849609\" xlink:href=\"#DejaVuSans-110\"/>\n       <use x=\"384.228516\" xlink:href=\"#DejaVuSans-100\"/>\n       <use x=\"447.705078\" xlink:href=\"#DejaVuSans-101\"/>\n       <use x=\"509.228516\" xlink:href=\"#DejaVuSans-112\"/>\n       <use x=\"572.705078\" xlink:href=\"#DejaVuSans-101\"/>\n       <use x=\"634.228516\" xlink:href=\"#DejaVuSans-110\"/>\n       <use x=\"697.607422\" xlink:href=\"#DejaVuSans-100\"/>\n       <use x=\"761.083984\" xlink:href=\"#DejaVuSans-101\"/>\n       <use x=\"822.607422\" xlink:href=\"#DejaVuSans-110\"/>\n       <use x=\"885.986328\" xlink:href=\"#DejaVuSans-116\"/>\n       <use x=\"925.195312\" xlink:href=\"#DejaVuSans-32\"/>\n       <use x=\"956.982422\" xlink:href=\"#DejaVuSans-116\"/>\n       <use x=\"996.191406\" xlink:href=\"#DejaVuSans-101\"/>\n       <use x=\"1057.714844\" xlink:href=\"#DejaVuSans-115\"/>\n       <use x=\"1109.814453\" xlink:href=\"#DejaVuSans-116\"/>\n       <use x=\"1149.023438\" xlink:href=\"#DejaVuSans-41\"/>\n      </g>\n     </g>\n    </g>\n    <g id=\"text_5\">\n     <!-- Experiments -->\n     <defs>\n      <path d=\"M 9.8125 72.90625 \nL 55.90625 72.90625 \nL 55.90625 64.59375 \nL 19.671875 64.59375 \nL 19.671875 43.015625 \nL 54.390625 43.015625 \nL 54.390625 34.71875 \nL 19.671875 34.71875 \nL 19.671875 8.296875 \nL 56.78125 8.296875 \nL 56.78125 0 \nL 9.8125 0 \nz\n\" id=\"DejaVuSans-69\"/>\n      <path d=\"M 54.890625 54.6875 \nL 35.109375 28.078125 \nL 55.90625 0 \nL 45.3125 0 \nL 29.390625 21.484375 \nL 13.484375 0 \nL 2.875 0 \nL 24.125 28.609375 \nL 4.6875 54.6875 \nL 15.28125 54.6875 \nL 29.78125 35.203125 \nL 44.28125 54.6875 \nz\n\" id=\"DejaVuSans-120\"/>\n      <path d=\"M 52 44.1875 \nQ 55.375 50.25 60.0625 53.125 \nQ 64.75 56 71.09375 56 \nQ 79.640625 56 84.28125 50.015625 \nQ 88.921875 44.046875 88.921875 33.015625 \nL 88.921875 0 \nL 79.890625 0 \nL 79.890625 32.71875 \nQ 79.890625 40.578125 77.09375 44.375 \nQ 74.3125 48.1875 68.609375 48.1875 \nQ 61.625 48.1875 57.5625 43.546875 \nQ 53.515625 38.921875 53.515625 30.90625 \nL 53.515625 0 \nL 44.484375 0 \nL 44.484375 32.71875 \nQ 44.484375 40.625 41.703125 44.40625 \nQ 38.921875 48.1875 33.109375 48.1875 \nQ 26.21875 48.1875 22.15625 43.53125 \nQ 18.109375 38.875 18.109375 30.90625 \nL 18.109375 0 \nL 9.078125 0 \nL 9.078125 54.6875 \nL 18.109375 54.6875 \nL 18.109375 46.1875 \nQ 21.1875 51.21875 25.484375 53.609375 \nQ 29.78125 56 35.6875 56 \nQ 41.65625 56 45.828125 52.96875 \nQ 50 49.953125 52 44.1875 \nz\n\" id=\"DejaVuSans-109\"/>\n     </defs>\n     <g transform=\"translate(171.938814 370.563055)scale(0.1 -0.1)\">\n      <use xlink:href=\"#DejaVuSans-69\"/>\n      <use x=\"63.183594\" xlink:href=\"#DejaVuSans-120\"/>\n      <use x=\"122.363281\" xlink:href=\"#DejaVuSans-112\"/>\n      <use x=\"185.839844\" xlink:href=\"#DejaVuSans-101\"/>\n      <use x=\"247.363281\" xlink:href=\"#DejaVuSans-114\"/>\n      <use x=\"288.476562\" xlink:href=\"#DejaVuSans-105\"/>\n      <use x=\"316.259766\" xlink:href=\"#DejaVuSans-109\"/>\n      <use x=\"413.671875\" xlink:href=\"#DejaVuSans-101\"/>\n      <use x=\"475.195312\" xlink:href=\"#DejaVuSans-110\"/>\n      <use x=\"538.574219\" xlink:href=\"#DejaVuSans-116\"/>\n      <use x=\"577.783203\" xlink:href=\"#DejaVuSans-115\"/>\n     </g>\n    </g>\n   </g>\n   <g id=\"matplotlib.axis_2\">\n    <g id=\"ytick_1\">\n     <g id=\"line2d_5\">\n      <defs>\n       <path d=\"M 0 0 \nL -3.5 0 \n\" id=\"m3488082e6d\" style=\"stroke:#000000;stroke-width:0.8;\"/>\n      </defs>\n      <g>\n       <use style=\"stroke:#000000;stroke-width:0.8;\" x=\"114.153345\" xlink:href=\"#m3488082e6d\" y=\"57.4995\"/>\n      </g>\n     </g>\n     <g id=\"text_6\">\n      <!-- DELFI -->\n      <defs>\n       <path d=\"M 19.671875 64.796875 \nL 19.671875 8.109375 \nL 31.59375 8.109375 \nQ 46.6875 8.109375 53.6875 14.9375 \nQ 60.6875 21.78125 60.6875 36.53125 \nQ 60.6875 51.171875 53.6875 57.984375 \nQ 46.6875 64.796875 31.59375 64.796875 \nz\nM 9.8125 72.90625 \nL 30.078125 72.90625 \nQ 51.265625 72.90625 61.171875 64.09375 \nQ 71.09375 55.28125 71.09375 36.53125 \nQ 71.09375 17.671875 61.125 8.828125 \nQ 51.171875 0 30.078125 0 \nL 9.8125 0 \nz\n\" id=\"DejaVuSans-68\"/>\n       <path d=\"M 9.8125 72.90625 \nL 19.671875 72.90625 \nL 19.671875 8.296875 \nL 55.171875 8.296875 \nL 55.171875 0 \nL 9.8125 0 \nz\n\" id=\"DejaVuSans-76\"/>\n       <path d=\"M 9.8125 72.90625 \nL 19.671875 72.90625 \nL 19.671875 0 \nL 9.8125 0 \nz\n\" id=\"DejaVuSans-73\"/>\n      </defs>\n      <g transform=\"translate(81.611748 66.962236)rotate(-30)scale(0.1 -0.1)\">\n       <use xlink:href=\"#DejaVuSans-68\"/>\n       <use x=\"77.001953\" xlink:href=\"#DejaVuSans-69\"/>\n       <use x=\"140.185547\" xlink:href=\"#DejaVuSans-76\"/>\n       <use x=\"195.898438\" xlink:href=\"#DejaVuSans-70\"/>\n       <use x=\"253.417969\" xlink:href=\"#DejaVuSans-73\"/>\n      </g>\n     </g>\n    </g>\n    <g id=\"ytick_2\">\n     <g id=\"line2d_6\">\n      <g>\n       <use style=\"stroke:#000000;stroke-width:0.8;\" x=\"114.153345\" xlink:href=\"#m3488082e6d\" y=\"100.9875\"/>\n      </g>\n     </g>\n     <g id=\"text_7\">\n      <!-- CancerSEEK -->\n      <defs>\n       <path d=\"M 34.28125 27.484375 \nQ 23.390625 27.484375 19.1875 25 \nQ 14.984375 22.515625 14.984375 16.5 \nQ 14.984375 11.71875 18.140625 8.90625 \nQ 21.296875 6.109375 26.703125 6.109375 \nQ 34.1875 6.109375 38.703125 11.40625 \nQ 43.21875 16.703125 43.21875 25.484375 \nL 43.21875 27.484375 \nz\nM 52.203125 31.203125 \nL 52.203125 0 \nL 43.21875 0 \nL 43.21875 8.296875 \nQ 40.140625 3.328125 35.546875 0.953125 \nQ 30.953125 -1.421875 24.3125 -1.421875 \nQ 15.921875 -1.421875 10.953125 3.296875 \nQ 6 8.015625 6 15.921875 \nQ 6 25.140625 12.171875 29.828125 \nQ 18.359375 34.515625 30.609375 34.515625 \nL 43.21875 34.515625 \nL 43.21875 35.40625 \nQ 43.21875 41.609375 39.140625 45 \nQ 35.0625 48.390625 27.6875 48.390625 \nQ 23 48.390625 18.546875 47.265625 \nQ 14.109375 46.140625 10.015625 43.890625 \nL 10.015625 52.203125 \nQ 14.9375 54.109375 19.578125 55.046875 \nQ 24.21875 56 28.609375 56 \nQ 40.484375 56 46.34375 49.84375 \nQ 52.203125 43.703125 52.203125 31.203125 \nz\n\" id=\"DejaVuSans-97\"/>\n       <path d=\"M 9.8125 72.90625 \nL 19.671875 72.90625 \nL 19.671875 42.09375 \nL 52.390625 72.90625 \nL 65.09375 72.90625 \nL 28.90625 38.921875 \nL 67.671875 0 \nL 54.6875 0 \nL 19.671875 35.109375 \nL 19.671875 0 \nL 9.8125 0 \nz\n\" id=\"DejaVuSans-75\"/>\n      </defs>\n      <g transform=\"translate(53.498399 118.565861)rotate(-30)scale(0.1 -0.1)\">\n       <use xlink:href=\"#DejaVuSans-67\"/>\n       <use x=\"69.824219\" xlink:href=\"#DejaVuSans-97\"/>\n       <use x=\"131.103516\" xlink:href=\"#DejaVuSans-110\"/>\n       <use x=\"194.482422\" xlink:href=\"#DejaVuSans-99\"/>\n       <use x=\"249.462891\" xlink:href=\"#DejaVuSans-101\"/>\n       <use x=\"310.986328\" xlink:href=\"#DejaVuSans-114\"/>\n       <use x=\"352.099609\" xlink:href=\"#DejaVuSans-83\"/>\n       <use x=\"415.576172\" xlink:href=\"#DejaVuSans-69\"/>\n       <use x=\"478.759766\" xlink:href=\"#DejaVuSans-69\"/>\n       <use x=\"541.943359\" xlink:href=\"#DejaVuSans-75\"/>\n      </g>\n     </g>\n    </g>\n    <g id=\"ytick_3\">\n     <g id=\"line2d_7\">\n      <g>\n       <use style=\"stroke:#000000;stroke-width:0.8;\" x=\"114.153345\" xlink:href=\"#m3488082e6d\" y=\"144.4755\"/>\n      </g>\n     </g>\n     <g id=\"text_8\">\n      <!-- ASVM -->\n      <defs>\n       <path d=\"M 34.1875 63.1875 \nL 20.796875 26.90625 \nL 47.609375 26.90625 \nz\nM 28.609375 72.90625 \nL 39.796875 72.90625 \nL 67.578125 0 \nL 57.328125 0 \nL 50.6875 18.703125 \nL 17.828125 18.703125 \nL 11.1875 0 \nL 0.78125 0 \nz\n\" id=\"DejaVuSans-65\"/>\n       <path d=\"M 9.8125 72.90625 \nL 24.515625 72.90625 \nL 43.109375 23.296875 \nL 61.8125 72.90625 \nL 76.515625 72.90625 \nL 76.515625 0 \nL 66.890625 0 \nL 66.890625 64.015625 \nL 48.09375 14.015625 \nL 38.1875 14.015625 \nL 19.390625 64.015625 \nL 19.390625 0 \nL 9.8125 0 \nz\n\" id=\"DejaVuSans-77\"/>\n      </defs>\n      <g transform=\"translate(81.295108 154.029642)rotate(-30)scale(0.1 -0.1)\">\n       <use xlink:href=\"#DejaVuSans-65\"/>\n       <use x=\"68.408203\" xlink:href=\"#DejaVuSans-83\"/>\n       <use x=\"131.884766\" xlink:href=\"#DejaVuSans-86\"/>\n       <use x=\"200.292969\" xlink:href=\"#DejaVuSans-77\"/>\n      </g>\n     </g>\n    </g>\n    <g id=\"ytick_4\">\n     <g id=\"line2d_8\">\n      <g>\n       <use style=\"stroke:#000000;stroke-width:0.8;\" x=\"114.153345\" xlink:href=\"#m3488082e6d\" y=\"187.9635\"/>\n      </g>\n     </g>\n     <g id=\"text_9\">\n      <!-- CancerEMC -->\n      <g transform=\"translate(56.628268 204.638345)rotate(-30)scale(0.1 -0.1)\">\n       <use xlink:href=\"#DejaVuSans-67\"/>\n       <use x=\"69.824219\" xlink:href=\"#DejaVuSans-97\"/>\n       <use x=\"131.103516\" xlink:href=\"#DejaVuSans-110\"/>\n       <use x=\"194.482422\" xlink:href=\"#DejaVuSans-99\"/>\n       <use x=\"249.462891\" xlink:href=\"#DejaVuSans-101\"/>\n       <use x=\"310.986328\" xlink:href=\"#DejaVuSans-114\"/>\n       <use x=\"352.099609\" xlink:href=\"#DejaVuSans-69\"/>\n       <use x=\"415.283203\" xlink:href=\"#DejaVuSans-77\"/>\n       <use x=\"501.5625\" xlink:href=\"#DejaVuSans-67\"/>\n      </g>\n     </g>\n    </g>\n    <g id=\"ytick_5\">\n     <g id=\"line2d_9\">\n      <g>\n       <use style=\"stroke:#000000;stroke-width:0.8;\" x=\"114.153345\" xlink:href=\"#m3488082e6d\" y=\"231.4515\"/>\n      </g>\n     </g>\n     <g id=\"text_10\">\n      <!-- BiDiEarlyCancerDF -->\n      <defs>\n       <path d=\"M 19.671875 34.8125 \nL 19.671875 8.109375 \nL 35.5 8.109375 \nQ 43.453125 8.109375 47.28125 11.40625 \nQ 51.125 14.703125 51.125 21.484375 \nQ 51.125 28.328125 47.28125 31.5625 \nQ 43.453125 34.8125 35.5 34.8125 \nz\nM 19.671875 64.796875 \nL 19.671875 42.828125 \nL 34.28125 42.828125 \nQ 41.5 42.828125 45.03125 45.53125 \nQ 48.578125 48.25 48.578125 53.8125 \nQ 48.578125 59.328125 45.03125 62.0625 \nQ 41.5 64.796875 34.28125 64.796875 \nz\nM 9.8125 72.90625 \nL 35.015625 72.90625 \nQ 46.296875 72.90625 52.390625 68.21875 \nQ 58.5 63.53125 58.5 54.890625 \nQ 58.5 48.1875 55.375 44.234375 \nQ 52.25 40.28125 46.1875 39.3125 \nQ 53.46875 37.75 57.5 32.78125 \nQ 61.53125 27.828125 61.53125 20.40625 \nQ 61.53125 10.640625 54.890625 5.3125 \nQ 48.25 0 35.984375 0 \nL 9.8125 0 \nz\n\" id=\"DejaVuSans-66\"/>\n      </defs>\n      <g transform=\"translate(24.677344 257.349783)rotate(-30)scale(0.1 -0.1)\">\n       <use xlink:href=\"#DejaVuSans-66\"/>\n       <use x=\"68.603516\" xlink:href=\"#DejaVuSans-105\"/>\n       <use x=\"96.386719\" xlink:href=\"#DejaVuSans-68\"/>\n       <use x=\"173.388672\" xlink:href=\"#DejaVuSans-105\"/>\n       <use x=\"201.171875\" xlink:href=\"#DejaVuSans-69\"/>\n       <use x=\"264.355469\" xlink:href=\"#DejaVuSans-97\"/>\n       <use x=\"325.634766\" xlink:href=\"#DejaVuSans-114\"/>\n       <use x=\"366.748047\" xlink:href=\"#DejaVuSans-108\"/>\n       <use x=\"394.53125\" xlink:href=\"#DejaVuSans-121\"/>\n       <use x=\"453.710938\" xlink:href=\"#DejaVuSans-67\"/>\n       <use x=\"523.535156\" xlink:href=\"#DejaVuSans-97\"/>\n       <use x=\"584.814453\" xlink:href=\"#DejaVuSans-110\"/>\n       <use x=\"648.193359\" xlink:href=\"#DejaVuSans-99\"/>\n       <use x=\"703.173828\" xlink:href=\"#DejaVuSans-101\"/>\n       <use x=\"764.697266\" xlink:href=\"#DejaVuSans-114\"/>\n       <use x=\"805.810547\" xlink:href=\"#DejaVuSans-68\"/>\n       <use x=\"882.8125\" xlink:href=\"#DejaVuSans-70\"/>\n      </g>\n     </g>\n    </g>\n    <g id=\"text_11\">\n     <!-- Methods -->\n     <defs>\n      <path d=\"M 54.890625 33.015625 \nL 54.890625 0 \nL 45.90625 0 \nL 45.90625 32.71875 \nQ 45.90625 40.484375 42.875 44.328125 \nQ 39.84375 48.1875 33.796875 48.1875 \nQ 26.515625 48.1875 22.3125 43.546875 \nQ 18.109375 38.921875 18.109375 30.90625 \nL 18.109375 0 \nL 9.078125 0 \nL 9.078125 75.984375 \nL 18.109375 75.984375 \nL 18.109375 46.1875 \nQ 21.34375 51.125 25.703125 53.5625 \nQ 30.078125 56 35.796875 56 \nQ 45.21875 56 50.046875 50.171875 \nQ 54.890625 44.34375 54.890625 33.015625 \nz\n\" id=\"DejaVuSans-104\"/>\n     </defs>\n     <g transform=\"translate(14.798438 165.833312)rotate(-90)scale(0.1 -0.1)\">\n      <use xlink:href=\"#DejaVuSans-77\"/>\n      <use x=\"86.279297\" xlink:href=\"#DejaVuSans-101\"/>\n      <use x=\"147.802734\" xlink:href=\"#DejaVuSans-116\"/>\n      <use x=\"187.011719\" xlink:href=\"#DejaVuSans-104\"/>\n      <use x=\"250.390625\" xlink:href=\"#DejaVuSans-111\"/>\n      <use x=\"311.572266\" xlink:href=\"#DejaVuSans-100\"/>\n      <use x=\"375.048828\" xlink:href=\"#DejaVuSans-115\"/>\n     </g>\n    </g>\n   </g>\n   <g id=\"text_12\">\n    <!-- 0.85 -->\n    <defs>\n     <path d=\"M 10.6875 12.40625 \nL 21 12.40625 \nL 21 0 \nL 10.6875 0 \nz\n\" id=\"DejaVuSans-46\"/>\n     <path d=\"M 31.78125 34.625 \nQ 24.75 34.625 20.71875 30.859375 \nQ 16.703125 27.09375 16.703125 20.515625 \nQ 16.703125 13.921875 20.71875 10.15625 \nQ 24.75 6.390625 31.78125 6.390625 \nQ 38.8125 6.390625 42.859375 10.171875 \nQ 46.921875 13.96875 46.921875 20.515625 \nQ 46.921875 27.09375 42.890625 30.859375 \nQ 38.875 34.625 31.78125 34.625 \nz\nM 21.921875 38.8125 \nQ 15.578125 40.375 12.03125 44.71875 \nQ 8.5 49.078125 8.5 55.328125 \nQ 8.5 64.0625 14.71875 69.140625 \nQ 20.953125 74.21875 31.78125 74.21875 \nQ 42.671875 74.21875 48.875 69.140625 \nQ 55.078125 64.0625 55.078125 55.328125 \nQ 55.078125 49.078125 51.53125 44.71875 \nQ 48 40.375 41.703125 38.8125 \nQ 48.828125 37.15625 52.796875 32.3125 \nQ 56.78125 27.484375 56.78125 20.515625 \nQ 56.78125 9.90625 50.3125 4.234375 \nQ 43.84375 -1.421875 31.78125 -1.421875 \nQ 19.734375 -1.421875 13.25 4.234375 \nQ 6.78125 9.90625 6.78125 20.515625 \nQ 6.78125 27.484375 10.78125 32.3125 \nQ 14.796875 37.15625 21.921875 38.8125 \nz\nM 18.3125 54.390625 \nQ 18.3125 48.734375 21.84375 45.5625 \nQ 25.390625 42.390625 31.78125 42.390625 \nQ 38.140625 42.390625 41.71875 45.5625 \nQ 45.3125 48.734375 45.3125 54.390625 \nQ 45.3125 60.0625 41.71875 63.234375 \nQ 38.140625 66.40625 31.78125 66.40625 \nQ 25.390625 66.40625 21.84375 63.234375 \nQ 18.3125 60.0625 18.3125 54.390625 \nz\n\" id=\"DejaVuSans-56\"/>\n     <path d=\"M 10.796875 72.90625 \nL 49.515625 72.90625 \nL 49.515625 64.59375 \nL 19.828125 64.59375 \nL 19.828125 46.734375 \nQ 21.96875 47.46875 24.109375 47.828125 \nQ 26.265625 48.1875 28.421875 48.1875 \nQ 40.625 48.1875 47.75 41.5 \nQ 54.890625 34.8125 54.890625 23.390625 \nQ 54.890625 11.625 47.5625 5.09375 \nQ 40.234375 -1.421875 26.90625 -1.421875 \nQ 22.3125 -1.421875 17.546875 -0.640625 \nQ 12.796875 0.140625 7.71875 1.703125 \nL 7.71875 11.625 \nQ 12.109375 9.234375 16.796875 8.0625 \nQ 21.484375 6.890625 26.703125 6.890625 \nQ 35.15625 6.890625 40.078125 11.328125 \nQ 45.015625 15.765625 45.015625 23.390625 \nQ 45.015625 31 40.078125 35.4375 \nQ 35.15625 39.890625 26.703125 39.890625 \nQ 22.75 39.890625 18.8125 39.015625 \nQ 14.890625 38.140625 10.796875 36.28125 \nz\n\" id=\"DejaVuSans-53\"/>\n    </defs>\n    <g style=\"fill:#262626;\" transform=\"translate(125.340533 60.258875)scale(0.1 -0.1)\">\n     <use xlink:href=\"#DejaVuSans-48\"/>\n     <use x=\"63.623047\" xlink:href=\"#DejaVuSans-46\"/>\n     <use x=\"95.410156\" xlink:href=\"#DejaVuSans-56\"/>\n     <use x=\"159.033203\" xlink:href=\"#DejaVuSans-53\"/>\n    </g>\n   </g>\n   <g id=\"text_13\">\n    <!-- 0 -->\n    <g style=\"fill:#ffffff;\" transform=\"translate(177.932095 60.258875)scale(0.1 -0.1)\">\n     <use xlink:href=\"#DejaVuSans-48\"/>\n    </g>\n   </g>\n   <g id=\"text_14\">\n    <!-- 0.92 -->\n    <defs>\n     <path d=\"M 10.984375 1.515625 \nL 10.984375 10.5 \nQ 14.703125 8.734375 18.5 7.8125 \nQ 22.3125 6.890625 25.984375 6.890625 \nQ 35.75 6.890625 40.890625 13.453125 \nQ 46.046875 20.015625 46.78125 33.40625 \nQ 43.953125 29.203125 39.59375 26.953125 \nQ 35.25 24.703125 29.984375 24.703125 \nQ 19.046875 24.703125 12.671875 31.3125 \nQ 6.296875 37.9375 6.296875 49.421875 \nQ 6.296875 60.640625 12.9375 67.421875 \nQ 19.578125 74.21875 30.609375 74.21875 \nQ 43.265625 74.21875 49.921875 64.515625 \nQ 56.59375 54.828125 56.59375 36.375 \nQ 56.59375 19.140625 48.40625 8.859375 \nQ 40.234375 -1.421875 26.421875 -1.421875 \nQ 22.703125 -1.421875 18.890625 -0.6875 \nQ 15.09375 0.046875 10.984375 1.515625 \nz\nM 30.609375 32.421875 \nQ 37.25 32.421875 41.125 36.953125 \nQ 45.015625 41.5 45.015625 49.421875 \nQ 45.015625 57.28125 41.125 61.84375 \nQ 37.25 66.40625 30.609375 66.40625 \nQ 23.96875 66.40625 20.09375 61.84375 \nQ 16.21875 57.28125 16.21875 49.421875 \nQ 16.21875 41.5 20.09375 36.953125 \nQ 23.96875 32.421875 30.609375 32.421875 \nz\n\" id=\"DejaVuSans-57\"/>\n     <path d=\"M 19.1875 8.296875 \nL 53.609375 8.296875 \nL 53.609375 0 \nL 7.328125 0 \nL 7.328125 8.296875 \nQ 12.9375 14.109375 22.625 23.890625 \nQ 32.328125 33.6875 34.8125 36.53125 \nQ 39.546875 41.84375 41.421875 45.53125 \nQ 43.3125 49.21875 43.3125 52.78125 \nQ 43.3125 58.59375 39.234375 62.25 \nQ 35.15625 65.921875 28.609375 65.921875 \nQ 23.96875 65.921875 18.8125 64.3125 \nQ 13.671875 62.703125 7.8125 59.421875 \nL 7.8125 69.390625 \nQ 13.765625 71.78125 18.9375 73 \nQ 24.125 74.21875 28.421875 74.21875 \nQ 39.75 74.21875 46.484375 68.546875 \nQ 53.21875 62.890625 53.21875 53.421875 \nQ 53.21875 48.921875 51.53125 44.890625 \nQ 49.859375 40.875 45.40625 35.40625 \nQ 44.1875 33.984375 37.640625 27.21875 \nQ 31.109375 20.453125 19.1875 8.296875 \nz\n\" id=\"DejaVuSans-50\"/>\n    </defs>\n    <g style=\"fill:#262626;\" transform=\"translate(214.620533 60.258875)scale(0.1 -0.1)\">\n     <use xlink:href=\"#DejaVuSans-48\"/>\n     <use x=\"63.623047\" xlink:href=\"#DejaVuSans-46\"/>\n     <use x=\"95.410156\" xlink:href=\"#DejaVuSans-57\"/>\n     <use x=\"159.033203\" xlink:href=\"#DejaVuSans-50\"/>\n    </g>\n   </g>\n   <g id=\"text_15\">\n    <!-- 0.94 -->\n    <defs>\n     <path d=\"M 37.796875 64.3125 \nL 12.890625 25.390625 \nL 37.796875 25.390625 \nz\nM 35.203125 72.90625 \nL 47.609375 72.90625 \nL 47.609375 25.390625 \nL 58.015625 25.390625 \nL 58.015625 17.1875 \nL 47.609375 17.1875 \nL 47.609375 0 \nL 37.796875 0 \nL 37.796875 17.1875 \nL 4.890625 17.1875 \nL 4.890625 26.703125 \nz\n\" id=\"DejaVuSans-52\"/>\n    </defs>\n    <g style=\"fill:#262626;\" transform=\"translate(259.260533 60.258875)scale(0.1 -0.1)\">\n     <use xlink:href=\"#DejaVuSans-48\"/>\n     <use x=\"63.623047\" xlink:href=\"#DejaVuSans-46\"/>\n     <use x=\"95.410156\" xlink:href=\"#DejaVuSans-57\"/>\n     <use x=\"159.033203\" xlink:href=\"#DejaVuSans-52\"/>\n    </g>\n   </g>\n   <g id=\"text_16\">\n    <!-- 0.85 -->\n    <g style=\"fill:#262626;\" transform=\"translate(125.340533 103.746875)scale(0.1 -0.1)\">\n     <use xlink:href=\"#DejaVuSans-48\"/>\n     <use x=\"63.623047\" xlink:href=\"#DejaVuSans-46\"/>\n     <use x=\"95.410156\" xlink:href=\"#DejaVuSans-56\"/>\n     <use x=\"159.033203\" xlink:href=\"#DejaVuSans-53\"/>\n    </g>\n   </g>\n   <g id=\"text_17\">\n    <!-- 0.88 -->\n    <g style=\"fill:#262626;\" transform=\"translate(169.980533 103.746875)scale(0.1 -0.1)\">\n     <use xlink:href=\"#DejaVuSans-48\"/>\n     <use x=\"63.623047\" xlink:href=\"#DejaVuSans-46\"/>\n     <use x=\"95.410156\" xlink:href=\"#DejaVuSans-56\"/>\n     <use x=\"159.033203\" xlink:href=\"#DejaVuSans-56\"/>\n    </g>\n   </g>\n   <g id=\"text_18\">\n    <!-- 0.91 -->\n    <g style=\"fill:#262626;\" transform=\"translate(214.620533 103.746875)scale(0.1 -0.1)\">\n     <use xlink:href=\"#DejaVuSans-48\"/>\n     <use x=\"63.623047\" xlink:href=\"#DejaVuSans-46\"/>\n     <use x=\"95.410156\" xlink:href=\"#DejaVuSans-57\"/>\n     <use x=\"159.033203\" xlink:href=\"#DejaVuSans-49\"/>\n    </g>\n   </g>\n   <g id=\"text_19\">\n    <!-- 0 -->\n    <g style=\"fill:#ffffff;\" transform=\"translate(267.212095 103.746875)scale(0.1 -0.1)\">\n     <use xlink:href=\"#DejaVuSans-48\"/>\n    </g>\n   </g>\n   <g id=\"text_20\">\n    <!-- 0.791 -->\n    <defs>\n     <path d=\"M 8.203125 72.90625 \nL 55.078125 72.90625 \nL 55.078125 68.703125 \nL 28.609375 0 \nL 18.3125 0 \nL 43.21875 64.59375 \nL 8.203125 64.59375 \nz\n\" id=\"DejaVuSans-55\"/>\n    </defs>\n    <g style=\"fill:#ffffff;\" transform=\"translate(122.159283 147.234875)scale(0.1 -0.1)\">\n     <use xlink:href=\"#DejaVuSans-48\"/>\n     <use x=\"63.623047\" xlink:href=\"#DejaVuSans-46\"/>\n     <use x=\"95.410156\" xlink:href=\"#DejaVuSans-55\"/>\n     <use x=\"159.033203\" xlink:href=\"#DejaVuSans-57\"/>\n     <use x=\"222.65625\" xlink:href=\"#DejaVuSans-49\"/>\n    </g>\n   </g>\n   <g id=\"text_21\">\n    <!-- 0.791 -->\n    <g style=\"fill:#ffffff;\" transform=\"translate(166.799283 147.234875)scale(0.1 -0.1)\">\n     <use xlink:href=\"#DejaVuSans-48\"/>\n     <use x=\"63.623047\" xlink:href=\"#DejaVuSans-46\"/>\n     <use x=\"95.410156\" xlink:href=\"#DejaVuSans-55\"/>\n     <use x=\"159.033203\" xlink:href=\"#DejaVuSans-57\"/>\n     <use x=\"222.65625\" xlink:href=\"#DejaVuSans-49\"/>\n    </g>\n   </g>\n   <g id=\"text_22\">\n    <!-- 0.906 -->\n    <defs>\n     <path d=\"M 33.015625 40.375 \nQ 26.375 40.375 22.484375 35.828125 \nQ 18.609375 31.296875 18.609375 23.390625 \nQ 18.609375 15.53125 22.484375 10.953125 \nQ 26.375 6.390625 33.015625 6.390625 \nQ 39.65625 6.390625 43.53125 10.953125 \nQ 47.40625 15.53125 47.40625 23.390625 \nQ 47.40625 31.296875 43.53125 35.828125 \nQ 39.65625 40.375 33.015625 40.375 \nz\nM 52.59375 71.296875 \nL 52.59375 62.3125 \nQ 48.875 64.0625 45.09375 64.984375 \nQ 41.3125 65.921875 37.59375 65.921875 \nQ 27.828125 65.921875 22.671875 59.328125 \nQ 17.53125 52.734375 16.796875 39.40625 \nQ 19.671875 43.65625 24.015625 45.921875 \nQ 28.375 48.1875 33.59375 48.1875 \nQ 44.578125 48.1875 50.953125 41.515625 \nQ 57.328125 34.859375 57.328125 23.390625 \nQ 57.328125 12.15625 50.6875 5.359375 \nQ 44.046875 -1.421875 33.015625 -1.421875 \nQ 20.359375 -1.421875 13.671875 8.265625 \nQ 6.984375 17.96875 6.984375 36.375 \nQ 6.984375 53.65625 15.1875 63.9375 \nQ 23.390625 74.21875 37.203125 74.21875 \nQ 40.921875 74.21875 44.703125 73.484375 \nQ 48.484375 72.75 52.59375 71.296875 \nz\n\" id=\"DejaVuSans-54\"/>\n    </defs>\n    <g style=\"fill:#262626;\" transform=\"translate(211.439283 147.234875)scale(0.1 -0.1)\">\n     <use xlink:href=\"#DejaVuSans-48\"/>\n     <use x=\"63.623047\" xlink:href=\"#DejaVuSans-46\"/>\n     <use x=\"95.410156\" xlink:href=\"#DejaVuSans-57\"/>\n     <use x=\"159.033203\" xlink:href=\"#DejaVuSans-48\"/>\n     <use x=\"222.65625\" xlink:href=\"#DejaVuSans-54\"/>\n    </g>\n   </g>\n   <g id=\"text_23\">\n    <!-- 0.907 -->\n    <g style=\"fill:#262626;\" transform=\"translate(256.079283 147.234875)scale(0.1 -0.1)\">\n     <use xlink:href=\"#DejaVuSans-48\"/>\n     <use x=\"63.623047\" xlink:href=\"#DejaVuSans-46\"/>\n     <use x=\"95.410156\" xlink:href=\"#DejaVuSans-57\"/>\n     <use x=\"159.033203\" xlink:href=\"#DejaVuSans-48\"/>\n     <use x=\"222.65625\" xlink:href=\"#DejaVuSans-55\"/>\n    </g>\n   </g>\n   <g id=\"text_24\">\n    <!-- 0.945 -->\n    <g style=\"fill:#262626;\" transform=\"translate(122.159283 190.722875)scale(0.1 -0.1)\">\n     <use xlink:href=\"#DejaVuSans-48\"/>\n     <use x=\"63.623047\" xlink:href=\"#DejaVuSans-46\"/>\n     <use x=\"95.410156\" xlink:href=\"#DejaVuSans-57\"/>\n     <use x=\"159.033203\" xlink:href=\"#DejaVuSans-52\"/>\n     <use x=\"222.65625\" xlink:href=\"#DejaVuSans-53\"/>\n    </g>\n   </g>\n   <g id=\"text_25\">\n    <!-- 0.945 -->\n    <g style=\"fill:#262626;\" transform=\"translate(166.799283 190.722875)scale(0.1 -0.1)\">\n     <use xlink:href=\"#DejaVuSans-48\"/>\n     <use x=\"63.623047\" xlink:href=\"#DejaVuSans-46\"/>\n     <use x=\"95.410156\" xlink:href=\"#DejaVuSans-57\"/>\n     <use x=\"159.033203\" xlink:href=\"#DejaVuSans-52\"/>\n     <use x=\"222.65625\" xlink:href=\"#DejaVuSans-53\"/>\n    </g>\n   </g>\n   <g id=\"text_26\">\n    <!-- 0.992 -->\n    <g style=\"fill:#ffffff;\" transform=\"translate(211.439283 190.722875)scale(0.1 -0.1)\">\n     <use xlink:href=\"#DejaVuSans-48\"/>\n     <use x=\"63.623047\" xlink:href=\"#DejaVuSans-46\"/>\n     <use x=\"95.410156\" xlink:href=\"#DejaVuSans-57\"/>\n     <use x=\"159.033203\" xlink:href=\"#DejaVuSans-57\"/>\n     <use x=\"222.65625\" xlink:href=\"#DejaVuSans-50\"/>\n    </g>\n   </g>\n   <g id=\"text_27\">\n    <!-- 0.992 -->\n    <g style=\"fill:#ffffff;\" transform=\"translate(256.079283 190.722875)scale(0.1 -0.1)\">\n     <use xlink:href=\"#DejaVuSans-48\"/>\n     <use x=\"63.623047\" xlink:href=\"#DejaVuSans-46\"/>\n     <use x=\"95.410156\" xlink:href=\"#DejaVuSans-57\"/>\n     <use x=\"159.033203\" xlink:href=\"#DejaVuSans-57\"/>\n     <use x=\"222.65625\" xlink:href=\"#DejaVuSans-50\"/>\n    </g>\n   </g>\n   <g id=\"text_28\">\n    <!-- 0.99 -->\n    <g style=\"fill:#ffffff;\" transform=\"translate(125.340533 234.210875)scale(0.1 -0.1)\">\n     <use xlink:href=\"#DejaVuSans-48\"/>\n     <use x=\"63.623047\" xlink:href=\"#DejaVuSans-46\"/>\n     <use x=\"95.410156\" xlink:href=\"#DejaVuSans-57\"/>\n     <use x=\"159.033203\" xlink:href=\"#DejaVuSans-57\"/>\n    </g>\n   </g>\n   <g id=\"text_29\">\n    <!-- 0.983 -->\n    <g style=\"fill:#ffffff;\" transform=\"translate(166.799283 234.210875)scale(0.1 -0.1)\">\n     <use xlink:href=\"#DejaVuSans-48\"/>\n     <use x=\"63.623047\" xlink:href=\"#DejaVuSans-46\"/>\n     <use x=\"95.410156\" xlink:href=\"#DejaVuSans-57\"/>\n     <use x=\"159.033203\" xlink:href=\"#DejaVuSans-56\"/>\n     <use x=\"222.65625\" xlink:href=\"#DejaVuSans-51\"/>\n    </g>\n   </g>\n   <g id=\"text_30\">\n    <!-- 0.996 -->\n    <g style=\"fill:#ffffff;\" transform=\"translate(211.439283 234.210875)scale(0.1 -0.1)\">\n     <use xlink:href=\"#DejaVuSans-48\"/>\n     <use x=\"63.623047\" xlink:href=\"#DejaVuSans-46\"/>\n     <use x=\"95.410156\" xlink:href=\"#DejaVuSans-57\"/>\n     <use x=\"159.033203\" xlink:href=\"#DejaVuSans-57\"/>\n     <use x=\"222.65625\" xlink:href=\"#DejaVuSans-54\"/>\n    </g>\n   </g>\n   <g id=\"text_31\">\n    <!-- 0.996 -->\n    <g style=\"fill:#ffffff;\" transform=\"translate(256.079283 234.210875)scale(0.1 -0.1)\">\n     <use xlink:href=\"#DejaVuSans-48\"/>\n     <use x=\"63.623047\" xlink:href=\"#DejaVuSans-46\"/>\n     <use x=\"95.410156\" xlink:href=\"#DejaVuSans-57\"/>\n     <use x=\"159.033203\" xlink:href=\"#DejaVuSans-57\"/>\n     <use x=\"222.65625\" xlink:href=\"#DejaVuSans-54\"/>\n    </g>\n   </g>\n   <g id=\"text_32\">\n    <!-- Median AUC of ROC curve for -->\n    <defs>\n     <path d=\"M 9.1875 72.90625 \nL 33.109375 72.90625 \nL 49.703125 33.890625 \nL 66.40625 72.90625 \nL 90.28125 72.90625 \nL 90.28125 0 \nL 72.515625 0 \nL 72.515625 53.328125 \nL 55.71875 14.015625 \nL 43.796875 14.015625 \nL 27 53.328125 \nL 27 0 \nL 9.1875 0 \nz\n\" id=\"DejaVuSans-Bold-77\"/>\n     <path d=\"M 62.984375 27.484375 \nL 62.984375 22.515625 \nL 22.125 22.515625 \nQ 22.75 16.359375 26.5625 13.28125 \nQ 30.375 10.203125 37.203125 10.203125 \nQ 42.71875 10.203125 48.5 11.84375 \nQ 54.296875 13.484375 60.40625 16.796875 \nL 60.40625 3.328125 \nQ 54.203125 0.984375 48 -0.21875 \nQ 41.796875 -1.421875 35.59375 -1.421875 \nQ 20.75 -1.421875 12.515625 6.125 \nQ 4.296875 13.671875 4.296875 27.296875 \nQ 4.296875 40.671875 12.375 48.328125 \nQ 20.453125 56 34.625 56 \nQ 47.515625 56 55.25 48.234375 \nQ 62.984375 40.484375 62.984375 27.484375 \nz\nM 45.015625 33.296875 \nQ 45.015625 38.28125 42.109375 41.328125 \nQ 39.203125 44.390625 34.515625 44.390625 \nQ 29.4375 44.390625 26.265625 41.53125 \nQ 23.09375 38.671875 22.3125 33.296875 \nz\n\" id=\"DejaVuSans-Bold-101\"/>\n     <path d=\"M 45.609375 46.6875 \nL 45.609375 75.984375 \nL 63.1875 75.984375 \nL 63.1875 0 \nL 45.609375 0 \nL 45.609375 7.90625 \nQ 42 3.078125 37.640625 0.828125 \nQ 33.296875 -1.421875 27.59375 -1.421875 \nQ 17.484375 -1.421875 10.984375 6.609375 \nQ 4.5 14.65625 4.5 27.296875 \nQ 4.5 39.9375 10.984375 47.96875 \nQ 17.484375 56 27.59375 56 \nQ 33.25 56 37.625 53.734375 \nQ 42 51.46875 45.609375 46.6875 \nz\nM 34.078125 11.28125 \nQ 39.703125 11.28125 42.65625 15.375 \nQ 45.609375 19.484375 45.609375 27.296875 \nQ 45.609375 35.109375 42.65625 39.203125 \nQ 39.703125 43.3125 34.078125 43.3125 \nQ 28.515625 43.3125 25.5625 39.203125 \nQ 22.609375 35.109375 22.609375 27.296875 \nQ 22.609375 19.484375 25.5625 15.375 \nQ 28.515625 11.28125 34.078125 11.28125 \nz\n\" id=\"DejaVuSans-Bold-100\"/>\n     <path d=\"M 8.40625 54.6875 \nL 25.875 54.6875 \nL 25.875 0 \nL 8.40625 0 \nz\nM 8.40625 75.984375 \nL 25.875 75.984375 \nL 25.875 61.71875 \nL 8.40625 61.71875 \nz\n\" id=\"DejaVuSans-Bold-105\"/>\n     <path d=\"M 32.90625 24.609375 \nQ 27.4375 24.609375 24.671875 22.75 \nQ 21.921875 20.90625 21.921875 17.28125 \nQ 21.921875 13.96875 24.140625 12.078125 \nQ 26.375 10.203125 30.328125 10.203125 \nQ 35.25 10.203125 38.625 13.734375 \nQ 42 17.28125 42 22.609375 \nL 42 24.609375 \nz\nM 59.625 31.203125 \nL 59.625 0 \nL 42 0 \nL 42 8.109375 \nQ 38.484375 3.125 34.078125 0.84375 \nQ 29.6875 -1.421875 23.390625 -1.421875 \nQ 14.890625 -1.421875 9.59375 3.53125 \nQ 4.296875 8.5 4.296875 16.40625 \nQ 4.296875 26.03125 10.90625 30.515625 \nQ 17.53125 35.015625 31.6875 35.015625 \nL 42 35.015625 \nL 42 36.375 \nQ 42 40.53125 38.71875 42.453125 \nQ 35.453125 44.390625 28.515625 44.390625 \nQ 22.90625 44.390625 18.0625 43.265625 \nQ 13.234375 42.140625 9.078125 39.890625 \nL 9.078125 53.21875 \nQ 14.703125 54.59375 20.359375 55.296875 \nQ 26.03125 56 31.6875 56 \nQ 46.484375 56 53.046875 50.171875 \nQ 59.625 44.34375 59.625 31.203125 \nz\n\" id=\"DejaVuSans-Bold-97\"/>\n     <path d=\"M 63.375 33.296875 \nL 63.375 0 \nL 45.796875 0 \nL 45.796875 5.421875 \nL 45.796875 25.484375 \nQ 45.796875 32.5625 45.484375 35.25 \nQ 45.171875 37.9375 44.390625 39.203125 \nQ 43.359375 40.921875 41.59375 41.875 \nQ 39.84375 42.828125 37.59375 42.828125 \nQ 32.125 42.828125 29 38.59375 \nQ 25.875 34.375 25.875 26.90625 \nL 25.875 0 \nL 8.40625 0 \nL 8.40625 54.6875 \nL 25.875 54.6875 \nL 25.875 46.6875 \nQ 29.828125 51.46875 34.265625 53.734375 \nQ 38.71875 56 44.09375 56 \nQ 53.5625 56 58.46875 50.1875 \nQ 63.375 44.390625 63.375 33.296875 \nz\n\" id=\"DejaVuSans-Bold-110\"/>\n     <path id=\"DejaVuSans-Bold-32\"/>\n     <path d=\"M 53.421875 13.28125 \nL 24.03125 13.28125 \nL 19.390625 0 \nL 0.484375 0 \nL 27.484375 72.90625 \nL 49.90625 72.90625 \nL 76.90625 0 \nL 58.015625 0 \nz\nM 28.71875 26.8125 \nL 48.6875 26.8125 \nL 38.71875 55.8125 \nz\n\" id=\"DejaVuSans-Bold-65\"/>\n     <path d=\"M 9.1875 72.90625 \nL 27.984375 72.90625 \nL 27.984375 29.203125 \nQ 27.984375 20.171875 30.9375 16.28125 \nQ 33.890625 12.40625 40.578125 12.40625 \nQ 47.3125 12.40625 50.265625 16.28125 \nQ 53.21875 20.171875 53.21875 29.203125 \nL 53.21875 72.90625 \nL 72.015625 72.90625 \nL 72.015625 29.203125 \nQ 72.015625 13.71875 64.25 6.140625 \nQ 56.5 -1.421875 40.578125 -1.421875 \nQ 24.703125 -1.421875 16.9375 6.140625 \nQ 9.1875 13.71875 9.1875 29.203125 \nz\n\" id=\"DejaVuSans-Bold-85\"/>\n     <path d=\"M 67 4 \nQ 61.8125 1.3125 56.203125 -0.046875 \nQ 50.59375 -1.421875 44.484375 -1.421875 \nQ 26.265625 -1.421875 15.625 8.765625 \nQ 4.984375 18.953125 4.984375 36.375 \nQ 4.984375 53.859375 15.625 64.03125 \nQ 26.265625 74.21875 44.484375 74.21875 \nQ 50.59375 74.21875 56.203125 72.84375 \nQ 61.8125 71.484375 67 68.796875 \nL 67 53.71875 \nQ 61.765625 57.28125 56.6875 58.9375 \nQ 51.609375 60.59375 46 60.59375 \nQ 35.9375 60.59375 30.171875 54.140625 \nQ 24.421875 47.703125 24.421875 36.375 \nQ 24.421875 25.09375 30.171875 18.640625 \nQ 35.9375 12.203125 46 12.203125 \nQ 51.609375 12.203125 56.6875 13.859375 \nQ 61.765625 15.53125 67 19.09375 \nz\n\" id=\"DejaVuSans-Bold-67\"/>\n     <path d=\"M 34.421875 43.5 \nQ 28.609375 43.5 25.5625 39.328125 \nQ 22.515625 35.15625 22.515625 27.296875 \nQ 22.515625 19.4375 25.5625 15.25 \nQ 28.609375 11.078125 34.421875 11.078125 \nQ 40.140625 11.078125 43.15625 15.25 \nQ 46.1875 19.4375 46.1875 27.296875 \nQ 46.1875 35.15625 43.15625 39.328125 \nQ 40.140625 43.5 34.421875 43.5 \nz\nM 34.421875 56 \nQ 48.53125 56 56.46875 48.375 \nQ 64.40625 40.765625 64.40625 27.296875 \nQ 64.40625 13.8125 56.46875 6.1875 \nQ 48.53125 -1.421875 34.421875 -1.421875 \nQ 20.265625 -1.421875 12.28125 6.1875 \nQ 4.296875 13.8125 4.296875 27.296875 \nQ 4.296875 40.765625 12.28125 48.375 \nQ 20.265625 56 34.421875 56 \nz\n\" id=\"DejaVuSans-Bold-111\"/>\n     <path d=\"M 44.390625 75.984375 \nL 44.390625 64.5 \nL 34.71875 64.5 \nQ 31 64.5 29.53125 63.15625 \nQ 28.078125 61.8125 28.078125 58.5 \nL 28.078125 54.6875 \nL 43.015625 54.6875 \nL 43.015625 42.1875 \nL 28.078125 42.1875 \nL 28.078125 0 \nL 10.59375 0 \nL 10.59375 42.1875 \nL 1.90625 42.1875 \nL 1.90625 54.6875 \nL 10.59375 54.6875 \nL 10.59375 58.5 \nQ 10.59375 67.4375 15.578125 71.703125 \nQ 20.5625 75.984375 31 75.984375 \nz\n\" id=\"DejaVuSans-Bold-102\"/>\n     <path d=\"M 35.890625 40.578125 \nQ 41.796875 40.578125 44.359375 42.765625 \nQ 46.921875 44.96875 46.921875 50 \nQ 46.921875 54.984375 44.359375 57.125 \nQ 41.796875 59.28125 35.890625 59.28125 \nL 27.984375 59.28125 \nL 27.984375 40.578125 \nz\nM 27.984375 27.59375 \nL 27.984375 0 \nL 9.1875 0 \nL 9.1875 72.90625 \nL 37.890625 72.90625 \nQ 52.296875 72.90625 59 68.0625 \nQ 65.71875 63.234375 65.71875 52.78125 \nQ 65.71875 45.5625 62.21875 40.921875 \nQ 58.734375 36.28125 51.703125 34.078125 \nQ 55.5625 33.203125 58.609375 30.09375 \nQ 61.671875 27 64.796875 20.703125 \nL 75 0 \nL 54.984375 0 \nL 46.09375 18.109375 \nQ 43.40625 23.578125 40.640625 25.578125 \nQ 37.890625 27.59375 33.296875 27.59375 \nz\n\" id=\"DejaVuSans-Bold-82\"/>\n     <path d=\"M 42.484375 60.59375 \nQ 33.890625 60.59375 29.15625 54.25 \nQ 24.421875 47.90625 24.421875 36.375 \nQ 24.421875 24.90625 29.15625 18.546875 \nQ 33.890625 12.203125 42.484375 12.203125 \nQ 51.125 12.203125 55.859375 18.546875 \nQ 60.59375 24.90625 60.59375 36.375 \nQ 60.59375 47.90625 55.859375 54.25 \nQ 51.125 60.59375 42.484375 60.59375 \nz\nM 42.484375 74.21875 \nQ 60.0625 74.21875 70.015625 64.15625 \nQ 79.984375 54.109375 79.984375 36.375 \nQ 79.984375 18.703125 70.015625 8.640625 \nQ 60.0625 -1.421875 42.484375 -1.421875 \nQ 24.953125 -1.421875 14.96875 8.640625 \nQ 4.984375 18.703125 4.984375 36.375 \nQ 4.984375 54.109375 14.96875 64.15625 \nQ 24.953125 74.21875 42.484375 74.21875 \nz\n\" id=\"DejaVuSans-Bold-79\"/>\n     <path d=\"M 52.59375 52.984375 \nL 52.59375 38.71875 \nQ 49.03125 41.15625 45.4375 42.328125 \nQ 41.84375 43.5 37.984375 43.5 \nQ 30.671875 43.5 26.59375 39.234375 \nQ 22.515625 34.96875 22.515625 27.296875 \nQ 22.515625 19.625 26.59375 15.34375 \nQ 30.671875 11.078125 37.984375 11.078125 \nQ 42.09375 11.078125 45.78125 12.296875 \nQ 49.46875 13.53125 52.59375 15.921875 \nL 52.59375 1.609375 \nQ 48.484375 0.09375 44.265625 -0.65625 \nQ 40.046875 -1.421875 35.796875 -1.421875 \nQ 21 -1.421875 12.640625 6.171875 \nQ 4.296875 13.765625 4.296875 27.296875 \nQ 4.296875 40.828125 12.640625 48.40625 \nQ 21 56 35.796875 56 \nQ 40.09375 56 44.265625 55.25 \nQ 48.4375 54.5 52.59375 52.984375 \nz\n\" id=\"DejaVuSans-Bold-99\"/>\n     <path d=\"M 7.8125 21.296875 \nL 7.8125 54.6875 \nL 25.390625 54.6875 \nL 25.390625 49.21875 \nQ 25.390625 44.78125 25.34375 38.0625 \nQ 25.296875 31.34375 25.296875 29.109375 \nQ 25.296875 22.515625 25.640625 19.609375 \nQ 25.984375 16.703125 26.8125 15.375 \nQ 27.875 13.671875 29.609375 12.734375 \nQ 31.34375 11.8125 33.59375 11.8125 \nQ 39.0625 11.8125 42.1875 16.015625 \nQ 45.3125 20.21875 45.3125 27.6875 \nL 45.3125 54.6875 \nL 62.796875 54.6875 \nL 62.796875 0 \nL 45.3125 0 \nL 45.3125 7.90625 \nQ 41.359375 3.125 36.9375 0.84375 \nQ 32.515625 -1.421875 27.203125 -1.421875 \nQ 17.71875 -1.421875 12.765625 4.390625 \nQ 7.8125 10.203125 7.8125 21.296875 \nz\n\" id=\"DejaVuSans-Bold-117\"/>\n     <path d=\"M 49.03125 39.796875 \nQ 46.734375 40.875 44.453125 41.375 \nQ 42.1875 41.890625 39.890625 41.890625 \nQ 33.15625 41.890625 29.515625 37.5625 \nQ 25.875 33.25 25.875 25.203125 \nL 25.875 0 \nL 8.40625 0 \nL 8.40625 54.6875 \nL 25.875 54.6875 \nL 25.875 45.703125 \nQ 29.25 51.078125 33.609375 53.53125 \nQ 37.984375 56 44.09375 56 \nQ 44.96875 56 45.984375 55.921875 \nQ 47.015625 55.859375 48.96875 55.609375 \nz\n\" id=\"DejaVuSans-Bold-114\"/>\n     <path d=\"M 1.515625 54.6875 \nL 19 54.6875 \nL 32.625 16.890625 \nL 46.1875 54.6875 \nL 63.71875 54.6875 \nL 42.1875 0 \nL 23 0 \nz\n\" id=\"DejaVuSans-Bold-118\"/>\n    </defs>\n    <g transform=\"translate(105.23022 16.318125)scale(0.12 -0.12)\">\n     <use xlink:href=\"#DejaVuSans-Bold-77\"/>\n     <use x=\"99.511719\" xlink:href=\"#DejaVuSans-Bold-101\"/>\n     <use x=\"167.333984\" xlink:href=\"#DejaVuSans-Bold-100\"/>\n     <use x=\"238.916016\" xlink:href=\"#DejaVuSans-Bold-105\"/>\n     <use x=\"273.193359\" xlink:href=\"#DejaVuSans-Bold-97\"/>\n     <use x=\"340.673828\" xlink:href=\"#DejaVuSans-Bold-110\"/>\n     <use x=\"411.865234\" xlink:href=\"#DejaVuSans-Bold-32\"/>\n     <use x=\"446.679688\" xlink:href=\"#DejaVuSans-Bold-65\"/>\n     <use x=\"520.947266\" xlink:href=\"#DejaVuSans-Bold-85\"/>\n     <use x=\"602.148438\" xlink:href=\"#DejaVuSans-Bold-67\"/>\n     <use x=\"675.537109\" xlink:href=\"#DejaVuSans-Bold-32\"/>\n     <use x=\"710.351562\" xlink:href=\"#DejaVuSans-Bold-111\"/>\n     <use x=\"779.052734\" xlink:href=\"#DejaVuSans-Bold-102\"/>\n     <use x=\"822.558594\" xlink:href=\"#DejaVuSans-Bold-32\"/>\n     <use x=\"857.373047\" xlink:href=\"#DejaVuSans-Bold-82\"/>\n     <use x=\"934.375\" xlink:href=\"#DejaVuSans-Bold-79\"/>\n     <use x=\"1019.384766\" xlink:href=\"#DejaVuSans-Bold-67\"/>\n     <use x=\"1092.773438\" xlink:href=\"#DejaVuSans-Bold-32\"/>\n     <use x=\"1127.587891\" xlink:href=\"#DejaVuSans-Bold-99\"/>\n     <use x=\"1186.865234\" xlink:href=\"#DejaVuSans-Bold-117\"/>\n     <use x=\"1258.056641\" xlink:href=\"#DejaVuSans-Bold-114\"/>\n     <use x=\"1307.373047\" xlink:href=\"#DejaVuSans-Bold-118\"/>\n     <use x=\"1372.558594\" xlink:href=\"#DejaVuSans-Bold-101\"/>\n     <use x=\"1440.380859\" xlink:href=\"#DejaVuSans-Bold-32\"/>\n     <use x=\"1475.195312\" xlink:href=\"#DejaVuSans-Bold-102\"/>\n     <use x=\"1518.701172\" xlink:href=\"#DejaVuSans-Bold-111\"/>\n     <use x=\"1587.402344\" xlink:href=\"#DejaVuSans-Bold-114\"/>\n    </g>\n    <!-- Localize ECD -->\n    <defs>\n     <path d=\"M 9.1875 72.90625 \nL 27.984375 72.90625 \nL 27.984375 14.203125 \nL 60.984375 14.203125 \nL 60.984375 0 \nL 9.1875 0 \nz\n\" id=\"DejaVuSans-Bold-76\"/>\n     <path d=\"M 8.40625 75.984375 \nL 25.875 75.984375 \nL 25.875 0 \nL 8.40625 0 \nz\n\" id=\"DejaVuSans-Bold-108\"/>\n     <path d=\"M 5.71875 54.6875 \nL 53.421875 54.6875 \nL 53.421875 42.484375 \nL 24.609375 12.5 \nL 53.421875 12.5 \nL 53.421875 0 \nL 4.5 0 \nL 4.5 12.203125 \nL 33.296875 42.1875 \nL 5.71875 42.1875 \nz\n\" id=\"DejaVuSans-Bold-122\"/>\n     <path d=\"M 9.1875 72.90625 \nL 59.90625 72.90625 \nL 59.90625 58.6875 \nL 27.984375 58.6875 \nL 27.984375 45.125 \nL 58.015625 45.125 \nL 58.015625 30.90625 \nL 27.984375 30.90625 \nL 27.984375 14.203125 \nL 60.984375 14.203125 \nL 60.984375 0 \nL 9.1875 0 \nz\n\" id=\"DejaVuSans-Bold-69\"/>\n     <path d=\"M 27.984375 58.6875 \nL 27.984375 14.203125 \nL 34.71875 14.203125 \nQ 46.234375 14.203125 52.3125 19.921875 \nQ 58.40625 25.640625 58.40625 36.53125 \nQ 58.40625 47.359375 52.34375 53.015625 \nQ 46.296875 58.6875 34.71875 58.6875 \nz\nM 9.1875 72.90625 \nL 29 72.90625 \nQ 45.609375 72.90625 53.734375 70.53125 \nQ 61.859375 68.171875 67.671875 62.5 \nQ 72.796875 57.5625 75.28125 51.109375 \nQ 77.78125 44.671875 77.78125 36.53125 \nQ 77.78125 28.265625 75.28125 21.796875 \nQ 72.796875 15.328125 67.671875 10.40625 \nQ 61.8125 4.734375 53.609375 2.359375 \nQ 45.40625 0 29 0 \nL 9.1875 0 \nz\n\" id=\"DejaVuSans-Bold-68\"/>\n    </defs>\n    <g transform=\"translate(160.634595 29.7555)scale(0.12 -0.12)\">\n     <use xlink:href=\"#DejaVuSans-Bold-76\"/>\n     <use x=\"63.720703\" xlink:href=\"#DejaVuSans-Bold-111\"/>\n     <use x=\"132.421875\" xlink:href=\"#DejaVuSans-Bold-99\"/>\n     <use x=\"191.699219\" xlink:href=\"#DejaVuSans-Bold-97\"/>\n     <use x=\"259.179688\" xlink:href=\"#DejaVuSans-Bold-108\"/>\n     <use x=\"293.457031\" xlink:href=\"#DejaVuSans-Bold-105\"/>\n     <use x=\"327.734375\" xlink:href=\"#DejaVuSans-Bold-122\"/>\n     <use x=\"385.9375\" xlink:href=\"#DejaVuSans-Bold-101\"/>\n     <use x=\"453.759766\" xlink:href=\"#DejaVuSans-Bold-32\"/>\n     <use x=\"488.574219\" xlink:href=\"#DejaVuSans-Bold-69\"/>\n     <use x=\"556.884766\" xlink:href=\"#DejaVuSans-Bold-67\"/>\n     <use x=\"630.273438\" xlink:href=\"#DejaVuSans-Bold-68\"/>\n    </g>\n   </g>\n  </g>\n  <g id=\"axes_2\">\n   <g id=\"patch_3\">\n    <path clip-path=\"url(#p679062f1eb)\" d=\"M 303.873345 253.1955 \nL 303.873345 252.977842 \nL 303.873345 35.973158 \nL 303.873345 35.7555 \nL 314.745345 35.7555 \nL 314.745345 35.973158 \nL 314.745345 252.977842 \nL 314.745345 253.1955 \nz\n\" style=\"fill:#ffffff;stroke:#ffffff;stroke-linejoin:miter;stroke-width:0.01;\"/>\n   </g>\n   <image height=\"217\" id=\"image71f4e1e140\" transform=\"scale(1 -1)translate(0 -217)\" width=\"11\" x=\"304\" xlink:href=\"data:image/png;base64,\niVBORw0KGgoAAAANSUhEUgAAAAsAAADZCAYAAAD2WsoCAAAABHNCSVQICAgIfAhkiAAAATNJREFUaIHtmNENhDAMQ9O0s9zsN2RpboU+JEumB9+W9WIHCrRv/1RsXiNzVxoxOhEj5+weGDJxJwNmNhXG2+BdMWwQiUHdravECVqBGGif2YAqZobBGgTMMA0ZxhNXVMacA2CEDCNky4+cQ1b3HwyoumFNnE0whAOCkx5uHXIWYqA09l+SpBjomDi+QQ+xkFm2ogijIWaCYeJsgkGcG3NGaVgMCJ0PH7Bi+9dXjBULiOsiYuBcHhiQWYcBnAs5u+RMBmTMJhgWK3oVeRQwsQ4DOaPoVBjI2YRZWcqb803nuW+McwbOCAOWQjCIeIEJGQYUEwxW9+kYyJmtKBBPFp0qZx3GlInh1hEMthse0Xk0yB65uuiEt5UqOnSmlId4gb5HLfLB+8gBdWJVdDYD6hp02LofE5k0D5eLACQAAAAASUVORK5CYII=\" y=\"-35\"/>\n   <g id=\"matplotlib.axis_3\"/>\n   <g id=\"matplotlib.axis_4\">\n    <g id=\"ytick_6\">\n     <g id=\"line2d_10\">\n      <defs>\n       <path d=\"M 0 0 \nL 3.5 0 \n\" id=\"mefd16b187f\" style=\"stroke:#000000;stroke-width:0.8;\"/>\n      </defs>\n      <g>\n       <use style=\"stroke:#000000;stroke-width:0.8;\" x=\"314.745345\" xlink:href=\"#mefd16b187f\" y=\"253.1955\"/>\n      </g>\n     </g>\n     <g id=\"text_33\">\n      <!-- 0.7910 -->\n      <g transform=\"translate(321.745345 256.994719)scale(0.1 -0.1)\">\n       <use xlink:href=\"#DejaVuSans-48\"/>\n       <use x=\"63.623047\" xlink:href=\"#DejaVuSans-46\"/>\n       <use x=\"95.410156\" xlink:href=\"#DejaVuSans-55\"/>\n       <use x=\"159.033203\" xlink:href=\"#DejaVuSans-57\"/>\n       <use x=\"222.65625\" xlink:href=\"#DejaVuSans-49\"/>\n       <use x=\"286.279297\" xlink:href=\"#DejaVuSans-48\"/>\n      </g>\n     </g>\n    </g>\n    <g id=\"ytick_7\">\n     <g id=\"line2d_11\">\n      <g>\n       <use style=\"stroke:#000000;stroke-width:0.8;\" x=\"314.745345\" xlink:href=\"#mefd16b187f\" y=\"231.429734\"/>\n      </g>\n     </g>\n     <g id=\"text_34\">\n      <!-- 0.8115 -->\n      <g transform=\"translate(321.745345 235.228953)scale(0.1 -0.1)\">\n       <use xlink:href=\"#DejaVuSans-48\"/>\n       <use x=\"63.623047\" xlink:href=\"#DejaVuSans-46\"/>\n       <use x=\"95.410156\" xlink:href=\"#DejaVuSans-56\"/>\n       <use x=\"159.033203\" xlink:href=\"#DejaVuSans-49\"/>\n       <use x=\"222.65625\" xlink:href=\"#DejaVuSans-49\"/>\n       <use x=\"286.279297\" xlink:href=\"#DejaVuSans-53\"/>\n      </g>\n     </g>\n    </g>\n    <g id=\"ytick_8\">\n     <g id=\"line2d_12\">\n      <g>\n       <use style=\"stroke:#000000;stroke-width:0.8;\" x=\"314.745345\" xlink:href=\"#mefd16b187f\" y=\"209.663968\"/>\n      </g>\n     </g>\n     <g id=\"text_35\">\n      <!-- 0.8320 -->\n      <g transform=\"translate(321.745345 213.463187)scale(0.1 -0.1)\">\n       <use xlink:href=\"#DejaVuSans-48\"/>\n       <use x=\"63.623047\" xlink:href=\"#DejaVuSans-46\"/>\n       <use x=\"95.410156\" xlink:href=\"#DejaVuSans-56\"/>\n       <use x=\"159.033203\" xlink:href=\"#DejaVuSans-51\"/>\n       <use x=\"222.65625\" xlink:href=\"#DejaVuSans-50\"/>\n       <use x=\"286.279297\" xlink:href=\"#DejaVuSans-48\"/>\n      </g>\n     </g>\n    </g>\n    <g id=\"ytick_9\">\n     <g id=\"line2d_13\">\n      <g>\n       <use style=\"stroke:#000000;stroke-width:0.8;\" x=\"314.745345\" xlink:href=\"#mefd16b187f\" y=\"187.898203\"/>\n      </g>\n     </g>\n     <g id=\"text_36\">\n      <!-- 0.8526 -->\n      <g transform=\"translate(321.745345 191.697421)scale(0.1 -0.1)\">\n       <use xlink:href=\"#DejaVuSans-48\"/>\n       <use x=\"63.623047\" xlink:href=\"#DejaVuSans-46\"/>\n       <use x=\"95.410156\" xlink:href=\"#DejaVuSans-56\"/>\n       <use x=\"159.033203\" xlink:href=\"#DejaVuSans-53\"/>\n       <use x=\"222.65625\" xlink:href=\"#DejaVuSans-50\"/>\n       <use x=\"286.279297\" xlink:href=\"#DejaVuSans-54\"/>\n      </g>\n     </g>\n    </g>\n    <g id=\"ytick_10\">\n     <g id=\"line2d_14\">\n      <g>\n       <use style=\"stroke:#000000;stroke-width:0.8;\" x=\"314.745345\" xlink:href=\"#mefd16b187f\" y=\"166.132437\"/>\n      </g>\n     </g>\n     <g id=\"text_37\">\n      <!-- 0.8731 -->\n      <g transform=\"translate(321.745345 169.931656)scale(0.1 -0.1)\">\n       <use xlink:href=\"#DejaVuSans-48\"/>\n       <use x=\"63.623047\" xlink:href=\"#DejaVuSans-46\"/>\n       <use x=\"95.410156\" xlink:href=\"#DejaVuSans-56\"/>\n       <use x=\"159.033203\" xlink:href=\"#DejaVuSans-55\"/>\n       <use x=\"222.65625\" xlink:href=\"#DejaVuSans-51\"/>\n       <use x=\"286.279297\" xlink:href=\"#DejaVuSans-49\"/>\n      </g>\n     </g>\n    </g>\n    <g id=\"ytick_11\">\n     <g id=\"line2d_15\">\n      <g>\n       <use style=\"stroke:#000000;stroke-width:0.8;\" x=\"314.745345\" xlink:href=\"#mefd16b187f\" y=\"144.366671\"/>\n      </g>\n     </g>\n     <g id=\"text_38\">\n      <!-- 0.8936 -->\n      <g transform=\"translate(321.745345 148.16589)scale(0.1 -0.1)\">\n       <use xlink:href=\"#DejaVuSans-48\"/>\n       <use x=\"63.623047\" xlink:href=\"#DejaVuSans-46\"/>\n       <use x=\"95.410156\" xlink:href=\"#DejaVuSans-56\"/>\n       <use x=\"159.033203\" xlink:href=\"#DejaVuSans-57\"/>\n       <use x=\"222.65625\" xlink:href=\"#DejaVuSans-51\"/>\n       <use x=\"286.279297\" xlink:href=\"#DejaVuSans-54\"/>\n      </g>\n     </g>\n    </g>\n    <g id=\"ytick_12\">\n     <g id=\"line2d_16\">\n      <g>\n       <use style=\"stroke:#000000;stroke-width:0.8;\" x=\"314.745345\" xlink:href=\"#mefd16b187f\" y=\"122.600905\"/>\n      </g>\n     </g>\n     <g id=\"text_39\">\n      <!-- 0.9141 -->\n      <g transform=\"translate(321.745345 126.400124)scale(0.1 -0.1)\">\n       <use xlink:href=\"#DejaVuSans-48\"/>\n       <use x=\"63.623047\" xlink:href=\"#DejaVuSans-46\"/>\n       <use x=\"95.410156\" xlink:href=\"#DejaVuSans-57\"/>\n       <use x=\"159.033203\" xlink:href=\"#DejaVuSans-49\"/>\n       <use x=\"222.65625\" xlink:href=\"#DejaVuSans-52\"/>\n       <use x=\"286.279297\" xlink:href=\"#DejaVuSans-49\"/>\n      </g>\n     </g>\n    </g>\n    <g id=\"ytick_13\">\n     <g id=\"line2d_17\">\n      <g>\n       <use style=\"stroke:#000000;stroke-width:0.8;\" x=\"314.745345\" xlink:href=\"#mefd16b187f\" y=\"100.83514\"/>\n      </g>\n     </g>\n     <g id=\"text_40\">\n      <!-- 0.9346 -->\n      <g transform=\"translate(321.745345 104.634358)scale(0.1 -0.1)\">\n       <use xlink:href=\"#DejaVuSans-48\"/>\n       <use x=\"63.623047\" xlink:href=\"#DejaVuSans-46\"/>\n       <use x=\"95.410156\" xlink:href=\"#DejaVuSans-57\"/>\n       <use x=\"159.033203\" xlink:href=\"#DejaVuSans-51\"/>\n       <use x=\"222.65625\" xlink:href=\"#DejaVuSans-52\"/>\n       <use x=\"286.279297\" xlink:href=\"#DejaVuSans-54\"/>\n      </g>\n     </g>\n    </g>\n    <g id=\"ytick_14\">\n     <g id=\"line2d_18\">\n      <g>\n       <use style=\"stroke:#000000;stroke-width:0.8;\" x=\"314.745345\" xlink:href=\"#mefd16b187f\" y=\"79.069374\"/>\n      </g>\n     </g>\n     <g id=\"text_41\">\n      <!-- 0.9552 -->\n      <g transform=\"translate(321.745345 82.868593)scale(0.1 -0.1)\">\n       <use xlink:href=\"#DejaVuSans-48\"/>\n       <use x=\"63.623047\" xlink:href=\"#DejaVuSans-46\"/>\n       <use x=\"95.410156\" xlink:href=\"#DejaVuSans-57\"/>\n       <use x=\"159.033203\" xlink:href=\"#DejaVuSans-53\"/>\n       <use x=\"222.65625\" xlink:href=\"#DejaVuSans-53\"/>\n       <use x=\"286.279297\" xlink:href=\"#DejaVuSans-50\"/>\n      </g>\n     </g>\n    </g>\n    <g id=\"ytick_15\">\n     <g id=\"line2d_19\">\n      <g>\n       <use style=\"stroke:#000000;stroke-width:0.8;\" x=\"314.745345\" xlink:href=\"#mefd16b187f\" y=\"57.303608\"/>\n      </g>\n     </g>\n     <g id=\"text_42\">\n      <!-- 0.9757 -->\n      <g transform=\"translate(321.745345 61.102827)scale(0.1 -0.1)\">\n       <use xlink:href=\"#DejaVuSans-48\"/>\n       <use x=\"63.623047\" xlink:href=\"#DejaVuSans-46\"/>\n       <use x=\"95.410156\" xlink:href=\"#DejaVuSans-57\"/>\n       <use x=\"159.033203\" xlink:href=\"#DejaVuSans-55\"/>\n       <use x=\"222.65625\" xlink:href=\"#DejaVuSans-53\"/>\n       <use x=\"286.279297\" xlink:href=\"#DejaVuSans-55\"/>\n      </g>\n     </g>\n    </g>\n   </g>\n   <g id=\"patch_4\">\n    <path d=\"M 303.873345 253.1955 \nL 303.873345 252.977842 \nL 303.873345 35.973158 \nL 303.873345 35.7555 \nL 314.745345 35.7555 \nL 314.745345 35.973158 \nL 314.745345 252.977842 \nL 314.745345 253.1955 \nz\n\" style=\"fill:none;stroke:#000000;stroke-linejoin:miter;stroke-width:0.8;\"/>\n   </g>\n  </g>\n </g>\n <defs>\n  <clipPath id=\"p89dc83f282\">\n   <rect height=\"217.44\" width=\"178.56\" x=\"114.153345\" y=\"35.7555\"/>\n  </clipPath>\n  <clipPath id=\"p679062f1eb\">\n   <rect height=\"217.44\" width=\"10.872\" x=\"303.873345\" y=\"35.7555\"/>\n  </clipPath>\n </defs>\n</svg>\n"
          },
          "metadata": {
            "needs_background": "light"
          }
        }
      ]
    },
    {
      "cell_type": "code",
      "metadata": {
        "colab": {
          "base_uri": "https://localhost:8080/",
          "height": 255
        },
        "id": "D7MqyEUJkJ2a",
        "outputId": "fcc7440e-8eac-4604-c8a3-681ec67e0128"
      },
      "source": [
        "df = pd.read_csv('ACC-localize.csv')\n",
        "data=x=df.iloc[0:6,0:5]\n",
        "data.set_index(\"methods\", inplace = True)\n",
        "x"
      ],
      "execution_count": null,
      "outputs": [
        {
          "output_type": "execute_result",
          "data": {
            "text/html": [
              "<div>\n",
              "<style scoped>\n",
              "    .dataframe tbody tr th:only-of-type {\n",
              "        vertical-align: middle;\n",
              "    }\n",
              "\n",
              "    .dataframe tbody tr th {\n",
              "        vertical-align: top;\n",
              "    }\n",
              "\n",
              "    .dataframe thead th {\n",
              "        text-align: right;\n",
              "    }\n",
              "</style>\n",
              "<table border=\"1\" class=\"dataframe\">\n",
              "  <thead>\n",
              "    <tr style=\"text-align: right;\">\n",
              "      <th></th>\n",
              "      <th>First study\\n (10-folds CV)</th>\n",
              "      <th>First study\\n (30% inde-pendent test data)</th>\n",
              "      <th>Second study\\n(10-folds CV)</th>\n",
              "      <th>Second study\\n(30% inde-pendent test data)</th>\n",
              "    </tr>\n",
              "    <tr>\n",
              "      <th>methods</th>\n",
              "      <th></th>\n",
              "      <th></th>\n",
              "      <th></th>\n",
              "      <th></th>\n",
              "    </tr>\n",
              "  </thead>\n",
              "  <tbody>\n",
              "    <tr>\n",
              "      <th>DELFI</th>\n",
              "      <td>61.00</td>\n",
              "      <td>0.00</td>\n",
              "      <td>65.17</td>\n",
              "      <td>69.20</td>\n",
              "    </tr>\n",
              "    <tr>\n",
              "      <th>CancerSEEK</th>\n",
              "      <td>56.04</td>\n",
              "      <td>65.49</td>\n",
              "      <td>62.32</td>\n",
              "      <td>0.00</td>\n",
              "    </tr>\n",
              "    <tr>\n",
              "      <th>ASVM</th>\n",
              "      <td>81.50</td>\n",
              "      <td>0.00</td>\n",
              "      <td>68.33</td>\n",
              "      <td>66.56</td>\n",
              "    </tr>\n",
              "    <tr>\n",
              "      <th>CancerEMC</th>\n",
              "      <td>78.04</td>\n",
              "      <td>75.22</td>\n",
              "      <td>91.49</td>\n",
              "      <td>92.43</td>\n",
              "    </tr>\n",
              "    <tr>\n",
              "      <th>BiDiEarlyCancerDF</th>\n",
              "      <td>85.19</td>\n",
              "      <td>86.84</td>\n",
              "      <td>94.85</td>\n",
              "      <td>93.85</td>\n",
              "    </tr>\n",
              "  </tbody>\n",
              "</table>\n",
              "</div>"
            ],
            "text/plain": [
              "                   First study\\n (10-folds CV)  ...  Second study\\n(30% inde-pendent test data)\n",
              "methods                                         ...                                            \n",
              "DELFI                                    61.00  ...                                       69.20\n",
              "CancerSEEK                               56.04  ...                                        0.00\n",
              "ASVM                                     81.50  ...                                       66.56\n",
              "CancerEMC                                78.04  ...                                       92.43\n",
              "BiDiEarlyCancerDF                        85.19  ...                                       93.85\n",
              "\n",
              "[5 rows x 4 columns]"
            ]
          },
          "metadata": {},
          "execution_count": 34
        }
      ]
    },
    {
      "cell_type": "code",
      "metadata": {
        "colab": {
          "base_uri": "https://localhost:8080/"
        },
        "id": "bnOOXdd1qz0I",
        "outputId": "bf39be0a-d6cf-4125-fb6c-3ab26d4241d2"
      },
      "source": [
        "x.iloc[4,2]=86.84\n",
        "x.iloc[4,2]"
      ],
      "execution_count": null,
      "outputs": [
        {
          "output_type": "execute_result",
          "data": {
            "text/plain": [
              "86.84"
            ]
          },
          "metadata": {},
          "execution_count": 28
        }
      ]
    },
    {
      "cell_type": "code",
      "metadata": {
        "colab": {
          "base_uri": "https://localhost:8080/",
          "height": 528
        },
        "id": "ucVKRgXhkPCx",
        "outputId": "e03e54d2-1e70-45b0-dac9-37719bf7e4d5"
      },
      "source": [
        "plt.figure(figsize=(4,4))\n",
        "color_map = cm.get_cmap('PRGn', 100)\n",
        "m = plt.cm.ScalarMappable(cmap=color_map)\n",
        "m.set_clim(56.04, 94.85)\n",
        "plt.colorbar(m, boundaries=np.linspace(56.04, 94.85))\n",
        "heatmap = sb.heatmap(data, cmap='PRGn', cbar=False, annot=True, fmt='5.3g', xticklabels=True, yticklabels=True, vmin=56.04 \t, vmax=94.85) \n",
        "col=['First study\\n(10-folds CV)','First study\\n(30% independent test)','Second study\\n(10-folds CV)',\n",
        "     'Second study\\n(30% independent test)']\n",
        "heatmap.set_xticklabels(col, rotation=45) \n",
        "heatmap.set_yticklabels(heatmap.get_yticklabels(), rotation=30) \n",
        "heatmap.set_title(\"Median Accuracies for\\nLocalize Cancer Detection\",fontweight='bold', fontsize=12)\n",
        "plt.xlabel(\"Experiments\")\n",
        "plt.ylabel(\"Methods\")\n",
        "plt.savefig(\"ACClHM.png\", bbox_inches='tight', dpi=300)"
      ],
      "execution_count": null,
      "outputs": [
        {
          "output_type": "display_data",
          "data": {
            "text/plain": [
              "<Figure size 288x288 with 2 Axes>"
            ],
            "image/svg+xml": "<?xml version=\"1.0\" encoding=\"utf-8\" standalone=\"no\"?>\n<!DOCTYPE svg PUBLIC \"-//W3C//DTD SVG 1.1//EN\"\n  \"http://www.w3.org/Graphics/SVG/1.1/DTD/svg11.dtd\">\n<!-- Created with matplotlib (https://matplotlib.org/) -->\n<svg height=\"379.842742pt\" version=\"1.1\" viewBox=\"0 0 357.57347 379.842742\" width=\"357.57347pt\" xmlns=\"http://www.w3.org/2000/svg\" xmlns:xlink=\"http://www.w3.org/1999/xlink\">\n <defs>\n  <style type=\"text/css\">\n*{stroke-linecap:butt;stroke-linejoin:round;}\n  </style>\n </defs>\n <g id=\"figure_1\">\n  <g id=\"patch_1\">\n   <path d=\"M 0 379.842742 \nL 357.57347 379.842742 \nL 357.57347 0 \nL 0 0 \nz\n\" style=\"fill:none;\"/>\n  </g>\n  <g id=\"axes_1\">\n   <g id=\"patch_2\">\n    <path d=\"M 114.153345 253.1955 \nL 292.713345 253.1955 \nL 292.713345 35.7555 \nL 114.153345 35.7555 \nz\n\" style=\"fill:#ffffff;\"/>\n   </g>\n   <g id=\"QuadMesh_1\">\n    <path clip-path=\"url(#p5a3710770c)\" d=\"M 114.153345 35.7555 \nL 158.793345 35.7555 \nL 158.793345 79.2435 \nL 114.153345 79.2435 \nL 114.153345 35.7555 \n\" style=\"fill:#7f3c8d;\"/>\n    <path clip-path=\"url(#p5a3710770c)\" d=\"M 158.793345 35.7555 \nL 203.433345 35.7555 \nL 203.433345 79.2435 \nL 158.793345 79.2435 \nL 158.793345 35.7555 \n\" style=\"fill:#40004b;\"/>\n    <path clip-path=\"url(#p5a3710770c)\" d=\"M 203.433345 35.7555 \nL 248.073345 35.7555 \nL 248.073345 79.2435 \nL 203.433345 79.2435 \nL 203.433345 35.7555 \n\" style=\"fill:#a783b8;\"/>\n    <path clip-path=\"url(#p5a3710770c)\" d=\"M 248.073345 35.7555 \nL 292.713345 35.7555 \nL 292.713345 79.2435 \nL 248.073345 79.2435 \nL 248.073345 35.7555 \n\" style=\"fill:#d0b7d8;\"/>\n    <path clip-path=\"url(#p5a3710770c)\" d=\"M 114.153345 79.2435 \nL 158.793345 79.2435 \nL 158.793345 122.7315 \nL 114.153345 122.7315 \nL 114.153345 79.2435 \n\" style=\"fill:#40004b;\"/>\n    <path clip-path=\"url(#p5a3710770c)\" d=\"M 158.793345 79.2435 \nL 203.433345 79.2435 \nL 203.433345 122.7315 \nL 158.793345 122.7315 \nL 158.793345 79.2435 \n\" style=\"fill:#ab87bb;\"/>\n    <path clip-path=\"url(#p5a3710770c)\" d=\"M 203.433345 79.2435 \nL 248.073345 79.2435 \nL 248.073345 122.7315 \nL 203.433345 122.7315 \nL 203.433345 79.2435 \n\" style=\"fill:#8b559b;\"/>\n    <path clip-path=\"url(#p5a3710770c)\" d=\"M 248.073345 79.2435 \nL 292.713345 79.2435 \nL 292.713345 122.7315 \nL 248.073345 122.7315 \nL 248.073345 79.2435 \n\" style=\"fill:#40004b;\"/>\n    <path clip-path=\"url(#p5a3710770c)\" d=\"M 114.153345 122.7315 \nL 158.793345 122.7315 \nL 158.793345 166.2195 \nL 114.153345 166.2195 \nL 114.153345 122.7315 \n\" style=\"fill:#bde4b7;\"/>\n    <path clip-path=\"url(#p5a3710770c)\" d=\"M 158.793345 122.7315 \nL 203.433345 122.7315 \nL 203.433345 166.2195 \nL 158.793345 166.2195 \nL 158.793345 122.7315 \n\" style=\"fill:#40004b;\"/>\n    <path clip-path=\"url(#p5a3710770c)\" d=\"M 203.433345 122.7315 \nL 248.073345 122.7315 \nL 248.073345 166.2195 \nL 203.433345 166.2195 \nL 203.433345 122.7315 \n\" style=\"fill:#c9add3;\"/>\n    <path clip-path=\"url(#p5a3710770c)\" d=\"M 248.073345 122.7315 \nL 292.713345 122.7315 \nL 292.713345 166.2195 \nL 248.073345 166.2195 \nL 248.073345 122.7315 \n\" style=\"fill:#b695c4;\"/>\n    <path clip-path=\"url(#p5a3710770c)\" d=\"M 114.153345 166.2195 \nL 158.793345 166.2195 \nL 158.793345 209.7075 \nL 114.153345 209.7075 \nL 114.153345 166.2195 \n\" style=\"fill:#e2f2de;\"/>\n    <path clip-path=\"url(#p5a3710770c)\" d=\"M 158.793345 166.2195 \nL 203.433345 166.2195 \nL 203.433345 209.7075 \nL 158.793345 209.7075 \nL 158.793345 166.2195 \n\" style=\"fill:#f6f5f6;\"/>\n    <path clip-path=\"url(#p5a3710770c)\" d=\"M 203.433345 166.2195 \nL 248.073345 166.2195 \nL 248.073345 209.7075 \nL 203.433345 209.7075 \nL 203.433345 166.2195 \n\" style=\"fill:#177133;\"/>\n    <path clip-path=\"url(#p5a3710770c)\" d=\"M 248.073345 166.2195 \nL 292.713345 166.2195 \nL 292.713345 209.7075 \nL 248.073345 209.7075 \nL 248.073345 166.2195 \n\" style=\"fill:#10632b;\"/>\n    <path clip-path=\"url(#p5a3710770c)\" d=\"M 114.153345 209.7075 \nL 158.793345 209.7075 \nL 158.793345 253.1955 \nL 114.153345 253.1955 \nL 114.153345 209.7075 \n\" style=\"fill:#7ec37f;\"/>\n    <path clip-path=\"url(#p5a3710770c)\" d=\"M 158.793345 209.7075 \nL 203.433345 209.7075 \nL 203.433345 253.1955 \nL 158.793345 253.1955 \nL 158.793345 209.7075 \n\" style=\"fill:#5db063;\"/>\n    <path clip-path=\"url(#p5a3710770c)\" d=\"M 203.433345 209.7075 \nL 248.073345 209.7075 \nL 248.073345 253.1955 \nL 203.433345 253.1955 \nL 203.433345 209.7075 \n\" style=\"fill:#00441b;\"/>\n    <path clip-path=\"url(#p5a3710770c)\" d=\"M 248.073345 209.7075 \nL 292.713345 209.7075 \nL 292.713345 253.1955 \nL 248.073345 253.1955 \nL 248.073345 209.7075 \n\" style=\"fill:#065022;\"/>\n   </g>\n   <g id=\"matplotlib.axis_1\">\n    <g id=\"xtick_1\">\n     <g id=\"line2d_1\">\n      <defs>\n       <path d=\"M 0 0 \nL 0 3.5 \n\" id=\"mb226ea548b\" style=\"stroke:#000000;stroke-width:0.8;\"/>\n      </defs>\n      <g>\n       <use style=\"stroke:#000000;stroke-width:0.8;\" x=\"136.473345\" xlink:href=\"#mb226ea548b\" y=\"253.1955\"/>\n      </g>\n     </g>\n     <g id=\"text_1\">\n      <!-- First study -->\n      <defs>\n       <path d=\"M 9.8125 72.90625 \nL 51.703125 72.90625 \nL 51.703125 64.59375 \nL 19.671875 64.59375 \nL 19.671875 43.109375 \nL 48.578125 43.109375 \nL 48.578125 34.8125 \nL 19.671875 34.8125 \nL 19.671875 0 \nL 9.8125 0 \nz\n\" id=\"DejaVuSans-70\"/>\n       <path d=\"M 9.421875 54.6875 \nL 18.40625 54.6875 \nL 18.40625 0 \nL 9.421875 0 \nz\nM 9.421875 75.984375 \nL 18.40625 75.984375 \nL 18.40625 64.59375 \nL 9.421875 64.59375 \nz\n\" id=\"DejaVuSans-105\"/>\n       <path d=\"M 41.109375 46.296875 \nQ 39.59375 47.171875 37.8125 47.578125 \nQ 36.03125 48 33.890625 48 \nQ 26.265625 48 22.1875 43.046875 \nQ 18.109375 38.09375 18.109375 28.8125 \nL 18.109375 0 \nL 9.078125 0 \nL 9.078125 54.6875 \nL 18.109375 54.6875 \nL 18.109375 46.1875 \nQ 20.953125 51.171875 25.484375 53.578125 \nQ 30.03125 56 36.53125 56 \nQ 37.453125 56 38.578125 55.875 \nQ 39.703125 55.765625 41.0625 55.515625 \nz\n\" id=\"DejaVuSans-114\"/>\n       <path d=\"M 44.28125 53.078125 \nL 44.28125 44.578125 \nQ 40.484375 46.53125 36.375 47.5 \nQ 32.28125 48.484375 27.875 48.484375 \nQ 21.1875 48.484375 17.84375 46.4375 \nQ 14.5 44.390625 14.5 40.28125 \nQ 14.5 37.15625 16.890625 35.375 \nQ 19.28125 33.59375 26.515625 31.984375 \nL 29.59375 31.296875 \nQ 39.15625 29.25 43.1875 25.515625 \nQ 47.21875 21.78125 47.21875 15.09375 \nQ 47.21875 7.46875 41.1875 3.015625 \nQ 35.15625 -1.421875 24.609375 -1.421875 \nQ 20.21875 -1.421875 15.453125 -0.5625 \nQ 10.6875 0.296875 5.421875 2 \nL 5.421875 11.28125 \nQ 10.40625 8.6875 15.234375 7.390625 \nQ 20.0625 6.109375 24.8125 6.109375 \nQ 31.15625 6.109375 34.5625 8.28125 \nQ 37.984375 10.453125 37.984375 14.40625 \nQ 37.984375 18.0625 35.515625 20.015625 \nQ 33.0625 21.96875 24.703125 23.78125 \nL 21.578125 24.515625 \nQ 13.234375 26.265625 9.515625 29.90625 \nQ 5.8125 33.546875 5.8125 39.890625 \nQ 5.8125 47.609375 11.28125 51.796875 \nQ 16.75 56 26.8125 56 \nQ 31.78125 56 36.171875 55.265625 \nQ 40.578125 54.546875 44.28125 53.078125 \nz\n\" id=\"DejaVuSans-115\"/>\n       <path d=\"M 18.3125 70.21875 \nL 18.3125 54.6875 \nL 36.8125 54.6875 \nL 36.8125 47.703125 \nL 18.3125 47.703125 \nL 18.3125 18.015625 \nQ 18.3125 11.328125 20.140625 9.421875 \nQ 21.96875 7.515625 27.59375 7.515625 \nL 36.8125 7.515625 \nL 36.8125 0 \nL 27.59375 0 \nQ 17.1875 0 13.234375 3.875 \nQ 9.28125 7.765625 9.28125 18.015625 \nL 9.28125 47.703125 \nL 2.6875 47.703125 \nL 2.6875 54.6875 \nL 9.28125 54.6875 \nL 9.28125 70.21875 \nz\n\" id=\"DejaVuSans-116\"/>\n       <path id=\"DejaVuSans-32\"/>\n       <path d=\"M 8.5 21.578125 \nL 8.5 54.6875 \nL 17.484375 54.6875 \nL 17.484375 21.921875 \nQ 17.484375 14.15625 20.5 10.265625 \nQ 23.53125 6.390625 29.59375 6.390625 \nQ 36.859375 6.390625 41.078125 11.03125 \nQ 45.3125 15.671875 45.3125 23.6875 \nL 45.3125 54.6875 \nL 54.296875 54.6875 \nL 54.296875 0 \nL 45.3125 0 \nL 45.3125 8.40625 \nQ 42.046875 3.421875 37.71875 1 \nQ 33.40625 -1.421875 27.6875 -1.421875 \nQ 18.265625 -1.421875 13.375 4.4375 \nQ 8.5 10.296875 8.5 21.578125 \nz\nM 31.109375 56 \nz\n\" id=\"DejaVuSans-117\"/>\n       <path d=\"M 45.40625 46.390625 \nL 45.40625 75.984375 \nL 54.390625 75.984375 \nL 54.390625 0 \nL 45.40625 0 \nL 45.40625 8.203125 \nQ 42.578125 3.328125 38.25 0.953125 \nQ 33.9375 -1.421875 27.875 -1.421875 \nQ 17.96875 -1.421875 11.734375 6.484375 \nQ 5.515625 14.40625 5.515625 27.296875 \nQ 5.515625 40.1875 11.734375 48.09375 \nQ 17.96875 56 27.875 56 \nQ 33.9375 56 38.25 53.625 \nQ 42.578125 51.265625 45.40625 46.390625 \nz\nM 14.796875 27.296875 \nQ 14.796875 17.390625 18.875 11.75 \nQ 22.953125 6.109375 30.078125 6.109375 \nQ 37.203125 6.109375 41.296875 11.75 \nQ 45.40625 17.390625 45.40625 27.296875 \nQ 45.40625 37.203125 41.296875 42.84375 \nQ 37.203125 48.484375 30.078125 48.484375 \nQ 22.953125 48.484375 18.875 42.84375 \nQ 14.796875 37.203125 14.796875 27.296875 \nz\n\" id=\"DejaVuSans-100\"/>\n       <path d=\"M 32.171875 -5.078125 \nQ 28.375 -14.84375 24.75 -17.8125 \nQ 21.140625 -20.796875 15.09375 -20.796875 \nL 7.90625 -20.796875 \nL 7.90625 -13.28125 \nL 13.1875 -13.28125 \nQ 16.890625 -13.28125 18.9375 -11.515625 \nQ 21 -9.765625 23.484375 -3.21875 \nL 25.09375 0.875 \nL 2.984375 54.6875 \nL 12.5 54.6875 \nL 29.59375 11.921875 \nL 46.6875 54.6875 \nL 56.203125 54.6875 \nz\n\" id=\"DejaVuSans-121\"/>\n      </defs>\n      <g transform=\"translate(116.095632 306.959013)rotate(-45)scale(0.1 -0.1)\">\n       <use xlink:href=\"#DejaVuSans-70\"/>\n       <use x=\"50.269531\" xlink:href=\"#DejaVuSans-105\"/>\n       <use x=\"78.052734\" xlink:href=\"#DejaVuSans-114\"/>\n       <use x=\"119.166016\" xlink:href=\"#DejaVuSans-115\"/>\n       <use x=\"171.265625\" xlink:href=\"#DejaVuSans-116\"/>\n       <use x=\"210.474609\" xlink:href=\"#DejaVuSans-32\"/>\n       <use x=\"242.261719\" xlink:href=\"#DejaVuSans-115\"/>\n       <use x=\"294.361328\" xlink:href=\"#DejaVuSans-116\"/>\n       <use x=\"333.570312\" xlink:href=\"#DejaVuSans-117\"/>\n       <use x=\"396.949219\" xlink:href=\"#DejaVuSans-100\"/>\n       <use x=\"460.425781\" xlink:href=\"#DejaVuSans-121\"/>\n      </g>\n      <!-- (10-folds CV) -->\n      <defs>\n       <path d=\"M 31 75.875 \nQ 24.46875 64.65625 21.28125 53.65625 \nQ 18.109375 42.671875 18.109375 31.390625 \nQ 18.109375 20.125 21.3125 9.0625 \nQ 24.515625 -2 31 -13.1875 \nL 23.1875 -13.1875 \nQ 15.875 -1.703125 12.234375 9.375 \nQ 8.59375 20.453125 8.59375 31.390625 \nQ 8.59375 42.28125 12.203125 53.3125 \nQ 15.828125 64.359375 23.1875 75.875 \nz\n\" id=\"DejaVuSans-40\"/>\n       <path d=\"M 12.40625 8.296875 \nL 28.515625 8.296875 \nL 28.515625 63.921875 \nL 10.984375 60.40625 \nL 10.984375 69.390625 \nL 28.421875 72.90625 \nL 38.28125 72.90625 \nL 38.28125 8.296875 \nL 54.390625 8.296875 \nL 54.390625 0 \nL 12.40625 0 \nz\n\" id=\"DejaVuSans-49\"/>\n       <path d=\"M 31.78125 66.40625 \nQ 24.171875 66.40625 20.328125 58.90625 \nQ 16.5 51.421875 16.5 36.375 \nQ 16.5 21.390625 20.328125 13.890625 \nQ 24.171875 6.390625 31.78125 6.390625 \nQ 39.453125 6.390625 43.28125 13.890625 \nQ 47.125 21.390625 47.125 36.375 \nQ 47.125 51.421875 43.28125 58.90625 \nQ 39.453125 66.40625 31.78125 66.40625 \nz\nM 31.78125 74.21875 \nQ 44.046875 74.21875 50.515625 64.515625 \nQ 56.984375 54.828125 56.984375 36.375 \nQ 56.984375 17.96875 50.515625 8.265625 \nQ 44.046875 -1.421875 31.78125 -1.421875 \nQ 19.53125 -1.421875 13.0625 8.265625 \nQ 6.59375 17.96875 6.59375 36.375 \nQ 6.59375 54.828125 13.0625 64.515625 \nQ 19.53125 74.21875 31.78125 74.21875 \nz\n\" id=\"DejaVuSans-48\"/>\n       <path d=\"M 4.890625 31.390625 \nL 31.203125 31.390625 \nL 31.203125 23.390625 \nL 4.890625 23.390625 \nz\n\" id=\"DejaVuSans-45\"/>\n       <path d=\"M 37.109375 75.984375 \nL 37.109375 68.5 \nL 28.515625 68.5 \nQ 23.6875 68.5 21.796875 66.546875 \nQ 19.921875 64.59375 19.921875 59.515625 \nL 19.921875 54.6875 \nL 34.71875 54.6875 \nL 34.71875 47.703125 \nL 19.921875 47.703125 \nL 19.921875 0 \nL 10.890625 0 \nL 10.890625 47.703125 \nL 2.296875 47.703125 \nL 2.296875 54.6875 \nL 10.890625 54.6875 \nL 10.890625 58.5 \nQ 10.890625 67.625 15.140625 71.796875 \nQ 19.390625 75.984375 28.609375 75.984375 \nz\n\" id=\"DejaVuSans-102\"/>\n       <path d=\"M 30.609375 48.390625 \nQ 23.390625 48.390625 19.1875 42.75 \nQ 14.984375 37.109375 14.984375 27.296875 \nQ 14.984375 17.484375 19.15625 11.84375 \nQ 23.34375 6.203125 30.609375 6.203125 \nQ 37.796875 6.203125 41.984375 11.859375 \nQ 46.1875 17.53125 46.1875 27.296875 \nQ 46.1875 37.015625 41.984375 42.703125 \nQ 37.796875 48.390625 30.609375 48.390625 \nz\nM 30.609375 56 \nQ 42.328125 56 49.015625 48.375 \nQ 55.71875 40.765625 55.71875 27.296875 \nQ 55.71875 13.875 49.015625 6.21875 \nQ 42.328125 -1.421875 30.609375 -1.421875 \nQ 18.84375 -1.421875 12.171875 6.21875 \nQ 5.515625 13.875 5.515625 27.296875 \nQ 5.515625 40.765625 12.171875 48.375 \nQ 18.84375 56 30.609375 56 \nz\n\" id=\"DejaVuSans-111\"/>\n       <path d=\"M 9.421875 75.984375 \nL 18.40625 75.984375 \nL 18.40625 0 \nL 9.421875 0 \nz\n\" id=\"DejaVuSans-108\"/>\n       <path d=\"M 64.40625 67.28125 \nL 64.40625 56.890625 \nQ 59.421875 61.53125 53.78125 63.8125 \nQ 48.140625 66.109375 41.796875 66.109375 \nQ 29.296875 66.109375 22.65625 58.46875 \nQ 16.015625 50.828125 16.015625 36.375 \nQ 16.015625 21.96875 22.65625 14.328125 \nQ 29.296875 6.6875 41.796875 6.6875 \nQ 48.140625 6.6875 53.78125 8.984375 \nQ 59.421875 11.28125 64.40625 15.921875 \nL 64.40625 5.609375 \nQ 59.234375 2.09375 53.4375 0.328125 \nQ 47.65625 -1.421875 41.21875 -1.421875 \nQ 24.65625 -1.421875 15.125 8.703125 \nQ 5.609375 18.84375 5.609375 36.375 \nQ 5.609375 53.953125 15.125 64.078125 \nQ 24.65625 74.21875 41.21875 74.21875 \nQ 47.75 74.21875 53.53125 72.484375 \nQ 59.328125 70.75 64.40625 67.28125 \nz\n\" id=\"DejaVuSans-67\"/>\n       <path d=\"M 28.609375 0 \nL 0.78125 72.90625 \nL 11.078125 72.90625 \nL 34.1875 11.53125 \nL 57.328125 72.90625 \nL 67.578125 72.90625 \nL 39.796875 0 \nz\n\" id=\"DejaVuSans-86\"/>\n       <path d=\"M 8.015625 75.875 \nL 15.828125 75.875 \nQ 23.140625 64.359375 26.78125 53.3125 \nQ 30.421875 42.28125 30.421875 31.390625 \nQ 30.421875 20.453125 26.78125 9.375 \nQ 23.140625 -1.703125 15.828125 -13.1875 \nL 8.015625 -13.1875 \nQ 14.5 -2 17.703125 9.0625 \nQ 20.90625 20.125 20.90625 31.390625 \nQ 20.90625 42.671875 17.703125 53.65625 \nQ 14.5 64.65625 8.015625 75.875 \nz\n\" id=\"DejaVuSans-41\"/>\n      </defs>\n      <g transform=\"translate(119.362797 319.527946)rotate(-45)scale(0.1 -0.1)\">\n       <use xlink:href=\"#DejaVuSans-40\"/>\n       <use x=\"39.013672\" xlink:href=\"#DejaVuSans-49\"/>\n       <use x=\"102.636719\" xlink:href=\"#DejaVuSans-48\"/>\n       <use x=\"166.259766\" xlink:href=\"#DejaVuSans-45\"/>\n       <use x=\"202.34375\" xlink:href=\"#DejaVuSans-102\"/>\n       <use x=\"237.548828\" xlink:href=\"#DejaVuSans-111\"/>\n       <use x=\"298.730469\" xlink:href=\"#DejaVuSans-108\"/>\n       <use x=\"326.513672\" xlink:href=\"#DejaVuSans-100\"/>\n       <use x=\"389.990234\" xlink:href=\"#DejaVuSans-115\"/>\n       <use x=\"442.089844\" xlink:href=\"#DejaVuSans-32\"/>\n       <use x=\"473.876953\" xlink:href=\"#DejaVuSans-67\"/>\n       <use x=\"543.701172\" xlink:href=\"#DejaVuSans-86\"/>\n       <use x=\"612.109375\" xlink:href=\"#DejaVuSans-41\"/>\n      </g>\n     </g>\n    </g>\n    <g id=\"xtick_2\">\n     <g id=\"line2d_2\">\n      <g>\n       <use style=\"stroke:#000000;stroke-width:0.8;\" x=\"181.113345\" xlink:href=\"#mb226ea548b\" y=\"253.1955\"/>\n      </g>\n     </g>\n     <g id=\"text_2\">\n      <!-- First study -->\n      <g transform=\"translate(160.735632 325.942068)rotate(-45)scale(0.1 -0.1)\">\n       <use xlink:href=\"#DejaVuSans-70\"/>\n       <use x=\"50.269531\" xlink:href=\"#DejaVuSans-105\"/>\n       <use x=\"78.052734\" xlink:href=\"#DejaVuSans-114\"/>\n       <use x=\"119.166016\" xlink:href=\"#DejaVuSans-115\"/>\n       <use x=\"171.265625\" xlink:href=\"#DejaVuSans-116\"/>\n       <use x=\"210.474609\" xlink:href=\"#DejaVuSans-32\"/>\n       <use x=\"242.261719\" xlink:href=\"#DejaVuSans-115\"/>\n       <use x=\"294.361328\" xlink:href=\"#DejaVuSans-116\"/>\n       <use x=\"333.570312\" xlink:href=\"#DejaVuSans-117\"/>\n       <use x=\"396.949219\" xlink:href=\"#DejaVuSans-100\"/>\n       <use x=\"460.425781\" xlink:href=\"#DejaVuSans-121\"/>\n      </g>\n      <!-- (30% independent test) -->\n      <defs>\n       <path d=\"M 40.578125 39.3125 \nQ 47.65625 37.796875 51.625 33 \nQ 55.609375 28.21875 55.609375 21.1875 \nQ 55.609375 10.40625 48.1875 4.484375 \nQ 40.765625 -1.421875 27.09375 -1.421875 \nQ 22.515625 -1.421875 17.65625 -0.515625 \nQ 12.796875 0.390625 7.625 2.203125 \nL 7.625 11.71875 \nQ 11.71875 9.328125 16.59375 8.109375 \nQ 21.484375 6.890625 26.8125 6.890625 \nQ 36.078125 6.890625 40.9375 10.546875 \nQ 45.796875 14.203125 45.796875 21.1875 \nQ 45.796875 27.640625 41.28125 31.265625 \nQ 36.765625 34.90625 28.71875 34.90625 \nL 20.21875 34.90625 \nL 20.21875 43.015625 \nL 29.109375 43.015625 \nQ 36.375 43.015625 40.234375 45.921875 \nQ 44.09375 48.828125 44.09375 54.296875 \nQ 44.09375 59.90625 40.109375 62.90625 \nQ 36.140625 65.921875 28.71875 65.921875 \nQ 24.65625 65.921875 20.015625 65.03125 \nQ 15.375 64.15625 9.8125 62.3125 \nL 9.8125 71.09375 \nQ 15.4375 72.65625 20.34375 73.4375 \nQ 25.25 74.21875 29.59375 74.21875 \nQ 40.828125 74.21875 47.359375 69.109375 \nQ 53.90625 64.015625 53.90625 55.328125 \nQ 53.90625 49.265625 50.4375 45.09375 \nQ 46.96875 40.921875 40.578125 39.3125 \nz\n\" id=\"DejaVuSans-51\"/>\n       <path d=\"M 72.703125 32.078125 \nQ 68.453125 32.078125 66.03125 28.46875 \nQ 63.625 24.859375 63.625 18.40625 \nQ 63.625 12.0625 66.03125 8.421875 \nQ 68.453125 4.78125 72.703125 4.78125 \nQ 76.859375 4.78125 79.265625 8.421875 \nQ 81.6875 12.0625 81.6875 18.40625 \nQ 81.6875 24.8125 79.265625 28.4375 \nQ 76.859375 32.078125 72.703125 32.078125 \nz\nM 72.703125 38.28125 \nQ 80.421875 38.28125 84.953125 32.90625 \nQ 89.5 27.546875 89.5 18.40625 \nQ 89.5 9.28125 84.9375 3.921875 \nQ 80.375 -1.421875 72.703125 -1.421875 \nQ 64.890625 -1.421875 60.34375 3.921875 \nQ 55.8125 9.28125 55.8125 18.40625 \nQ 55.8125 27.59375 60.375 32.9375 \nQ 64.9375 38.28125 72.703125 38.28125 \nz\nM 22.3125 68.015625 \nQ 18.109375 68.015625 15.6875 64.375 \nQ 13.28125 60.75 13.28125 54.390625 \nQ 13.28125 47.953125 15.671875 44.328125 \nQ 18.0625 40.71875 22.3125 40.71875 \nQ 26.5625 40.71875 28.96875 44.328125 \nQ 31.390625 47.953125 31.390625 54.390625 \nQ 31.390625 60.6875 28.953125 64.34375 \nQ 26.515625 68.015625 22.3125 68.015625 \nz\nM 66.40625 74.21875 \nL 74.21875 74.21875 \nL 28.609375 -1.421875 \nL 20.796875 -1.421875 \nz\nM 22.3125 74.21875 \nQ 30.03125 74.21875 34.609375 68.875 \nQ 39.203125 63.53125 39.203125 54.390625 \nQ 39.203125 45.171875 34.640625 39.84375 \nQ 30.078125 34.515625 22.3125 34.515625 \nQ 14.546875 34.515625 10.03125 39.859375 \nQ 5.515625 45.21875 5.515625 54.390625 \nQ 5.515625 63.484375 10.046875 68.84375 \nQ 14.59375 74.21875 22.3125 74.21875 \nz\n\" id=\"DejaVuSans-37\"/>\n       <path d=\"M 54.890625 33.015625 \nL 54.890625 0 \nL 45.90625 0 \nL 45.90625 32.71875 \nQ 45.90625 40.484375 42.875 44.328125 \nQ 39.84375 48.1875 33.796875 48.1875 \nQ 26.515625 48.1875 22.3125 43.546875 \nQ 18.109375 38.921875 18.109375 30.90625 \nL 18.109375 0 \nL 9.078125 0 \nL 9.078125 54.6875 \nL 18.109375 54.6875 \nL 18.109375 46.1875 \nQ 21.34375 51.125 25.703125 53.5625 \nQ 30.078125 56 35.796875 56 \nQ 45.21875 56 50.046875 50.171875 \nQ 54.890625 44.34375 54.890625 33.015625 \nz\n\" id=\"DejaVuSans-110\"/>\n       <path d=\"M 56.203125 29.59375 \nL 56.203125 25.203125 \nL 14.890625 25.203125 \nQ 15.484375 15.921875 20.484375 11.0625 \nQ 25.484375 6.203125 34.421875 6.203125 \nQ 39.59375 6.203125 44.453125 7.46875 \nQ 49.3125 8.734375 54.109375 11.28125 \nL 54.109375 2.78125 \nQ 49.265625 0.734375 44.1875 -0.34375 \nQ 39.109375 -1.421875 33.890625 -1.421875 \nQ 20.796875 -1.421875 13.15625 6.1875 \nQ 5.515625 13.8125 5.515625 26.8125 \nQ 5.515625 40.234375 12.765625 48.109375 \nQ 20.015625 56 32.328125 56 \nQ 43.359375 56 49.78125 48.890625 \nQ 56.203125 41.796875 56.203125 29.59375 \nz\nM 47.21875 32.234375 \nQ 47.125 39.59375 43.09375 43.984375 \nQ 39.0625 48.390625 32.421875 48.390625 \nQ 24.90625 48.390625 20.390625 44.140625 \nQ 15.875 39.890625 15.1875 32.171875 \nz\n\" id=\"DejaVuSans-101\"/>\n       <path d=\"M 18.109375 8.203125 \nL 18.109375 -20.796875 \nL 9.078125 -20.796875 \nL 9.078125 54.6875 \nL 18.109375 54.6875 \nL 18.109375 46.390625 \nQ 20.953125 51.265625 25.265625 53.625 \nQ 29.59375 56 35.59375 56 \nQ 45.5625 56 51.78125 48.09375 \nQ 58.015625 40.1875 58.015625 27.296875 \nQ 58.015625 14.40625 51.78125 6.484375 \nQ 45.5625 -1.421875 35.59375 -1.421875 \nQ 29.59375 -1.421875 25.265625 0.953125 \nQ 20.953125 3.328125 18.109375 8.203125 \nz\nM 48.6875 27.296875 \nQ 48.6875 37.203125 44.609375 42.84375 \nQ 40.53125 48.484375 33.40625 48.484375 \nQ 26.265625 48.484375 22.1875 42.84375 \nQ 18.109375 37.203125 18.109375 27.296875 \nQ 18.109375 17.390625 22.1875 11.75 \nQ 26.265625 6.109375 33.40625 6.109375 \nQ 40.53125 6.109375 44.609375 11.75 \nQ 48.6875 17.390625 48.6875 27.296875 \nz\n\" id=\"DejaVuSans-112\"/>\n      </defs>\n      <g transform=\"translate(145.019742 357.494056)rotate(-45)scale(0.1 -0.1)\">\n       <use xlink:href=\"#DejaVuSans-40\"/>\n       <use x=\"39.013672\" xlink:href=\"#DejaVuSans-51\"/>\n       <use x=\"102.636719\" xlink:href=\"#DejaVuSans-48\"/>\n       <use x=\"166.259766\" xlink:href=\"#DejaVuSans-37\"/>\n       <use x=\"261.279297\" xlink:href=\"#DejaVuSans-32\"/>\n       <use x=\"293.066406\" xlink:href=\"#DejaVuSans-105\"/>\n       <use x=\"320.849609\" xlink:href=\"#DejaVuSans-110\"/>\n       <use x=\"384.228516\" xlink:href=\"#DejaVuSans-100\"/>\n       <use x=\"447.705078\" xlink:href=\"#DejaVuSans-101\"/>\n       <use x=\"509.228516\" xlink:href=\"#DejaVuSans-112\"/>\n       <use x=\"572.705078\" xlink:href=\"#DejaVuSans-101\"/>\n       <use x=\"634.228516\" xlink:href=\"#DejaVuSans-110\"/>\n       <use x=\"697.607422\" xlink:href=\"#DejaVuSans-100\"/>\n       <use x=\"761.083984\" xlink:href=\"#DejaVuSans-101\"/>\n       <use x=\"822.607422\" xlink:href=\"#DejaVuSans-110\"/>\n       <use x=\"885.986328\" xlink:href=\"#DejaVuSans-116\"/>\n       <use x=\"925.195312\" xlink:href=\"#DejaVuSans-32\"/>\n       <use x=\"956.982422\" xlink:href=\"#DejaVuSans-116\"/>\n       <use x=\"996.191406\" xlink:href=\"#DejaVuSans-101\"/>\n       <use x=\"1057.714844\" xlink:href=\"#DejaVuSans-115\"/>\n       <use x=\"1109.814453\" xlink:href=\"#DejaVuSans-116\"/>\n       <use x=\"1149.023438\" xlink:href=\"#DejaVuSans-41\"/>\n      </g>\n     </g>\n    </g>\n    <g id=\"xtick_3\">\n     <g id=\"line2d_3\">\n      <g>\n       <use style=\"stroke:#000000;stroke-width:0.8;\" x=\"225.753345\" xlink:href=\"#mb226ea548b\" y=\"253.1955\"/>\n      </g>\n     </g>\n     <g id=\"text_3\">\n      <!-- Second study -->\n      <defs>\n       <path d=\"M 53.515625 70.515625 \nL 53.515625 60.890625 \nQ 47.90625 63.578125 42.921875 64.890625 \nQ 37.9375 66.21875 33.296875 66.21875 \nQ 25.25 66.21875 20.875 63.09375 \nQ 16.5 59.96875 16.5 54.203125 \nQ 16.5 49.359375 19.40625 46.890625 \nQ 22.3125 44.4375 30.421875 42.921875 \nL 36.375 41.703125 \nQ 47.40625 39.59375 52.65625 34.296875 \nQ 57.90625 29 57.90625 20.125 \nQ 57.90625 9.515625 50.796875 4.046875 \nQ 43.703125 -1.421875 29.984375 -1.421875 \nQ 24.8125 -1.421875 18.96875 -0.25 \nQ 13.140625 0.921875 6.890625 3.21875 \nL 6.890625 13.375 \nQ 12.890625 10.015625 18.65625 8.296875 \nQ 24.421875 6.59375 29.984375 6.59375 \nQ 38.421875 6.59375 43.015625 9.90625 \nQ 47.609375 13.234375 47.609375 19.390625 \nQ 47.609375 24.75 44.3125 27.78125 \nQ 41.015625 30.8125 33.5 32.328125 \nL 27.484375 33.5 \nQ 16.453125 35.6875 11.515625 40.375 \nQ 6.59375 45.0625 6.59375 53.421875 \nQ 6.59375 63.09375 13.40625 68.65625 \nQ 20.21875 74.21875 32.171875 74.21875 \nQ 37.3125 74.21875 42.625 73.28125 \nQ 47.953125 72.359375 53.515625 70.515625 \nz\n\" id=\"DejaVuSans-83\"/>\n       <path d=\"M 48.78125 52.59375 \nL 48.78125 44.1875 \nQ 44.96875 46.296875 41.140625 47.34375 \nQ 37.3125 48.390625 33.40625 48.390625 \nQ 24.65625 48.390625 19.8125 42.84375 \nQ 14.984375 37.3125 14.984375 27.296875 \nQ 14.984375 17.28125 19.8125 11.734375 \nQ 24.65625 6.203125 33.40625 6.203125 \nQ 37.3125 6.203125 41.140625 7.25 \nQ 44.96875 8.296875 48.78125 10.40625 \nL 48.78125 2.09375 \nQ 45.015625 0.34375 40.984375 -0.53125 \nQ 36.96875 -1.421875 32.421875 -1.421875 \nQ 20.0625 -1.421875 12.78125 6.34375 \nQ 5.515625 14.109375 5.515625 27.296875 \nQ 5.515625 40.671875 12.859375 48.328125 \nQ 20.21875 56 33.015625 56 \nQ 37.15625 56 41.109375 55.140625 \nQ 45.0625 54.296875 48.78125 52.59375 \nz\n\" id=\"DejaVuSans-99\"/>\n      </defs>\n      <g transform=\"translate(199.803852 313.451689)rotate(-45)scale(0.1 -0.1)\">\n       <use xlink:href=\"#DejaVuSans-83\"/>\n       <use x=\"63.476562\" xlink:href=\"#DejaVuSans-101\"/>\n       <use x=\"125\" xlink:href=\"#DejaVuSans-99\"/>\n       <use x=\"179.980469\" xlink:href=\"#DejaVuSans-111\"/>\n       <use x=\"241.162109\" xlink:href=\"#DejaVuSans-110\"/>\n       <use x=\"304.541016\" xlink:href=\"#DejaVuSans-100\"/>\n       <use x=\"368.017578\" xlink:href=\"#DejaVuSans-32\"/>\n       <use x=\"399.804688\" xlink:href=\"#DejaVuSans-115\"/>\n       <use x=\"451.904297\" xlink:href=\"#DejaVuSans-116\"/>\n       <use x=\"491.113281\" xlink:href=\"#DejaVuSans-117\"/>\n       <use x=\"554.492188\" xlink:href=\"#DejaVuSans-100\"/>\n       <use x=\"617.96875\" xlink:href=\"#DejaVuSans-121\"/>\n      </g>\n      <!-- (10-folds CV) -->\n      <g transform=\"translate(208.642797 320.448842)rotate(-45)scale(0.1 -0.1)\">\n       <use xlink:href=\"#DejaVuSans-40\"/>\n       <use x=\"39.013672\" xlink:href=\"#DejaVuSans-49\"/>\n       <use x=\"102.636719\" xlink:href=\"#DejaVuSans-48\"/>\n       <use x=\"166.259766\" xlink:href=\"#DejaVuSans-45\"/>\n       <use x=\"202.34375\" xlink:href=\"#DejaVuSans-102\"/>\n       <use x=\"237.548828\" xlink:href=\"#DejaVuSans-111\"/>\n       <use x=\"298.730469\" xlink:href=\"#DejaVuSans-108\"/>\n       <use x=\"326.513672\" xlink:href=\"#DejaVuSans-100\"/>\n       <use x=\"389.990234\" xlink:href=\"#DejaVuSans-115\"/>\n       <use x=\"442.089844\" xlink:href=\"#DejaVuSans-32\"/>\n       <use x=\"473.876953\" xlink:href=\"#DejaVuSans-67\"/>\n       <use x=\"543.701172\" xlink:href=\"#DejaVuSans-86\"/>\n       <use x=\"612.109375\" xlink:href=\"#DejaVuSans-41\"/>\n      </g>\n     </g>\n    </g>\n    <g id=\"xtick_4\">\n     <g id=\"line2d_4\">\n      <g>\n       <use style=\"stroke:#000000;stroke-width:0.8;\" x=\"270.393345\" xlink:href=\"#mb226ea548b\" y=\"253.1955\"/>\n      </g>\n     </g>\n     <g id=\"text_4\">\n      <!-- Second study -->\n      <g transform=\"translate(244.443852 331.513848)rotate(-45)scale(0.1 -0.1)\">\n       <use xlink:href=\"#DejaVuSans-83\"/>\n       <use x=\"63.476562\" xlink:href=\"#DejaVuSans-101\"/>\n       <use x=\"125\" xlink:href=\"#DejaVuSans-99\"/>\n       <use x=\"179.980469\" xlink:href=\"#DejaVuSans-111\"/>\n       <use x=\"241.162109\" xlink:href=\"#DejaVuSans-110\"/>\n       <use x=\"304.541016\" xlink:href=\"#DejaVuSans-100\"/>\n       <use x=\"368.017578\" xlink:href=\"#DejaVuSans-32\"/>\n       <use x=\"399.804688\" xlink:href=\"#DejaVuSans-115\"/>\n       <use x=\"451.904297\" xlink:href=\"#DejaVuSans-116\"/>\n       <use x=\"491.113281\" xlink:href=\"#DejaVuSans-117\"/>\n       <use x=\"554.492188\" xlink:href=\"#DejaVuSans-100\"/>\n       <use x=\"617.96875\" xlink:href=\"#DejaVuSans-121\"/>\n      </g>\n      <!-- (30% independent test) -->\n      <g transform=\"translate(234.299742 357.494056)rotate(-45)scale(0.1 -0.1)\">\n       <use xlink:href=\"#DejaVuSans-40\"/>\n       <use x=\"39.013672\" xlink:href=\"#DejaVuSans-51\"/>\n       <use x=\"102.636719\" xlink:href=\"#DejaVuSans-48\"/>\n       <use x=\"166.259766\" xlink:href=\"#DejaVuSans-37\"/>\n       <use x=\"261.279297\" xlink:href=\"#DejaVuSans-32\"/>\n       <use x=\"293.066406\" xlink:href=\"#DejaVuSans-105\"/>\n       <use x=\"320.849609\" xlink:href=\"#DejaVuSans-110\"/>\n       <use x=\"384.228516\" xlink:href=\"#DejaVuSans-100\"/>\n       <use x=\"447.705078\" xlink:href=\"#DejaVuSans-101\"/>\n       <use x=\"509.228516\" xlink:href=\"#DejaVuSans-112\"/>\n       <use x=\"572.705078\" xlink:href=\"#DejaVuSans-101\"/>\n       <use x=\"634.228516\" xlink:href=\"#DejaVuSans-110\"/>\n       <use x=\"697.607422\" xlink:href=\"#DejaVuSans-100\"/>\n       <use x=\"761.083984\" xlink:href=\"#DejaVuSans-101\"/>\n       <use x=\"822.607422\" xlink:href=\"#DejaVuSans-110\"/>\n       <use x=\"885.986328\" xlink:href=\"#DejaVuSans-116\"/>\n       <use x=\"925.195312\" xlink:href=\"#DejaVuSans-32\"/>\n       <use x=\"956.982422\" xlink:href=\"#DejaVuSans-116\"/>\n       <use x=\"996.191406\" xlink:href=\"#DejaVuSans-101\"/>\n       <use x=\"1057.714844\" xlink:href=\"#DejaVuSans-115\"/>\n       <use x=\"1109.814453\" xlink:href=\"#DejaVuSans-116\"/>\n       <use x=\"1149.023438\" xlink:href=\"#DejaVuSans-41\"/>\n      </g>\n     </g>\n    </g>\n    <g id=\"text_5\">\n     <!-- Experiments -->\n     <defs>\n      <path d=\"M 9.8125 72.90625 \nL 55.90625 72.90625 \nL 55.90625 64.59375 \nL 19.671875 64.59375 \nL 19.671875 43.015625 \nL 54.390625 43.015625 \nL 54.390625 34.71875 \nL 19.671875 34.71875 \nL 19.671875 8.296875 \nL 56.78125 8.296875 \nL 56.78125 0 \nL 9.8125 0 \nz\n\" id=\"DejaVuSans-69\"/>\n      <path d=\"M 54.890625 54.6875 \nL 35.109375 28.078125 \nL 55.90625 0 \nL 45.3125 0 \nL 29.390625 21.484375 \nL 13.484375 0 \nL 2.875 0 \nL 24.125 28.609375 \nL 4.6875 54.6875 \nL 15.28125 54.6875 \nL 29.78125 35.203125 \nL 44.28125 54.6875 \nz\n\" id=\"DejaVuSans-120\"/>\n      <path d=\"M 52 44.1875 \nQ 55.375 50.25 60.0625 53.125 \nQ 64.75 56 71.09375 56 \nQ 79.640625 56 84.28125 50.015625 \nQ 88.921875 44.046875 88.921875 33.015625 \nL 88.921875 0 \nL 79.890625 0 \nL 79.890625 32.71875 \nQ 79.890625 40.578125 77.09375 44.375 \nQ 74.3125 48.1875 68.609375 48.1875 \nQ 61.625 48.1875 57.5625 43.546875 \nQ 53.515625 38.921875 53.515625 30.90625 \nL 53.515625 0 \nL 44.484375 0 \nL 44.484375 32.71875 \nQ 44.484375 40.625 41.703125 44.40625 \nQ 38.921875 48.1875 33.109375 48.1875 \nQ 26.21875 48.1875 22.15625 43.53125 \nQ 18.109375 38.875 18.109375 30.90625 \nL 18.109375 0 \nL 9.078125 0 \nL 9.078125 54.6875 \nL 18.109375 54.6875 \nL 18.109375 46.1875 \nQ 21.1875 51.21875 25.484375 53.609375 \nQ 29.78125 56 35.6875 56 \nQ 41.65625 56 45.828125 52.96875 \nQ 50 49.953125 52 44.1875 \nz\n\" id=\"DejaVuSans-109\"/>\n     </defs>\n     <g transform=\"translate(171.938814 370.563055)scale(0.1 -0.1)\">\n      <use xlink:href=\"#DejaVuSans-69\"/>\n      <use x=\"63.183594\" xlink:href=\"#DejaVuSans-120\"/>\n      <use x=\"122.363281\" xlink:href=\"#DejaVuSans-112\"/>\n      <use x=\"185.839844\" xlink:href=\"#DejaVuSans-101\"/>\n      <use x=\"247.363281\" xlink:href=\"#DejaVuSans-114\"/>\n      <use x=\"288.476562\" xlink:href=\"#DejaVuSans-105\"/>\n      <use x=\"316.259766\" xlink:href=\"#DejaVuSans-109\"/>\n      <use x=\"413.671875\" xlink:href=\"#DejaVuSans-101\"/>\n      <use x=\"475.195312\" xlink:href=\"#DejaVuSans-110\"/>\n      <use x=\"538.574219\" xlink:href=\"#DejaVuSans-116\"/>\n      <use x=\"577.783203\" xlink:href=\"#DejaVuSans-115\"/>\n     </g>\n    </g>\n   </g>\n   <g id=\"matplotlib.axis_2\">\n    <g id=\"ytick_1\">\n     <g id=\"line2d_5\">\n      <defs>\n       <path d=\"M 0 0 \nL -3.5 0 \n\" id=\"m704edf0942\" style=\"stroke:#000000;stroke-width:0.8;\"/>\n      </defs>\n      <g>\n       <use style=\"stroke:#000000;stroke-width:0.8;\" x=\"114.153345\" xlink:href=\"#m704edf0942\" y=\"57.4995\"/>\n      </g>\n     </g>\n     <g id=\"text_6\">\n      <!-- DELFI -->\n      <defs>\n       <path d=\"M 19.671875 64.796875 \nL 19.671875 8.109375 \nL 31.59375 8.109375 \nQ 46.6875 8.109375 53.6875 14.9375 \nQ 60.6875 21.78125 60.6875 36.53125 \nQ 60.6875 51.171875 53.6875 57.984375 \nQ 46.6875 64.796875 31.59375 64.796875 \nz\nM 9.8125 72.90625 \nL 30.078125 72.90625 \nQ 51.265625 72.90625 61.171875 64.09375 \nQ 71.09375 55.28125 71.09375 36.53125 \nQ 71.09375 17.671875 61.125 8.828125 \nQ 51.171875 0 30.078125 0 \nL 9.8125 0 \nz\n\" id=\"DejaVuSans-68\"/>\n       <path d=\"M 9.8125 72.90625 \nL 19.671875 72.90625 \nL 19.671875 8.296875 \nL 55.171875 8.296875 \nL 55.171875 0 \nL 9.8125 0 \nz\n\" id=\"DejaVuSans-76\"/>\n       <path d=\"M 9.8125 72.90625 \nL 19.671875 72.90625 \nL 19.671875 0 \nL 9.8125 0 \nz\n\" id=\"DejaVuSans-73\"/>\n      </defs>\n      <g transform=\"translate(81.611748 66.962236)rotate(-30)scale(0.1 -0.1)\">\n       <use xlink:href=\"#DejaVuSans-68\"/>\n       <use x=\"77.001953\" xlink:href=\"#DejaVuSans-69\"/>\n       <use x=\"140.185547\" xlink:href=\"#DejaVuSans-76\"/>\n       <use x=\"195.898438\" xlink:href=\"#DejaVuSans-70\"/>\n       <use x=\"253.417969\" xlink:href=\"#DejaVuSans-73\"/>\n      </g>\n     </g>\n    </g>\n    <g id=\"ytick_2\">\n     <g id=\"line2d_6\">\n      <g>\n       <use style=\"stroke:#000000;stroke-width:0.8;\" x=\"114.153345\" xlink:href=\"#m704edf0942\" y=\"100.9875\"/>\n      </g>\n     </g>\n     <g id=\"text_7\">\n      <!-- CancerSEEK -->\n      <defs>\n       <path d=\"M 34.28125 27.484375 \nQ 23.390625 27.484375 19.1875 25 \nQ 14.984375 22.515625 14.984375 16.5 \nQ 14.984375 11.71875 18.140625 8.90625 \nQ 21.296875 6.109375 26.703125 6.109375 \nQ 34.1875 6.109375 38.703125 11.40625 \nQ 43.21875 16.703125 43.21875 25.484375 \nL 43.21875 27.484375 \nz\nM 52.203125 31.203125 \nL 52.203125 0 \nL 43.21875 0 \nL 43.21875 8.296875 \nQ 40.140625 3.328125 35.546875 0.953125 \nQ 30.953125 -1.421875 24.3125 -1.421875 \nQ 15.921875 -1.421875 10.953125 3.296875 \nQ 6 8.015625 6 15.921875 \nQ 6 25.140625 12.171875 29.828125 \nQ 18.359375 34.515625 30.609375 34.515625 \nL 43.21875 34.515625 \nL 43.21875 35.40625 \nQ 43.21875 41.609375 39.140625 45 \nQ 35.0625 48.390625 27.6875 48.390625 \nQ 23 48.390625 18.546875 47.265625 \nQ 14.109375 46.140625 10.015625 43.890625 \nL 10.015625 52.203125 \nQ 14.9375 54.109375 19.578125 55.046875 \nQ 24.21875 56 28.609375 56 \nQ 40.484375 56 46.34375 49.84375 \nQ 52.203125 43.703125 52.203125 31.203125 \nz\n\" id=\"DejaVuSans-97\"/>\n       <path d=\"M 9.8125 72.90625 \nL 19.671875 72.90625 \nL 19.671875 42.09375 \nL 52.390625 72.90625 \nL 65.09375 72.90625 \nL 28.90625 38.921875 \nL 67.671875 0 \nL 54.6875 0 \nL 19.671875 35.109375 \nL 19.671875 0 \nL 9.8125 0 \nz\n\" id=\"DejaVuSans-75\"/>\n      </defs>\n      <g transform=\"translate(53.498399 118.565861)rotate(-30)scale(0.1 -0.1)\">\n       <use xlink:href=\"#DejaVuSans-67\"/>\n       <use x=\"69.824219\" xlink:href=\"#DejaVuSans-97\"/>\n       <use x=\"131.103516\" xlink:href=\"#DejaVuSans-110\"/>\n       <use x=\"194.482422\" xlink:href=\"#DejaVuSans-99\"/>\n       <use x=\"249.462891\" xlink:href=\"#DejaVuSans-101\"/>\n       <use x=\"310.986328\" xlink:href=\"#DejaVuSans-114\"/>\n       <use x=\"352.099609\" xlink:href=\"#DejaVuSans-83\"/>\n       <use x=\"415.576172\" xlink:href=\"#DejaVuSans-69\"/>\n       <use x=\"478.759766\" xlink:href=\"#DejaVuSans-69\"/>\n       <use x=\"541.943359\" xlink:href=\"#DejaVuSans-75\"/>\n      </g>\n     </g>\n    </g>\n    <g id=\"ytick_3\">\n     <g id=\"line2d_7\">\n      <g>\n       <use style=\"stroke:#000000;stroke-width:0.8;\" x=\"114.153345\" xlink:href=\"#m704edf0942\" y=\"144.4755\"/>\n      </g>\n     </g>\n     <g id=\"text_8\">\n      <!-- ASVM -->\n      <defs>\n       <path d=\"M 34.1875 63.1875 \nL 20.796875 26.90625 \nL 47.609375 26.90625 \nz\nM 28.609375 72.90625 \nL 39.796875 72.90625 \nL 67.578125 0 \nL 57.328125 0 \nL 50.6875 18.703125 \nL 17.828125 18.703125 \nL 11.1875 0 \nL 0.78125 0 \nz\n\" id=\"DejaVuSans-65\"/>\n       <path d=\"M 9.8125 72.90625 \nL 24.515625 72.90625 \nL 43.109375 23.296875 \nL 61.8125 72.90625 \nL 76.515625 72.90625 \nL 76.515625 0 \nL 66.890625 0 \nL 66.890625 64.015625 \nL 48.09375 14.015625 \nL 38.1875 14.015625 \nL 19.390625 64.015625 \nL 19.390625 0 \nL 9.8125 0 \nz\n\" id=\"DejaVuSans-77\"/>\n      </defs>\n      <g transform=\"translate(81.295108 154.029642)rotate(-30)scale(0.1 -0.1)\">\n       <use xlink:href=\"#DejaVuSans-65\"/>\n       <use x=\"68.408203\" xlink:href=\"#DejaVuSans-83\"/>\n       <use x=\"131.884766\" xlink:href=\"#DejaVuSans-86\"/>\n       <use x=\"200.292969\" xlink:href=\"#DejaVuSans-77\"/>\n      </g>\n     </g>\n    </g>\n    <g id=\"ytick_4\">\n     <g id=\"line2d_8\">\n      <g>\n       <use style=\"stroke:#000000;stroke-width:0.8;\" x=\"114.153345\" xlink:href=\"#m704edf0942\" y=\"187.9635\"/>\n      </g>\n     </g>\n     <g id=\"text_9\">\n      <!-- CancerEMC -->\n      <g transform=\"translate(56.628268 204.638345)rotate(-30)scale(0.1 -0.1)\">\n       <use xlink:href=\"#DejaVuSans-67\"/>\n       <use x=\"69.824219\" xlink:href=\"#DejaVuSans-97\"/>\n       <use x=\"131.103516\" xlink:href=\"#DejaVuSans-110\"/>\n       <use x=\"194.482422\" xlink:href=\"#DejaVuSans-99\"/>\n       <use x=\"249.462891\" xlink:href=\"#DejaVuSans-101\"/>\n       <use x=\"310.986328\" xlink:href=\"#DejaVuSans-114\"/>\n       <use x=\"352.099609\" xlink:href=\"#DejaVuSans-69\"/>\n       <use x=\"415.283203\" xlink:href=\"#DejaVuSans-77\"/>\n       <use x=\"501.5625\" xlink:href=\"#DejaVuSans-67\"/>\n      </g>\n     </g>\n    </g>\n    <g id=\"ytick_5\">\n     <g id=\"line2d_9\">\n      <g>\n       <use style=\"stroke:#000000;stroke-width:0.8;\" x=\"114.153345\" xlink:href=\"#m704edf0942\" y=\"231.4515\"/>\n      </g>\n     </g>\n     <g id=\"text_10\">\n      <!-- BiDiEarlyCancerDF -->\n      <defs>\n       <path d=\"M 19.671875 34.8125 \nL 19.671875 8.109375 \nL 35.5 8.109375 \nQ 43.453125 8.109375 47.28125 11.40625 \nQ 51.125 14.703125 51.125 21.484375 \nQ 51.125 28.328125 47.28125 31.5625 \nQ 43.453125 34.8125 35.5 34.8125 \nz\nM 19.671875 64.796875 \nL 19.671875 42.828125 \nL 34.28125 42.828125 \nQ 41.5 42.828125 45.03125 45.53125 \nQ 48.578125 48.25 48.578125 53.8125 \nQ 48.578125 59.328125 45.03125 62.0625 \nQ 41.5 64.796875 34.28125 64.796875 \nz\nM 9.8125 72.90625 \nL 35.015625 72.90625 \nQ 46.296875 72.90625 52.390625 68.21875 \nQ 58.5 63.53125 58.5 54.890625 \nQ 58.5 48.1875 55.375 44.234375 \nQ 52.25 40.28125 46.1875 39.3125 \nQ 53.46875 37.75 57.5 32.78125 \nQ 61.53125 27.828125 61.53125 20.40625 \nQ 61.53125 10.640625 54.890625 5.3125 \nQ 48.25 0 35.984375 0 \nL 9.8125 0 \nz\n\" id=\"DejaVuSans-66\"/>\n      </defs>\n      <g transform=\"translate(24.677344 257.349783)rotate(-30)scale(0.1 -0.1)\">\n       <use xlink:href=\"#DejaVuSans-66\"/>\n       <use x=\"68.603516\" xlink:href=\"#DejaVuSans-105\"/>\n       <use x=\"96.386719\" xlink:href=\"#DejaVuSans-68\"/>\n       <use x=\"173.388672\" xlink:href=\"#DejaVuSans-105\"/>\n       <use x=\"201.171875\" xlink:href=\"#DejaVuSans-69\"/>\n       <use x=\"264.355469\" xlink:href=\"#DejaVuSans-97\"/>\n       <use x=\"325.634766\" xlink:href=\"#DejaVuSans-114\"/>\n       <use x=\"366.748047\" xlink:href=\"#DejaVuSans-108\"/>\n       <use x=\"394.53125\" xlink:href=\"#DejaVuSans-121\"/>\n       <use x=\"453.710938\" xlink:href=\"#DejaVuSans-67\"/>\n       <use x=\"523.535156\" xlink:href=\"#DejaVuSans-97\"/>\n       <use x=\"584.814453\" xlink:href=\"#DejaVuSans-110\"/>\n       <use x=\"648.193359\" xlink:href=\"#DejaVuSans-99\"/>\n       <use x=\"703.173828\" xlink:href=\"#DejaVuSans-101\"/>\n       <use x=\"764.697266\" xlink:href=\"#DejaVuSans-114\"/>\n       <use x=\"805.810547\" xlink:href=\"#DejaVuSans-68\"/>\n       <use x=\"882.8125\" xlink:href=\"#DejaVuSans-70\"/>\n      </g>\n     </g>\n    </g>\n    <g id=\"text_11\">\n     <!-- Methods -->\n     <defs>\n      <path d=\"M 54.890625 33.015625 \nL 54.890625 0 \nL 45.90625 0 \nL 45.90625 32.71875 \nQ 45.90625 40.484375 42.875 44.328125 \nQ 39.84375 48.1875 33.796875 48.1875 \nQ 26.515625 48.1875 22.3125 43.546875 \nQ 18.109375 38.921875 18.109375 30.90625 \nL 18.109375 0 \nL 9.078125 0 \nL 9.078125 75.984375 \nL 18.109375 75.984375 \nL 18.109375 46.1875 \nQ 21.34375 51.125 25.703125 53.5625 \nQ 30.078125 56 35.796875 56 \nQ 45.21875 56 50.046875 50.171875 \nQ 54.890625 44.34375 54.890625 33.015625 \nz\n\" id=\"DejaVuSans-104\"/>\n     </defs>\n     <g transform=\"translate(14.798438 165.833312)rotate(-90)scale(0.1 -0.1)\">\n      <use xlink:href=\"#DejaVuSans-77\"/>\n      <use x=\"86.279297\" xlink:href=\"#DejaVuSans-101\"/>\n      <use x=\"147.802734\" xlink:href=\"#DejaVuSans-116\"/>\n      <use x=\"187.011719\" xlink:href=\"#DejaVuSans-104\"/>\n      <use x=\"250.390625\" xlink:href=\"#DejaVuSans-111\"/>\n      <use x=\"311.572266\" xlink:href=\"#DejaVuSans-100\"/>\n      <use x=\"375.048828\" xlink:href=\"#DejaVuSans-115\"/>\n     </g>\n    </g>\n   </g>\n   <g id=\"text_12\">\n    <!--    61 -->\n    <defs>\n     <path d=\"M 33.015625 40.375 \nQ 26.375 40.375 22.484375 35.828125 \nQ 18.609375 31.296875 18.609375 23.390625 \nQ 18.609375 15.53125 22.484375 10.953125 \nQ 26.375 6.390625 33.015625 6.390625 \nQ 39.65625 6.390625 43.53125 10.953125 \nQ 47.40625 15.53125 47.40625 23.390625 \nQ 47.40625 31.296875 43.53125 35.828125 \nQ 39.65625 40.375 33.015625 40.375 \nz\nM 52.59375 71.296875 \nL 52.59375 62.3125 \nQ 48.875 64.0625 45.09375 64.984375 \nQ 41.3125 65.921875 37.59375 65.921875 \nQ 27.828125 65.921875 22.671875 59.328125 \nQ 17.53125 52.734375 16.796875 39.40625 \nQ 19.671875 43.65625 24.015625 45.921875 \nQ 28.375 48.1875 33.59375 48.1875 \nQ 44.578125 48.1875 50.953125 41.515625 \nQ 57.328125 34.859375 57.328125 23.390625 \nQ 57.328125 12.15625 50.6875 5.359375 \nQ 44.046875 -1.421875 33.015625 -1.421875 \nQ 20.359375 -1.421875 13.671875 8.265625 \nQ 6.984375 17.96875 6.984375 36.375 \nQ 6.984375 53.65625 15.1875 63.9375 \nQ 23.390625 74.21875 37.203125 74.21875 \nQ 40.921875 74.21875 44.703125 73.484375 \nQ 48.484375 72.75 52.59375 71.296875 \nz\n\" id=\"DejaVuSans-54\"/>\n    </defs>\n    <g style=\"fill:#ffffff;\" transform=\"translate(125.343658 60.258875)scale(0.1 -0.1)\">\n     <use xlink:href=\"#DejaVuSans-32\"/>\n     <use x=\"31.787109\" xlink:href=\"#DejaVuSans-32\"/>\n     <use x=\"63.574219\" xlink:href=\"#DejaVuSans-32\"/>\n     <use x=\"95.361328\" xlink:href=\"#DejaVuSans-54\"/>\n     <use x=\"158.984375\" xlink:href=\"#DejaVuSans-49\"/>\n    </g>\n   </g>\n   <g id=\"text_13\">\n    <!--     0 -->\n    <g style=\"fill:#ffffff;\" transform=\"translate(171.575845 60.258875)scale(0.1 -0.1)\">\n     <use xlink:href=\"#DejaVuSans-32\"/>\n     <use x=\"31.787109\" xlink:href=\"#DejaVuSans-32\"/>\n     <use x=\"63.574219\" xlink:href=\"#DejaVuSans-32\"/>\n     <use x=\"95.361328\" xlink:href=\"#DejaVuSans-32\"/>\n     <use x=\"127.148438\" xlink:href=\"#DejaVuSans-48\"/>\n    </g>\n   </g>\n   <g id=\"text_14\">\n    <!--  65.2 -->\n    <defs>\n     <path d=\"M 10.796875 72.90625 \nL 49.515625 72.90625 \nL 49.515625 64.59375 \nL 19.828125 64.59375 \nL 19.828125 46.734375 \nQ 21.96875 47.46875 24.109375 47.828125 \nQ 26.265625 48.1875 28.421875 48.1875 \nQ 40.625 48.1875 47.75 41.5 \nQ 54.890625 34.8125 54.890625 23.390625 \nQ 54.890625 11.625 47.5625 5.09375 \nQ 40.234375 -1.421875 26.90625 -1.421875 \nQ 22.3125 -1.421875 17.546875 -0.640625 \nQ 12.796875 0.140625 7.71875 1.703125 \nL 7.71875 11.625 \nQ 12.109375 9.234375 16.796875 8.0625 \nQ 21.484375 6.890625 26.703125 6.890625 \nQ 35.15625 6.890625 40.078125 11.328125 \nQ 45.015625 15.765625 45.015625 23.390625 \nQ 45.015625 31 40.078125 35.4375 \nQ 35.15625 39.890625 26.703125 39.890625 \nQ 22.75 39.890625 18.8125 39.015625 \nQ 14.890625 38.140625 10.796875 36.28125 \nz\n\" id=\"DejaVuSans-53\"/>\n     <path d=\"M 10.6875 12.40625 \nL 21 12.40625 \nL 21 0 \nL 10.6875 0 \nz\n\" id=\"DejaVuSans-46\"/>\n     <path d=\"M 19.1875 8.296875 \nL 53.609375 8.296875 \nL 53.609375 0 \nL 7.328125 0 \nL 7.328125 8.296875 \nQ 12.9375 14.109375 22.625 23.890625 \nQ 32.328125 33.6875 34.8125 36.53125 \nQ 39.546875 41.84375 41.421875 45.53125 \nQ 43.3125 49.21875 43.3125 52.78125 \nQ 43.3125 58.59375 39.234375 62.25 \nQ 35.15625 65.921875 28.609375 65.921875 \nQ 23.96875 65.921875 18.8125 64.3125 \nQ 13.671875 62.703125 7.8125 59.421875 \nL 7.8125 69.390625 \nQ 13.765625 71.78125 18.9375 73 \nQ 24.125 74.21875 28.421875 74.21875 \nQ 39.75 74.21875 46.484375 68.546875 \nQ 53.21875 62.890625 53.21875 53.421875 \nQ 53.21875 48.921875 51.53125 44.890625 \nQ 49.859375 40.875 45.40625 35.40625 \nQ 44.1875 33.984375 37.640625 27.21875 \nQ 31.109375 20.453125 19.1875 8.296875 \nz\n\" id=\"DejaVuSans-50\"/>\n    </defs>\n    <g style=\"fill:#ffffff;\" transform=\"translate(213.03147 60.258875)scale(0.1 -0.1)\">\n     <use xlink:href=\"#DejaVuSans-32\"/>\n     <use x=\"31.787109\" xlink:href=\"#DejaVuSans-54\"/>\n     <use x=\"95.410156\" xlink:href=\"#DejaVuSans-53\"/>\n     <use x=\"159.033203\" xlink:href=\"#DejaVuSans-46\"/>\n     <use x=\"190.820312\" xlink:href=\"#DejaVuSans-50\"/>\n    </g>\n   </g>\n   <g id=\"text_15\">\n    <!--  69.2 -->\n    <defs>\n     <path d=\"M 10.984375 1.515625 \nL 10.984375 10.5 \nQ 14.703125 8.734375 18.5 7.8125 \nQ 22.3125 6.890625 25.984375 6.890625 \nQ 35.75 6.890625 40.890625 13.453125 \nQ 46.046875 20.015625 46.78125 33.40625 \nQ 43.953125 29.203125 39.59375 26.953125 \nQ 35.25 24.703125 29.984375 24.703125 \nQ 19.046875 24.703125 12.671875 31.3125 \nQ 6.296875 37.9375 6.296875 49.421875 \nQ 6.296875 60.640625 12.9375 67.421875 \nQ 19.578125 74.21875 30.609375 74.21875 \nQ 43.265625 74.21875 49.921875 64.515625 \nQ 56.59375 54.828125 56.59375 36.375 \nQ 56.59375 19.140625 48.40625 8.859375 \nQ 40.234375 -1.421875 26.421875 -1.421875 \nQ 22.703125 -1.421875 18.890625 -0.6875 \nQ 15.09375 0.046875 10.984375 1.515625 \nz\nM 30.609375 32.421875 \nQ 37.25 32.421875 41.125 36.953125 \nQ 45.015625 41.5 45.015625 49.421875 \nQ 45.015625 57.28125 41.125 61.84375 \nQ 37.25 66.40625 30.609375 66.40625 \nQ 23.96875 66.40625 20.09375 61.84375 \nQ 16.21875 57.28125 16.21875 49.421875 \nQ 16.21875 41.5 20.09375 36.953125 \nQ 23.96875 32.421875 30.609375 32.421875 \nz\n\" id=\"DejaVuSans-57\"/>\n    </defs>\n    <g style=\"fill:#262626;\" transform=\"translate(257.67147 60.258875)scale(0.1 -0.1)\">\n     <use xlink:href=\"#DejaVuSans-32\"/>\n     <use x=\"31.787109\" xlink:href=\"#DejaVuSans-54\"/>\n     <use x=\"95.410156\" xlink:href=\"#DejaVuSans-57\"/>\n     <use x=\"159.033203\" xlink:href=\"#DejaVuSans-46\"/>\n     <use x=\"190.820312\" xlink:href=\"#DejaVuSans-50\"/>\n    </g>\n   </g>\n   <g id=\"text_16\">\n    <!--    56 -->\n    <g style=\"fill:#ffffff;\" transform=\"translate(125.343658 103.746875)scale(0.1 -0.1)\">\n     <use xlink:href=\"#DejaVuSans-32\"/>\n     <use x=\"31.787109\" xlink:href=\"#DejaVuSans-32\"/>\n     <use x=\"63.574219\" xlink:href=\"#DejaVuSans-32\"/>\n     <use x=\"95.361328\" xlink:href=\"#DejaVuSans-53\"/>\n     <use x=\"158.984375\" xlink:href=\"#DejaVuSans-54\"/>\n    </g>\n   </g>\n   <g id=\"text_17\">\n    <!--  65.5 -->\n    <g style=\"fill:#ffffff;\" transform=\"translate(168.39147 103.746875)scale(0.1 -0.1)\">\n     <use xlink:href=\"#DejaVuSans-32\"/>\n     <use x=\"31.787109\" xlink:href=\"#DejaVuSans-54\"/>\n     <use x=\"95.410156\" xlink:href=\"#DejaVuSans-53\"/>\n     <use x=\"159.033203\" xlink:href=\"#DejaVuSans-46\"/>\n     <use x=\"190.820312\" xlink:href=\"#DejaVuSans-53\"/>\n    </g>\n   </g>\n   <g id=\"text_18\">\n    <!--  62.3 -->\n    <g style=\"fill:#ffffff;\" transform=\"translate(213.03147 103.746875)scale(0.1 -0.1)\">\n     <use xlink:href=\"#DejaVuSans-32\"/>\n     <use x=\"31.787109\" xlink:href=\"#DejaVuSans-54\"/>\n     <use x=\"95.410156\" xlink:href=\"#DejaVuSans-50\"/>\n     <use x=\"159.033203\" xlink:href=\"#DejaVuSans-46\"/>\n     <use x=\"190.820312\" xlink:href=\"#DejaVuSans-51\"/>\n    </g>\n   </g>\n   <g id=\"text_19\">\n    <!--     0 -->\n    <g style=\"fill:#ffffff;\" transform=\"translate(260.855845 103.746875)scale(0.1 -0.1)\">\n     <use xlink:href=\"#DejaVuSans-32\"/>\n     <use x=\"31.787109\" xlink:href=\"#DejaVuSans-32\"/>\n     <use x=\"63.574219\" xlink:href=\"#DejaVuSans-32\"/>\n     <use x=\"95.361328\" xlink:href=\"#DejaVuSans-32\"/>\n     <use x=\"127.148438\" xlink:href=\"#DejaVuSans-48\"/>\n    </g>\n   </g>\n   <g id=\"text_20\">\n    <!--  81.5 -->\n    <defs>\n     <path d=\"M 31.78125 34.625 \nQ 24.75 34.625 20.71875 30.859375 \nQ 16.703125 27.09375 16.703125 20.515625 \nQ 16.703125 13.921875 20.71875 10.15625 \nQ 24.75 6.390625 31.78125 6.390625 \nQ 38.8125 6.390625 42.859375 10.171875 \nQ 46.921875 13.96875 46.921875 20.515625 \nQ 46.921875 27.09375 42.890625 30.859375 \nQ 38.875 34.625 31.78125 34.625 \nz\nM 21.921875 38.8125 \nQ 15.578125 40.375 12.03125 44.71875 \nQ 8.5 49.078125 8.5 55.328125 \nQ 8.5 64.0625 14.71875 69.140625 \nQ 20.953125 74.21875 31.78125 74.21875 \nQ 42.671875 74.21875 48.875 69.140625 \nQ 55.078125 64.0625 55.078125 55.328125 \nQ 55.078125 49.078125 51.53125 44.71875 \nQ 48 40.375 41.703125 38.8125 \nQ 48.828125 37.15625 52.796875 32.3125 \nQ 56.78125 27.484375 56.78125 20.515625 \nQ 56.78125 9.90625 50.3125 4.234375 \nQ 43.84375 -1.421875 31.78125 -1.421875 \nQ 19.734375 -1.421875 13.25 4.234375 \nQ 6.78125 9.90625 6.78125 20.515625 \nQ 6.78125 27.484375 10.78125 32.3125 \nQ 14.796875 37.15625 21.921875 38.8125 \nz\nM 18.3125 54.390625 \nQ 18.3125 48.734375 21.84375 45.5625 \nQ 25.390625 42.390625 31.78125 42.390625 \nQ 38.140625 42.390625 41.71875 45.5625 \nQ 45.3125 48.734375 45.3125 54.390625 \nQ 45.3125 60.0625 41.71875 63.234375 \nQ 38.140625 66.40625 31.78125 66.40625 \nQ 25.390625 66.40625 21.84375 63.234375 \nQ 18.3125 60.0625 18.3125 54.390625 \nz\n\" id=\"DejaVuSans-56\"/>\n    </defs>\n    <g style=\"fill:#262626;\" transform=\"translate(123.75147 147.234875)scale(0.1 -0.1)\">\n     <use xlink:href=\"#DejaVuSans-32\"/>\n     <use x=\"31.787109\" xlink:href=\"#DejaVuSans-56\"/>\n     <use x=\"95.410156\" xlink:href=\"#DejaVuSans-49\"/>\n     <use x=\"159.033203\" xlink:href=\"#DejaVuSans-46\"/>\n     <use x=\"190.820312\" xlink:href=\"#DejaVuSans-53\"/>\n    </g>\n   </g>\n   <g id=\"text_21\">\n    <!--     0 -->\n    <g style=\"fill:#ffffff;\" transform=\"translate(171.575845 147.234875)scale(0.1 -0.1)\">\n     <use xlink:href=\"#DejaVuSans-32\"/>\n     <use x=\"31.787109\" xlink:href=\"#DejaVuSans-32\"/>\n     <use x=\"63.574219\" xlink:href=\"#DejaVuSans-32\"/>\n     <use x=\"95.361328\" xlink:href=\"#DejaVuSans-32\"/>\n     <use x=\"127.148438\" xlink:href=\"#DejaVuSans-48\"/>\n    </g>\n   </g>\n   <g id=\"text_22\">\n    <!--  68.3 -->\n    <g style=\"fill:#262626;\" transform=\"translate(213.03147 147.234875)scale(0.1 -0.1)\">\n     <use xlink:href=\"#DejaVuSans-32\"/>\n     <use x=\"31.787109\" xlink:href=\"#DejaVuSans-54\"/>\n     <use x=\"95.410156\" xlink:href=\"#DejaVuSans-56\"/>\n     <use x=\"159.033203\" xlink:href=\"#DejaVuSans-46\"/>\n     <use x=\"190.820312\" xlink:href=\"#DejaVuSans-51\"/>\n    </g>\n   </g>\n   <g id=\"text_23\">\n    <!--  66.6 -->\n    <g style=\"fill:#ffffff;\" transform=\"translate(257.67147 147.234875)scale(0.1 -0.1)\">\n     <use xlink:href=\"#DejaVuSans-32\"/>\n     <use x=\"31.787109\" xlink:href=\"#DejaVuSans-54\"/>\n     <use x=\"95.410156\" xlink:href=\"#DejaVuSans-54\"/>\n     <use x=\"159.033203\" xlink:href=\"#DejaVuSans-46\"/>\n     <use x=\"190.820312\" xlink:href=\"#DejaVuSans-54\"/>\n    </g>\n   </g>\n   <g id=\"text_24\">\n    <!--    78 -->\n    <defs>\n     <path d=\"M 8.203125 72.90625 \nL 55.078125 72.90625 \nL 55.078125 68.703125 \nL 28.609375 0 \nL 18.3125 0 \nL 43.21875 64.59375 \nL 8.203125 64.59375 \nz\n\" id=\"DejaVuSans-55\"/>\n    </defs>\n    <g style=\"fill:#262626;\" transform=\"translate(125.343658 190.722875)scale(0.1 -0.1)\">\n     <use xlink:href=\"#DejaVuSans-32\"/>\n     <use x=\"31.787109\" xlink:href=\"#DejaVuSans-32\"/>\n     <use x=\"63.574219\" xlink:href=\"#DejaVuSans-32\"/>\n     <use x=\"95.361328\" xlink:href=\"#DejaVuSans-55\"/>\n     <use x=\"158.984375\" xlink:href=\"#DejaVuSans-56\"/>\n    </g>\n   </g>\n   <g id=\"text_25\">\n    <!--  75.2 -->\n    <g style=\"fill:#262626;\" transform=\"translate(168.39147 190.722875)scale(0.1 -0.1)\">\n     <use xlink:href=\"#DejaVuSans-32\"/>\n     <use x=\"31.787109\" xlink:href=\"#DejaVuSans-55\"/>\n     <use x=\"95.410156\" xlink:href=\"#DejaVuSans-53\"/>\n     <use x=\"159.033203\" xlink:href=\"#DejaVuSans-46\"/>\n     <use x=\"190.820312\" xlink:href=\"#DejaVuSans-50\"/>\n    </g>\n   </g>\n   <g id=\"text_26\">\n    <!--  91.5 -->\n    <g style=\"fill:#ffffff;\" transform=\"translate(213.03147 190.722875)scale(0.1 -0.1)\">\n     <use xlink:href=\"#DejaVuSans-32\"/>\n     <use x=\"31.787109\" xlink:href=\"#DejaVuSans-57\"/>\n     <use x=\"95.410156\" xlink:href=\"#DejaVuSans-49\"/>\n     <use x=\"159.033203\" xlink:href=\"#DejaVuSans-46\"/>\n     <use x=\"190.820312\" xlink:href=\"#DejaVuSans-53\"/>\n    </g>\n   </g>\n   <g id=\"text_27\">\n    <!--  92.4 -->\n    <defs>\n     <path d=\"M 37.796875 64.3125 \nL 12.890625 25.390625 \nL 37.796875 25.390625 \nz\nM 35.203125 72.90625 \nL 47.609375 72.90625 \nL 47.609375 25.390625 \nL 58.015625 25.390625 \nL 58.015625 17.1875 \nL 47.609375 17.1875 \nL 47.609375 0 \nL 37.796875 0 \nL 37.796875 17.1875 \nL 4.890625 17.1875 \nL 4.890625 26.703125 \nz\n\" id=\"DejaVuSans-52\"/>\n    </defs>\n    <g style=\"fill:#ffffff;\" transform=\"translate(257.67147 190.722875)scale(0.1 -0.1)\">\n     <use xlink:href=\"#DejaVuSans-32\"/>\n     <use x=\"31.787109\" xlink:href=\"#DejaVuSans-57\"/>\n     <use x=\"95.410156\" xlink:href=\"#DejaVuSans-50\"/>\n     <use x=\"159.033203\" xlink:href=\"#DejaVuSans-46\"/>\n     <use x=\"190.820312\" xlink:href=\"#DejaVuSans-52\"/>\n    </g>\n   </g>\n   <g id=\"text_28\">\n    <!--  85.2 -->\n    <g style=\"fill:#262626;\" transform=\"translate(123.75147 234.210875)scale(0.1 -0.1)\">\n     <use xlink:href=\"#DejaVuSans-32\"/>\n     <use x=\"31.787109\" xlink:href=\"#DejaVuSans-56\"/>\n     <use x=\"95.410156\" xlink:href=\"#DejaVuSans-53\"/>\n     <use x=\"159.033203\" xlink:href=\"#DejaVuSans-46\"/>\n     <use x=\"190.820312\" xlink:href=\"#DejaVuSans-50\"/>\n    </g>\n   </g>\n   <g id=\"text_29\">\n    <!--  86.8 -->\n    <g style=\"fill:#ffffff;\" transform=\"translate(168.39147 234.210875)scale(0.1 -0.1)\">\n     <use xlink:href=\"#DejaVuSans-32\"/>\n     <use x=\"31.787109\" xlink:href=\"#DejaVuSans-56\"/>\n     <use x=\"95.410156\" xlink:href=\"#DejaVuSans-54\"/>\n     <use x=\"159.033203\" xlink:href=\"#DejaVuSans-46\"/>\n     <use x=\"190.820312\" xlink:href=\"#DejaVuSans-56\"/>\n    </g>\n   </g>\n   <g id=\"text_30\">\n    <!--  94.8 -->\n    <g style=\"fill:#ffffff;\" transform=\"translate(213.03147 234.210875)scale(0.1 -0.1)\">\n     <use xlink:href=\"#DejaVuSans-32\"/>\n     <use x=\"31.787109\" xlink:href=\"#DejaVuSans-57\"/>\n     <use x=\"95.410156\" xlink:href=\"#DejaVuSans-52\"/>\n     <use x=\"159.033203\" xlink:href=\"#DejaVuSans-46\"/>\n     <use x=\"190.820312\" xlink:href=\"#DejaVuSans-56\"/>\n    </g>\n   </g>\n   <g id=\"text_31\">\n    <!--  93.8 -->\n    <g style=\"fill:#ffffff;\" transform=\"translate(257.67147 234.210875)scale(0.1 -0.1)\">\n     <use xlink:href=\"#DejaVuSans-32\"/>\n     <use x=\"31.787109\" xlink:href=\"#DejaVuSans-57\"/>\n     <use x=\"95.410156\" xlink:href=\"#DejaVuSans-51\"/>\n     <use x=\"159.033203\" xlink:href=\"#DejaVuSans-46\"/>\n     <use x=\"190.820312\" xlink:href=\"#DejaVuSans-56\"/>\n    </g>\n   </g>\n   <g id=\"text_32\">\n    <!-- Median Accuracies for -->\n    <defs>\n     <path d=\"M 9.1875 72.90625 \nL 33.109375 72.90625 \nL 49.703125 33.890625 \nL 66.40625 72.90625 \nL 90.28125 72.90625 \nL 90.28125 0 \nL 72.515625 0 \nL 72.515625 53.328125 \nL 55.71875 14.015625 \nL 43.796875 14.015625 \nL 27 53.328125 \nL 27 0 \nL 9.1875 0 \nz\n\" id=\"DejaVuSans-Bold-77\"/>\n     <path d=\"M 62.984375 27.484375 \nL 62.984375 22.515625 \nL 22.125 22.515625 \nQ 22.75 16.359375 26.5625 13.28125 \nQ 30.375 10.203125 37.203125 10.203125 \nQ 42.71875 10.203125 48.5 11.84375 \nQ 54.296875 13.484375 60.40625 16.796875 \nL 60.40625 3.328125 \nQ 54.203125 0.984375 48 -0.21875 \nQ 41.796875 -1.421875 35.59375 -1.421875 \nQ 20.75 -1.421875 12.515625 6.125 \nQ 4.296875 13.671875 4.296875 27.296875 \nQ 4.296875 40.671875 12.375 48.328125 \nQ 20.453125 56 34.625 56 \nQ 47.515625 56 55.25 48.234375 \nQ 62.984375 40.484375 62.984375 27.484375 \nz\nM 45.015625 33.296875 \nQ 45.015625 38.28125 42.109375 41.328125 \nQ 39.203125 44.390625 34.515625 44.390625 \nQ 29.4375 44.390625 26.265625 41.53125 \nQ 23.09375 38.671875 22.3125 33.296875 \nz\n\" id=\"DejaVuSans-Bold-101\"/>\n     <path d=\"M 45.609375 46.6875 \nL 45.609375 75.984375 \nL 63.1875 75.984375 \nL 63.1875 0 \nL 45.609375 0 \nL 45.609375 7.90625 \nQ 42 3.078125 37.640625 0.828125 \nQ 33.296875 -1.421875 27.59375 -1.421875 \nQ 17.484375 -1.421875 10.984375 6.609375 \nQ 4.5 14.65625 4.5 27.296875 \nQ 4.5 39.9375 10.984375 47.96875 \nQ 17.484375 56 27.59375 56 \nQ 33.25 56 37.625 53.734375 \nQ 42 51.46875 45.609375 46.6875 \nz\nM 34.078125 11.28125 \nQ 39.703125 11.28125 42.65625 15.375 \nQ 45.609375 19.484375 45.609375 27.296875 \nQ 45.609375 35.109375 42.65625 39.203125 \nQ 39.703125 43.3125 34.078125 43.3125 \nQ 28.515625 43.3125 25.5625 39.203125 \nQ 22.609375 35.109375 22.609375 27.296875 \nQ 22.609375 19.484375 25.5625 15.375 \nQ 28.515625 11.28125 34.078125 11.28125 \nz\n\" id=\"DejaVuSans-Bold-100\"/>\n     <path d=\"M 8.40625 54.6875 \nL 25.875 54.6875 \nL 25.875 0 \nL 8.40625 0 \nz\nM 8.40625 75.984375 \nL 25.875 75.984375 \nL 25.875 61.71875 \nL 8.40625 61.71875 \nz\n\" id=\"DejaVuSans-Bold-105\"/>\n     <path d=\"M 32.90625 24.609375 \nQ 27.4375 24.609375 24.671875 22.75 \nQ 21.921875 20.90625 21.921875 17.28125 \nQ 21.921875 13.96875 24.140625 12.078125 \nQ 26.375 10.203125 30.328125 10.203125 \nQ 35.25 10.203125 38.625 13.734375 \nQ 42 17.28125 42 22.609375 \nL 42 24.609375 \nz\nM 59.625 31.203125 \nL 59.625 0 \nL 42 0 \nL 42 8.109375 \nQ 38.484375 3.125 34.078125 0.84375 \nQ 29.6875 -1.421875 23.390625 -1.421875 \nQ 14.890625 -1.421875 9.59375 3.53125 \nQ 4.296875 8.5 4.296875 16.40625 \nQ 4.296875 26.03125 10.90625 30.515625 \nQ 17.53125 35.015625 31.6875 35.015625 \nL 42 35.015625 \nL 42 36.375 \nQ 42 40.53125 38.71875 42.453125 \nQ 35.453125 44.390625 28.515625 44.390625 \nQ 22.90625 44.390625 18.0625 43.265625 \nQ 13.234375 42.140625 9.078125 39.890625 \nL 9.078125 53.21875 \nQ 14.703125 54.59375 20.359375 55.296875 \nQ 26.03125 56 31.6875 56 \nQ 46.484375 56 53.046875 50.171875 \nQ 59.625 44.34375 59.625 31.203125 \nz\n\" id=\"DejaVuSans-Bold-97\"/>\n     <path d=\"M 63.375 33.296875 \nL 63.375 0 \nL 45.796875 0 \nL 45.796875 5.421875 \nL 45.796875 25.484375 \nQ 45.796875 32.5625 45.484375 35.25 \nQ 45.171875 37.9375 44.390625 39.203125 \nQ 43.359375 40.921875 41.59375 41.875 \nQ 39.84375 42.828125 37.59375 42.828125 \nQ 32.125 42.828125 29 38.59375 \nQ 25.875 34.375 25.875 26.90625 \nL 25.875 0 \nL 8.40625 0 \nL 8.40625 54.6875 \nL 25.875 54.6875 \nL 25.875 46.6875 \nQ 29.828125 51.46875 34.265625 53.734375 \nQ 38.71875 56 44.09375 56 \nQ 53.5625 56 58.46875 50.1875 \nQ 63.375 44.390625 63.375 33.296875 \nz\n\" id=\"DejaVuSans-Bold-110\"/>\n     <path id=\"DejaVuSans-Bold-32\"/>\n     <path d=\"M 53.421875 13.28125 \nL 24.03125 13.28125 \nL 19.390625 0 \nL 0.484375 0 \nL 27.484375 72.90625 \nL 49.90625 72.90625 \nL 76.90625 0 \nL 58.015625 0 \nz\nM 28.71875 26.8125 \nL 48.6875 26.8125 \nL 38.71875 55.8125 \nz\n\" id=\"DejaVuSans-Bold-65\"/>\n     <path d=\"M 52.59375 52.984375 \nL 52.59375 38.71875 \nQ 49.03125 41.15625 45.4375 42.328125 \nQ 41.84375 43.5 37.984375 43.5 \nQ 30.671875 43.5 26.59375 39.234375 \nQ 22.515625 34.96875 22.515625 27.296875 \nQ 22.515625 19.625 26.59375 15.34375 \nQ 30.671875 11.078125 37.984375 11.078125 \nQ 42.09375 11.078125 45.78125 12.296875 \nQ 49.46875 13.53125 52.59375 15.921875 \nL 52.59375 1.609375 \nQ 48.484375 0.09375 44.265625 -0.65625 \nQ 40.046875 -1.421875 35.796875 -1.421875 \nQ 21 -1.421875 12.640625 6.171875 \nQ 4.296875 13.765625 4.296875 27.296875 \nQ 4.296875 40.828125 12.640625 48.40625 \nQ 21 56 35.796875 56 \nQ 40.09375 56 44.265625 55.25 \nQ 48.4375 54.5 52.59375 52.984375 \nz\n\" id=\"DejaVuSans-Bold-99\"/>\n     <path d=\"M 7.8125 21.296875 \nL 7.8125 54.6875 \nL 25.390625 54.6875 \nL 25.390625 49.21875 \nQ 25.390625 44.78125 25.34375 38.0625 \nQ 25.296875 31.34375 25.296875 29.109375 \nQ 25.296875 22.515625 25.640625 19.609375 \nQ 25.984375 16.703125 26.8125 15.375 \nQ 27.875 13.671875 29.609375 12.734375 \nQ 31.34375 11.8125 33.59375 11.8125 \nQ 39.0625 11.8125 42.1875 16.015625 \nQ 45.3125 20.21875 45.3125 27.6875 \nL 45.3125 54.6875 \nL 62.796875 54.6875 \nL 62.796875 0 \nL 45.3125 0 \nL 45.3125 7.90625 \nQ 41.359375 3.125 36.9375 0.84375 \nQ 32.515625 -1.421875 27.203125 -1.421875 \nQ 17.71875 -1.421875 12.765625 4.390625 \nQ 7.8125 10.203125 7.8125 21.296875 \nz\n\" id=\"DejaVuSans-Bold-117\"/>\n     <path d=\"M 49.03125 39.796875 \nQ 46.734375 40.875 44.453125 41.375 \nQ 42.1875 41.890625 39.890625 41.890625 \nQ 33.15625 41.890625 29.515625 37.5625 \nQ 25.875 33.25 25.875 25.203125 \nL 25.875 0 \nL 8.40625 0 \nL 8.40625 54.6875 \nL 25.875 54.6875 \nL 25.875 45.703125 \nQ 29.25 51.078125 33.609375 53.53125 \nQ 37.984375 56 44.09375 56 \nQ 44.96875 56 45.984375 55.921875 \nQ 47.015625 55.859375 48.96875 55.609375 \nz\n\" id=\"DejaVuSans-Bold-114\"/>\n     <path d=\"M 51.125 52.984375 \nL 51.125 39.703125 \nQ 45.515625 42.046875 40.28125 43.21875 \nQ 35.0625 44.390625 30.421875 44.390625 \nQ 25.4375 44.390625 23.015625 43.140625 \nQ 20.609375 41.890625 20.609375 39.3125 \nQ 20.609375 37.203125 22.4375 36.078125 \nQ 24.265625 34.96875 29 34.421875 \nL 32.078125 33.984375 \nQ 45.515625 32.28125 50.140625 28.375 \nQ 54.78125 24.46875 54.78125 16.109375 \nQ 54.78125 7.375 48.328125 2.96875 \nQ 41.890625 -1.421875 29.109375 -1.421875 \nQ 23.6875 -1.421875 17.890625 -0.5625 \nQ 12.109375 0.296875 6 2 \nL 6 15.28125 \nQ 11.234375 12.75 16.71875 11.46875 \nQ 22.21875 10.203125 27.875 10.203125 \nQ 33.015625 10.203125 35.59375 11.609375 \nQ 38.1875 13.03125 38.1875 15.828125 \nQ 38.1875 18.171875 36.40625 19.3125 \nQ 34.625 20.453125 29.296875 21.09375 \nL 26.21875 21.484375 \nQ 14.546875 22.953125 9.859375 26.90625 \nQ 5.171875 30.859375 5.171875 38.921875 \nQ 5.171875 47.609375 11.125 51.796875 \nQ 17.09375 56 29.390625 56 \nQ 34.234375 56 39.546875 55.265625 \nQ 44.875 54.546875 51.125 52.984375 \nz\n\" id=\"DejaVuSans-Bold-115\"/>\n     <path d=\"M 44.390625 75.984375 \nL 44.390625 64.5 \nL 34.71875 64.5 \nQ 31 64.5 29.53125 63.15625 \nQ 28.078125 61.8125 28.078125 58.5 \nL 28.078125 54.6875 \nL 43.015625 54.6875 \nL 43.015625 42.1875 \nL 28.078125 42.1875 \nL 28.078125 0 \nL 10.59375 0 \nL 10.59375 42.1875 \nL 1.90625 42.1875 \nL 1.90625 54.6875 \nL 10.59375 54.6875 \nL 10.59375 58.5 \nQ 10.59375 67.4375 15.578125 71.703125 \nQ 20.5625 75.984375 31 75.984375 \nz\n\" id=\"DejaVuSans-Bold-102\"/>\n     <path d=\"M 34.421875 43.5 \nQ 28.609375 43.5 25.5625 39.328125 \nQ 22.515625 35.15625 22.515625 27.296875 \nQ 22.515625 19.4375 25.5625 15.25 \nQ 28.609375 11.078125 34.421875 11.078125 \nQ 40.140625 11.078125 43.15625 15.25 \nQ 46.1875 19.4375 46.1875 27.296875 \nQ 46.1875 35.15625 43.15625 39.328125 \nQ 40.140625 43.5 34.421875 43.5 \nz\nM 34.421875 56 \nQ 48.53125 56 56.46875 48.375 \nQ 64.40625 40.765625 64.40625 27.296875 \nQ 64.40625 13.8125 56.46875 6.1875 \nQ 48.53125 -1.421875 34.421875 -1.421875 \nQ 20.265625 -1.421875 12.28125 6.1875 \nQ 4.296875 13.8125 4.296875 27.296875 \nQ 4.296875 40.765625 12.28125 48.375 \nQ 20.265625 56 34.421875 56 \nz\n\" id=\"DejaVuSans-Bold-111\"/>\n    </defs>\n    <g transform=\"translate(128.561783 16.318125)scale(0.12 -0.12)\">\n     <use xlink:href=\"#DejaVuSans-Bold-77\"/>\n     <use x=\"99.511719\" xlink:href=\"#DejaVuSans-Bold-101\"/>\n     <use x=\"167.333984\" xlink:href=\"#DejaVuSans-Bold-100\"/>\n     <use x=\"238.916016\" xlink:href=\"#DejaVuSans-Bold-105\"/>\n     <use x=\"273.193359\" xlink:href=\"#DejaVuSans-Bold-97\"/>\n     <use x=\"340.673828\" xlink:href=\"#DejaVuSans-Bold-110\"/>\n     <use x=\"411.865234\" xlink:href=\"#DejaVuSans-Bold-32\"/>\n     <use x=\"446.679688\" xlink:href=\"#DejaVuSans-Bold-65\"/>\n     <use x=\"524.072266\" xlink:href=\"#DejaVuSans-Bold-99\"/>\n     <use x=\"583.349609\" xlink:href=\"#DejaVuSans-Bold-99\"/>\n     <use x=\"642.626953\" xlink:href=\"#DejaVuSans-Bold-117\"/>\n     <use x=\"713.818359\" xlink:href=\"#DejaVuSans-Bold-114\"/>\n     <use x=\"763.134766\" xlink:href=\"#DejaVuSans-Bold-97\"/>\n     <use x=\"830.615234\" xlink:href=\"#DejaVuSans-Bold-99\"/>\n     <use x=\"889.892578\" xlink:href=\"#DejaVuSans-Bold-105\"/>\n     <use x=\"924.169922\" xlink:href=\"#DejaVuSans-Bold-101\"/>\n     <use x=\"991.992188\" xlink:href=\"#DejaVuSans-Bold-115\"/>\n     <use x=\"1051.513672\" xlink:href=\"#DejaVuSans-Bold-32\"/>\n     <use x=\"1086.328125\" xlink:href=\"#DejaVuSans-Bold-102\"/>\n     <use x=\"1129.833984\" xlink:href=\"#DejaVuSans-Bold-111\"/>\n     <use x=\"1198.535156\" xlink:href=\"#DejaVuSans-Bold-114\"/>\n    </g>\n    <!-- Localize Cancer Detection -->\n    <defs>\n     <path d=\"M 9.1875 72.90625 \nL 27.984375 72.90625 \nL 27.984375 14.203125 \nL 60.984375 14.203125 \nL 60.984375 0 \nL 9.1875 0 \nz\n\" id=\"DejaVuSans-Bold-76\"/>\n     <path d=\"M 8.40625 75.984375 \nL 25.875 75.984375 \nL 25.875 0 \nL 8.40625 0 \nz\n\" id=\"DejaVuSans-Bold-108\"/>\n     <path d=\"M 5.71875 54.6875 \nL 53.421875 54.6875 \nL 53.421875 42.484375 \nL 24.609375 12.5 \nL 53.421875 12.5 \nL 53.421875 0 \nL 4.5 0 \nL 4.5 12.203125 \nL 33.296875 42.1875 \nL 5.71875 42.1875 \nz\n\" id=\"DejaVuSans-Bold-122\"/>\n     <path d=\"M 67 4 \nQ 61.8125 1.3125 56.203125 -0.046875 \nQ 50.59375 -1.421875 44.484375 -1.421875 \nQ 26.265625 -1.421875 15.625 8.765625 \nQ 4.984375 18.953125 4.984375 36.375 \nQ 4.984375 53.859375 15.625 64.03125 \nQ 26.265625 74.21875 44.484375 74.21875 \nQ 50.59375 74.21875 56.203125 72.84375 \nQ 61.8125 71.484375 67 68.796875 \nL 67 53.71875 \nQ 61.765625 57.28125 56.6875 58.9375 \nQ 51.609375 60.59375 46 60.59375 \nQ 35.9375 60.59375 30.171875 54.140625 \nQ 24.421875 47.703125 24.421875 36.375 \nQ 24.421875 25.09375 30.171875 18.640625 \nQ 35.9375 12.203125 46 12.203125 \nQ 51.609375 12.203125 56.6875 13.859375 \nQ 61.765625 15.53125 67 19.09375 \nz\n\" id=\"DejaVuSans-Bold-67\"/>\n     <path d=\"M 27.984375 58.6875 \nL 27.984375 14.203125 \nL 34.71875 14.203125 \nQ 46.234375 14.203125 52.3125 19.921875 \nQ 58.40625 25.640625 58.40625 36.53125 \nQ 58.40625 47.359375 52.34375 53.015625 \nQ 46.296875 58.6875 34.71875 58.6875 \nz\nM 9.1875 72.90625 \nL 29 72.90625 \nQ 45.609375 72.90625 53.734375 70.53125 \nQ 61.859375 68.171875 67.671875 62.5 \nQ 72.796875 57.5625 75.28125 51.109375 \nQ 77.78125 44.671875 77.78125 36.53125 \nQ 77.78125 28.265625 75.28125 21.796875 \nQ 72.796875 15.328125 67.671875 10.40625 \nQ 61.8125 4.734375 53.609375 2.359375 \nQ 45.40625 0 29 0 \nL 9.1875 0 \nz\n\" id=\"DejaVuSans-Bold-68\"/>\n     <path d=\"M 27.484375 70.21875 \nL 27.484375 54.6875 \nL 45.515625 54.6875 \nL 45.515625 42.1875 \nL 27.484375 42.1875 \nL 27.484375 19 \nQ 27.484375 15.1875 29 13.84375 \nQ 30.515625 12.5 35.015625 12.5 \nL 44 12.5 \nL 44 0 \nL 29 0 \nQ 18.65625 0 14.328125 4.3125 \nQ 10.015625 8.640625 10.015625 19 \nL 10.015625 42.1875 \nL 1.3125 42.1875 \nL 1.3125 54.6875 \nL 10.015625 54.6875 \nL 10.015625 70.21875 \nz\n\" id=\"DejaVuSans-Bold-116\"/>\n    </defs>\n    <g transform=\"translate(115.856783 29.7555)scale(0.12 -0.12)\">\n     <use xlink:href=\"#DejaVuSans-Bold-76\"/>\n     <use x=\"63.720703\" xlink:href=\"#DejaVuSans-Bold-111\"/>\n     <use x=\"132.421875\" xlink:href=\"#DejaVuSans-Bold-99\"/>\n     <use x=\"191.699219\" xlink:href=\"#DejaVuSans-Bold-97\"/>\n     <use x=\"259.179688\" xlink:href=\"#DejaVuSans-Bold-108\"/>\n     <use x=\"293.457031\" xlink:href=\"#DejaVuSans-Bold-105\"/>\n     <use x=\"327.734375\" xlink:href=\"#DejaVuSans-Bold-122\"/>\n     <use x=\"385.9375\" xlink:href=\"#DejaVuSans-Bold-101\"/>\n     <use x=\"453.759766\" xlink:href=\"#DejaVuSans-Bold-32\"/>\n     <use x=\"488.574219\" xlink:href=\"#DejaVuSans-Bold-67\"/>\n     <use x=\"561.962891\" xlink:href=\"#DejaVuSans-Bold-97\"/>\n     <use x=\"629.443359\" xlink:href=\"#DejaVuSans-Bold-110\"/>\n     <use x=\"700.634766\" xlink:href=\"#DejaVuSans-Bold-99\"/>\n     <use x=\"759.912109\" xlink:href=\"#DejaVuSans-Bold-101\"/>\n     <use x=\"827.734375\" xlink:href=\"#DejaVuSans-Bold-114\"/>\n     <use x=\"877.050781\" xlink:href=\"#DejaVuSans-Bold-32\"/>\n     <use x=\"911.865234\" xlink:href=\"#DejaVuSans-Bold-68\"/>\n     <use x=\"994.873047\" xlink:href=\"#DejaVuSans-Bold-101\"/>\n     <use x=\"1062.695312\" xlink:href=\"#DejaVuSans-Bold-116\"/>\n     <use x=\"1110.498047\" xlink:href=\"#DejaVuSans-Bold-101\"/>\n     <use x=\"1178.320312\" xlink:href=\"#DejaVuSans-Bold-99\"/>\n     <use x=\"1237.597656\" xlink:href=\"#DejaVuSans-Bold-116\"/>\n     <use x=\"1285.400391\" xlink:href=\"#DejaVuSans-Bold-105\"/>\n     <use x=\"1319.677734\" xlink:href=\"#DejaVuSans-Bold-111\"/>\n     <use x=\"1388.378906\" xlink:href=\"#DejaVuSans-Bold-110\"/>\n    </g>\n   </g>\n  </g>\n  <g id=\"axes_2\">\n   <g id=\"patch_3\">\n    <path clip-path=\"url(#p9ee47a91ae)\" d=\"M 303.873345 253.1955 \nL 303.873345 248.757949 \nL 303.873345 40.193051 \nL 303.873345 35.7555 \nL 314.745345 35.7555 \nL 314.745345 40.193051 \nL 314.745345 248.757949 \nL 314.745345 253.1955 \nz\n\" style=\"fill:#ffffff;stroke:#ffffff;stroke-linejoin:miter;stroke-width:0.01;\"/>\n   </g>\n   <image height=\"217\" id=\"imageda31a40253\" transform=\"scale(1 -1)translate(0 -217)\" width=\"11\" x=\"304\" xlink:href=\"data:image/png;base64,\niVBORw0KGgoAAAANSUhEUgAAAAsAAADZCAYAAAD2WsoCAAAABHNCSVQICAgIfAhkiAAAAQpJREFUaIHtl0sSgjAUBFGekgDFrTyA97+ECknkU+qWJbOINUOR9Vt0pxM+p5vdv8XGdd46mHfYGt8QYIDMTpDZtwQYR5T1Mt96AoyMglUnJ2hV5wgwDsH1UmTGBF1bEWCAzI1cFPON3D6jUeQEzdVyzKjglQADfOTWFwKMnFG8nKBiFMV9xgTNGQEGxlxWJQFGzih6gvuPIihoY/EmwMgoOH1HAgyQ+SMXRXGfwZsiGCXOkQAjo2BYAgEGGGXZeRRBQRsmvYP0SD0BRkbBp56gIjN46uJAgIExv5Lc7cYE+5AIMFBmuQ8q8J1yRPnHsCU9ZvDfKs4EGBjzHCYCjKxR5ARtDnIHCRr+Ad+3SnvSrDZsAAAAAElFTkSuQmCC\" y=\"-35\"/>\n   <g id=\"matplotlib.axis_3\"/>\n   <g id=\"matplotlib.axis_4\">\n    <g id=\"ytick_6\">\n     <g id=\"line2d_10\">\n      <defs>\n       <path d=\"M 0 0 \nL 3.5 0 \n\" id=\"m2e4fedca1e\" style=\"stroke:#000000;stroke-width:0.8;\"/>\n      </defs>\n      <g>\n       <use style=\"stroke:#000000;stroke-width:0.8;\" x=\"314.745345\" xlink:href=\"#m2e4fedca1e\" y=\"253.1955\"/>\n      </g>\n     </g>\n     <g id=\"text_33\">\n      <!-- 56.04 -->\n      <g transform=\"translate(321.745345 256.994719)scale(0.1 -0.1)\">\n       <use xlink:href=\"#DejaVuSans-53\"/>\n       <use x=\"63.623047\" xlink:href=\"#DejaVuSans-54\"/>\n       <use x=\"127.246094\" xlink:href=\"#DejaVuSans-46\"/>\n       <use x=\"159.033203\" xlink:href=\"#DejaVuSans-48\"/>\n       <use x=\"222.65625\" xlink:href=\"#DejaVuSans-52\"/>\n      </g>\n     </g>\n    </g>\n    <g id=\"ytick_7\">\n     <g id=\"line2d_11\">\n      <g>\n       <use style=\"stroke:#000000;stroke-width:0.8;\" x=\"314.745345\" xlink:href=\"#m2e4fedca1e\" y=\"231.007745\"/>\n      </g>\n     </g>\n     <g id=\"text_34\">\n      <!-- 60.00 -->\n      <g transform=\"translate(321.745345 234.806964)scale(0.1 -0.1)\">\n       <use xlink:href=\"#DejaVuSans-54\"/>\n       <use x=\"63.623047\" xlink:href=\"#DejaVuSans-48\"/>\n       <use x=\"127.246094\" xlink:href=\"#DejaVuSans-46\"/>\n       <use x=\"159.033203\" xlink:href=\"#DejaVuSans-48\"/>\n       <use x=\"222.65625\" xlink:href=\"#DejaVuSans-48\"/>\n      </g>\n     </g>\n    </g>\n    <g id=\"ytick_8\">\n     <g id=\"line2d_12\">\n      <g>\n       <use style=\"stroke:#000000;stroke-width:0.8;\" x=\"314.745345\" xlink:href=\"#m2e4fedca1e\" y=\"208.81999\"/>\n      </g>\n     </g>\n     <g id=\"text_35\">\n      <!-- 63.96 -->\n      <g transform=\"translate(321.745345 212.619209)scale(0.1 -0.1)\">\n       <use xlink:href=\"#DejaVuSans-54\"/>\n       <use x=\"63.623047\" xlink:href=\"#DejaVuSans-51\"/>\n       <use x=\"127.246094\" xlink:href=\"#DejaVuSans-46\"/>\n       <use x=\"159.033203\" xlink:href=\"#DejaVuSans-57\"/>\n       <use x=\"222.65625\" xlink:href=\"#DejaVuSans-54\"/>\n      </g>\n     </g>\n    </g>\n    <g id=\"ytick_9\">\n     <g id=\"line2d_13\">\n      <g>\n       <use style=\"stroke:#000000;stroke-width:0.8;\" x=\"314.745345\" xlink:href=\"#m2e4fedca1e\" y=\"186.632235\"/>\n      </g>\n     </g>\n     <g id=\"text_36\">\n      <!-- 67.92 -->\n      <g transform=\"translate(321.745345 190.431453)scale(0.1 -0.1)\">\n       <use xlink:href=\"#DejaVuSans-54\"/>\n       <use x=\"63.623047\" xlink:href=\"#DejaVuSans-55\"/>\n       <use x=\"127.246094\" xlink:href=\"#DejaVuSans-46\"/>\n       <use x=\"159.033203\" xlink:href=\"#DejaVuSans-57\"/>\n       <use x=\"222.65625\" xlink:href=\"#DejaVuSans-50\"/>\n      </g>\n     </g>\n    </g>\n    <g id=\"ytick_10\">\n     <g id=\"line2d_14\">\n      <g>\n       <use style=\"stroke:#000000;stroke-width:0.8;\" x=\"314.745345\" xlink:href=\"#m2e4fedca1e\" y=\"164.44448\"/>\n      </g>\n     </g>\n     <g id=\"text_37\">\n      <!-- 71.88 -->\n      <g transform=\"translate(321.745345 168.243698)scale(0.1 -0.1)\">\n       <use xlink:href=\"#DejaVuSans-55\"/>\n       <use x=\"63.623047\" xlink:href=\"#DejaVuSans-49\"/>\n       <use x=\"127.246094\" xlink:href=\"#DejaVuSans-46\"/>\n       <use x=\"159.033203\" xlink:href=\"#DejaVuSans-56\"/>\n       <use x=\"222.65625\" xlink:href=\"#DejaVuSans-56\"/>\n      </g>\n     </g>\n    </g>\n    <g id=\"ytick_11\">\n     <g id=\"line2d_15\">\n      <g>\n       <use style=\"stroke:#000000;stroke-width:0.8;\" x=\"314.745345\" xlink:href=\"#m2e4fedca1e\" y=\"142.256724\"/>\n      </g>\n     </g>\n     <g id=\"text_38\">\n      <!-- 75.84 -->\n      <g transform=\"translate(321.745345 146.055943)scale(0.1 -0.1)\">\n       <use xlink:href=\"#DejaVuSans-55\"/>\n       <use x=\"63.623047\" xlink:href=\"#DejaVuSans-53\"/>\n       <use x=\"127.246094\" xlink:href=\"#DejaVuSans-46\"/>\n       <use x=\"159.033203\" xlink:href=\"#DejaVuSans-56\"/>\n       <use x=\"222.65625\" xlink:href=\"#DejaVuSans-52\"/>\n      </g>\n     </g>\n    </g>\n    <g id=\"ytick_12\">\n     <g id=\"line2d_16\">\n      <g>\n       <use style=\"stroke:#000000;stroke-width:0.8;\" x=\"314.745345\" xlink:href=\"#m2e4fedca1e\" y=\"120.068969\"/>\n      </g>\n     </g>\n     <g id=\"text_39\">\n      <!-- 79.80 -->\n      <g transform=\"translate(321.745345 123.868188)scale(0.1 -0.1)\">\n       <use xlink:href=\"#DejaVuSans-55\"/>\n       <use x=\"63.623047\" xlink:href=\"#DejaVuSans-57\"/>\n       <use x=\"127.246094\" xlink:href=\"#DejaVuSans-46\"/>\n       <use x=\"159.033203\" xlink:href=\"#DejaVuSans-56\"/>\n       <use x=\"222.65625\" xlink:href=\"#DejaVuSans-48\"/>\n      </g>\n     </g>\n    </g>\n    <g id=\"ytick_13\">\n     <g id=\"line2d_17\">\n      <g>\n       <use style=\"stroke:#000000;stroke-width:0.8;\" x=\"314.745345\" xlink:href=\"#m2e4fedca1e\" y=\"97.881214\"/>\n      </g>\n     </g>\n     <g id=\"text_40\">\n      <!-- 83.76 -->\n      <g transform=\"translate(321.745345 101.680433)scale(0.1 -0.1)\">\n       <use xlink:href=\"#DejaVuSans-56\"/>\n       <use x=\"63.623047\" xlink:href=\"#DejaVuSans-51\"/>\n       <use x=\"127.246094\" xlink:href=\"#DejaVuSans-46\"/>\n       <use x=\"159.033203\" xlink:href=\"#DejaVuSans-55\"/>\n       <use x=\"222.65625\" xlink:href=\"#DejaVuSans-54\"/>\n      </g>\n     </g>\n    </g>\n    <g id=\"ytick_14\">\n     <g id=\"line2d_18\">\n      <g>\n       <use style=\"stroke:#000000;stroke-width:0.8;\" x=\"314.745345\" xlink:href=\"#m2e4fedca1e\" y=\"75.693459\"/>\n      </g>\n     </g>\n     <g id=\"text_41\">\n      <!-- 87.72 -->\n      <g transform=\"translate(321.745345 79.492678)scale(0.1 -0.1)\">\n       <use xlink:href=\"#DejaVuSans-56\"/>\n       <use x=\"63.623047\" xlink:href=\"#DejaVuSans-55\"/>\n       <use x=\"127.246094\" xlink:href=\"#DejaVuSans-46\"/>\n       <use x=\"159.033203\" xlink:href=\"#DejaVuSans-55\"/>\n       <use x=\"222.65625\" xlink:href=\"#DejaVuSans-50\"/>\n      </g>\n     </g>\n    </g>\n    <g id=\"ytick_15\">\n     <g id=\"line2d_19\">\n      <g>\n       <use style=\"stroke:#000000;stroke-width:0.8;\" x=\"314.745345\" xlink:href=\"#m2e4fedca1e\" y=\"53.505704\"/>\n      </g>\n     </g>\n     <g id=\"text_42\">\n      <!-- 91.68 -->\n      <g transform=\"translate(321.745345 57.304923)scale(0.1 -0.1)\">\n       <use xlink:href=\"#DejaVuSans-57\"/>\n       <use x=\"63.623047\" xlink:href=\"#DejaVuSans-49\"/>\n       <use x=\"127.246094\" xlink:href=\"#DejaVuSans-46\"/>\n       <use x=\"159.033203\" xlink:href=\"#DejaVuSans-54\"/>\n       <use x=\"222.65625\" xlink:href=\"#DejaVuSans-56\"/>\n      </g>\n     </g>\n    </g>\n   </g>\n   <g id=\"patch_4\">\n    <path d=\"M 303.873345 253.1955 \nL 303.873345 248.757949 \nL 303.873345 40.193051 \nL 303.873345 35.7555 \nL 314.745345 35.7555 \nL 314.745345 40.193051 \nL 314.745345 248.757949 \nL 314.745345 253.1955 \nz\n\" style=\"fill:none;stroke:#000000;stroke-linejoin:miter;stroke-width:0.8;\"/>\n   </g>\n  </g>\n </g>\n <defs>\n  <clipPath id=\"p5a3710770c\">\n   <rect height=\"217.44\" width=\"178.56\" x=\"114.153345\" y=\"35.7555\"/>\n  </clipPath>\n  <clipPath id=\"p9ee47a91ae\">\n   <rect height=\"217.44\" width=\"10.872\" x=\"303.873345\" y=\"35.7555\"/>\n  </clipPath>\n </defs>\n</svg>\n"
          },
          "metadata": {
            "needs_background": "light"
          }
        }
      ]
    }
  ]
}